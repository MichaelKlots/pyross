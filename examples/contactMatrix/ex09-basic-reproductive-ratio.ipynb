{
 "cells": [
  {
   "cell_type": "code",
   "execution_count": 1,
   "metadata": {},
   "outputs": [],
   "source": [
    "%%capture\n",
    "## compile PyRoss for this notebook\n",
    "import os\n",
    "owd = os.getcwd()\n",
    "os.chdir('../../')\n",
    "%run setup.py install\n",
    "os.chdir(owd)"
   ]
  },
  {
   "cell_type": "code",
   "execution_count": 2,
   "metadata": {},
   "outputs": [],
   "source": [
    "import numpy as np\n",
    "import pyross\n",
    "import matplotlib.pyplot as plt\n",
    "from matplotlib import rc; rc('text', usetex=True)"
   ]
  },
  {
   "cell_type": "markdown",
   "metadata": {},
   "source": [
    "## Age-structures"
   ]
  },
  {
   "cell_type": "code",
   "execution_count": 3,
   "metadata": {},
   "outputs": [],
   "source": [
    "M=16  ## number of age classes\n",
    "\n",
    "my_data = np.genfromtxt('../data/age_structures/Denmark-2019.csv', delimiter=',', skip_header=1)\n",
    "aM, aF = my_data[:, 1], my_data[:, 2]\n",
    "\n",
    "deM, deF = aM, aF\n",
    "\n",
    "my_data = np.genfromtxt('../data/age_structures/UK.csv', delimiter=',', skip_header=1)\n",
    "aM, aF = my_data[:, 1], my_data[:, 2]\n",
    "\n",
    "ukM, ukF = aM, aF"
   ]
  },
  {
   "cell_type": "markdown",
   "metadata": {},
   "source": [
    "## Contact structures"
   ]
  },
  {
   "cell_type": "code",
   "execution_count": 4,
   "metadata": {},
   "outputs": [],
   "source": [
    "chCH, chCW, chCS, chCO = pyross.contactMatrix.China()\n",
    "deCH, deCW, deCS, deCO = pyross.contactMatrix.Denmark()\n",
    "ukCH, ukCW, ukCS, ukCO = pyross.contactMatrix.UK()"
   ]
  },
  {
   "cell_type": "markdown",
   "metadata": {},
   "source": [
    "### Using age and contact structures of the UK to evaluate $\\mathcal R_0$"
   ]
  },
  {
   "cell_type": "code",
   "execution_count": 5,
   "metadata": {},
   "outputs": [
    {
     "name": "stdout",
     "output_type": "stream",
     "text": [
      "The basic reproductive ratio for these parameters is (81.75599447582681+0j)\n"
     ]
    }
   ],
   "source": [
    "aH, aW, aS, aO = 1, 1, 1, 1\n",
    "CH, CW, CS, CO = aH*ukCH, aW*ukCW, aS*ukCS, aO*ukCO\n",
    "\n",
    "Ni = (ukM + ukF)[0:M]\n",
    "\n",
    "beta  = 1               # the probability of infection on contact\n",
    "gIa   = 1./7            # recovery rate of asymptomatic infectives \n",
    "gIs   = 1./7            # recovery rate of symptomatic infectives \n",
    "alpha = 0.              # asymptomatic fraction\n",
    "fsa   = 1               # suppresion of contact by symptomatics\n",
    "\n",
    "\n",
    "parameters = {'alpha':alpha,'beta':beta, 'gIa':gIa,'gIs':gIs,'fsa':fsa, 'M':M, 'Ni':Ni}\n",
    "\n",
    "contactMatrix = pyross.contactMatrix.SIR(CH, CW, CS, CO)\n",
    "r0UK = contactMatrix.basicReproductiveRatio(parameters)\n",
    "\n",
    "print(\"The basic reproductive ratio for these parameters is\", r0UK)"
   ]
  },
  {
   "cell_type": "code",
   "execution_count": 6,
   "metadata": {},
   "outputs": [
    {
     "name": "stdout",
     "output_type": "stream",
     "text": [
      "The basic reproductive ratio for these parameters is (20.91298427906979+0j)\n"
     ]
    }
   ],
   "source": [
    "#now keep contacts only at home and evaluate r_0\n",
    "aH, aW, aS, aO = 1, 0, 0, 0\n",
    "CH, CW, CS, CO = aH*ukCH, aW*ukCW, aS*ukCS, aO*ukCO\n",
    "\n",
    "Ni = (ukM + ukF)[0:M]\n",
    "\n",
    "beta  = 1               # the probability of infection on contact\n",
    "gIa   = 1./7            # recovery rate of asymptomatic infectives \n",
    "gIs   = 1./7            # recovery rate of symptomatic infectives \n",
    "alpha = 0.              # asymptomatic fraction\n",
    "fsa   = 1               # suppresion of contact by symptomatics\n",
    "\n",
    "\n",
    "parameters = {'alpha':alpha,'beta':beta, 'gIa':gIa,'gIs':gIs,'fsa':fsa, 'M':M, 'Ni':Ni}\n",
    "\n",
    "contactMatrix = pyross.contactMatrix.SIR(CH, CW, CS, CO)\n",
    "r0UK = contactMatrix.basicReproductiveRatio(parameters)\n",
    "\n",
    "print(\"The basic reproductive ratio for these parameters is\", r0UK)"
   ]
  },
  {
   "cell_type": "markdown",
   "metadata": {},
   "source": [
    "### Using age and contact structures of Denmark to evaluate $\\mathcal R_0$"
   ]
  },
  {
   "cell_type": "code",
   "execution_count": 7,
   "metadata": {},
   "outputs": [
    {
     "name": "stdout",
     "output_type": "stream",
     "text": [
      "The basic reproductive ratio for these parameters is (104.2773016896406+0j)\n"
     ]
    }
   ],
   "source": [
    "aH, aW, aS, aO = 1, 1, 1, 1\n",
    "CH, CW, CS, CO = aH*deCH, aW*deCW, aS*deCS, aO*deCO\n",
    "\n",
    "Ni = (deM + deF)[0:M]\n",
    "\n",
    "beta  = 1               # the probability of infection on contact\n",
    "gIa   = 1./7            # recovery rate of asymptomatic infectives \n",
    "gIs   = 1./7            # recovery rate of symptomatic infectives \n",
    "alpha = 0.              # asymptomatic fraction\n",
    "fsa   = 1               # suppresion of contact by symptomatics\n",
    "\n",
    "parameters = {'alpha':alpha,'beta':beta, 'gIa':gIa,'gIs':gIs,'fsa':fsa, 'M':M, 'Ni':Ni}\n",
    "\n",
    "contactMatrix = pyross.contactMatrix.SIR(CH, CW, CS, CO)\n",
    "r0de = contactMatrix.basicReproductiveRatio(parameters)\n",
    "\n",
    "print(\"The basic reproductive ratio for these parameters is\", r0de)"
   ]
  },
  {
   "cell_type": "code",
   "execution_count": 8,
   "metadata": {},
   "outputs": [
    {
     "name": "stdout",
     "output_type": "stream",
     "text": [
      "The basic reproductive ratio for these parameters is (23.513382175382233+0j)\n"
     ]
    }
   ],
   "source": [
    "#now keep contacts only at home and evaluate r_0\n",
    "aH, aW, aS, aO = 1, 0, 0, 0\n",
    "CH, CW, CS, CO = aH*deCH, aW*deCW, aS*deCS, aO*deCO\n",
    "\n",
    "Ni = (deM + deF)[0:M]\n",
    "\n",
    "beta  = 1               # the probability of infection on contact\n",
    "gIa   = 1./7            # recovery rate of asymptomatic infectives \n",
    "gIs   = 1./7            # recovery rate of symptomatic infectives \n",
    "alpha = 0.              # asymptomatic fraction\n",
    "fsa   = 1               # suppresion of contact by symptomatics\n",
    "\n",
    "parameters = {'alpha':alpha,'beta':beta, 'gIa':gIa,'gIs':gIs,'fsa':fsa, 'M':M, 'Ni':Ni}\n",
    "\n",
    "contactMatrix = pyross.contactMatrix.SIR(CH, CW, CS, CO)\n",
    "r0de = contactMatrix.basicReproductiveRatio(parameters)\n",
    "\n",
    "print(\"The basic reproductive ratio for these parameters is\", r0de)"
   ]
  }
 ],
 "metadata": {
  "kernelspec": {
   "display_name": "Python 3",
   "language": "python",
   "name": "python3"
  },
  "language_info": {
   "codemirror_mode": {
    "name": "ipython",
    "version": 3
   },
   "file_extension": ".py",
   "mimetype": "text/x-python",
   "name": "python",
   "nbconvert_exporter": "python",
   "pygments_lexer": "ipython3",
   "version": "3.7.3"
  }
 },
 "nbformat": 4,
 "nbformat_minor": 4
}
