{
 "cells": [
  {
   "cell_type": "code",
   "execution_count": 1,
   "metadata": {},
   "outputs": [],
   "source": [
    "import numpy as np \n",
    "from matplotlib import pyplot as plt \n",
    "import pyross"
   ]
  },
  {
   "cell_type": "code",
   "execution_count": 9,
   "metadata": {},
   "outputs": [],
   "source": [
    "# get the population, area and coordinates of several cities \n",
    "# London, Cambridge, Manchester\n",
    "total_populations = [8.9e6, 0.124e6, 0.511e6]\n",
    "populations = np.array([[p/4, p*3/4] for p in total_populations])\n",
    "areas = np.array([1572, 40.7, 115.6])\n",
    "coordinates = np.array([[51.5074, 0.1278], [52.2053, 0.1218], [53.4808, 2.2426]])"
   ]
  },
  {
   "cell_type": "code",
   "execution_count": 10,
   "metadata": {},
   "outputs": [],
   "source": [
    "b = 1\n",
    "c = 1 \n",
    "generator = pyross.contactMatrix.SpatialContactMatrix(b, c, populations, areas, coordinates)"
   ]
  },
  {
   "cell_type": "code",
   "execution_count": 11,
   "metadata": {},
   "outputs": [],
   "source": [
    "C = np.array([[18., 9.], \n",
    "              [3., 12.]]) \n",
    "C_spatial = generator.spatial_contact_matrix(C)"
   ]
  },
  {
   "cell_type": "code",
   "execution_count": 12,
   "metadata": {},
   "outputs": [
    {
     "name": "stdout",
     "output_type": "stream",
     "text": [
      "[[12.3300229   6.16501145]\n",
      " [ 2.05500382  8.22001526]]\n"
     ]
    }
   ],
   "source": [
    "# contact matrix for London \n",
    "print(np.array(C_spatial)[0, :, 0, :])"
   ]
  },
  {
   "cell_type": "code",
   "execution_count": 13,
   "metadata": {},
   "outputs": [
    {
     "name": "stdout",
     "output_type": "stream",
     "text": [
      "[[3.57061895 1.78530947]\n",
      " [0.59510316 2.38041263]]\n"
     ]
    }
   ],
   "source": [
    "# contact matrix for Cambridge \n",
    "print(np.array(C_spatial)[1, :, 1, :])"
   ]
  },
  {
   "cell_type": "code",
   "execution_count": 14,
   "metadata": {},
   "outputs": [
    {
     "name": "stdout",
     "output_type": "stream",
     "text": [
      "[[7.51649002 3.75824501]\n",
      " [1.25274834 5.01099335]]\n"
     ]
    }
   ],
   "source": [
    "# contact matrix for Manchester\n",
    "print(np.array(C_spatial)[2, :, 2, :])"
   ]
  },
  {
   "cell_type": "code",
   "execution_count": 15,
   "metadata": {},
   "outputs": [
    {
     "name": "stdout",
     "output_type": "stream",
     "text": [
      "[[0.7831908 0.3915954]\n",
      " [0.1305318 0.5221272]]\n"
     ]
    }
   ],
   "source": [
    "# contact matrix between London and Cambridge \n",
    "print(np.array(C_spatial)[0, :, 1, :])"
   ]
  },
  {
   "cell_type": "code",
   "execution_count": 17,
   "metadata": {},
   "outputs": [
    {
     "name": "stdout",
     "output_type": "stream",
     "text": [
      "[[2.30675315 1.15337658]\n",
      " [0.38445886 1.53783544]]\n"
     ]
    }
   ],
   "source": [
    "# contact matrix between London and Manchester\n",
    "print(np.array(C_spatial)[0, :, 2, :])"
   ]
  },
  {
   "cell_type": "markdown",
   "metadata": {},
   "source": [
    "## Check that the local spatial matrices sum to give the overall one \n",
    "\n",
    "We want $$ C_{ij} = (\\sum_{\\mu, \\nu} C^{\\mu \\nu}_{ij} N^\\mu_i)/N_i$$"
   ]
  },
  {
   "cell_type": "code",
   "execution_count": 22,
   "metadata": {},
   "outputs": [
    {
     "data": {
      "text/plain": [
       "array([[18.,  3.],\n",
       "       [ 9., 12.]])"
      ]
     },
     "execution_count": 22,
     "metadata": {},
     "output_type": "execute_result"
    }
   ],
   "source": [
    "np.sum(np.sum(populations[:, :, None, None]*C_spatial, axis=0), axis=1)/np.sum(populations, axis=0)"
   ]
  },
  {
   "cell_type": "markdown",
   "metadata": {},
   "source": [
    "This is indeed the overall contact matrix"
   ]
  },
  {
   "cell_type": "code",
   "execution_count": null,
   "metadata": {},
   "outputs": [],
   "source": []
  }
 ],
 "metadata": {
  "kernelspec": {
   "display_name": "Python 3",
   "language": "python",
   "name": "python3"
  },
  "language_info": {
   "codemirror_mode": {
    "name": "ipython",
    "version": 3
   },
   "file_extension": ".py",
   "mimetype": "text/x-python",
   "name": "python",
   "nbconvert_exporter": "python",
   "pygments_lexer": "ipython3",
   "version": "3.7.7"
  }
 },
 "nbformat": 4,
 "nbformat_minor": 4
}
