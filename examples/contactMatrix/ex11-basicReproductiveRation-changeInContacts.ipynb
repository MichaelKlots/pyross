{
 "cells": [
  {
   "cell_type": "code",
   "execution_count": 1,
   "metadata": {},
   "outputs": [],
   "source": [
    "%%capture\n",
    "## compile PyRoss for this notebook\n",
    "import os\n",
    "owd = os.getcwd()\n",
    "os.chdir('../../')\n",
    "%run setup.py install\n",
    "os.chdir(owd)"
   ]
  },
  {
   "cell_type": "code",
   "execution_count": 2,
   "metadata": {},
   "outputs": [],
   "source": [
    "import numpy as np\n",
    "import pyross\n",
    "import matplotlib.pyplot as plt\n",
    "from matplotlib import rc; rc('text', usetex=True)"
   ]
  },
  {
   "cell_type": "code",
   "execution_count": 3,
   "metadata": {},
   "outputs": [],
   "source": [
    "M=16  ## number of age classes\n",
    "my_data = np.genfromtxt('../data/age_structures/UK.csv', delimiter=',', skip_header=1)\n",
    "ukM , ukF = my_data[:, 1], my_data[:, 2]\n",
    "Ni = (ukM + ukF)[0:M]\n",
    "\n",
    "# contact structure of the UK\n",
    "ukCH, ukCW, ukCS, ukCO = pyross.contactMatrix.UK()\n",
    "aH, aW, aS, aO = 1, 1, 1, 1\n",
    "CH, CW, CS, CO = aH*ukCH, aW*ukCW, aS*ukCS, aO*ukCO\n",
    " \n",
    "    \n",
    "beta  = 1               # the probability of infection on contact\n",
    "gIa   = 1./7            # recovery rate of asymptomatic infectives \n",
    "gIs   = 1./7            # recovery rate of symptomatic infectives \n",
    "alpha = 0.              # asymptomatic fraction\n",
    "fsa   = 1               # suppresion of contact by symptomatics\n",
    "parameters = {'alpha':alpha,'beta':beta, 'gIa':gIa,'gIs':gIs,'fsa':fsa, 'M':M, 'Ni':Ni}"
   ]
  },
  {
   "cell_type": "code",
   "execution_count": 4,
   "metadata": {},
   "outputs": [
    {
     "name": "stdout",
     "output_type": "stream",
     "text": [
      "The basic reproductive ratio for these parameters is (81.75599447582681+0j)\n"
     ]
    }
   ],
   "source": [
    "\n",
    "contactMatrix = pyross.contactMatrix.SIR(CH, CW, CS, CO)\n",
    "r0UK1 = contactMatrix.basicReproductiveRatio(parameters)\n",
    "\n",
    "print(\"The basic reproductive ratio for these parameters is\", r0UK1)"
   ]
  },
  {
   "cell_type": "code",
   "execution_count": 5,
   "metadata": {},
   "outputs": [
    {
     "name": "stdout",
     "output_type": "stream",
     "text": [
      "The basic reproductive ratio for these parameters is (62.981977600135735+0j)\n"
     ]
    }
   ],
   "source": [
    "aH, aW, aS, aO = 1, 0, 1, 1\n",
    "CH, CW, CS, CO = aH*ukCH, aW*ukCW, aS*ukCS, aO*ukCO\n",
    "\n",
    "contactMatrix = pyross.contactMatrix.SIR(CH, CW, CS, CO)\n",
    "r0UK2 = contactMatrix.basicReproductiveRatio(parameters)\n",
    "\n",
    "print(\"The basic reproductive ratio for these parameters is\", r0UK2)"
   ]
  },
  {
   "cell_type": "code",
   "execution_count": 6,
   "metadata": {},
   "outputs": [
    {
     "name": "stdout",
     "output_type": "stream",
     "text": [
      "The basic reproductive ratio for these parameters is (43.446346534052125+0j)\n"
     ]
    }
   ],
   "source": [
    "aH, aW, aS, aO = 1, 0, 0, 1\n",
    "CH, CW, CS, CO = aH*ukCH, aW*ukCW, aS*ukCS, aO*ukCO\n",
    "\n",
    "contactMatrix = pyross.contactMatrix.SIR(CH, CW, CS, CO)\n",
    "r0UK3 = contactMatrix.basicReproductiveRatio(parameters)\n",
    "\n",
    "print(\"The basic reproductive ratio for these parameters is\", r0UK3)"
   ]
  },
  {
   "cell_type": "code",
   "execution_count": 7,
   "metadata": {},
   "outputs": [
    {
     "name": "stdout",
     "output_type": "stream",
     "text": [
      "The basic reproductive ratio for these parameters is (20.91298427906979+0j)\n"
     ]
    }
   ],
   "source": [
    "aH, aW, aS, aO = 1, 0, 0, 0\n",
    "CH, CW, CS, CO = aH*ukCH, aW*ukCW, aS*ukCS, aO*ukCO\n",
    "\n",
    "contactMatrix = pyross.contactMatrix.SIR(CH, CW, CS, CO)\n",
    "r0UK4 = contactMatrix.basicReproductiveRatio(parameters)\n",
    "\n",
    "print(\"The basic reproductive ratio for these parameters is\", r0UK4)"
   ]
  },
  {
   "cell_type": "code",
   "execution_count": 10,
   "metadata": {},
   "outputs": [
    {
     "data": {
      "image/png": "[encoded data removed]",
      "text/plain": [
       "<Figure size 800x320 with 1 Axes>"
      ]
     },
     "metadata": {},
     "output_type": "display_data"
    }
   ],
   "source": [
    "fig = plt.figure(num=None, figsize=(10, 4), dpi=80, facecolor='w', edgecolor='k')\n",
    "plt.rcParams.update({'font.size': 22})\n",
    "\n",
    "\n",
    "r0 = np.real(np.array([r0UK1, r0UK2, r0UK3, r0UK4])/r0UK1)\n",
    "plt.bar(range(r0.size), r0, align='center', alpha=0.5);\n",
    "\n",
    "labelY= ('All open', 'Work close', 'W+S close', 'All close' )\n",
    "plt.xticks(range(r0.size),labelY); plt.ylabel(r'$\\mathcal R_0/\\mathcal R^{{1}}_0$');"
   ]
  }
 ],
 "metadata": {
  "kernelspec": {
   "display_name": "Python 3",
   "language": "python",
   "name": "python3"
  },
  "language_info": {
   "codemirror_mode": {
    "name": "ipython",
    "version": 3
   },
   "file_extension": ".py",
   "mimetype": "text/x-python",
   "name": "python",
   "nbconvert_exporter": "python",
   "pygments_lexer": "ipython3",
   "version": "3.7.3"
  }
 },
 "nbformat": 4,
 "nbformat_minor": 4
}
