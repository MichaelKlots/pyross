{
 "cells": [
  {
   "cell_type": "code",
   "execution_count": 1,
   "metadata": {},
   "outputs": [],
   "source": [
    "%reset -f\n",
    "%matplotlib inline"
   ]
  },
  {
   "cell_type": "code",
   "execution_count": 2,
   "metadata": {},
   "outputs": [],
   "source": [
    "import numpy as np\n",
    "import matplotlib.pyplot as plt\n",
    "import pyross"
   ]
  },
  {
   "cell_type": "markdown",
   "metadata": {},
   "source": [
    "## Introduction\n",
    "\n",
    "In this notebook, we consider an SEAI5R model with a lockdown protocol that is put in place once the infective population exceeds a threshold, and is removed once the infective population falls below a second threshold.\n",
    "\n",
    "Except for the lockdown protocol, the model considered here is the same as in *examples/deterministic/ex11-SEAI5R-UK.ipynb*."
   ]
  },
  {
   "cell_type": "code",
   "execution_count": 3,
   "metadata": {},
   "outputs": [],
   "source": [
    "M=16  # number of age groups\n",
    "\n",
    "# load age structure data\n",
    "my_data = np.genfromtxt('../data/age_structures/UK.csv', delimiter=',', skip_header=1)\n",
    "aM, aF = my_data[:, 1], my_data[:, 2]\n",
    "\n",
    "# set age groups\n",
    "Ni=aM+aF;   Ni=Ni[0:M];  N=np.sum(Ni)"
   ]
  },
  {
   "cell_type": "code",
   "execution_count": 4,
   "metadata": {},
   "outputs": [
    {
     "data": {
      "image/png": "[encoded data removed]",
      "text/plain": [
       "<Figure size 432x288 with 4 Axes>"
      ]
     },
     "metadata": {
      "needs_background": "light"
     },
     "output_type": "display_data"
    }
   ],
   "source": [
    "# contact matrices\n",
    "CH, CW, CS, CO = pyross.contactMatrix.UK()\n",
    "\n",
    "\n",
    "## matrix of total contacts\n",
    "C=CH+CW+CS+CO\n",
    "\n",
    "\n",
    "fig,aCF =  plt.subplots(2,2);\n",
    "aCF[0][0].pcolor(CH, cmap=plt.cm.get_cmap('GnBu', 10));\n",
    "aCF[0][1].pcolor(CW, cmap=plt.cm.get_cmap('GnBu', 10));\n",
    "aCF[1][0].pcolor(CS, cmap=plt.cm.get_cmap('GnBu', 10));\n",
    "aCF[1][1].pcolor(CO, cmap=plt.cm.get_cmap('GnBu', 10));"
   ]
  },
  {
   "cell_type": "code",
   "execution_count": 5,
   "metadata": {},
   "outputs": [
    {
     "name": "stdout",
     "output_type": "stream",
     "text": [
      "The basic reproductive ratio for these parameters is (1.3199080176342344+0j)\n"
     ]
    }
   ],
   "source": [
    "beta  = 0.036692            # infection rate \n",
    "\n",
    "gE    = 1/5\n",
    "gA    = 1/3\n",
    "gIa   = 1./7                # recovery rate of asymptomatic infectives \n",
    "gIs   = 1./7                # recovery rate of symptomatic infectives \n",
    "alpha = 0.3                 # fraction of asymptomatic infectives \n",
    "fsa   = 0.2                 # the self-isolation parameter   \n",
    "fh    = 0\n",
    "gIh   = 1/14\n",
    "gIc   = 1/14\n",
    " \n",
    "sa    = 100*np.ones(M)      #  rate of additional/removal of population by birth etc\n",
    "sa[0]     = 1500            # birth\n",
    "sa[12:16] = -300            # mortality\n",
    "\n",
    "\n",
    "hh   = 0.1*np.ones(M)       # fraction which goes from Is to hospital\n",
    "cc   = 0.05*np.ones(M)      # fraction which goes from  hospital to ICU \n",
    "mm   = 0.4*np.ones(M)       # mortality from IC\n",
    "\n",
    "\n",
    "\n",
    "# initial conditions    \n",
    "Is_0 = np.zeros((M));  #Is_0[6:13]=8;  Is_0[2:6]=4; Is_0[13:16]=4\n",
    "\n",
    "\n",
    "Ia_0 = 1000*np.ones((M));  \n",
    "R_0  = np.zeros((M))\n",
    "E_0  = np.zeros((M))\n",
    "A_0  = np.zeros((M))\n",
    "Ih_0  = np.zeros((M))\n",
    "Ic_0  = np.zeros((M))\n",
    "Im_0  = np.zeros((M))\n",
    "\n",
    "S_0  = Ni - (E_0 + A_0 + Ia_0 + Is_0 + Ih_0 + Ic_0 +Im_0 + R_0)\n",
    "\n",
    "\n",
    "\n",
    "# matrix for linearised dynamics\n",
    "L0 = np.zeros((M, M))\n",
    "L  = np.zeros((2*M, 2*M))\n",
    "\n",
    "for i in range(M):\n",
    "    for j in range(M):\n",
    "        L0[i,j]=C[i,j]*Ni[i]/Ni[j]\n",
    "\n",
    "L[0:M, 0:M]     =    alpha*beta/gIs*L0\n",
    "L[0:M, M:2*M]   = fsa*alpha*beta/gIs*L0\n",
    "L[M:2*M, 0:M]   =    ((1-alpha)*beta/gIs)*L0\n",
    "L[M:2*M, M:2*M] = fsa*((1-alpha)*beta/gIs)*L0\n",
    "\n",
    "\n",
    "r0 = np.max(np.linalg.eigvals(L))\n",
    "print(\"The basic reproductive ratio for these parameters is\", r0)"
   ]
  },
  {
   "cell_type": "code",
   "execution_count": 6,
   "metadata": {},
   "outputs": [],
   "source": [
    "# duration of simulation and data file\n",
    "Tf=200;  Nf=2000;  \n",
    "\n",
    "\n",
    "# intantiate model\n",
    "parameters = {'alpha':alpha,'beta':beta, 'gIa':gIa,'gIs':gIs,\n",
    "              'gIh':gIh,'gIc':gIc,  'gE':gE, 'gA':gA,\n",
    "              'fsa':fsa, 'fh':fh, \n",
    "              'sa':sa, 'hh':hh, 'cc':cc, 'mm':mm}\n",
    "model = pyross.control.SEAI5R(parameters, M, Ni)"
   ]
  },
  {
   "cell_type": "markdown",
   "metadata": {},
   "source": [
    "## Define events at which contact matrix is modified"
   ]
  },
  {
   "cell_type": "markdown",
   "metadata": {},
   "source": [
    "For every change in the contact matrix that could occur, we have to define an *event*. An event is a function of time and the current state, and the event happens once the function becomes zero (from a given side).\n",
    "\n",
    "The program expects \n",
    "* a list of events, and \n",
    "* a list of contact matrices.\n",
    "\n",
    "If event $i$ takes place, then the $i$-th contact matrix from the list is used in the simulation.\n",
    "\n",
    "The simulation always starts with the first contact matrix from the list, and the corresponding event can only occur once another event has occured (below we will use a dummy event that can never occur).\n",
    "\n",
    "We now define three events:"
   ]
  },
  {
   "cell_type": "code",
   "execution_count": 7,
   "metadata": {},
   "outputs": [],
   "source": [
    "events = []\n",
    "contactMatrices = []\n",
    "\n",
    "# Note that for technical reasons, the event functions take a\n",
    "# vector argument \"rp\" instead of a tuple (S, E, A, Ia, Is, Ih, Ic, Im).\n",
    "# When defining the event functions, the following correspondence has to be used:\n",
    "# S  == rp[ :M]\n",
    "# E  == rp[M:2*M]\n",
    "# A  == rp[2*M:3*M]\n",
    "# Ia == rp[3*M:4*M]\n",
    "# Is == rp[4*M:5*M]\n",
    "# Ih == rp[5*M:6*M]\n",
    "# Ic == rp[6*M:7*M]\n",
    "# Im == rp[7*M:8*M]\n",
    "\n",
    "# This is a dummy event which will never occur; it is used to set the initial contact matrix\n",
    "def cur_event(t,rp):\n",
    "    return t + 1\n",
    "cur_event.direction = +1\n",
    "events.append(cur_event)\n",
    "contactMatrices.append( C )\n",
    "\n",
    "# Lockdown (= multiply beta by a factor 1/2) once number of infectives I_s becomes larger than 5000\n",
    "lockdown_threshold_on = 100000\n",
    "def cur_event2(t,rp):\n",
    "    return np.sum(rp[4*M:5*M]) - lockdown_threshold_on\n",
    "cur_event2.direction = +1 # this means we need to pass the threshold from below for the event to happen\n",
    "events.append(cur_event2)\n",
    "contactMatrices.append( CH ) #+CW+CS+CO )\n",
    "\n",
    "# End of lockdown once number of infectives I_s becomes smaller than 1000 (and has been larger before)\n",
    "lockdown_threshold_off = 10000\n",
    "def cur_event3(t,rp):\n",
    "    return np.sum(rp[4*M:5*M]) - lockdown_threshold_off\n",
    "cur_event3.direction = -1 # this means we need to pass the threshold from above for the event to happen\n",
    "events.append(cur_event3)\n",
    "contactMatrices.append( C )"
   ]
  },
  {
   "cell_type": "markdown",
   "metadata": {},
   "source": [
    "## Simulate system and plot result"
   ]
  },
  {
   "cell_type": "code",
   "execution_count": 8,
   "metadata": {},
   "outputs": [
    {
     "name": "stdout",
     "output_type": "stream",
     "text": [
      "After 29.9 days, the lockdown starts.\n",
      "After 118.2 days, the lockdown ends.\n",
      "After 147.6 days, the lockdown starts.\n",
      "After 231.6 days, the lockdown ends.\n",
      "After 262.1 days, the lockdown starts.\n"
     ]
    }
   ],
   "source": [
    "# Run simulation\n",
    "Tf = 300\n",
    "Nt = (Tf +1)*10\n",
    "\n",
    "result = model.simulate(S_0, E_0, A_0, Ia_0, Is_0, Ih_0, Ic_0, Im_0 ,\n",
    "                        events=events,contactMatrices=contactMatrices,Tf=Tf, Nf=Nt)\n",
    "\n",
    "event_labels = ['','lockdown starts','lockdown ends']\n",
    "for i,e in enumerate(result['events_occured']):\n",
    "    print(\"After {0:3.1f} days, the {1}.\".format(e[0],event_labels[e[1]]))"
   ]
  },
  {
   "cell_type": "code",
   "execution_count": 9,
   "metadata": {},
   "outputs": [
    {
     "data": {
      "image/png": "[encoded data removed]",
      "text/plain": [
       "<Figure size 504x360 with 1 Axes>"
      ]
     },
     "metadata": {
      "needs_background": "light"
     },
     "output_type": "display_data"
    }
   ],
   "source": [
    "# Plot result\n",
    "t_arr = result['t']\n",
    "trajs = result['X'].T\n",
    "\n",
    "fontsize=25\n",
    "fig, ax = plt.subplots(1,1,figsize=(7,5))\n",
    "ax.set_title('SEAI5R, threshold driven lockdown',\n",
    "            y=1.05,fontsize=25)\n",
    "ax.axhline(lockdown_threshold_on,color='crimson',\n",
    "           lw=3,\n",
    "           label='Threshold for lockdown start')\n",
    "ax.axhline(lockdown_threshold_off,color='limegreen',\n",
    "           lw=3,\n",
    "          label='Threshold for lockdown end')\n",
    "for i,e in enumerate(result['events_occured']):\n",
    "    if e[1] == 1:\n",
    "        color='crimson'\n",
    "        if i < 2:\n",
    "            label='Lockdown start'\n",
    "        else:\n",
    "            label= ''\n",
    "    else:\n",
    "        color='limegreen'\n",
    "        if i < 2:\n",
    "            label='Lockdown end'\n",
    "        else:\n",
    "            label= ''\n",
    "    ax.axvline(e[0],label=label,\n",
    "               color=color,\n",
    "               lw=3,\n",
    "               ls='--',alpha=0.5)\n",
    "\n",
    "\n",
    "ax.plot(t_arr,np.sum(trajs[4*M:5*M],axis=0),\n",
    "    label='Symptomatic infectives', \n",
    "    color='black',\n",
    "    lw=2,\n",
    "   )\n",
    "ax.set_xlim(np.min(t_arr),np.max(t_arr))\n",
    "ax.set_ylabel(r'$N_i$',fontsize=fontsize)\n",
    "ax.set_xlabel(r'$t$ [days]',fontsize=fontsize)\n",
    "ax.legend(loc='upper right',bbox_to_anchor=(1.4,0.96),\n",
    "          framealpha=0.85,\n",
    "         fontsize=15)\n",
    "plt.show(fig)\n",
    "#fig.savefig('threshold_driven_protocol_change_SEAI5R_UK.png',bbox_inches='tight',\n",
    "#           dpi=100)\n",
    "plt.close(fig)"
   ]
  },
  {
   "cell_type": "markdown",
   "metadata": {},
   "source": [
    "## Speed test: Compare simulation without state-dependent protocol to simulations with state-dependent lockdown"
   ]
  },
  {
   "cell_type": "code",
   "execution_count": 10,
   "metadata": {},
   "outputs": [],
   "source": [
    "from timeit import default_timer as timer"
   ]
  },
  {
   "cell_type": "code",
   "execution_count": 11,
   "metadata": {},
   "outputs": [
    {
     "name": "stdout",
     "output_type": "stream",
     "text": [
      "Standard simulations: Time per simulation = 18.0913 ms\n"
     ]
    }
   ],
   "source": [
    "# run \"standard\" deterministic simulations\n",
    "\n",
    "# there is no contact structure\n",
    "def contactMatrix(t):   \n",
    "    return C \n",
    "\n",
    "model = pyross.deterministic.SEAI5R(parameters, M, Ni)\n",
    "\n",
    "N_runs = 100 # runs to average over\n",
    "start = timer()\n",
    "for i in range(N_runs):\n",
    "    result = model.simulate(S_0, E_0, A_0, Ia_0, Is_0, Ih_0, Ic_0, Im_0 ,\n",
    "                            contactMatrix, Tf, Nt)\n",
    "end = timer()\n",
    "\n",
    "total_time_1 = end - start\n",
    "print('Standard simulations: Time per simulation = {0:3.4f} ms'.format(total_time_1/N_runs*1000))"
   ]
  },
  {
   "cell_type": "code",
   "execution_count": 12,
   "metadata": {},
   "outputs": [
    {
     "name": "stdout",
     "output_type": "stream",
     "text": [
      "Standard simulations: Time per simulation = 42.6490 ms\n",
      "\n",
      "-> The lockdown-protocol slows down the simulations by a factor of about 2.4\n"
     ]
    }
   ],
   "source": [
    "# run state-dependent lockdown simulations\n",
    "\n",
    "model = pyross.control.SEAI5R(parameters, M, Ni)\n",
    "\n",
    "N_runs = 100 # runs to average over\n",
    "start = timer()\n",
    "for i in range(N_runs):\n",
    "    result = model.simulate(S_0, E_0, A_0, Ia_0, Is_0, Ih_0, Ic_0, Im_0 \n",
    "                            ,events=events,contactMatrices=contactMatrices,Tf=Tf, Nf=Nt)\n",
    "end = timer()\n",
    "\n",
    "total_time_2 = end - start\n",
    "print('Standard simulations: Time per simulation = {0:3.4f} ms\\n'.format(total_time_2/N_runs*1000))\n",
    "\n",
    "print('-> The lockdown-protocol slows down the simulations by a factor of about {0:3.1f}'.format(total_time_2/total_time_1))"
   ]
  },
  {
   "cell_type": "code",
   "execution_count": null,
   "metadata": {},
   "outputs": [],
   "source": []
  }
 ],
 "metadata": {
  "kernelspec": {
   "display_name": "Python 3",
   "language": "python",
   "name": "python3"
  },
  "language_info": {
   "codemirror_mode": {
    "name": "ipython",
    "version": 3
   },
   "file_extension": ".py",
   "mimetype": "text/x-python",
   "name": "python",
   "nbconvert_exporter": "python",
   "pygments_lexer": "ipython3",
   "version": "3.7.1"
  }
 },
 "nbformat": 4,
 "nbformat_minor": 2
}
