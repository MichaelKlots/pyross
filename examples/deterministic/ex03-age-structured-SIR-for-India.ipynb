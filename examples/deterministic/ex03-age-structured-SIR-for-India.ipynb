{
 "cells": [
  {
   "cell_type": "markdown",
   "metadata": {},
   "source": [
    "##  Age-structured SIR model for India\n",
    "\n",
    "We can now generalise the model in example-2 to more than two age groups. Assume that the population has been partitioned into  $i=1,\\ldots, M$ age groups and that we have available the $M\\times M$ contact matrix $C_{ij}$. These are a sum of contributions from contacts at home, workplace, schools and all other public spheres. Using superscripts $H$, $W$, $S$ and $O$ for each of these, we write the contact matrix as\n",
    "$$\n",
    "C_{ij} = C^H_{ij} + C^W_{ij} + C^S_{ij} + C^O_{ij}\n",
    "$$\n",
    "We read in these contact matrices from the data sets provided in the paper *Projecting social contact matrices in 152 countries using contact surveys and demographic data* by Prem et al, sum them to obtain the total contact matrix. We also read in the age distribution of India obtained from the *Population pyramid* website. The infection parameter $\\beta$ is unknown, so we fit it to the case data till 25th March. The hope is that this will take into account the fact that there are, in reality, asymptomatic infectives, and that the symptomatic cases are an understimate. Also, the model is being applied to the whole of India, where the well-mixedness of the population, implicit in a non-spatial model, breaks down. This type of fitting gets more accurate, though, when it is applied to more local regions, where the well-mixedness is a better assumption. We then run the simulation, assuming all initial cases are symptomatic, and remain so. This will be an underestimate in the initial stages but once the epidemic enters the non-linear phase, there will be must less sensitivity to the initial condition. At the end of the simulation, we extract the number of susceptibles remaining in each age group, and the difference with the initial number of susceptibles is the total number that are infected. We multiply this with mortality data from China to obtain mortality estimates. "
   ]
  },
  {
   "cell_type": "code",
   "execution_count": 1,
   "metadata": {},
   "outputs": [],
   "source": [
    "%%capture\n",
    "## compile PyRoss for this notebook\n",
    "import os\n",
    "owd = os.getcwd()\n",
    "os.chdir('../../')\n",
    "%run setup.py install\n",
    "os.chdir(owd)"
   ]
  },
  {
   "cell_type": "code",
   "execution_count": 2,
   "metadata": {},
   "outputs": [],
   "source": [
    "%matplotlib inline\n",
    "import numpy as np\n",
    "import pyross\n",
    "import matplotlib.pyplot as plt\n",
    "import pandas as pd"
   ]
  },
  {
   "cell_type": "code",
   "execution_count": 11,
   "metadata": {},
   "outputs": [],
   "source": [
    "M  = 16  ## number of age-groups\n",
    "\n",
    "Ni = pyross.utils.getPopulation(\"India\", M)\n",
    "N=np.sum(Ni)"
   ]
  },
  {
   "cell_type": "code",
   "execution_count": 7,
   "metadata": {},
   "outputs": [],
   "source": [
    "# contact matrices\n",
    "CH, CW, CS, CO = pyross.contactMatrix.India()\n",
    "\n",
    "# matrix of total contacts\n",
    "C=CH+CW+CS+CO"
   ]
  },
  {
   "cell_type": "code",
   "execution_count": 8,
   "metadata": {},
   "outputs": [
    {
     "ename": "NameError",
     "evalue": "name 'M' is not defined",
     "output_type": "error",
     "traceback": [
      "\u001b[0;31m---------------------------------------------------------------------------\u001b[0m",
      "\u001b[0;31mNameError\u001b[0m                                 Traceback (most recent call last)",
      "\u001b[0;32m<ipython-input-8-e119d88f841f>\u001b[0m in \u001b[0;36m<module>\u001b[0;34m\u001b[0m\n\u001b[1;32m      7\u001b[0m \u001b[0;34m\u001b[0m\u001b[0m\n\u001b[1;32m      8\u001b[0m \u001b[0;31m# initial conditions\u001b[0m\u001b[0;34m\u001b[0m\u001b[0;34m\u001b[0m\u001b[0;34m\u001b[0m\u001b[0m\n\u001b[0;32m----> 9\u001b[0;31m \u001b[0mIs_0\u001b[0m \u001b[0;34m=\u001b[0m \u001b[0mnp\u001b[0m\u001b[0;34m.\u001b[0m\u001b[0mzeros\u001b[0m\u001b[0;34m(\u001b[0m\u001b[0;34m(\u001b[0m\u001b[0mM\u001b[0m\u001b[0;34m)\u001b[0m\u001b[0;34m)\u001b[0m\u001b[0;34m;\u001b[0m  \u001b[0mIs_0\u001b[0m\u001b[0;34m[\u001b[0m\u001b[0;36m6\u001b[0m\u001b[0;34m:\u001b[0m\u001b[0;36m13\u001b[0m\u001b[0;34m]\u001b[0m\u001b[0;34m=\u001b[0m\u001b[0;36m3\u001b[0m\u001b[0;34m;\u001b[0m  \u001b[0mIs_0\u001b[0m\u001b[0;34m[\u001b[0m\u001b[0;36m2\u001b[0m\u001b[0;34m:\u001b[0m\u001b[0;36m6\u001b[0m\u001b[0;34m]\u001b[0m\u001b[0;34m=\u001b[0m\u001b[0;36m1\u001b[0m\u001b[0;34m\u001b[0m\u001b[0;34m\u001b[0m\u001b[0m\n\u001b[0m\u001b[1;32m     10\u001b[0m \u001b[0;34m\u001b[0m\u001b[0m\n\u001b[1;32m     11\u001b[0m \u001b[0mIa_0\u001b[0m \u001b[0;34m=\u001b[0m \u001b[0mnp\u001b[0m\u001b[0;34m.\u001b[0m\u001b[0mzeros\u001b[0m\u001b[0;34m(\u001b[0m\u001b[0;34m(\u001b[0m\u001b[0mM\u001b[0m\u001b[0;34m)\u001b[0m\u001b[0;34m)\u001b[0m\u001b[0;34m\u001b[0m\u001b[0;34m\u001b[0m\u001b[0m\n",
      "\u001b[0;31mNameError\u001b[0m: name 'M' is not defined"
     ]
    }
   ],
   "source": [
    "beta  = 0.01646692       # infection rate \n",
    "gIa   = 1./7             # removal rate of asymptomatic infectives \n",
    "gIs   = 1./7             # removal rate of symptomatic infectives \n",
    "alpha = 0.               # fraction of asymptomatic infectives \n",
    "fsa   = 1                # the self-isolation parameter   \n",
    "    \n",
    "    \n",
    "# initial conditions    \n",
    "Is_0 = np.zeros((M));  Is_0[6:13]=3;  Is_0[2:6]=1\n",
    "\n",
    "Ia_0 = np.zeros((M))\n",
    "R_0  = np.zeros((M))\n",
    "S_0  = Ni - (Ia_0 + Is_0 + R_0)\n",
    "\n",
    "\n",
    "# matrix for linearised dynamics\n",
    "L0 = np.zeros((M, M))\n",
    "L  = np.zeros((2*M, 2*M))\n",
    "\n",
    "for i in range(M):\n",
    "    for j in range(M):\n",
    "        L0[i,j]=C[i,j]*Ni[i]/Ni[j]\n",
    "\n",
    "L[0:M, 0:M]     =    alpha*beta/gIs*L0\n",
    "L[0:M, M:2*M]   = fsa*alpha*beta/gIs*L0\n",
    "L[M:2*M, 0:M]   =    ((1-alpha)*beta/gIs)*L0\n",
    "L[M:2*M, M:2*M] = fsa*((1-alpha)*beta/gIs)*L0\n",
    "\n",
    "\n",
    "r0 = np.max(np.linalg.eigvals(L))\n",
    "print(\"The basic reproductive ratio for these parameters is\", r0)"
   ]
  },
  {
   "cell_type": "code",
   "execution_count": null,
   "metadata": {},
   "outputs": [],
   "source": [
    "# duration of simulation and data file\n",
    "Tf=41;  Nf=2000;  \n",
    "\n",
    "# the contact structure is independent of time \n",
    "def contactMatrix(t):\n",
    "    return C\n",
    "\n",
    "# intantiate model\n",
    "parameters = {'alpha':alpha,'beta':beta, 'gIa':gIa,'gIs':gIs,'fsa':fsa}\n",
    "model = pyross.deterministic.SIR(parameters, M, Ni)\n",
    "\n",
    "\n",
    "# run model\n",
    "data=model.simulate(S_0, Ia_0, Is_0, contactMatrix, Tf, Nf)"
   ]
  },
  {
   "cell_type": "code",
   "execution_count": null,
   "metadata": {},
   "outputs": [],
   "source": [
    "t = data['t']; IC  = np.zeros((Nf))\n",
    "for i in range(M):\n",
    "        IC += data['X'][:,2*M+i]\n",
    "        \n",
    "\n",
    "        \n",
    "fig = plt.figure(num=None, figsize=(10, 8), dpi=80, facecolor='w', edgecolor='k')\n",
    "plt.rcParams.update({'font.size': 22})\n",
    "\n",
    "plt.plot(t, IC, '-', lw=4, color='#A60628', label='forecast', alpha=0.8)\n",
    "plt.xticks(np.arange(0, Tf, 10), ('4 Mar', '14 Mar', '24 Mar', '3 Apr', '13 Apr', '23 Apr'));\n",
    "\n",
    "my_data = np.genfromtxt('../data/covid-cases/india.txt', delimiter='', skip_header=6)\n",
    "day, cases = my_data[:,0], my_data[:,3] - my_data[:,1]\n",
    "\n",
    "\n",
    "plt.plot(cases, 'o-', lw=4, color='#348ABD', ms=16, label='data', alpha=0.5)\n",
    "\n",
    "plt.legend(fontsize=26, loc='upper left'); plt.grid() \n",
    "plt.autoscale(enable=True, axis='x', tight=True)\n",
    "plt.ylabel('Infected individuals'); #plt.xlim(0, 40); plt.ylim(0, 9999);\n",
    "#plt.savefig('/Users/rsingh/Desktop/2a.png', format='png', dpi=212)"
   ]
  },
  {
   "cell_type": "code",
   "execution_count": null,
   "metadata": {},
   "outputs": [],
   "source": [
    "cases"
   ]
  },
  {
   "cell_type": "code",
   "execution_count": null,
   "metadata": {},
   "outputs": [],
   "source": [
    "C=CH+CW+CS+CO\n",
    "Tf=200; \n",
    "\n",
    "# matrix for linearised dynamics\n",
    "L0 = np.zeros((M, M))\n",
    "L  = np.zeros((2*M, 2*M))\n",
    "\n",
    "for i in range(M):\n",
    "    for j in range(M):\n",
    "        L0[i,j]=C[i,j]*Ni[i]/Ni[j]\n",
    "L[0:M, 0:M]     =    alpha*beta/gIs*L0\n",
    "L[0:M, M:2*M]   = fsa*alpha*beta/gIs*L0\n",
    "L[M:2*M, 0:M]   =    ((1-alpha)*beta/gIs)*L0\n",
    "L[M:2*M, M:2*M] = fsa*((1-alpha)*beta/gIs)*L0\n",
    "\n",
    "r0 = np.max(np.linalg.eigvals(L))\n",
    "print(\"The basic reproductive ratio for these parameters is\", r0)\n",
    "\n",
    "\n",
    "def contactMatrix(t):\n",
    "    return C\n",
    "\n",
    "\n",
    "# start simulation\n",
    "Nf=2000; \n",
    "data=model.simulate(S_0, Ia_0, Is_0, contactMatrix, Tf, Nf)"
   ]
  },
  {
   "cell_type": "code",
   "execution_count": null,
   "metadata": {},
   "outputs": [],
   "source": [
    "t = data.get('t'); IC  = np.zeros((Nf));  SC  = np.zeros((Nf))\n",
    "for i in range(M):\n",
    "        SC += data.get('X')[:,0*M+i]\n",
    "        IC += data.get('X')[:,2*M+i]\n",
    "\n",
    "            \n",
    "\n",
    "fig = plt.figure(num=None, figsize=(10, 8), dpi=80, facecolor='w', edgecolor='k')\n",
    "plt.rcParams.update({'font.size': 22})\n",
    "\n",
    "plt.plot(t, SC*10**(-6), '-', lw=4, color='#348ABD', label='susceptible', alpha=0.8,)\n",
    "plt.fill_between(t, 0, SC*10**(-6), color=\"#348ABD\", alpha=0.3)\n",
    "\n",
    "plt.plot(t, IC*10**(-6), '-', lw=4, color='#A60628', label='infected', alpha=0.8)\n",
    "plt.fill_between(t, 0, IC*10**(-6), color=\"#A60628\", alpha=0.3)\n",
    "\n",
    "my_data = np.genfromtxt('../data/covid-cases/india.txt', delimiter='', skip_header=6)\n",
    "day, cases = my_data[:,0], my_data[:,3] - my_data[:,1]\n",
    "plt.plot(cases*10**(-6), 'ro-', lw=4, color='dimgrey', ms=16, label='data', alpha=0.5)\n",
    "\n",
    "plt.legend(fontsize=26); plt.grid() \n",
    "plt.autoscale(enable=True, axis='x', tight=True)\n",
    "plt.ylabel('Individuals (millions)')\n",
    "plt.plot(t*0+t[np.argsort(IC)[-1]], -170+.4*SC*10**(-6), lw=4, color='g', alpha=0.8)\n",
    "plt.xticks(np.arange(0, 200, 30), ('4 Mar', '3 Apr', '3 May', '2 Jun', '2 Jul', '1 Aug', '31 Aug'));\n",
    "#plt.savefig('/Users/rsingh/Desktop/2b.png', format='png', dpi=212)"
   ]
  },
  {
   "cell_type": "code",
   "execution_count": null,
   "metadata": {},
   "outputs": [],
   "source": [
    "IC[np.argsort(IC)[-1]]\n",
    "IC\n",
    "cases"
   ]
  },
  {
   "cell_type": "code",
   "execution_count": null,
   "metadata": {},
   "outputs": [],
   "source": [
    "# matrix for linearised dynamics\n",
    "L0 = np.zeros((M, M))\n",
    "L  = np.zeros((2*M, 2*M))\n",
    "xind=[np.argsort(IC)[-1]]\n",
    "rr = np.zeros((Tf))\n",
    "\n",
    "for tt in range(Tf):\n",
    "    Si = np.array((data['X'][tt*10,0:M])).flatten()\n",
    "    for i in range(M):\n",
    "        for j in range(M):\n",
    "            L0[i,j]=C[i,j]*Si[i]/Ni[j]\n",
    "    L[0:M, 0:M]     =    alpha*beta/gIs*L0\n",
    "    L[0:M, M:2*M]   = fsa*alpha*beta/gIs*L0\n",
    "    L[M:2*M, 0:M]   =    ((1-alpha)*beta/gIs)*L0\n",
    "    L[M:2*M, M:2*M] = fsa*((1-alpha)*beta/gIs)*L0\n",
    "\n",
    "    rr[tt] = np.real(np.max(np.linalg.eigvals(L)))\n",
    "    \n",
    "    \n",
    "fig = plt.figure(num=None, figsize=(10, 8), dpi=80, facecolor='w', edgecolor='k')\n",
    "plt.rcParams.update({'font.size': 22})\n",
    "\n",
    "plt.plot(t[::10], rr, 'o', lw=4, color='#A60628', label='suscetible', alpha=0.8,)\n",
    "plt.fill_between(t, 0, t*0+1, color=\"dimgrey\", alpha=0.2); plt.ylabel('Basic reproductive ratio')\n",
    "plt.ylim(np.min(rr)-.1, np.max(rr)+.1)\n",
    "plt.xticks(np.arange(0, 200, 30), ('4 Mar', '3 Apr', '3 May', '2 Jun', '2 Jul', '1 Aug', '31 Aug'));\n",
    "#plt.savefig('/Users/rsingh/Desktop/test.png', format='png', dpi=212) "
   ]
  },
  {
   "cell_type": "code",
   "execution_count": null,
   "metadata": {},
   "outputs": [],
   "source": [
    "fig = plt.figure(num=None, figsize=(10, 8), dpi=80, facecolor='w', edgecolor='k')\n",
    "plt.rcParams.update({'font.size': 22})\n",
    "\n",
    "plt.bar(np.arange(16),data.get('X')[0,0:M]*10**(-6),   label='susceptible (initial)', alpha=0.8)\n",
    "plt.bar(np.arange(16),data.get('X')[-1,0:M]*10**(-6),   label='susceptible (final)', alpha=0.8)\n",
    "\n",
    "plt.xticks(np.arange(-0.4, 16.45, 3.95), ('0', '20', '40', '60', '80'));\n",
    "plt.xlim(-0.45, 15.45); plt.ylabel('Individuals (millions)'); plt.xlabel('Age')\n",
    "plt.legend(fontsize=22); plt.axis('tight')\n",
    "plt.autoscale(enable=True, axis='x', tight=True)\n",
    "#plt.savefig('/Users/rsingh/Desktop/3a.png', format='png', dpi=212)"
   ]
  },
  {
   "cell_type": "code",
   "execution_count": null,
   "metadata": {},
   "outputs": [],
   "source": [
    "MM = np.array((0,0,.0,1,1,1,1,1,1,3.5,3.5,3.5,3.5,6,6,14.2))  \n",
    "## Fatality Rate by AGE per 100 cases"
   ]
  },
  {
   "cell_type": "code",
   "execution_count": null,
   "metadata": {},
   "outputs": [],
   "source": [
    "fig = plt.figure(num=None, figsize=(10, 8), dpi=80, facecolor='w', edgecolor='k')\n",
    "plt.rcParams.update({'font.size': 22})\n",
    "\n",
    "m1 = .01*MM*(data.get('X')[0,0:M]-data['X'][-1,0:M])\n",
    "plt.bar(np.arange(16),m1*10**(-6),   label='susceptible (final)', alpha=0.8)\n",
    "\n",
    "plt.axis('tight'); plt.xticks(np.arange(-0.4, 16.45, 3.95), ('0', '20', '40', '60', '80'));\n",
    "plt.xlim(-0.45, 15.45); plt.ylabel('Mortality (millions)'); plt.xlabel('Age')\n",
    "\n",
    "plt.autoscale(enable=True, axis='x', tight=True)\n",
    "#plt.savefig('/Users/rsingh/Desktop/3b.png', format='png', dpi=212)"
   ]
  },
  {
   "cell_type": "code",
   "execution_count": null,
   "metadata": {},
   "outputs": [],
   "source": [
    "m1 = .01*MM*(data['X'][0,0:M]-data['X'][-1,0:M])\n",
    "np.sum(m1)"
   ]
  },
  {
   "cell_type": "code",
   "execution_count": null,
   "metadata": {},
   "outputs": [],
   "source": [
    "SC[0]-SC[-1]"
   ]
  },
  {
   "cell_type": "code",
   "execution_count": null,
   "metadata": {},
   "outputs": [],
   "source": [
    "900*10^7"
   ]
  }
 ],
 "metadata": {
  "kernelspec": {
   "display_name": "Python 3",
   "language": "python",
   "name": "python3"
  },
  "language_info": {
   "codemirror_mode": {
    "name": "ipython",
    "version": 3
   },
   "file_extension": ".py",
   "mimetype": "text/x-python",
   "name": "python",
   "nbconvert_exporter": "python",
   "pygments_lexer": "ipython3",
   "version": "3.7.3"
  }
 },
 "nbformat": 4,
 "nbformat_minor": 2
}
