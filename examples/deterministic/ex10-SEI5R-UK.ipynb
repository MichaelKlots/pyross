{
 "cells": [
  {
   "cell_type": "markdown",
   "metadata": {},
   "source": [
    "We now extend SEIR model to:\n",
    "\n",
    "\\begin{align}\n",
    "\\dot{S_{i}}\t&=-\\lambda_{i}(t)S_{i}+\\sigma_{i}, \\\\\n",
    "\\dot{E}_{i}\t&=\\lambda_{i}(t)S_{i}-\\gamma_{E}E_{i},\\\\\n",
    "\\dot{I}_{i}^{a}\t&=\\alpha\\gamma_{E}E_{i}-\\gamma_{I^{a}}I_{i}^{a},\\\\\n",
    "\\dot{I}_{i}^{s}\t&=\\bar{\\alpha}\\gamma_{E}E_{i}-\\gamma_{I^{s}}I_{i}^{s},\\\\\n",
    "\\dot{I}_{i}^{h}\t&=h_{i}\\gamma_{I^{s}}I_{i}^{s}-\\gamma_{I^{h}}I_{i}^{h},\\\\\n",
    "\\dot{I}_{i}^{c}\t&=c_{i}\\gamma_{I^{h}}I_{i}^{h}-\\gamma_{I^{c}}I_{i}^{c},\\\\\n",
    "\\dot{I}_{i}^{m}\t&=m_{i}\\gamma_{I^{c}}I_{i}^{c},\\\\\n",
    "\\dot{R}_{i} &=\\gamma_{I^{a}}I_{i}^{a}+\\bar{h}_{i}\\gamma_{I^{s}}I_{i}^{s}+\\bar{c}_{i}\\gamma_{I^{h}}I_{i}^{h}+\\bar{m}_{i}\\gamma_{I^{c}}I_{i}^{c},\\\\\n",
    "\\dot{N}_{i}\t&=\\sigma_{i}-I_{i}^{m}.\n",
    "\\end{align}\n",
    "\n",
    "\n",
    "$\\lambda_{i}(t)=\\beta\\sum_{j=1}^{M}\\left(C_{ij}^{a}\\frac{I_{j}^{a}}{N_{j}}+C_{ij}^{s}\\frac{I_{j}^{s}}{N_{j}}+C_{ij}^{h}\\frac{I_{j}^{h}}{N_{j}}\\right)$.\n",
    "\n",
    "Here \n",
    "* $I^{a}$ : asymptomatic infectives\n",
    "* $I^{s}$ : symptomatic infectives\n",
    "* $I^{h}$ : hospitalized infectives\n",
    "* $I^{c}$ : ICU cases \n",
    "* $I^{m}$ : mortality\n",
    "* ${h}_{i}=1-\\bar h_{i}$ is the fraction of syptomatics who are hospitalized\n",
    "* $c_{i}=1-\\bar{c}_{i}$, is the fraction of hospitalizeds, who are in ICU\n",
    "* $m_{i}=1-\\bar{m}_{i}$, is the fraction of ICU which leads to mortality\n",
    "* $C_{ij}^{s}=f^{s}C_{ij}^{a}\\equiv f^{s}C_{ij}$  \n",
    "* $C_{ij}^{h}=f^{h}C_{ij}^{a}\\equiv f^{h}C_{ij}$. \n",
    "\n",
    "S ---> E ---> Ia, Is \n",
    "\n",
    "Ia ---> R\n",
    "\n",
    "Is ---> Ih, R\n",
    "\n",
    "Ih ---> Ic, R\n",
    "\n",
    "Ic ---> Im, R"
   ]
  },
  {
   "cell_type": "code",
   "execution_count": 1,
   "metadata": {},
   "outputs": [],
   "source": [
    "%%capture\n",
    "## compile PyRoss for this notebook\n",
    "import os\n",
    "owd = os.getcwd()\n",
    "os.chdir('../../')\n",
    "%run setup.py install\n",
    "os.chdir(owd)"
   ]
  },
  {
   "cell_type": "code",
   "execution_count": 2,
   "metadata": {},
   "outputs": [],
   "source": [
    "%matplotlib inline\n",
    "import numpy as np\n",
    "import pyross\n",
    "import pandas as pd\n",
    "import matplotlib.pyplot as plt"
   ]
  },
  {
   "cell_type": "code",
   "execution_count": 3,
   "metadata": {},
   "outputs": [],
   "source": [
    "M=16  # number of age groups\n",
    "\n",
    "# load age structure data\n",
    "my_data = np.genfromtxt('../data/age_structures/UK.csv', delimiter=',', skip_header=1)\n",
    "aM, aF = my_data[:, 1], my_data[:, 2]\n",
    "\n",
    "# set age groups\n",
    "Ni=aM+aF;   Ni=Ni[0:M];  N=np.sum(Ni)"
   ]
  },
  {
   "cell_type": "code",
   "execution_count": 4,
   "metadata": {},
   "outputs": [
    {
     "data": {
      "image/png": "[encoded data removed]",
      "text/plain": [
       "<Figure size 432x288 with 4 Axes>"
      ]
     },
     "metadata": {
      "needs_background": "light"
     },
     "output_type": "display_data"
    }
   ],
   "source": [
    "# contact matrices\n",
    "my_data = pd.read_excel('../data/contact_matrices_152_countries/MUestimates_home_2.xlsx', sheet_name='United Kingdom of Great Britain')\n",
    "CH0 = np.array(my_data)\n",
    "\n",
    "my_data = pd.read_excel('../data/contact_matrices_152_countries/MUestimates_work_2.xlsx', sheet_name='United Kingdom of Great Britain',index_col=None)\n",
    "CW0 = np.array(my_data)\n",
    "\n",
    "my_data = pd.read_excel('../data/contact_matrices_152_countries/MUestimates_school_2.xlsx', sheet_name='United Kingdom of Great Britain',index_col=None)\n",
    "CS0 = np.array(my_data)\n",
    "\n",
    "my_data = pd.read_excel('../data/contact_matrices_152_countries/MUestimates_other_locations_2.xlsx', sheet_name='United Kingdom of Great Britain',index_col=None)\n",
    "CO0 = np.array(my_data)\n",
    "\n",
    "CH = np.zeros((16, 16))\n",
    "CH[0,:]= np.array((0.478812799633172, 0.55185413960287,0.334323605154544,0.132361228266194,0.138531587861408,0.281604887066586,0.406440258772792,0.493947983343078,0.113301080935514,0.0746826413664804,0.0419640342896305,0.0179831987029717,0.00553694264516568,0.00142187285266089,0,0.000505582193632659))\n",
    "for i in range(15):\n",
    "    CH[i+1, :] = CH0[i, :]\n",
    "\n",
    "    \n",
    "CW = np.zeros((16, 16))\n",
    "CW[0,:]= np.array((0,0,0,0,0,0,0,0,0,0,0,0,0,0.0000000000000000000000000000000000000000000000000000000000000000000000000000000000000000000820604524144799,0.0000120585150153575,0.0000000000000000000000000000000000000000000000000000000000000000000000000000000000000000000000000000000000000000000000000000316436833811157))\n",
    "for i in range(15):\n",
    "    CW[i+1, :] = CW0[i, :]\n",
    "\n",
    "    \n",
    "CS = np.zeros((16, 16))\n",
    "CS[0,:]= np.array((0.974577996106766,0.151369805263473,0.00874880925953218,0.0262790907947637,0.0111281607429249,0.0891043051294382,0.125477587043249,0.0883182775274553,0.0371824197201174,0.0294092695284747,0.0000000000000000000000000000000000000510911446027435,0.0000000000000000000000000000000113982464440009,0.00758428705895781,0.00151636767747242,0.0000000000000000000000000000000000000000000000000123262013953524,0.000000000000000000000000000000000000000000000000000000000000000597486362181075))\n",
    "for i in range(15):\n",
    "    CS[i+1, :] = CS0[i, :]\n",
    "\n",
    "CO = np.zeros((16, 16))\n",
    "CO[0,:]= np.array((0.257847576361162,0.100135168376607,0.0458036773638843,0.127084549151753,0.187303683093508,0.257979214509792,0.193228849121415,0.336594916946786,0.309223290169635,0.070538522966953,0.152218422246435,0.113554851510519,0.0615771477785246,0.040429874099682,0.0373564987094767,0.00669781557624776))\n",
    "for i in range(15):\n",
    "    CO[i+1, :] = CO0[i, :]\n",
    "\n",
    "## matrix of total contacts\n",
    "C=CH+CW+CS+CO\n",
    "\n",
    "\n",
    "\n",
    "fig,aCF =  plt.subplots(2,2);\n",
    "aCF[0][0].pcolor(CH, cmap=plt.cm.get_cmap('GnBu', 10));\n",
    "aCF[0][1].pcolor(CW, cmap=plt.cm.get_cmap('GnBu', 10));\n",
    "aCF[1][0].pcolor(CS, cmap=plt.cm.get_cmap('GnBu', 10));\n",
    "aCF[1][1].pcolor(CO, cmap=plt.cm.get_cmap('GnBu', 10));"
   ]
  },
  {
   "cell_type": "code",
   "execution_count": 5,
   "metadata": {},
   "outputs": [
    {
     "name": "stdout",
     "output_type": "stream",
     "text": [
      "The basic reproductive ratio for these parameters is (1.319908017634234+0j)\n"
     ]
    }
   ],
   "source": [
    "beta  = 0.036692            # infection rate \n",
    "\n",
    "gE    = 1/5\n",
    "gIa   = 1./7                # recovery rate of asymptomatic infectives \n",
    "gIs   = 1./7                # recovery rate of symptomatic infectives \n",
    "alpha = 0.3                 # fraction of asymptomatic infectives \n",
    "fsa   = 0.2                 # the self-isolation parameter   \n",
    "fh    = 0\n",
    "gIh   = 1/14\n",
    "gIc   = 1/14\n",
    " \n",
    "sa    = 100*np.ones(M)      #  rate of additional/removal of population by birth etc\n",
    "sa[0]     = 1500            # birth\n",
    "sa[12:16] = -300            # mortality\n",
    "\n",
    "\n",
    "hh   = 0.1*np.ones(M)       # fraction which goes from Is to hospital\n",
    "cc   = 0.05*np.ones(M)      # fraction which goes from  hospital to ICU \n",
    "mm   = 0.4*np.ones(M)       # mortality from IC\n",
    "\n",
    "\n",
    "\n",
    "# initial conditions    \n",
    "Is_0 = np.zeros((M));  #Is_0[6:13]=8;  Is_0[2:6]=4; Is_0[13:16]=4\n",
    "\n",
    "Ia_0 = np.zeros((M));  Ia_0[6:13]=4;  Ia_0[2:6]=2; Ia_0[13:16]=2\n",
    "R_0  = np.zeros((M))\n",
    "E_0  = np.zeros((M))\n",
    "Ih_0  = np.zeros((M))\n",
    "Ic_0  = np.zeros((M))\n",
    "Im_0  = np.zeros((M))\n",
    "\n",
    "S_0  = Ni - (Ia_0 + Is_0 + R_0)\n",
    "\n",
    "\n",
    "# matrix for linearised dynamics\n",
    "L0 = np.zeros((M, M))\n",
    "L  = np.zeros((2*M, 2*M))\n",
    "\n",
    "for i in range(M):\n",
    "    for j in range(M):\n",
    "        L0[i,j]=C[i,j]*Ni[i]/Ni[j]\n",
    "\n",
    "L[0:M, 0:M]     =    alpha*beta/gIs*L0\n",
    "L[0:M, M:2*M]   = fsa*alpha*beta/gIs*L0\n",
    "L[M:2*M, 0:M]   =    ((1-alpha)*beta/gIs)*L0\n",
    "L[M:2*M, M:2*M] = fsa*((1-alpha)*beta/gIs)*L0\n",
    "\n",
    "\n",
    "r0 = np.max(np.linalg.eigvals(L))\n",
    "print(\"The basic reproductive ratio for these parameters is\", r0)"
   ]
  },
  {
   "cell_type": "code",
   "execution_count": 6,
   "metadata": {},
   "outputs": [
    {
     "data": {
      "text/plain": [
       "0.0"
      ]
     },
     "execution_count": 6,
     "metadata": {},
     "output_type": "execute_result"
    },
    {
     "data": {
      "image/png": "[encoded data removed]",
      "text/plain": [
       "<Figure size 800x640 with 1 Axes>"
      ]
     },
     "metadata": {},
     "output_type": "display_data"
    }
   ],
   "source": [
    "# duration of simulation and data file\n",
    "Tf=80;  Nf=2000;  \n",
    "\n",
    "\n",
    "\n",
    "# intantiate model\n",
    "parameters = {'alpha':alpha,'beta':beta, 'gIa':gIa,'gIs':gIs,\n",
    "              'gIh':gIh,'gIc':gIc,  'gE':gE,\n",
    "              'fsa':fsa, 'fh':fh, \n",
    "              'sa':sa, 'hh':hh, 'cc':cc, 'mm':mm}\n",
    "model = pyross.deterministic.SEI5R(parameters, M, Ni)\n",
    "\n",
    "\n",
    "\n",
    "# the contact structure is independent of time \n",
    "def contactMatrix(t):\n",
    "    return C\n",
    "# run model\n",
    "data=model.simulate(S_0, E_0, Ia_0, Is_0, Ih_0, Ic_0, Im_0, contactMatrix, Tf, Nf)\n",
    "\n",
    "\n",
    "t = data['t']; IC  = np.zeros((Nf))\n",
    "for i in range(1*M):\n",
    "        IC += data['X'][:,1*M+i]\n",
    "        \n",
    "\n",
    "        \n",
    "fig = plt.figure(num=None, figsize=(10, 8), dpi=80, facecolor='w', edgecolor='k')\n",
    "plt.rcParams.update({'font.size': 22})\n",
    "\n",
    "plt.plot(t, IC, '-', lw=4, color='#A60628', label='forecast', alpha=0.8)\n",
    "\n",
    " \n",
    "plt.legend(fontsize=26, loc='upper left'); plt.grid() \n",
    "plt.autoscale(enable=True, axis='x', tight=True)\n",
    "plt.ylabel('Infected individuals'); #plt.xlim(0, 40); plt.ylim(0, 4);\n",
    "#plt.savefig('/Users/rsingh/Desktop/2a.png', format='png', dpi=212)\n",
    "IC[0]"
   ]
  },
  {
   "cell_type": "code",
   "execution_count": 7,
   "metadata": {},
   "outputs": [
    {
     "data": {
      "text/plain": [
       "array([0., 0., 0., 0., 0., 0., 0., 0., 0., 0., 0., 0., 0., 0., 0., 0.])"
      ]
     },
     "execution_count": 7,
     "metadata": {},
     "output_type": "execute_result"
    }
   ],
   "source": [
    "E_0"
   ]
  }
 ],
 "metadata": {
  "kernelspec": {
   "display_name": "Python 3",
   "language": "python",
   "name": "python3"
  },
  "language_info": {
   "codemirror_mode": {
    "name": "ipython",
    "version": 3
   },
   "file_extension": ".py",
   "mimetype": "text/x-python",
   "name": "python",
   "nbconvert_exporter": "python",
   "pygments_lexer": "ipython3",
   "version": "3.7.3"
  }
 },
 "nbformat": 4,
 "nbformat_minor": 4
}
