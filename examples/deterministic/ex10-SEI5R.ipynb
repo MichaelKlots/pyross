{
 "cells": [
  {
   "cell_type": "markdown",
   "metadata": {},
   "source": [
    "We now extend SEIR model to:\n",
    "\n",
    "\\begin{align}\n",
    "\\dot{S_{i}}\t&=-\\lambda_{i}(t)S_{i}+\\sigma_{i}, \\\\\n",
    "\\dot{E}_{i}\t&=\\lambda_{i}(t)S_{i}-\\gamma_{E}E_{i},\\\\\n",
    "\\dot{I}_{i}^{a}\t&=\\alpha\\gamma_{E}E_{i}-\\gamma_{I^{a}}I_{i}^{a},\\\\\n",
    "\\dot{I}_{i}^{s}\t&=\\bar{\\alpha}\\gamma_{E}E_{i}-\\gamma_{I^{s}}I_{i}^{s},\\\\\n",
    "\\dot{I}_{i}^{h}\t&=h_{i}\\gamma_{I^{s}}I_{i}^{s}-\\gamma_{I^{h}}I_{i}^{h},\\\\\n",
    "\\dot{I}_{i}^{c}\t&=c_{i}\\gamma_{I^{s}}I_{i}^{h}-\\gamma_{I^{c}}I_{i}^{c},\\\\\n",
    "\\dot{I}_{i}^{m}\t&=m_{i}\\gamma_{I^{c}}I_{i}^{c},\\\\\n",
    "\\dot{R}_{i} &=\\gamma_{I^{a}}I_{i}^{a}+\\bar{h}_{i}\\gamma_{I^{s}}I_{i}^{s}+\\bar{c}_{i}\\gamma_{I^{h}}I_{i}^{h}+\\bar{m}_{i}\\gamma_{I^{c}}I_{i}^{c},\\\\\n",
    "\\dot{N}_{i}\t&=\\sigma_{i}-I_{i}^{m}.\n",
    "\\end{align}\n",
    "\n",
    "\n",
    "$\\lambda_{i}(t)=\\beta\\sum_{j=1}^{M}\\left(C_{ij}^{a}\\frac{I_{j}^{a}}{N_{j}}+C_{ij}^{s}\\frac{I_{j}^{s}}{N_{j}}+C_{ij}^{h}\\frac{I_{j}^{h}}{N_{j}}\\right)$.\n",
    "\n",
    "Here \n",
    "* $I^{a}$ : asymptomatic infectives\n",
    "* $I^{s}$ : symptomatic infectives\n",
    "* $I^{h}$ : hospitalized infectives\n",
    "* $I^{c}$ : ICU cases \n",
    "* $I^{m}$ : mortality\n",
    "* $\\bar{h}_{i}=1-h_{i}$ is the fraction of syptomatics who are hospitalized\n",
    "* $\\bar{c}_{i}=1-c_{i}$, is the fraction of hospitalizeds, who are in ICU\n",
    "* $\\bar{m}_{i}=1-m_{i}$, is the fraction of ICU which leads to mortality\n",
    "* $C_{ij}^{s}=f^{s}C_{ij}^{a}\\equiv f^{s}C_{ij}$  \n",
    "* $C_{ij}^{s}=f^{h}C_{ij}^{a}\\equiv f^{h}C_{ij}$. \n",
    "\n",
    "S ---> E ---> Ia, Is \n",
    "\n",
    "Ia ---> R\n",
    "\n",
    "Is ---> Ih, R\n",
    "\n",
    "Ih ---> Ic, R\n",
    "\n",
    "Ic ---> Im, R"
   ]
  },
  {
   "cell_type": "code",
   "execution_count": null,
   "metadata": {},
   "outputs": [],
   "source": []
  }
 ],
 "metadata": {
  "kernelspec": {
   "display_name": "Python 3",
   "language": "python",
   "name": "python3"
  },
  "language_info": {
   "codemirror_mode": {
    "name": "ipython",
    "version": 3
   },
   "file_extension": ".py",
   "mimetype": "text/x-python",
   "name": "python",
   "nbconvert_exporter": "python",
   "pygments_lexer": "ipython3",
   "version": "3.7.3"
  }
 },
 "nbformat": 4,
 "nbformat_minor": 4
}
