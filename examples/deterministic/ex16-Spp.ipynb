{
 "cells": [
  {
   "cell_type": "markdown",
   "metadata": {},
   "source": [
    "## Simulating any compartmental model using the `Spp` class\n",
    "\n",
    "In the present notebook, we show how (most) compartmenal models can be simulated using the `pyross.deterministic.Spp` class. We allow users to specify any number of epidemiological classes, as well as any linear or infectious coupling between them."
   ]
  },
  {
   "cell_type": "code",
   "execution_count": null,
   "metadata": {},
   "outputs": [],
   "source": [
    "%%capture\n",
    "## compile PyRoss for this notebook\n",
    "import os\n",
    "owd = os.getcwd()\n",
    "os.chdir('../../')\n",
    "%run setup.py install\n",
    "os.chdir(owd)"
   ]
  },
  {
   "cell_type": "code",
   "execution_count": null,
   "metadata": {},
   "outputs": [],
   "source": [
    "%matplotlib inline\n",
    "import numpy as np\n",
    "import pyross\n",
    "import matplotlib.pyplot as plt\n",
    "#from matplotlib import rc; rc('text', usetex=True)"
   ]
  },
  {
   "cell_type": "markdown",
   "metadata": {},
   "source": [
    "### The SIR model\n",
    "\n",
    "Below you will find the model-specification dictionary for the SIR model:"
   ]
  },
  {
   "cell_type": "code",
   "execution_count": null,
   "metadata": {},
   "outputs": [],
   "source": [
    "model_spec = {\n",
    "    \"classes\" : [\"S\", \"I\"],\n",
    "\n",
    "    \"S\" : {\n",
    "        \"linear\"    : [],\n",
    "        \"infection\" : [ [\"I\", \"-beta\"] ]\n",
    "    },\n",
    "\n",
    "    \"I\" : {\n",
    "        \"linear\"    : [ [\"I\", \"-gamma\"] ],\n",
    "        \"infection\" : [ [\"I\", \"beta\"] ]\n",
    "    }\n",
    "}\n",
    "\n"
   ]
  },
  {
   "cell_type": "markdown",
   "metadata": {},
   "source": [
    "This corresponds to\n",
    "\n",
    "$$\n",
    "\\begin{aligned}\n",
    "\\dot{S}_i & = - \\beta \\sum_\\nu C_{ij} \\frac{I_j}{N_j} S_i \\\\\n",
    "\\dot{I}_i & = \\beta \\sum_\\nu C_{ij} \\frac{I_j}{N_j} - \\gamma I_i \\\\\n",
    "\\dot{R}_i & = \\gamma I_i^\\mu\n",
    "\\end{aligned}\n",
    "$$\n",
    "\n",
    "Let's go through each component of the model specification step-by-step:\n",
    "\n",
    "-  The list `\"classes\" : [\"S\", \"I\", \"R\"]` defines the epidemiological\n",
    "classes of the model. <i>The order in which they are written are important</i>, as this ordering will have to be mainained if giving the initial conditions of the simulation as an array. Each model requires the presence of a susceptible class. This class\n",
    "will always be the first element of the list `classes`, regardless of whether it is labelled as `S` or not.\n",
    "- The dynamics of each class is defined by a key-value pair. Consider\n",
    "\n",
    "    <br>\n",
    "\n",
    "    ```json\n",
    "    \"E\" : {\n",
    "        \"linear\"    : [ [\"E\", \"-gammaE\"] ],\n",
    "        \"infection\" : [ [\"I\", \"betaI\"], [\"A\", \"betaA\"] ]\n",
    "    },\n",
    "    ```\n",
    "    \n",
    "    <br>\n",
    "    \n",
    "  - This reads out as:\n",
    "      $$\\dot{E}^\\mu = -\\gamma_E E + \\beta_I \\sum_\\nu C^I_{\\mu \\nu} \\frac{I^\\nu}{N^\\nu} S^\\mu + \\beta_A \\sum_\\nu C^A_{\\mu \\nu} \\frac{A^\\nu}{N^\\nu} S^\\mu.$$\n",
    "  - The linear terms for each epidemic class is defined by the lists of lists:\n",
    "  \n",
    "    <br>\n",
    "    \n",
    "    ```json\n",
    "    \"linear\"    : [ [\"E\", \"-gammaE\"] ]\n",
    "    ```\n",
    "    \n",
    "    <br>\n",
    "    \n",
    "    Eeach pair in `linear` corresponds to the linear coupling \n",
    "    with the class and the coupling constant respectively. So\n",
    "    `[\"E\", \"-gammaE\"]` corresponds to the term $-\\gamma_E E$ in\n",
    "    the equation for $\\dot{E}$. The minus sign in front of `gammaE`\n",
    "    signifies that the negative of the coefficient should be used.\n",
    "  - The infection terms are defined in a similar manner. Each pair\n",
    "    in `infection` corresponds to the non-linear coupling with $S$\n",
    "    and the coupling constant respectively. So `[\"I\", \"betaI\"]`\n",
    "    corresponds to the term $\\beta_I \\sum_\\nu C^I_{\\mu \\nu} \\frac{I^\\nu}{N^\\nu} S$."
   ]
  },
  {
   "cell_type": "markdown",
   "metadata": {},
   "source": [
    "Next, we define the parameter values:"
   ]
  },
  {
   "cell_type": "code",
   "execution_count": null,
   "metadata": {},
   "outputs": [],
   "source": [
    "parameters = {\n",
    "    'beta' : 0.3,\n",
    "    'gamma' : 0.1\n",
    "}"
   ]
  },
  {
   "cell_type": "markdown",
   "metadata": {},
   "source": [
    "The initial conditions can be defined in either of two ways. They can either be defined using a dictionary, where for each model class we have a corresponding 1D array of length $M$ (where $M$ is the number of age-groups), or a numpy array. The numpy array must have dimensions $M \\times (d-1)$, where $d$ is the number of model classes (so 3 for SIR, for example).\n",
    "\n",
    "If the initial conditions are provided as a dictionary, we are free to leave out one of the classes. In which case the initial conditions of the left out class will be inferred from the others."
   ]
  },
  {
   "cell_type": "code",
   "execution_count": null,
   "metadata": {},
   "outputs": [],
   "source": [
    "# Initial conditions as an array\n",
    "\n",
    "x0 = np.array([\n",
    "    999, 1000, 1000, # S\n",
    "    1,   0,    0,    # I\n",
    "])\n",
    "\n",
    "# Initial conditions as a dictionary\n",
    "\n",
    "x0 = {\n",
    "    # S will be inferred from I and R\n",
    "    'I' : [1, 0, 0],\n",
    "    'R' : [0, 0, 0]\n",
    "}"
   ]
  },
  {
   "cell_type": "code",
   "execution_count": null,
   "metadata": {},
   "outputs": [],
   "source": [
    "M = 3                \n",
    "Ni = 1000*np.ones(M)   \n",
    "N = np.sum(Ni) \n",
    "\n",
    "CM = np.array([\n",
    "    [1,   0.5, 0.1],\n",
    "    [0.5, 1,   0.5],\n",
    "    [0.1, 0.5, 1  ]\n",
    "], dtype=float)\n",
    "\n",
    "def contactMatrix(t):   \n",
    "    return CM\n",
    "\n",
    "# duration of simulation and data file\n",
    "Tf = 160;  Nt=160; \n",
    "\n",
    "model = pyross.deterministic.Spp(model_spec, parameters, M, Ni)\n",
    "\n",
    "# simulate model \n",
    "data = model.simulate(x0, contactMatrix, Tf, Nt)"
   ]
  },
  {
   "cell_type": "code",
   "execution_count": null,
   "metadata": {},
   "outputs": [],
   "source": [
    "# plot the data and obtain the epidemic curve\n",
    "S = np.sum(model.model_class_data('S', data), axis=1)\n",
    "I = np.sum(model.model_class_data('I', data), axis=1)\n",
    "R = np.sum(model.model_class_data('R', data), axis=1)\n",
    "t = data['t']\n",
    "\n",
    "fig = plt.figure(num=None, figsize=(10, 8), dpi=80, facecolor='w', edgecolor='k')\n",
    "plt.rcParams.update({'font.size': 22})\n",
    "\n",
    "plt.fill_between(t, 0, S/N, color=\"#348ABD\", alpha=0.3)\n",
    "plt.plot(t, S/N, '-', color=\"#348ABD\", label='$S$', lw=4)\n",
    "\n",
    "plt.fill_between(t, 0, I/N, color='#A60628', alpha=0.3)\n",
    "plt.plot(t, I/N, '-', color='#A60628', label='$I$', lw=4)\n",
    "\n",
    "plt.fill_between(t, 0, R/N, color=\"dimgrey\", alpha=0.3)\n",
    "plt.plot(t, R/N, '-', color=\"dimgrey\", label='$R$', lw=4)\n",
    "\n",
    "plt.legend(fontsize=26); plt.grid() \n",
    "plt.autoscale(enable=True, axis='x', tight=True)\n",
    "plt.ylabel('Fraction of compartment value')\n",
    "plt.xlabel('Days');"
   ]
  },
  {
   "cell_type": "markdown",
   "metadata": {},
   "source": [
    "### SEAIR model\n",
    "\n",
    "Let us now look at a more complicated example."
   ]
  },
  {
   "cell_type": "code",
   "execution_count": null,
   "metadata": {},
   "outputs": [],
   "source": [
    "model_spec = {\n",
    "    \"classes\" : [\"S\", \"E\", \"A\", \"Ia\", \"Is\"],\n",
    "\n",
    "    \"S\" : {\n",
    "        \"linear\"    : [],\n",
    "        \"infection\" : [ [\"A\", \"-betaA\"], [\"Ia\", \"-betaIa\"], [\"Is\", \"-betaIs\"] ]\n",
    "    },\n",
    "\n",
    "    \"E\" : {\n",
    "        \"linear\"    : [ [\"E\", \"-gammaE\"] ],\n",
    "        \"infection\" : [ [\"A\", \"betaA\"], [\"Ia\", \"betaIa\"], [\"Is\", \"betaIs\"] ]\n",
    "    },\n",
    "    \n",
    "    \"A\" : {\n",
    "        \"linear\"    : [ [\"E\", \"gammaE\"], [\"A\", \"-alphabar*gammaA\"], [\"A\", \"-alpha*gammaA\"] ],\n",
    "        \"infection\" : [ ]\n",
    "    },\n",
    "\n",
    "    \"Ia\" : {\n",
    "        \"linear\"    : [ [\"A\", \"alpha*gammaA\"],[\"Ia\", \"-gammaIa\"] ],\n",
    "        \"infection\" : [ ]\n",
    "    },\n",
    "    \n",
    "    \"Is\" : {\n",
    "        \"linear\"    : [ [\"A\", \"alphabar*gammaA\"], [\"Is\", \"-gammaIs\"] ],\n",
    "        \"infection\" : [ ]\n",
    "    }\n",
    "}\n",
    "\n",
    "gammaA = 0.2\n",
    "alpha = 0              # fraction of asymptomatic infectives\n",
    "\n",
    "parameters = {\n",
    "    'betaA' : 0.2,\n",
    "    'betaIa' : 0.2,\n",
    "    'betaIs' : 0.2,\n",
    "    'gammaE' : 0.04,\n",
    "    'alpha*gammaA' : alpha*gammaA,\n",
    "    'alphabar*gammaA' : (1 - alpha)*gammaA,\n",
    "    'gammaIa' : 0.1,\n",
    "    'gammaIs' : 0.1,\n",
    "}"
   ]
  },
  {
   "cell_type": "markdown",
   "metadata": {},
   "source": [
    "This corresponds to\n",
    "\n",
    "$$\n",
    "\\begin{aligned}\n",
    "\\dot{S}_i & = - \\lambda_i(t) S_i  \\\\\n",
    "\\dot{E}_i & = \\lambda_i(t) S_i - \\gamma_E E_i \\\\\n",
    "\\dot{A}_i & = \\gamma_E E_i - \\gamma_A A_i \\\\\n",
    "\\dot{I^a}_i & =  \\alpha \\gamma_A A  - \\gamma_I^a I^a_i \\\\\n",
    "\\dot{I^s}_i & =  (1 - \\alpha)\\gamma_A A  - \\gamma_I^s I^s_i \\\\\n",
    "\\dot{R}_i & = \\gamma_I^a I^a_i + \\gamma_I^s I^s_i\n",
    "\\end{aligned}\n",
    "$$\n",
    "\n",
    "where\n",
    "\n",
    "$$\n",
    "\\lambda_i(t) = \\sum_j C_{ij} \\left( \\beta_I^a  \\frac{I^a_j}{N_j} + \\beta_I^s  \\frac{I^s_j}{N_j} + \\beta_A  \\frac{A_j}{N_j}\\right).\n",
    "$$\n",
    "\n",
    "\n",
    "$$\n",
    "C_{ij}  \\beta_I^a  \\frac{I^a_j}{N_j}\n",
    "$$"
   ]
  },
  {
   "cell_type": "code",
   "execution_count": null,
   "metadata": {},
   "outputs": [],
   "source": [
    "M = 3                \n",
    "Ni = 10000*np.ones(M)   \n",
    "N = np.sum(Ni)        \n",
    "\n",
    "x0 = {\n",
    "    'E' : np.array([0,0,0]),\n",
    "    'A' : np.array([1,0,0]),\n",
    "    'Ia' : np.array([0,0,0]),\n",
    "    'Is' : np.array([0,0,0]),\n",
    "    'R' : np.array([0,0,0])\n",
    "}\n",
    "\n",
    "CM = np.array([\n",
    "    [1,   0.5, 0.1],\n",
    "    [0.5, 1,   0.5],\n",
    "    [0.1, 0.5, 1  ]\n",
    "], dtype=float)\n",
    "\n",
    "def contactMatrix(t):   \n",
    "    return CM\n",
    "\n",
    "# duration of simulation and data file\n",
    "Tf = 300;  Nt=161; \n",
    "\n",
    "model = pyross.deterministic.Spp(model_spec, parameters, M, Ni)\n",
    "\n",
    "# simulate model \n",
    "data = model.simulate(x0, contactMatrix, Tf, Nt)"
   ]
  },
  {
   "cell_type": "code",
   "execution_count": null,
   "metadata": {},
   "outputs": [],
   "source": [
    "# plot the data and obtain the epidemic curve\n",
    "\n",
    "t = data['t']\n",
    "\n",
    "fig = plt.figure(num=None, figsize=(10, 8), dpi=80, facecolor='w', edgecolor='k')\n",
    "plt.rcParams.update({'font.size': 22})\n",
    "\n",
    "for model_class in (model_spec['classes'] + ['R'] ):\n",
    "    Os = np.sum(model.model_class_data(model_class, data), axis=1)\n",
    "    plt.plot(t, Os/N, '-', label='$%s$' % model_class, lw=4)\n",
    "\n",
    "plt.legend(fontsize=26); plt.grid() \n",
    "plt.autoscale(enable=True, axis='x', tight=True)\n",
    "plt.ylabel('Fraction of compartment value')\n",
    "plt.xlabel('Days');"
   ]
  }
 ],
 "metadata": {
  "kernelspec": {
   "display_name": "Python 3",
   "language": "python",
   "name": "python3"
  },
  "language_info": {
   "codemirror_mode": {
    "name": "ipython",
    "version": 3
   },
   "file_extension": ".py",
   "mimetype": "text/x-python",
   "name": "python",
   "nbconvert_exporter": "python",
   "pygments_lexer": "ipython3",
   "version": "3.7.4"
  }
 },
 "nbformat": 4,
 "nbformat_minor": 4
}
