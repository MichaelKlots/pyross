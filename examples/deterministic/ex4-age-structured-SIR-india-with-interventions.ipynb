{
 "cells": [
  {
   "cell_type": "markdown",
   "metadata": {},
   "source": [
    "##  Age-structured SIR model for India with social distancing\n",
    "\n",
    "In example-4 we ran the age-structured SIR model for India with the parameter $\\beta$ fitted to case data. We can now examine the effect of interventions, **for an idealised best-case**. We assume that lockdown **instantaneously** and **completely** removes all social contacts from the spheres of workplace, schools, and others. The contact matrix, then, is time-dependent, whose form we take to be\n",
    "$$\n",
    "C_{ij}(t) = C_{ij} + u(t)(C^W_{ij} + C^S_{ij} + C^O_{ij}) \n",
    "$$\n",
    "where $u(t)$ is a control function given by\n",
    "$$\n",
    "u(t) = \\frac{1}{2}\\left[\\tanh\\left(\\frac{t-t_{\\text{on}}}{t_w}\\right)-\\tanh\\left(\\frac{t-t_{\\text{off}}}{t_w}\\right)\\right]\n",
    "$$\n",
    "This function has three parameters: the time at which the social distancing is implemented, $t_{\\text on}$, the time at which it is lifted $t_{\\text {off}}$ and the **lag** between implementation and compliance $t_w$. In the best-case scenario, we assume that this lag is less than day, or in other words, the lockdown acts  **instantaneously**. The function $u(t)$ is one in  window $t_{\\text on} \\leq t \\leq t_{\\text{off}}$ and zero outside. We can multiply this by a scale factor $0\\leq \\epsilon \\leq 1$ as a measure of the efficacy of the social distancing. The value $\\epsilon =1$ reflects complete compliance; the value $\\epsilon=0$ reflects zero compliance. In the best-scenario, we assume  $\\epsilon =1$ so there is no scale factor in the control function. \n",
    "\n",
    "We now numerically integrate as before, imposing controls of 21 days duration and lifting it afterwards. We also explore various other scenarios, with several periods of lockdown separated by periods of relaxation. The goal is to reduce the number of infectives. In the language of optimal control, our cost function is the number of infectives. We find that the 21 day lockdown will not reduce the number of infectives to a point where explicit contact tracing will be feasible. We take the number 10 to represent a point where social contact tracing may be feasible. This is dependent on region and the effectiveness with which such measures can be implemented. We find a longer lockdowns are needed to bring the number of infectives down to that level. "
   ]
  },
  {
   "cell_type": "code",
   "execution_count": 1,
   "metadata": {},
   "outputs": [],
   "source": [
    "%%capture\n",
    "## compile PyRoss for this notebook\n",
    "import os\n",
    "owd = os.getcwd()\n",
    "os.chdir('../../')\n",
    "%run setup.py install\n",
    "os.chdir(owd)"
   ]
  },
  {
   "cell_type": "code",
   "execution_count": 2,
   "metadata": {},
   "outputs": [],
   "source": [
    "%matplotlib inline\n",
    "import numpy as np\n",
    "import pyross\n",
    "import pandas as pd\n",
    "import matplotlib.pyplot as plt\n",
    "from scipy.io import loadmat\n",
    "MM = np.array((0,0,.2,.2,.2,.2,.2,.2,.4,.4,1.3,1.3,3.6,3.6,8,8))  ## mortality per 100"
   ]
  },
  {
   "cell_type": "code",
   "execution_count": 3,
   "metadata": {},
   "outputs": [],
   "source": [
    "## population and age classes\n",
    "M=16  ## number of age classes\n",
    "\n",
    "my_data = np.genfromtxt('../data/age_structures/India-2019.csv', delimiter=',', skip_header=1)\n",
    "aM, aF = my_data[:, 1], my_data[:, 2]\n",
    "\n",
    "Ni=aM+aF;   Ni=Ni[0:M];  N=np.sum(Ni)"
   ]
  },
  {
   "cell_type": "code",
   "execution_count": 4,
   "metadata": {},
   "outputs": [],
   "source": [
    "# contact matrices\n",
    "my_data = pd.read_excel('../data/contact_matrices_152_countries/MUestimates_home_1.xlsx', sheet_name='India',index_col=None)\n",
    "CH = np.array(my_data)\n",
    "\n",
    "my_data = pd.read_excel('../data/contact_matrices_152_countries/MUestimates_work_1.xlsx', sheet_name='India',index_col=None)\n",
    "CW = np.array(my_data)\n",
    "\n",
    "my_data = pd.read_excel('../data/contact_matrices_152_countries/MUestimates_school_1.xlsx', sheet_name='India',index_col=None)\n",
    "CS = np.array(my_data)\n",
    "\n",
    "my_data = pd.read_excel('../data/contact_matrices_152_countries/MUestimates_other_locations_1.xlsx', sheet_name='India',index_col=None)\n",
    "CO = np.array(my_data)\n",
    "\n",
    "my_data = pd.read_excel('../data/contact_matrices_152_countries/MUestimates_all_locations_1.xlsx', sheet_name='India',index_col=None)\n",
    "CA = np.array(my_data)\n",
    "C=CH+CW+CS+CO"
   ]
  },
  {
   "cell_type": "markdown",
   "metadata": {},
   "source": [
    "### One closure"
   ]
  },
  {
   "cell_type": "code",
   "execution_count": 5,
   "metadata": {},
   "outputs": [
    {
     "ename": "ValueError",
     "evalue": "Buffer has wrong number of dimensions (expected 1, got 2)",
     "output_type": "error",
     "traceback": [
      "\u001b[0;31m---------------------------------------------------------------------------\u001b[0m",
      "\u001b[0;31mValueError\u001b[0m                                Traceback (most recent call last)",
      "\u001b[0;32m<ipython-input-5-fe119151e28a>\u001b[0m in \u001b[0;36m<module>\u001b[0;34m\u001b[0m\n\u001b[1;32m     30\u001b[0m \u001b[0;31m# start simulation\u001b[0m\u001b[0;34m\u001b[0m\u001b[0;34m\u001b[0m\u001b[0;34m\u001b[0m\u001b[0m\n\u001b[1;32m     31\u001b[0m \u001b[0mTf\u001b[0m\u001b[0;34m=\u001b[0m\u001b[0;36m105.5\u001b[0m\u001b[0;34m;\u001b[0m  \u001b[0mNf\u001b[0m\u001b[0;34m=\u001b[0m\u001b[0;36m2000\u001b[0m\u001b[0;34m\u001b[0m\u001b[0;34m\u001b[0m\u001b[0m\n\u001b[0;32m---> 32\u001b[0;31m \u001b[0mdata\u001b[0m\u001b[0;34m=\u001b[0m\u001b[0mmodel\u001b[0m\u001b[0;34m.\u001b[0m\u001b[0msimulate\u001b[0m\u001b[0;34m(\u001b[0m\u001b[0mS_0\u001b[0m\u001b[0;34m,\u001b[0m \u001b[0mIa_0\u001b[0m\u001b[0;34m,\u001b[0m \u001b[0mIs_0\u001b[0m\u001b[0;34m,\u001b[0m \u001b[0mcontactMatrix\u001b[0m\u001b[0;34m,\u001b[0m \u001b[0mTf\u001b[0m\u001b[0;34m,\u001b[0m \u001b[0mNf\u001b[0m\u001b[0;34m)\u001b[0m\u001b[0;34m\u001b[0m\u001b[0;34m\u001b[0m\u001b[0m\n\u001b[0m",
      "\u001b[0;32mpyross/deterministic.pyx\u001b[0m in \u001b[0;36mpyross.deterministic.SIR.simulate\u001b[0;34m()\u001b[0m\n",
      "\u001b[0;32m~/software/anaconda/lib/python3.7/site-packages/scipy/integrate/odepack.py\u001b[0m in \u001b[0;36modeint\u001b[0;34m(func, y0, t, args, Dfun, col_deriv, full_output, ml, mu, rtol, atol, tcrit, h0, hmax, hmin, ixpr, mxstep, mxhnil, mxordn, mxords, printmessg, tfirst)\u001b[0m\n\u001b[1;32m    242\u001b[0m                              \u001b[0mfull_output\u001b[0m\u001b[0;34m,\u001b[0m \u001b[0mrtol\u001b[0m\u001b[0;34m,\u001b[0m \u001b[0matol\u001b[0m\u001b[0;34m,\u001b[0m \u001b[0mtcrit\u001b[0m\u001b[0;34m,\u001b[0m \u001b[0mh0\u001b[0m\u001b[0;34m,\u001b[0m \u001b[0mhmax\u001b[0m\u001b[0;34m,\u001b[0m \u001b[0mhmin\u001b[0m\u001b[0;34m,\u001b[0m\u001b[0;34m\u001b[0m\u001b[0;34m\u001b[0m\u001b[0m\n\u001b[1;32m    243\u001b[0m                              \u001b[0mixpr\u001b[0m\u001b[0;34m,\u001b[0m \u001b[0mmxstep\u001b[0m\u001b[0;34m,\u001b[0m \u001b[0mmxhnil\u001b[0m\u001b[0;34m,\u001b[0m \u001b[0mmxordn\u001b[0m\u001b[0;34m,\u001b[0m \u001b[0mmxords\u001b[0m\u001b[0;34m,\u001b[0m\u001b[0;34m\u001b[0m\u001b[0;34m\u001b[0m\u001b[0m\n\u001b[0;32m--> 244\u001b[0;31m                              int(bool(tfirst)))\n\u001b[0m\u001b[1;32m    245\u001b[0m     \u001b[0;32mif\u001b[0m \u001b[0moutput\u001b[0m\u001b[0;34m[\u001b[0m\u001b[0;34m-\u001b[0m\u001b[0;36m1\u001b[0m\u001b[0;34m]\u001b[0m \u001b[0;34m<\u001b[0m \u001b[0;36m0\u001b[0m\u001b[0;34m:\u001b[0m\u001b[0;34m\u001b[0m\u001b[0;34m\u001b[0m\u001b[0m\n\u001b[1;32m    246\u001b[0m         \u001b[0mwarning_msg\u001b[0m \u001b[0;34m=\u001b[0m \u001b[0m_msgs\u001b[0m\u001b[0;34m[\u001b[0m\u001b[0moutput\u001b[0m\u001b[0;34m[\u001b[0m\u001b[0;34m-\u001b[0m\u001b[0;36m1\u001b[0m\u001b[0;34m]\u001b[0m\u001b[0;34m]\u001b[0m \u001b[0;34m+\u001b[0m \u001b[0;34m\" Run with full_output = 1 to get quantitative information.\"\u001b[0m\u001b[0;34m\u001b[0m\u001b[0;34m\u001b[0m\u001b[0m\n",
      "\u001b[0;32mpyross/deterministic.pyx\u001b[0m in \u001b[0;36mpyross.deterministic.SIR.simulate.rhs0\u001b[0;34m()\u001b[0m\n",
      "\u001b[0;32mpyross/deterministic.pyx\u001b[0m in \u001b[0;36mpyross.deterministic.SIR.rhs\u001b[0;34m()\u001b[0m\n",
      "\u001b[0;31mValueError\u001b[0m: Buffer has wrong number of dimensions (expected 1, got 2)"
     ]
    }
   ],
   "source": [
    "beta  = 0.01646692       # contact rate parameter\n",
    "gIa   = 1./7            # recovery rate of asymptomatic infectives \n",
    "gIs   = 1./7            # recovery rate of symptomatic infectives \n",
    "alpha = 0.              # asymptomatic fraction\n",
    "fsa   = 1               # suppresion of contact by symptomatics\n",
    "\n",
    "\n",
    "# initial conditions    \n",
    "Is_0 = np.zeros((M));  Is_0[6:13]=3;  Is_0[2:6]=1\n",
    "Ia_0 = np.zeros((M))\n",
    "R_0  = np.zeros((M))\n",
    "S_0  = Ni - (Ia_0 + Is_0 + R_0)\n",
    "\n",
    "\n",
    "parameters = {'alpha':alpha,'beta':beta, 'gIa':gIa,'gIs':gIs,'fsa':fsa}\n",
    "model = pyross.deterministic.SIR(parameters, M, Ni)\n",
    "\n",
    "\n",
    "# the contact matrix is time-dependent\n",
    "def contactMatrix(t):\n",
    "    if t<21:\n",
    "        xx = C\n",
    "    elif 21<=t<42:\n",
    "        xx = CH\n",
    "    else:\n",
    "        xx = C\n",
    "    return xx\n",
    "\n",
    "\n",
    "# start simulation\n",
    "Tf=105.5;  Nf=2000 \n",
    "data=model.simulate(S_0, Ia_0, Is_0, contactMatrix, Tf, Nf)"
   ]
  },
  {
   "cell_type": "code",
   "execution_count": null,
   "metadata": {},
   "outputs": [],
   "source": [
    "IC  = np.zeros((Nf))\n",
    "for i in range(M):\n",
    "        IC += data['X'][:,2*M+i] \n",
    "t = data['t']\n",
    "fig = plt.figure(num=None, figsize=(28, 8), dpi=80, facecolor='w', edgecolor='k')\n",
    "plt.rcParams.update({'font.size': 26})\n",
    "\n",
    "plt.plot(t, IC, '-', lw=4, color='#A60628', label='forecast', alpha=0.8)\n",
    "plt.xticks(np.arange(0, 200, 14),('4 Mar','18 Mar','1 Apr','15 Apr','29 Apr','13 May','27 May','10Jun'));\n",
    "t1=int(Nf/15)\n",
    "plt.fill_between(t[3*t1:6*t1], 0, 6000, color=\"#A60628\", alpha=0.2)\n",
    "\n",
    "my_data = np.genfromtxt('../data/covid-cases/india.txt', delimiter='', skip_header=6)\n",
    "day, cases = my_data[:,0], my_data[:,3] - my_data[:,1]\n",
    "\n",
    "plt.plot(cases, 'o-', lw=4, color='#348ABD', ms=16, label='data', alpha=0.5)\n",
    "plt.legend(fontsize=26, loc='upper left'); plt.grid() \n",
    "plt.autoscale(enable=True, axis='x', tight=True)\n",
    "plt.ylabel('Infected individuals'); plt.ylim(0, 6000); plt.xlim(0, 105);\n",
    "plt.savefig('/Users/rsingh/Desktop/4a.png', format='png', dpi=200)"
   ]
  },
  {
   "cell_type": "code",
   "execution_count": null,
   "metadata": {},
   "outputs": [],
   "source": [
    "m1 = .01*MM*(data['X'][0,0:M]-data['X'][-1,0:M])\n",
    "np.sum(m1)"
   ]
  },
  {
   "cell_type": "markdown",
   "metadata": {},
   "source": [
    "### Two closures"
   ]
  },
  {
   "cell_type": "code",
   "execution_count": null,
   "metadata": {},
   "outputs": [],
   "source": [
    "def contactMatrix(t):\n",
    "    if t<21:\n",
    "        xx = C\n",
    "    elif 21<=t<42:\n",
    "        xx = CH\n",
    "    elif 42<=t<47:\n",
    "        xx = C\n",
    "    elif 47<=t<75:\n",
    "        xx = CH\n",
    "    else:\n",
    "        xx = C\n",
    "    return xx\n",
    "\n",
    "# start simulation\n",
    "Tf=105;  Nf=2000 \n",
    "data=model.simulate(S_0, Ia_0, Is_0, contactMatrix, Tf, Nf)"
   ]
  },
  {
   "cell_type": "code",
   "execution_count": null,
   "metadata": {},
   "outputs": [],
   "source": [
    "IC  = np.zeros((Nf))\n",
    "SC  = np.zeros((Nf))\n",
    "\n",
    "for i in range(M):\n",
    "        IC += data['X'][:,2*M+i] \n",
    "        SC += data['X'][:,0*M+i] \n",
    "\n",
    "fig=plt.figure(num=None, figsize=(28, 8), dpi=80, facecolor='w', edgecolor='k')\n",
    "plt.rcParams.update({'font.size': 26})\n",
    "\n",
    "plt.plot(t, IC, '-', lw=4, color='#A60628', label='forecast', alpha=0.8)\n",
    "plt.xticks(np.arange(0, 200, 14),('4 Mar','18 Mar','1 Apr','15 Apr','29 Apr','13 May','27 May','10Jun'));\n",
    "\n",
    "t1=int(Nf/(15))\n",
    "plt.fill_between(t[3*t1:6*t1], 0, 600, color=\"#A60628\", alpha=0.2)\n",
    "plt.fill_between(t[6*t1+108:10*t1+108], 0, 600, color=\"#A60628\", alpha=0.2)\n",
    "\n",
    "my_data = np.genfromtxt('../data/covid-cases/india.txt', delimiter='', skip_header=6)\n",
    "day, cases = my_data[:,0], my_data[:,3] - my_data[:,1]\n",
    "\n",
    "plt.plot(cases, 'o-', lw=4, color='#348ABD', ms=16, label='data', alpha=0.5)\n",
    "plt.legend(fontsize=26); plt.grid() \n",
    "plt.autoscale(enable=True, axis='x', tight=True)\n",
    "plt.ylabel('Infected individuals'); plt.xlim(0, 105); plt.ylim(0, 600);\n",
    "plt.savefig('/Users/rsingh/Desktop/4b.png', format='png', dpi=200)"
   ]
  },
  {
   "cell_type": "code",
   "execution_count": null,
   "metadata": {},
   "outputs": [],
   "source": [
    "m1 = .01*MM*(data['X'][0,0:M]-data['X'][-1,0:M])\n",
    "np.sum(m1)\n",
    "SC[-1]-SC[0]\n",
    "cases"
   ]
  },
  {
   "cell_type": "markdown",
   "metadata": {},
   "source": [
    "## Three closures"
   ]
  },
  {
   "cell_type": "code",
   "execution_count": null,
   "metadata": {},
   "outputs": [],
   "source": [
    "def contactMatrix(t):\n",
    "    if t<21:\n",
    "        xx = C\n",
    "    elif 21<=t<42:\n",
    "        xx = CH\n",
    "    elif 42<=t<47:\n",
    "        xx = C\n",
    "    elif 47<=t<75:\n",
    "        xx = CH\n",
    "    elif 75<=t<80:\n",
    "        xx = C\n",
    "    elif 80<=t<98:\n",
    "        xx = CH\n",
    "    else:\n",
    "        xx = C\n",
    "    return xx\n",
    "\n",
    "\n",
    "# start simulation\n",
    "Tf=105;  Nf=2000;  \n",
    "data=model.simulate(S_0, Ia_0, Is_0, contactMatrix, Tf, Nf)"
   ]
  },
  {
   "cell_type": "code",
   "execution_count": null,
   "metadata": {},
   "outputs": [],
   "source": [
    "IC  = np.zeros((Nf))\n",
    "SC  = np.zeros((Nf))\n",
    "\n",
    "for i in range(M):\n",
    "        IC += data['X'][:,2*M+i] \n",
    "        SC += data['X'][:,0*M+i] \n",
    "\n",
    "fig=plt.figure(num=None, figsize=(28, 8), dpi=80, facecolor='w', edgecolor='k')\n",
    "plt.rcParams.update({'font.size': 26})\n",
    "\n",
    "plt.plot(t, IC, '-', lw=4, color='#A60628', label='forecast', alpha=0.8)\n",
    "plt.xticks(np.arange(0, 200, 14),('4 Mar','18 Mar','1 Apr','15 Apr','29 Apr','13 May','27 May','10Jun'));\n",
    "\n",
    "t1=int(Nf/(15))\n",
    "plt.fill_between(t[3*t1:6*t1], 0, 600, color=\"#A60628\", alpha=0.2)\n",
    "plt.fill_between(t[6*t1+96:10*t1+96], 0, 600, color=\"#A60628\", alpha=0.2)\n",
    "plt.fill_between(t[10*t1+190:11*t1+400], 0, 600, color=\"#A60628\", alpha=0.2)\n",
    "\n",
    "\n",
    "my_data = np.genfromtxt('../data/covid-cases/india.txt', delimiter='', skip_header=6)\n",
    "day, cases = my_data[:,0], my_data[:,3] - my_data[:,1]\n",
    "\n",
    "plt.plot(cases, 'o-', lw=4, color='#348ABD', ms=16, label='data', alpha=0.5)\n",
    "plt.legend(fontsize=26, loc='upper left'); plt.grid() \n",
    "plt.autoscale(enable=True, axis='x', tight=True)\n",
    "plt.ylabel('Infected individuals'); plt.xlim(0, 105); plt.ylim(0, 600);\n",
    "plt.savefig('/Users/rsingh/Desktop/4b.png', format='png', dpi=200)"
   ]
  },
  {
   "cell_type": "markdown",
   "metadata": {},
   "source": [
    "### One long closure"
   ]
  },
  {
   "cell_type": "code",
   "execution_count": null,
   "metadata": {},
   "outputs": [],
   "source": [
    "def contactMatrix(t):\n",
    "    if t<21:\n",
    "        xx = C\n",
    "    elif 21<=t<70:\n",
    "        xx = CH\n",
    "    else:\n",
    "        xx = C\n",
    "    return xx\n",
    "\n",
    "\n",
    "# start simulation\n",
    "Tf=84;  Nf=2000;  \n",
    "data=model.simulate(S_0, Ia_0, Is_0, contactMatrix, Tf, Nf)"
   ]
  },
  {
   "cell_type": "code",
   "execution_count": null,
   "metadata": {},
   "outputs": [],
   "source": [
    "IC  = np.zeros((Nf))\n",
    "SC  = np.zeros((Nf))\n",
    "\n",
    "for i in range(M):\n",
    "        IC += data['X'][:,2*M+i] \n",
    "        SC += data['X'][:,0*M+i] \n",
    "\n",
    "t = data['t']; t1=int(Nf/(12))\n",
    "fig = plt.figure(num=None, figsize=(28, 8), dpi=80, facecolor='w', edgecolor='k')\n",
    "plt.rcParams.update({'font.size': 26})\n",
    "\n",
    "plt.plot(t[0:10*t1], IC[0:10*t1], '-', lw=4, color='#A60628', label='forecast', alpha=0.6)\n",
    "\n",
    "plt.plot(t[10*t1:], IC[10*t1:], ':', lw=4, color='dimgrey', alpha=0.8)\n",
    "\n",
    "plt.xticks(np.arange(0, 200, 14),('4 Mar','18 Mar','1 Apr','15 Apr','29 Apr','13 May','27 May','10Jun'));\n",
    "\n",
    "plt.fill_between(t[3*t1+2:10*t1+5], 0, 600, color=\"#A60628\", alpha=0.2)\n",
    "#plt.fill_between(t[10*t1+10:14*t1+70], 0, 600, color=\"#A60628\", alpha=0.2)\n",
    "\n",
    "my_data = np.genfromtxt('../data/covid-cases/india.txt', delimiter='', skip_header=6)\n",
    "day, cases = my_data[:,0], my_data[:,3]- my_data[:,1]\n",
    "\n",
    "plt.plot(cases, 'o-', lw=4, color='#348ABD', ms=16, label='data', alpha=0.5)\n",
    "plt.legend(fontsize=26, loc='upper left'); plt.grid() \n",
    "\n",
    "plt.autoscale(enable=True, axis='x', tight=True)\n",
    "plt.ylabel('Infected individuals'); plt.ylim(0, 600); plt.xlim(0, 105);\n",
    "plt.savefig('/Users/rsingh/Desktop/4d.png', format='png', dpi=200)\n",
    "#IC[-1]"
   ]
  },
  {
   "cell_type": "code",
   "execution_count": null,
   "metadata": {},
   "outputs": [],
   "source": []
  }
 ],
 "metadata": {
  "kernelspec": {
   "display_name": "Python 3",
   "language": "python",
   "name": "python3"
  },
  "language_info": {
   "codemirror_mode": {
    "name": "ipython",
    "version": 3
   },
   "file_extension": ".py",
   "mimetype": "text/x-python",
   "name": "python",
   "nbconvert_exporter": "python",
   "pygments_lexer": "ipython3",
   "version": "3.7.3"
  }
 },
 "nbformat": 4,
 "nbformat_minor": 2
}
