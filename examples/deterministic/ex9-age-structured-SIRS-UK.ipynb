{
 "cells": [
  {
   "cell_type": "markdown",
   "metadata": {},
   "source": [
    "##  Age-structured SIR model for India\n",
    "\n",
    "We can now generalise the model in example-2 to more than two age groups. Assume that the population has been partitioned into  $i=1,\\ldots, M$ age groups and that we have available the $M\\times M$ contact matrix $C_{ij}$. These are a sum of contributions from contacts at home, workplace, schools and all other public spheres. Using superscripts $H$, $W$, $S$ and $O$ for each of these, we write the contact matrix as\n",
    "$$\n",
    "C_{ij} = C^H_{ij} + C^W_{ij} + C^S_{ij} + C^O_{ij}\n",
    "$$\n",
    "We read in these contact matrices from the data sets provided in the paper *Projecting social contact matrices in 152 countries using contact surveys and demographic data* by Prem et al, sum them to obtain the total contact matrix. We also read in the age distribution of India obtained from the *Population pyramid* website. The infection parameter $\\beta$ is unknown, so we fit it to the case data till 25th March. The hope is that this will take into account the fact that there are, in reality, asymptomatic infectives, and that the symptomatic cases are an understimate. Also, the model is being applied to the whole of India, where the well-mixedness of the population, implicit in a non-spatial model, breaks down. This type of fitting gets more accurate, though, when it is applied to more local regions, where the well-mixedness is a better assumption. We then run the simulation, assuming all initial cases are symptomatic, and remain so. This will be an underestimate in the initial stages but once the epidemic enters the non-linear phase, there will be must less sensitivity to the initial condition. At the end of the simulation, we extract the number of susceptibles remaining in each age group, and the difference with the initial number of susceptibles is the total number that are infected. We multiply this with mortality data from China to obtain mortality estimates. "
   ]
  },
  {
   "cell_type": "code",
   "execution_count": 26,
   "metadata": {},
   "outputs": [
    {
     "ename": "CompileError",
     "evalue": "pyross/deterministic.pyx",
     "output_type": "error",
     "traceback": [
      "\u001b[0;31m---------------------------------------------------------------------------\u001b[0m",
      "\u001b[0;31mCompileError\u001b[0m                              Traceback (most recent call last)",
      "\u001b[0;32m~/Dropbox/repos/github/pyross/setup.py\u001b[0m in \u001b[0;36m<module>\u001b[0;34m\u001b[0m\n\u001b[1;32m     64\u001b[0m         \u001b[0mextra_link_args\u001b[0m\u001b[0;34m=\u001b[0m\u001b[0mompArgs\u001b[0m\u001b[0;34m\u001b[0m\u001b[0;34m\u001b[0m\u001b[0m\n\u001b[1;32m     65\u001b[0m         )],\n\u001b[0;32m---> 66\u001b[0;31m         \u001b[0mcompiler_directives\u001b[0m\u001b[0;34m=\u001b[0m\u001b[0;34m{\u001b[0m\u001b[0;34m\"language_level\"\u001b[0m\u001b[0;34m:\u001b[0m \u001b[0msys\u001b[0m\u001b[0;34m.\u001b[0m\u001b[0mversion_info\u001b[0m\u001b[0;34m[\u001b[0m\u001b[0;36m0\u001b[0m\u001b[0;34m]\u001b[0m\u001b[0;34m}\u001b[0m\u001b[0;34m,\u001b[0m\u001b[0;34m\u001b[0m\u001b[0;34m\u001b[0m\u001b[0m\n\u001b[0m\u001b[1;32m     67\u001b[0m         ),\n\u001b[1;32m     68\u001b[0m     \u001b[0mlibraries\u001b[0m\u001b[0;34m=\u001b[0m\u001b[0;34m[\u001b[0m\u001b[0;34m]\u001b[0m\u001b[0;34m,\u001b[0m\u001b[0;34m\u001b[0m\u001b[0;34m\u001b[0m\u001b[0m\n",
      "\u001b[0;32m~/software/anaconda/lib/python3.7/site-packages/Cython/Build/Dependencies.py\u001b[0m in \u001b[0;36mcythonize\u001b[0;34m(module_list, exclude, nthreads, aliases, quiet, force, language, exclude_failures, **options)\u001b[0m\n\u001b[1;32m   1094\u001b[0m     \u001b[0;32mif\u001b[0m \u001b[0;32mnot\u001b[0m \u001b[0mnthreads\u001b[0m\u001b[0;34m:\u001b[0m\u001b[0;34m\u001b[0m\u001b[0;34m\u001b[0m\u001b[0m\n\u001b[1;32m   1095\u001b[0m         \u001b[0;32mfor\u001b[0m \u001b[0margs\u001b[0m \u001b[0;32min\u001b[0m \u001b[0mto_compile\u001b[0m\u001b[0;34m:\u001b[0m\u001b[0;34m\u001b[0m\u001b[0;34m\u001b[0m\u001b[0m\n\u001b[0;32m-> 1096\u001b[0;31m             \u001b[0mcythonize_one\u001b[0m\u001b[0;34m(\u001b[0m\u001b[0;34m*\u001b[0m\u001b[0margs\u001b[0m\u001b[0;34m)\u001b[0m\u001b[0;34m\u001b[0m\u001b[0;34m\u001b[0m\u001b[0m\n\u001b[0m\u001b[1;32m   1097\u001b[0m \u001b[0;34m\u001b[0m\u001b[0m\n\u001b[1;32m   1098\u001b[0m     \u001b[0;32mif\u001b[0m \u001b[0mexclude_failures\u001b[0m\u001b[0;34m:\u001b[0m\u001b[0;34m\u001b[0m\u001b[0;34m\u001b[0m\u001b[0m\n",
      "\u001b[0;32m~/software/anaconda/lib/python3.7/site-packages/Cython/Build/Dependencies.py\u001b[0m in \u001b[0;36mcythonize_one\u001b[0;34m(pyx_file, c_file, fingerprint, quiet, options, raise_on_failure, embedded_metadata, full_module_name, progress)\u001b[0m\n\u001b[1;32m   1217\u001b[0m     \u001b[0;32mif\u001b[0m \u001b[0many_failures\u001b[0m\u001b[0;34m:\u001b[0m\u001b[0;34m\u001b[0m\u001b[0;34m\u001b[0m\u001b[0m\n\u001b[1;32m   1218\u001b[0m         \u001b[0;32mif\u001b[0m \u001b[0mraise_on_failure\u001b[0m\u001b[0;34m:\u001b[0m\u001b[0;34m\u001b[0m\u001b[0;34m\u001b[0m\u001b[0m\n\u001b[0;32m-> 1219\u001b[0;31m             \u001b[0;32mraise\u001b[0m \u001b[0mCompileError\u001b[0m\u001b[0;34m(\u001b[0m\u001b[0;32mNone\u001b[0m\u001b[0;34m,\u001b[0m \u001b[0mpyx_file\u001b[0m\u001b[0;34m)\u001b[0m\u001b[0;34m\u001b[0m\u001b[0;34m\u001b[0m\u001b[0m\n\u001b[0m\u001b[1;32m   1220\u001b[0m         \u001b[0;32melif\u001b[0m \u001b[0mos\u001b[0m\u001b[0;34m.\u001b[0m\u001b[0mpath\u001b[0m\u001b[0;34m.\u001b[0m\u001b[0mexists\u001b[0m\u001b[0;34m(\u001b[0m\u001b[0mc_file\u001b[0m\u001b[0;34m)\u001b[0m\u001b[0;34m:\u001b[0m\u001b[0;34m\u001b[0m\u001b[0;34m\u001b[0m\u001b[0m\n\u001b[1;32m   1221\u001b[0m             \u001b[0mos\u001b[0m\u001b[0;34m.\u001b[0m\u001b[0mremove\u001b[0m\u001b[0;34m(\u001b[0m\u001b[0mc_file\u001b[0m\u001b[0;34m)\u001b[0m\u001b[0;34m\u001b[0m\u001b[0;34m\u001b[0m\u001b[0m\n",
      "\u001b[0;31mCompileError\u001b[0m: pyross/deterministic.pyx"
     ]
    }
   ],
   "source": [
    "%%capture\n",
    "## compile PyRoss for this notebook\n",
    "import os\n",
    "owd = os.getcwd()\n",
    "os.chdir('../../')\n",
    "%run setup.py install\n",
    "os.chdir(owd)"
   ]
  },
  {
   "cell_type": "code",
   "execution_count": 16,
   "metadata": {},
   "outputs": [],
   "source": [
    "%matplotlib inline\n",
    "import numpy as np\n",
    "import pyross\n",
    "import pandas as pd\n",
    "import matplotlib.pyplot as plt"
   ]
  },
  {
   "cell_type": "code",
   "execution_count": 17,
   "metadata": {},
   "outputs": [],
   "source": [
    "M=16  # number of age groups\n",
    "\n",
    "# load age structure data\n",
    "my_data = np.genfromtxt('../data/age_structures/UK.csv', delimiter=',', skip_header=1)\n",
    "aM, aF = my_data[:, 1], my_data[:, 2]\n",
    "\n",
    "# set age groups\n",
    "Ni=aM+aF;   Ni=Ni[0:M];  N=np.sum(Ni)"
   ]
  },
  {
   "cell_type": "code",
   "execution_count": 25,
   "metadata": {},
   "outputs": [
    {
     "data": {
      "image/png": "[encoded data removed]",
      "text/plain": [
       "<Figure size 432x288 with 4 Axes>"
      ]
     },
     "metadata": {
      "needs_background": "light"
     },
     "output_type": "display_data"
    }
   ],
   "source": [
    "# contact matrices\n",
    "my_data = pd.read_excel('../data/contact_matrices_152_countries/MUestimates_home_2.xlsx', sheet_name='United Kingdom of Great Britain')\n",
    "CH0 = np.array(my_data)\n",
    "\n",
    "my_data = pd.read_excel('../data/contact_matrices_152_countries/MUestimates_work_2.xlsx', sheet_name='United Kingdom of Great Britain',index_col=None)\n",
    "CW0 = np.array(my_data)\n",
    "\n",
    "my_data = pd.read_excel('../data/contact_matrices_152_countries/MUestimates_school_2.xlsx', sheet_name='United Kingdom of Great Britain',index_col=None)\n",
    "CS0 = np.array(my_data)\n",
    "\n",
    "my_data = pd.read_excel('../data/contact_matrices_152_countries/MUestimates_other_locations_2.xlsx', sheet_name='United Kingdom of Great Britain',index_col=None)\n",
    "CO0 = np.array(my_data)\n",
    "\n",
    "CH = np.zeros((16, 16))\n",
    "CH[0,:]= np.array((0.478812799633172, 0.55185413960287,0.334323605154544,0.132361228266194,0.138531587861408,0.281604887066586,0.406440258772792,0.493947983343078,0.113301080935514,0.0746826413664804,0.0419640342896305,0.0179831987029717,0.00553694264516568,0.00142187285266089,0,0.000505582193632659))\n",
    "for i in range(15):\n",
    "    CH[i+1, :] = CH0[i, :]\n",
    "\n",
    "    \n",
    "CW = np.zeros((16, 16))\n",
    "CW[0,:]= np.array((0,0,0,0,0,0,0,0,0,0,0,0,0,0.0000000000000000000000000000000000000000000000000000000000000000000000000000000000000000000820604524144799,0.0000120585150153575,0.0000000000000000000000000000000000000000000000000000000000000000000000000000000000000000000000000000000000000000000000000000316436833811157))\n",
    "for i in range(15):\n",
    "    CW[i+1, :] = CW0[i, :]\n",
    "\n",
    "    \n",
    "CS = np.zeros((16, 16))\n",
    "CS[0,:]= np.array((0.974577996106766,0.151369805263473,0.00874880925953218,0.0262790907947637,0.0111281607429249,0.0891043051294382,0.125477587043249,0.0883182775274553,0.0371824197201174,0.0294092695284747,0.0000000000000000000000000000000000000510911446027435,0.0000000000000000000000000000000113982464440009,0.00758428705895781,0.00151636767747242,0.0000000000000000000000000000000000000000000000000123262013953524,0.000000000000000000000000000000000000000000000000000000000000000597486362181075))\n",
    "for i in range(15):\n",
    "    CS[i+1, :] = CS0[i, :]\n",
    "\n",
    "CO = np.zeros((16, 16))\n",
    "CO[0,:]= np.array((0.257847576361162,0.100135168376607,0.0458036773638843,0.127084549151753,0.187303683093508,0.257979214509792,0.193228849121415,0.336594916946786,0.309223290169635,0.070538522966953,0.152218422246435,0.113554851510519,0.0615771477785246,0.040429874099682,0.0373564987094767,0.00669781557624776))\n",
    "for i in range(15):\n",
    "    CO[i+1, :] = CO0[i, :]\n",
    "\n",
    "## matrix of total contacts\n",
    "C=CH+CW+CS+CO\n",
    "\n",
    "\n",
    "\n",
    "fig,aCF =  plt.subplots(2,2);\n",
    "aCF[0][0].pcolor(CH, cmap=plt.cm.get_cmap('GnBu', 10));\n",
    "aCF[0][1].pcolor(CW, cmap=plt.cm.get_cmap('GnBu', 10));\n",
    "aCF[1][0].pcolor(CS, cmap=plt.cm.get_cmap('GnBu', 10));\n",
    "aCF[1][1].pcolor(CO, cmap=plt.cm.get_cmap('GnBu', 10));"
   ]
  },
  {
   "cell_type": "code",
   "execution_count": 19,
   "metadata": {},
   "outputs": [
    {
     "name": "stdout",
     "output_type": "stream",
     "text": [
      "The basic reproductive ratio for these parameters is (1.3462694204918029+0j)\n"
     ]
    }
   ],
   "source": [
    "beta  = 0.01646692       # infection rate \n",
    "gIa   = 1./7             # recovery rate of asymptomatic infectives \n",
    "gIs   = 1./7             # recovery rate of symptomatic infectives \n",
    "alpha = 0.               # fraction of asymptomatic infectives \n",
    "fsa   = 1                # the self-isolation parameter   \n",
    "    \n",
    "    \n",
    "# initial conditions    \n",
    "Is_0 = np.zeros((M));  Is_0[6:13]=3;  Is_0[2:6]=1\n",
    "\n",
    "Ia_0 = np.zeros((M))\n",
    "R_0  = np.zeros((M))\n",
    "S_0  = Ni - (Ia_0 + Is_0 + R_0)\n",
    "\n",
    "\n",
    "# matrix for linearised dynamics\n",
    "L0 = np.zeros((M, M))\n",
    "L  = np.zeros((2*M, 2*M))\n",
    "\n",
    "for i in range(M):\n",
    "    for j in range(M):\n",
    "        L0[i,j]=C[i,j]*Ni[i]/Ni[j]\n",
    "\n",
    "L[0:M, 0:M]     =    alpha*beta/gIs*L0\n",
    "L[0:M, M:2*M]   = fsa*alpha*beta/gIs*L0\n",
    "L[M:2*M, 0:M]   =    ((1-alpha)*beta/gIs)*L0\n",
    "L[M:2*M, M:2*M] = fsa*((1-alpha)*beta/gIs)*L0\n",
    "\n",
    "\n",
    "r0 = np.max(np.linalg.eigvals(L))\n",
    "print(\"The basic reproductive ratio for these parameters is\", r0)"
   ]
  },
  {
   "cell_type": "code",
   "execution_count": null,
   "metadata": {},
   "outputs": [],
   "source": [
    "# duration of simulation and data file\n",
    "Tf=41;  Nf=2000;  \n",
    "\n",
    "# the contact structure is independent of time \n",
    "def contactMatrix(t):\n",
    "    return C\n",
    "\n",
    "# intantiate model\n",
    "parameters = {'alpha':alpha,'beta':beta, 'gIa':gIa,'gIs':gIs,'fsa':fsa}\n",
    "model = pyross.deterministic.SIR(parameters, M, Ni)\n",
    "\n",
    "\n",
    "# run model\n",
    "data=model.simulate(S_0, Ia_0, Is_0, contactMatrix, Tf, Nf)"
   ]
  },
  {
   "cell_type": "code",
   "execution_count": null,
   "metadata": {},
   "outputs": [],
   "source": [
    "t = data['t']; IC  = np.zeros((Nf))\n",
    "for i in range(M):\n",
    "        IC += data['X'][:,2*M+i]\n",
    "        \n",
    "\n",
    "        \n",
    "fig = plt.figure(num=None, figsize=(10, 8), dpi=80, facecolor='w', edgecolor='k')\n",
    "plt.rcParams.update({'font.size': 22})\n",
    "\n",
    "plt.plot(t, IC, '-', lw=4, color='#A60628', label='forecast', alpha=0.8)\n",
    "plt.xticks(np.arange(0, Tf, 10), ('4 Mar', '14 Mar', '24 Mar', '3 Apr', '13 Apr', '23 Apr'));\n",
    "\n",
    "my_data = np.genfromtxt('../data/covid-cases/india.txt', delimiter='', skip_header=6)\n",
    "day, cases = my_data[:,0], my_data[:,3] - my_data[:,1]\n",
    "\n",
    "\n",
    "plt.plot(cases, 'o-', lw=4, color='#348ABD', ms=16, label='data', alpha=0.5)\n",
    "\n",
    "plt.legend(fontsize=26, loc='upper left'); plt.grid() \n",
    "plt.autoscale(enable=True, axis='x', tight=True)\n",
    "plt.ylabel('Infected individuals'); #plt.xlim(0, 40); plt.ylim(0, 9999);\n",
    "#plt.savefig('/Users/rsingh/Desktop/2a.png', format='png', dpi=212)"
   ]
  },
  {
   "cell_type": "code",
   "execution_count": null,
   "metadata": {},
   "outputs": [],
   "source": [
    "cases"
   ]
  },
  {
   "cell_type": "code",
   "execution_count": null,
   "metadata": {},
   "outputs": [],
   "source": [
    "C=CH+CW+CS+CO\n",
    "Tf=200; \n",
    "\n",
    "# matrix for linearised dynamics\n",
    "L0 = np.zeros((M, M))\n",
    "L  = np.zeros((2*M, 2*M))\n",
    "\n",
    "for i in range(M):\n",
    "    for j in range(M):\n",
    "        L0[i,j]=C[i,j]*Ni[i]/Ni[j]\n",
    "L[0:M, 0:M]     =    alpha*beta/gIs*L0\n",
    "L[0:M, M:2*M]   = fsa*alpha*beta/gIs*L0\n",
    "L[M:2*M, 0:M]   =    ((1-alpha)*beta/gIs)*L0\n",
    "L[M:2*M, M:2*M] = fsa*((1-alpha)*beta/gIs)*L0\n",
    "\n",
    "r0 = np.max(np.linalg.eigvals(L))\n",
    "print(\"The basic reproductive ratio for these parameters is\", r0)\n",
    "\n",
    "\n",
    "def contactMatrix(t):\n",
    "    return C\n",
    "\n",
    "\n",
    "# start simulation\n",
    "Nf=2000; \n",
    "data=model.simulate(S_0, Ia_0, Is_0, contactMatrix, Tf, Nf)"
   ]
  },
  {
   "cell_type": "code",
   "execution_count": null,
   "metadata": {},
   "outputs": [],
   "source": [
    "t = data.get('t'); IC  = np.zeros((Nf));  SC  = np.zeros((Nf))\n",
    "for i in range(M):\n",
    "        SC += data.get('X')[:,0*M+i]\n",
    "        IC += data.get('X')[:,2*M+i]\n",
    "\n",
    "            \n",
    "\n",
    "fig = plt.figure(num=None, figsize=(10, 8), dpi=80, facecolor='w', edgecolor='k')\n",
    "plt.rcParams.update({'font.size': 22})\n",
    "\n",
    "plt.plot(t, SC*10**(-6), '-', lw=4, color='#348ABD', label='susceptible', alpha=0.8,)\n",
    "plt.fill_between(t, 0, SC*10**(-6), color=\"#348ABD\", alpha=0.3)\n",
    "\n",
    "plt.plot(t, IC*10**(-6), '-', lw=4, color='#A60628', label='infected', alpha=0.8)\n",
    "plt.fill_between(t, 0, IC*10**(-6), color=\"#A60628\", alpha=0.3)\n",
    "\n",
    "my_data = np.genfromtxt('../data/covid-cases/india.txt', delimiter='', skip_header=6)\n",
    "day, cases = my_data[:,0], my_data[:,3] - my_data[:,1]\n",
    "plt.plot(cases*10**(-6), 'ro-', lw=4, color='dimgrey', ms=16, label='data', alpha=0.5)\n",
    "\n",
    "plt.legend(fontsize=26); plt.grid() \n",
    "plt.autoscale(enable=True, axis='x', tight=True)\n",
    "plt.ylabel('Individuals (millions)')\n",
    "plt.plot(t*0+t[np.argsort(IC)[-1]], -170+.4*SC*10**(-6), lw=4, color='g', alpha=0.8)\n",
    "plt.xticks(np.arange(0, 200, 30), ('4 Mar', '3 Apr', '3 May', '2 Jun', '2 Jul', '1 Aug', '31 Aug'));\n",
    "#plt.savefig('/Users/rsingh/Desktop/2b.png', format='png', dpi=212)"
   ]
  },
  {
   "cell_type": "code",
   "execution_count": null,
   "metadata": {},
   "outputs": [],
   "source": [
    "IC[np.argsort(IC)[-1]]\n",
    "IC\n",
    "cases"
   ]
  },
  {
   "cell_type": "code",
   "execution_count": null,
   "metadata": {},
   "outputs": [],
   "source": [
    "# matrix for linearised dynamics\n",
    "L0 = np.zeros((M, M))\n",
    "L  = np.zeros((2*M, 2*M))\n",
    "xind=[np.argsort(IC)[-1]]\n",
    "rr = np.zeros((Tf))\n",
    "\n",
    "for tt in range(Tf):\n",
    "    Si = np.array((data['X'][tt*10,0:M])).flatten()\n",
    "    for i in range(M):\n",
    "        for j in range(M):\n",
    "            L0[i,j]=C[i,j]*Si[i]/Ni[j]\n",
    "    L[0:M, 0:M]     =    alpha*beta/gIs*L0\n",
    "    L[0:M, M:2*M]   = fsa*alpha*beta/gIs*L0\n",
    "    L[M:2*M, 0:M]   =    ((1-alpha)*beta/gIs)*L0\n",
    "    L[M:2*M, M:2*M] = fsa*((1-alpha)*beta/gIs)*L0\n",
    "\n",
    "    rr[tt] = np.real(np.max(np.linalg.eigvals(L)))\n",
    "    \n",
    "    \n",
    "fig = plt.figure(num=None, figsize=(10, 8), dpi=80, facecolor='w', edgecolor='k')\n",
    "plt.rcParams.update({'font.size': 22})\n",
    "\n",
    "plt.plot(t[::10], rr, 'o', lw=4, color='#A60628', label='suscetible', alpha=0.8,)\n",
    "plt.fill_between(t, 0, t*0+1, color=\"dimgrey\", alpha=0.2); plt.ylabel('Basic reproductive ratio')\n",
    "plt.ylim(np.min(rr)-.1, np.max(rr)+.1)\n",
    "plt.xticks(np.arange(0, 200, 30), ('4 Mar', '3 Apr', '3 May', '2 Jun', '2 Jul', '1 Aug', '31 Aug'));\n",
    "#plt.savefig('/Users/rsingh/Desktop/test.png', format='png', dpi=212) "
   ]
  },
  {
   "cell_type": "code",
   "execution_count": null,
   "metadata": {},
   "outputs": [],
   "source": [
    "fig = plt.figure(num=None, figsize=(10, 8), dpi=80, facecolor='w', edgecolor='k')\n",
    "plt.rcParams.update({'font.size': 22})\n",
    "\n",
    "plt.bar(np.arange(16),data.get('X')[0,0:M]*10**(-6),   label='susceptible (initial)', alpha=0.8)\n",
    "plt.bar(np.arange(16),data.get('X')[-1,0:M]*10**(-6),   label='susceptible (final)', alpha=0.8)\n",
    "\n",
    "plt.xticks(np.arange(-0.4, 16.45, 3.95), ('0', '20', '40', '60', '80'));\n",
    "plt.xlim(-0.45, 15.45); plt.ylabel('Individuals (millions)'); plt.xlabel('Age')\n",
    "plt.legend(fontsize=22); plt.axis('tight')\n",
    "plt.autoscale(enable=True, axis='x', tight=True)\n",
    "#plt.savefig('/Users/rsingh/Desktop/3a.png', format='png', dpi=212)"
   ]
  },
  {
   "cell_type": "code",
   "execution_count": null,
   "metadata": {},
   "outputs": [],
   "source": [
    "MM = np.array((0,0,.2,.2,.2,.2,.2,.2,.4,.4,1.3,1.3,3.6,3.6,8,8))  \n",
    "## Fatality Rate by AGE per 100 cases"
   ]
  },
  {
   "cell_type": "code",
   "execution_count": null,
   "metadata": {},
   "outputs": [],
   "source": [
    "fig = plt.figure(num=None, figsize=(10, 8), dpi=80, facecolor='w', edgecolor='k')\n",
    "plt.rcParams.update({'font.size': 22})\n",
    "\n",
    "m1 = .01*MM*(data.get('X')[0,0:M]-data['X'][-1,0:M])\n",
    "plt.bar(np.arange(16),m1*10**(-6),   label='susceptible (final)', alpha=0.8)\n",
    "\n",
    "plt.axis('tight'); plt.xticks(np.arange(-0.4, 16.45, 3.95), ('0', '20', '40', '60', '80'));\n",
    "plt.xlim(-0.45, 15.45); plt.ylabel('Mortality (millions)'); plt.xlabel('Age')\n",
    "\n",
    "plt.autoscale(enable=True, axis='x', tight=True)\n",
    "#plt.savefig('/Users/rsingh/Desktop/3b.png', format='png', dpi=212)"
   ]
  },
  {
   "cell_type": "code",
   "execution_count": null,
   "metadata": {},
   "outputs": [],
   "source": [
    "m1 = .01*MM*(data['X'][0,0:M]-data['X'][-1,0:M])\n",
    "np.sum(m1)"
   ]
  },
  {
   "cell_type": "code",
   "execution_count": null,
   "metadata": {},
   "outputs": [],
   "source": [
    "SC[0]-SC[-1]"
   ]
  },
  {
   "cell_type": "code",
   "execution_count": null,
   "metadata": {},
   "outputs": [],
   "source": [
    "900*10^7"
   ]
  },
  {
   "cell_type": "code",
   "execution_count": 6,
   "metadata": {},
   "outputs": [
    {
     "ename": "SyntaxError",
     "evalue": "invalid syntax (<ipython-input-6-e4fdb25219c4>, line 8)",
     "output_type": "error",
     "traceback": [
      "\u001b[0;36m  File \u001b[0;32m\"<ipython-input-6-e4fdb25219c4>\"\u001b[0;36m, line \u001b[0;32m8\u001b[0m\n\u001b[0;31m    0.478812799633172\t0.55185413960287\t0.334323605154544\t0.132361228266194\t0.138531587861408\t0.281604887066586\t0.406440258772792\t0.493947983343078\t0.113301080935514\t0.0746826413664804\t0.0419640342896305\t0.0179831987029717\t0.00553694264516568\t0.00142187285266089\t0\t0.000505582193632659\u001b[0m\n\u001b[0m                     \t               ^\u001b[0m\n\u001b[0;31mSyntaxError\u001b[0m\u001b[0;31m:\u001b[0m invalid syntax\n"
     ]
    }
   ],
   "source": [
    "my_data = pd.read_excel('../data/contact_matrices_152_countries/MUestimates_home_2.xlsx', sheet_name='United Kingdom of Great Britain', skipcolumns=None)\n",
    "CH = np.array(my_data)\n",
    "\n",
    "print(np.shape(CH))\n",
    "\n",
    "CH\n",
    "\n",
    "0.478812799633172\t0.55185413960287\t0.334323605154544\t0.132361228266194\t0.138531587861408\t0.281604887066586\t0.406440258772792\t0.493947983343078\t0.113301080935514\t0.0746826413664804\t0.0419640342896305\t0.0179831987029717\t0.00553694264516568\t0.00142187285266089\t0\t0.000505582193632659\n",
    "0.263264242853915\t0.918274813032867\t0.524179768293367\t0.116285330911719\t0.0250556852009633\t0.169858750437313\t0.448042261638523\t0.577627602440566\t0.324781960233104\t0.0722768451255227\t0.0265332305560519\t0.00585664492198895\t0\t0.00242040179581532\t0.000285809310147521\t0\n",
    "0.168812074738478\t0.535714613999342\t1.08021932311361\t0.388591513400032\t0.0393145217431833\t0.0110571286138906\t0.216808970288056\t0.591908716507192\t0.485585641686204\t0.133959469164567\t0.0443333866873951\t0.0175951639391087\t0.0046767788815553\t0.00751152993883859\t0.00119829213029357\t0.000239287711188863\n",
    "0.0939012806569673\t0.153999087758101\t0.417215825714956\t0.979076096622083\t0.128063143865367\t0.0334981190486578\t0.0610027033611096\t0.2536066383098\t0.421886057243965\t0.206528142358618\t0.0749213693733798\t0.0480225160760963\t0.00719471109299978\t0.0245565827044619\t0.00239744368252006\t0\n",
    "0.167946316863972\t0.0808360896937447\t0.0728418698360438\t0.356303405484223\t0.804795339868319\t0.205901994671027\t0.0748746418161866\t0.0413841822037211\t0.164106139062714\t0.283182758217154\t0.0809986833877914\t0.0853108113622529\t0.0164317496426438\t0.00756076605174901\t0.00105155414924106\t0.00157920159555511\n",
    "0.489661848427621\t0.296565218012358\t0.0398977025859805\t0.0661533091934946\t0.125000620265036\t0.659542030285412\t0.210168617011651\t0.0253383507478549\t0.00744119119122348\t0.046801553264022\t0.167113551977528\t0.110846330243133\t0.0336293190500164\t0.00083936704448346\t0\t0.00000294523466757276\n",
    "0.319984866294869\t0.472630659315042\t0.269616873199268\t0.0755885939826566\t0.0466457339703206\t0.0884928987898915\t0.642245624672762\t0.148784529327479\t0.0325759003369393\t0.00494466872808503\t0.0123221821635156\t0.0397889759066961\t0.0191884087272273\t0.000965680966301803\t0\t0.000000000000767613499950676\n",
    "0.378242810214225\t0.700783539583557\t0.56419342610774\t0.196423245764791\t0.0236900269151795\t0.00898937822486857\t0.0870751437135552\t0.590987777253416\t0.153469321488691\t0.00324455468171105\t0.0235796485522784\t0.00802859503546049\t0.0117312985344951\t0.0061217338998576\t0\t0\n",
    "0.16602873481227\t0.516161356260349\t0.730664425193195\t0.41500175308345\t0.0674170324881659\t0.00411946127193584\t0.0901634889566261\t0.191874368762678\t0.45751611261591\t0.104913169483168\t0.0171962553153651\t0.00105488178729797\t0.0259360053375561\t0.0120795827954031\t0.00840324698475125\t0.00124138793006704\n",
    "0.127256603189012\t0.146586243441207\t0.334933702047138\t0.706502618609765\t0.352848641387762\t0.0831144216466708\t0.0108163950482093\t0.0763594680691943\t0.0719518913477806\t0.533831752864569\t0.112210303757626\t0.0284184279307676\t0.0122674408651924\t0.00000304004664029944\t0.00147155837392268\t0.00700229693014432\n",
    "0.121649533867749\t0.0995989954479462\t0.175445498743183\t0.257908401442127\t0.309365024043057\t0.0701661196523426\t0.07047663960399\t0.0364505998268414\t0.0793133496359106\t0.0551750267548268\t0.371421901166623\t0.12782545056301\t0.014916150018051\t0.00000601013854729585\t0.00400038646764505\t0.00243485012613598\n",
    "0.0186135805025053\t0.00551357873828429\t0.109080090486082\t0.278496860805459\t0.22940406932337\t0.18324846983143\t0.0635861333164836\t0.0156945823622896\t0.00686912629733071\t0.0777296348170306\t0.0945600494581225\t0.389562251561337\t0.0976702123960206\t0.00308734001149521\t0\t0\n",
    "0.0212793806221237\t0\t0.0477735588053883\t0.0346141166870206\t0.0850215544946478\t0.100750299523421\t0.110507830252571\t0.0699822752030519\t0.0830907984356224\t0.0172938762397968\t0.0447522374021998\t0.113862628662465\t0.478747389932511\t0.0572918911881736\t0.0145300041594202\t0\n",
    "0.0459608954130923\t0.0701063209360962\t0.114559879838641\t0.150158356746572\t0.0153288466722754\t0.00794963406923283\t0.0216081407874536\t0.0960965711092918\t0.21605674528798\t0.0271571260882687\t0.0175702661457839\t0.0479514959932417\t0.0821058369773968\t0.510463324186489\t0.0548425643404644\t0\n",
    "0\t0.022355940291664\t0.163429174203107\t0.245762052483012\t0.00840593873423649\t0\t0\t0\t0.296636657588939\t0.0844905492017621\t0.034410222486104\t0\t0.058216006946836\t0.142592715982751\t0.156981294393356\t0.0897547179407277\n",
    "0.0206073829956981\t0\t0.0361661932844559\t0\t0.0185817324727019\t0.00000101978826846426\t0.0413712761545712\t0\t0.0708730069963331\t0.0542524362462693\t0.0766046554856362\t0\t0\t0\t0.11046993556849\t0.270621588187579"
   ]
  }
 ],
 "metadata": {
  "kernelspec": {
   "display_name": "Python 3",
   "language": "python",
   "name": "python3"
  },
  "language_info": {
   "codemirror_mode": {
    "name": "ipython",
    "version": 3
   },
   "file_extension": ".py",
   "mimetype": "text/x-python",
   "name": "python",
   "nbconvert_exporter": "python",
   "pygments_lexer": "ipython3",
   "version": "3.7.3"
  }
 },
 "nbformat": 4,
 "nbformat_minor": 2
}
