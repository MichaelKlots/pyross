{
 "cells": [
  {
   "cell_type": "code",
   "execution_count": 2,
   "metadata": {},
   "outputs": [
    {
     "ename": "ModuleNotFoundError",
     "evalue": "No module named 'Cython'",
     "output_type": "error",
     "traceback": [
      "\u001b[0;31m---------------------------------------------------------------------------\u001b[0m",
      "\u001b[0;31mModuleNotFoundError\u001b[0m                       Traceback (most recent call last)",
      "\u001b[0;32m~/setup.py\u001b[0m in \u001b[0;36m<module>\u001b[0;34m\u001b[0m\n\u001b[1;32m      2\u001b[0m \u001b[0;32mimport\u001b[0m \u001b[0mos\u001b[0m\u001b[0;34m,\u001b[0m \u001b[0msys\u001b[0m\u001b[0;34m,\u001b[0m \u001b[0mos\u001b[0m\u001b[0;34m.\u001b[0m\u001b[0mpath\u001b[0m\u001b[0;34m,\u001b[0m \u001b[0mtempfile\u001b[0m\u001b[0;34m,\u001b[0m \u001b[0msubprocess\u001b[0m\u001b[0;34m,\u001b[0m \u001b[0mshutil\u001b[0m\u001b[0;34m\u001b[0m\u001b[0;34m\u001b[0m\u001b[0m\n\u001b[1;32m      3\u001b[0m \u001b[0;32mfrom\u001b[0m \u001b[0mdistutils\u001b[0m\u001b[0;34m.\u001b[0m\u001b[0mcore\u001b[0m \u001b[0;32mimport\u001b[0m \u001b[0msetup\u001b[0m\u001b[0;34m\u001b[0m\u001b[0;34m\u001b[0m\u001b[0m\n\u001b[0;32m----> 4\u001b[0;31m \u001b[0;32mfrom\u001b[0m \u001b[0mCython\u001b[0m\u001b[0;34m.\u001b[0m\u001b[0mBuild\u001b[0m \u001b[0;32mimport\u001b[0m \u001b[0mcythonize\u001b[0m\u001b[0;34m\u001b[0m\u001b[0;34m\u001b[0m\u001b[0m\n\u001b[0m\u001b[1;32m      5\u001b[0m \u001b[0;32mfrom\u001b[0m \u001b[0mdistutils\u001b[0m\u001b[0;34m.\u001b[0m\u001b[0mextension\u001b[0m \u001b[0;32mimport\u001b[0m \u001b[0mExtension\u001b[0m\u001b[0;34m\u001b[0m\u001b[0;34m\u001b[0m\u001b[0m\n\u001b[1;32m      6\u001b[0m \u001b[0;32mimport\u001b[0m \u001b[0mCython\u001b[0m\u001b[0;34m.\u001b[0m\u001b[0mCompiler\u001b[0m\u001b[0;34m.\u001b[0m\u001b[0mOptions\u001b[0m\u001b[0;34m\u001b[0m\u001b[0;34m\u001b[0m\u001b[0m\n",
      "\u001b[0;31mModuleNotFoundError\u001b[0m: No module named 'Cython'"
     ]
    }
   ],
   "source": [
    "%%capture\n",
    "## compile PyRoss for this notebook\n",
    "import os\n",
    "owd = os.getcwd()\n",
    "os.chdir('../')\n",
    "%run setup.py install\n",
    "os.chdir(owd)"
   ]
  },
  {
   "cell_type": "code",
   "execution_count": 2,
   "metadata": {},
   "outputs": [],
   "source": [
    "import numpy as np\n",
    "import pyross\n",
    "import matplotlib.pyplot as plt"
   ]
  },
  {
   "cell_type": "code",
   "execution_count": null,
   "metadata": {},
   "outputs": [],
   "source": [
    "# age structure of the population\n",
    "\n",
    "N =  1000            # total population\n",
    "\n",
    "M  = 2               # age groups\n",
    "Ni = np.zeros((M))   # population in each group\n",
    "fi = np.zeros((M))   # fraction of population in age age group\n",
    "\n",
    "fi = np.array((0.25, 0.75)) \n",
    "\n",
    "for i in range(M):\n",
    "    Ni[i] = fi[i]*N\n",
    "\n",
    "# contact structure of the population\n",
    "C = np.array(([18., 9.], [3., 12.]))\n",
    "\n",
    "# matrix for linearised dynamics\n",
    "L = np.zeros((M, M))\n",
    "L[0,0] = C[0,0]*Ni[0]/Ni[0]\n",
    "L[0,1] = C[0,1]*Ni[0]/Ni[1]\n",
    "L[1,0] = C[1,0]*Ni[1]/Ni[0]\n",
    "L[1,1] = C[1,1]*Ni[1]/Ni[1]\n",
    "\n",
    "# epidemic parameters\n",
    "alpha = 1.              # symptomatic fraction\n",
    "gamma = 1./3            # recovery rate \n",
    "\n",
    "# largest eigenvalue of L is r_0\n",
    "r_0 = np.max(np.linalg.eigvals(L))\n",
    "\n",
    "# obtain beta from r_0\n",
    "beta = r0*gamma\n",
    "  \n",
    "# initial conditions    \n",
    "Ia_0 = np.array((1,1))\n",
    "Is_0 = np.array((1,1))\n",
    "R_0  = np.array((0,0))\n",
    "S_0 = Ni - (Ia_a + Is_0 + R_0)"
   ]
  },
  {
   "cell_type": "code",
   "execution_count": null,
   "metadata": {},
   "outputs": [],
   "source": [
    "fsa=0\n",
    "model = pyross.models.SIR(S_0, Ia_0, Is_0, alpha, beta, gamma, fsa, M, Ni)"
   ]
  },
  {
   "cell_type": "code",
   "execution_count": null,
   "metadata": {},
   "outputs": [],
   "source": [
    "Tf=200; filename='this.mat'\n",
    "model.simulate(Tf, C, filename)"
   ]
  },
  {
   "cell_type": "code",
   "execution_count": null,
   "metadata": {
    "scrolled": true
   },
   "outputs": [],
   "source": [
    "from scipy.io import loadmat\n",
    "data=loadmat(filename)\n",
    "IaK = data['X'][:,M].flatten()\n",
    "IaA = data['X'][:,M+1].flatten()\n",
    "t = data['t'][0] "
   ]
  },
  {
   "cell_type": "code",
   "execution_count": null,
   "metadata": {},
   "outputs": [],
   "source": [
    "fig = plt.figure(num=None, figsize=(10, 8), dpi=80, facecolor='w', edgecolor='k')\n",
    "plt.rcParams.update({'font.size': 22})\n",
    "\n",
    "\n",
    "plt.fill_between(t, 0, IaK/Ni[0], color=\"#348ABD\", alpha=0.3)\n",
    "plt.plot(t, IaK/Ni[0], '-', color=\"#348ABD\", label='$Kids$', lw=4)\n",
    "\n",
    "plt.fill_between(t, 0, IaA/Ni[1], color='#A60628', alpha=0.3)\n",
    "plt.plot(t, IaA/Ni[1], '-', color='#A60628', label='$Adults$', lw=4)\n",
    "\n",
    "plt.legend(fontsize=26); plt.grid() \n",
    "plt.autoscale(enable=True, axis='x', tight=True)"
   ]
  },
  {
   "cell_type": "code",
   "execution_count": null,
   "metadata": {},
   "outputs": [],
   "source": [
    "plt.loglog(t, IaK/Ni[0], '-', color=\"#348ABD\", label='$Kids$', lw=4)\n",
    "plt.loglog(t, IaA/Ni[1], '-', color=\"#348ABD\", label='$Kids$', lw=4)"
   ]
  },
  {
   "cell_type": "code",
   "execution_count": null,
   "metadata": {},
   "outputs": [],
   "source": [
    "from scipy.linalg import expm\n",
    "\n",
    "\n",
    "Nt=5#int(np.size(t)/4)\n",
    "pp = np.zeros((Nt, M))\n",
    "for i in range(Nt):\n",
    "    pp[i,:]=expm(gamma*(L-1)*i)[0,0]\n",
    "    "
   ]
  },
  {
   "cell_type": "code",
   "execution_count": null,
   "metadata": {},
   "outputs": [],
   "source": [
    "pp"
   ]
  },
  {
   "cell_type": "code",
   "execution_count": null,
   "metadata": {},
   "outputs": [],
   "source": []
  }
 ],
 "metadata": {
  "kernelspec": {
   "display_name": "Python 3",
   "language": "python",
   "name": "python3"
  },
  "language_info": {
   "codemirror_mode": {
    "name": "ipython",
    "version": 3
   },
   "file_extension": ".py",
   "mimetype": "text/x-python",
   "name": "python",
   "nbconvert_exporter": "python",
   "pygments_lexer": "ipython3",
   "version": "3.8.2"
  }
 },
 "nbformat": 4,
 "nbformat_minor": 2
}
