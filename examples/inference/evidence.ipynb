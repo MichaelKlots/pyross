{
 "cells": [
  {
   "cell_type": "code",
   "execution_count": 1,
   "metadata": {},
   "outputs": [],
   "source": [
    "%%capture\n",
    "## compile PyRoss for this notebook\n",
    "import os\n",
    "owd = os.getcwd()\n",
    "os.chdir('../../')\n",
    "%run setup.py install\n",
    "os.chdir(owd)"
   ]
  },
  {
   "cell_type": "code",
   "execution_count": 2,
   "metadata": {},
   "outputs": [],
   "source": [
    "%matplotlib inline\n",
    "import numpy as np\n",
    "import scipy\n",
    "from matplotlib import pyplot as plt\n",
    "import pyross\n",
    "import time "
   ]
  },
  {
   "cell_type": "code",
   "execution_count": 3,
   "metadata": {},
   "outputs": [],
   "source": [
    "M  = 2                  # the population has two age groups\n",
    "N  =  5e4           # and this is the total population\n",
    "\n",
    "# correct params\n",
    "\n",
    "beta  = 0.02         # infection rate\n",
    "gIa   = 1./7            # recovery rate of asymptomatic infectives\n",
    "gIs   = 1./7            # recovery rate of asymptomatic infectives\n",
    "alpha = 0.2          # fraction of asymptomatic infectives\n",
    "fsa   = 0.8          # the self-isolation parameter\n",
    "\n",
    "# set the age structure\n",
    "fi = np.array([0.25, 0.75])  # fraction of population in age age group\n",
    "Ni = N*fi\n",
    "\n",
    "# set the contact structure\n",
    "C = np.array([[18., 9.], [3., 12.]])\n",
    "\n",
    "Tf = 100\n",
    "Nf = Tf+1\n",
    "steps = 101 \n",
    "\n",
    "# set up initial condition\n",
    "Ia0 = np.array([10, 10])  # each age group has asymptomatic infectives\n",
    "Is0 = np.array([10, 10])   # and also symptomatic infectives\n",
    "R0  = np.array([0, 0])  # there are no recovered individuals initially\n",
    "S0  = Ni - (Ia0 + Is0 + R0)\n",
    "\n",
    "def contactMatrix(t):\n",
    "    return C\n",
    "\n",
    "parameters = {'alpha':alpha, 'beta':beta, 'gIa':gIa, 'gIs':gIs,'fsa':fsa}\n",
    "\n",
    "# use pyross stochastic to generate traj and save \n",
    "sto_model = pyross.stochastic.SIR(parameters, M, Ni)\n",
    "data = sto_model.simulate(S0, Ia0, Is0, contactMatrix, Tf, Nf)\n",
    "data_array = data['X']\n",
    "np.save('sto_traj.npy', data_array)\n",
    "parameters = {'alpha':alpha, 'beta':beta, 'gIa':gIa, 'gIs':gIs,'fsa':fsa}"
   ]
  },
  {
   "cell_type": "code",
   "execution_count": 4,
   "metadata": {},
   "outputs": [],
   "source": [
    "# load the data and rescale to intensive variables \n",
    "x = np.load('sto_traj.npy').astype('float')\n",
    "x = x/N\n",
    "\n",
    "# initialise the estimator \n",
    "estimator = pyross.inference.SIR(parameters, M, fi, int(N), steps)"
   ]
  },
  {
   "cell_type": "code",
   "execution_count": 6,
   "metadata": {},
   "outputs": [
    {
     "name": "stdout",
     "output_type": "stream",
     "text": [
      "[0.1942352  0.02005099 0.13917373 0.14391947]\n",
      "28\n"
     ]
    }
   ],
   "source": [
    "# take a guess \n",
    "beta_g = 0.1\n",
    "gIa_g = 0.1\n",
    "gIs_g = 0.1\n",
    "alpha_g = 0.4\n",
    "guess = [alpha_g, beta_g, gIa_g, gIs_g]\n",
    "\n",
    "# inference \n",
    "MAPs, nit = estimator.inference(guess, x, Tf, Nf, contactMatrix, ftol=1e-6) # currently only guess four parameters\n",
    "print(MAPs) # best guess \n",
    "print(nit) # number of iterations of the optimization run "
   ]
  },
  {
   "cell_type": "markdown",
   "metadata": {},
   "source": [
    "# Gaussian approximation for the $M$-variate Ornstein-Uhlenbeck process\n",
    "\n",
    "$\\ln P(X|M_i) \\approx \\ln P(X|\\theta,M_i)|_{\\theta^*} -\\frac{1}{2}\\ln\\det \\boldsymbol{A} + \\frac{M}{2}\\ln 2\\pi$\n",
    "\n",
    "With $\\ln P(X|\\theta,M_i)|_{\\theta^*}$ the best fit likelihood, in our case of flat parameter priors, this is simply the posterior evaluated at the MAP estimates. The Hessian matrix $\\boldsymbol{A}=-\\nabla\\nabla\\ln P(\\theta|X,M_i)|_{\\theta^*}$ is calculated using finite differences."
   ]
  },
  {
   "cell_type": "code",
   "execution_count": 7,
   "metadata": {},
   "outputs": [
    {
     "name": "stdout",
     "output_type": "stream",
     "text": [
      "[[ 1.36732301e+05  3.83667184e+03 -1.31446506e+05  1.26845653e+05]\n",
      " [ 3.83667184e+03  8.49475895e+07 -3.64532658e+03 -2.81708134e+04]\n",
      " [-1.31446506e+05 -3.64532658e+03  2.48019115e+05  1.41765579e+05]\n",
      " [ 1.26845653e+05 -2.81708134e+04  1.41765579e+05  1.38210465e+06]]\n",
      "time:  14.228440999984741\n"
     ]
    }
   ],
   "source": [
    "start = time.time()\n",
    "hess = estimator.hessian(MAPs, x, Tf, Nf, contactMatrix, eps=1.e-3)\n",
    "print(hess)\n",
    "end = time.time()\n",
    "\n",
    "print('time: ', end-start)"
   ]
  },
  {
   "cell_type": "code",
   "execution_count": 8,
   "metadata": {},
   "outputs": [
    {
     "name": "stdout",
     "output_type": "stream",
     "text": [
      "1861.6837536155901\n"
     ]
    }
   ],
   "source": [
    "evidence = estimator.log_G_evidence(MAPs, x, Tf, Nf, contactMatrix, eps=1.e-3)\n",
    "print(evidence)"
   ]
  },
  {
   "cell_type": "markdown",
   "metadata": {},
   "source": [
    "# Nested sampling \n",
    "\n",
    "Compute the logarithm of the evidence $P(X|M_i)=\\int P(X|\\theta,M_i)P(\\theta|M_i)d\\theta$ exactly using nestle, an excellent implementation of the nested sampling algorithm. \n",
    "\n",
    "With an appropriate prior transform function ($x\\in[0,1]$) we supply a flat prior with the same interval for all parameters. This is of course easily changed to various priors. "
   ]
  },
  {
   "cell_type": "code",
   "execution_count": null,
   "metadata": {},
   "outputs": [],
   "source": [
    "# takes 30 mins \n",
    "# not tested yet \n",
    "evidence = estimator.log_NS_evidence(self, x, Tf, Nf, contactMatrix, UB=1., LB=0.001, P=4)\n",
    "print(evidence)"
   ]
  }
 ],
 "metadata": {
  "kernelspec": {
   "display_name": "Python 3",
   "language": "python",
   "name": "python3"
  },
  "language_info": {
   "codemirror_mode": {
    "name": "ipython",
    "version": 3
   },
   "file_extension": ".py",
   "mimetype": "text/x-python",
   "name": "python",
   "nbconvert_exporter": "python",
   "pygments_lexer": "ipython3",
   "version": "3.7.6"
  }
 },
 "nbformat": 4,
 "nbformat_minor": 4
}
