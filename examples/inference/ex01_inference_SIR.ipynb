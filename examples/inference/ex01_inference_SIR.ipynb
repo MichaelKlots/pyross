{
 "cells": [
  {
   "cell_type": "markdown",
   "metadata": {},
   "source": [
    "# Inference of parameters (SIR model)\n",
    "In this notebook, we consider the SIR model with symptomatically and asymptomatically infected. We are trying to infer the parameters of the model \n",
    "\n",
    "* $\\alpha$ (fraction of asymptomatic infectives), \n",
    "* $\\beta$ (probability of infection on contact), \n",
    "* $\\gamma_{I_a}$ (rate of recovery for asymptomatic infected individuals), and\n",
    "* $\\gamma_{I_s}$ (rate of recovery for symptomatic infected individuals) \n",
    "\n",
    "when given the full data (of classes S, Ia, Is) from a generated trajectory.\n"
   ]
  },
  {
   "cell_type": "code",
   "execution_count": 1,
   "metadata": {},
   "outputs": [],
   "source": [
    "%%capture\n",
    "## compile PyRoss for this notebook\n",
    "import os\n",
    "owd = os.getcwd()\n",
    "os.chdir('../../')\n",
    "%run setup.py install\n",
    "os.chdir(owd)"
   ]
  },
  {
   "cell_type": "code",
   "execution_count": 2,
   "metadata": {},
   "outputs": [],
   "source": [
    "%matplotlib inline\n",
    "import numpy as np\n",
    "from matplotlib import pyplot as plt\n",
    "import pyross\n",
    "import time "
   ]
  },
  {
   "cell_type": "markdown",
   "metadata": {},
   "source": [
    "## 1) Generate a trajectory\n",
    "We generate a test trajectory on a population with two ages groups."
   ]
  },
  {
   "cell_type": "code",
   "execution_count": 3,
   "metadata": {},
   "outputs": [],
   "source": [
    "M = 2                # the population has two age groups\n",
    "N = 5e4              # and this is the total population\n",
    "\n",
    "# correct params\n",
    "beta  = 0.02         # infection rate\n",
    "gIa   = 1./7         # recovery rate of asymptomatic infectives\n",
    "gIs   = 1./7         # recovery rate of asymptomatic infectives\n",
    "alpha = 0.2          # fraction of asymptomatic infectives\n",
    "fsa   = 0.8          # the self-isolation parameter\n",
    "\n",
    "# set the age structure\n",
    "fi = np.array([0.25, 0.75])  # fraction of population in age age group\n",
    "Ni = N*fi\n",
    "\n",
    "# set the contact structure\n",
    "C = np.array([[18., 9.], [3., 12.]])\n",
    "\n",
    "# set up initial condition\n",
    "Ia0 = np.array([10, 10])  # each age group has asymptomatic infectives\n",
    "Is0 = np.array([10, 10])  # and also symptomatic infectives\n",
    "R0  = np.array([0, 0])    # there are no recovered individuals initially\n",
    "S0  = Ni - (Ia0 + Is0 + R0)\n",
    "\n",
    "Tf = 100\n",
    "Nf = Tf+1\n",
    "\n",
    "def contactMatrix(t):\n",
    "    return C\n",
    "\n",
    "parameters = {'alpha':alpha, 'beta':beta, 'gIa':gIa, 'gIs':gIs,'fsa':fsa}\n",
    "true_parameters = {'alpha':alpha, 'beta':beta, 'gIa':gIa, 'gIs':gIs,'fsa':fsa}\n",
    "\n",
    "# use pyross stochastic to generate traj and save \n",
    "sto_model = pyross.stochastic.SIR(parameters, M, Ni)\n",
    "data = sto_model.simulate(S0, Ia0, Is0, contactMatrix, Tf, Nf)\n",
    "data_array = data['X']\n",
    "np.save('SIR_sto_traj.npy', data_array)"
   ]
  },
  {
   "cell_type": "code",
   "execution_count": 4,
   "metadata": {},
   "outputs": [
    {
     "data": {
      "image/png": "[encoded data removed]",
      "text/plain": [
       "<Figure size 432x288 with 1 Axes>"
      ]
     },
     "metadata": {
      "needs_background": "light"
     },
     "output_type": "display_data"
    }
   ],
   "source": [
    "plt.plot(data_array[:, 0], label='S')\n",
    "plt.plot(data_array[:, M], label='Ia')\n",
    "plt.plot(data_array[:, 2*M], label='Is')\n",
    "plt.legend()\n",
    "plt.show()"
   ]
  },
  {
   "cell_type": "markdown",
   "metadata": {},
   "source": [
    "## 2) Inference\n",
    "We take the first $50$ data points of the trajectories and use it to infer the parameters of the model."
   ]
  },
  {
   "cell_type": "code",
   "execution_count": 5,
   "metadata": {},
   "outputs": [
    {
     "name": "stdout",
     "output_type": "stream",
     "text": [
      "-2116.5487763333967\n",
      "0.26152729988098145\n"
     ]
    }
   ],
   "source": [
    "# load the data and rescale to intensive variables \n",
    "Tf = 50 # truncate to only getting the first few datapoints \n",
    "Nf = Tf+1\n",
    "\n",
    "x = np.load('SIR_sto_traj.npy').astype('float')\n",
    "x = (x/N)[:Nf]\n",
    "steps = 101 # number internal integration steps taken, must be an odd number \n",
    "\n",
    "\n",
    "# initialise the estimator \n",
    "estimator = pyross.inference.SIR(parameters, M, fi, int(N), steps)\n",
    "\n",
    "# compute -log_p for the original (correct) parameters \n",
    "start_time = time.time() \n",
    "parameters = {'alpha':alpha, 'beta':beta, 'gIa':gIa, 'gIs':gIs,'fsa':fsa}\n",
    "logp = estimator.obtain_minus_log_p(parameters, x, Tf, Nf, contactMatrix)\n",
    "end_time = time.time()\n",
    "print(logp) \n",
    "print(end_time - start_time)"
   ]
  },
  {
   "cell_type": "code",
   "execution_count": 6,
   "metadata": {},
   "outputs": [
    {
     "name": "stdout",
     "output_type": "stream",
     "text": [
      "50769.89347515993\n"
     ]
    }
   ],
   "source": [
    "# Define the prior (Gamma prior around guess of parameter with defined std. deviation)\n",
    "beta_g = 0.1\n",
    "beta_std = 0.1\n",
    "gIa_g = 0.14\n",
    "gIa_std = 0.05\n",
    "gIs_g = 0.2\n",
    "gIs_std = 0.1\n",
    "alpha_g = 0.3\n",
    "alpha_std = 0.2\n",
    "\n",
    "# compute -log_p for the initial guess \n",
    "parameters = {'alpha':alpha_g, 'beta':beta_g, 'gIa':gIa_g, 'gIs':gIs_g,'fsa':fsa}\n",
    "logp = estimator.obtain_minus_log_p(parameters, x, Tf, Nf, contactMatrix)\n",
    "print(logp) "
   ]
  },
  {
   "cell_type": "code",
   "execution_count": 7,
   "metadata": {
    "scrolled": true
   },
   "outputs": [
    {
     "name": "stdout",
     "output_type": "stream",
     "text": [
      "Starting global minimisation...\n",
      "(8_w,16)-aCMA-ES (mu_w=4.8,w_1=32%) in dimension 4 (seed=920905, Wed May  6 18:43:45 2020)\n",
      "Iterat #Fevals   function value  axis ratio  sigma  min&max std  t[m:s]\n",
      "    1     16 1.152261904250683e+03 1.0e+00 1.15e+00  6e-02  2e-01 0:06.4\n",
      "    2     32 9.065581817484946e+02 1.5e+00 1.06e+00  5e-02  2e-01 0:10.8\n",
      "    3     48 5.538477969025946e+03 1.6e+00 1.12e+00  6e-02  2e-01 0:15.5\n",
      "    4     64 -6.342568875996030e+02 2.0e+00 1.07e+00  6e-02  2e-01 0:20.5\n",
      "    5     80 1.231766792057059e+03 2.4e+00 1.11e+00  5e-02  2e-01 0:24.8\n",
      "    6     96 6.443046284608283e+03 2.6e+00 9.61e-01  5e-02  2e-01 0:30.6\n",
      "    8    128 -1.594426095766095e+03 2.8e+00 7.09e-01  4e-02  1e-01 0:39.7\n",
      "   10    160 5.515645706373339e+02 3.5e+00 7.39e-01  4e-02  1e-01 0:48.8\n",
      "   12    192 -1.230948018162603e+03 3.9e+00 5.24e-01  2e-02  8e-02 0:57.1\n",
      "   15    240 -1.119384255381530e+03 3.3e+00 4.09e-01  2e-02  6e-02 1:08.6\n",
      "   19    304 -1.805903057362910e+03 4.1e+00 2.90e-01  6e-03  3e-02 1:22.2\n",
      "   23    368 -2.012971499482610e+03 5.2e+00 2.49e-01  2e-03  2e-02 1:35.8\n",
      "   27    432 -2.069051243958456e+03 9.8e+00 2.30e-01  1e-03  1e-02 1:49.7\n",
      "   31    496 -2.120321911515636e+03 2.3e+01 4.07e-01  1e-03  2e-02 2:04.7\n",
      "   35    560 -2.117204636782519e+03 4.3e+01 3.87e-01  9e-04  2e-02 2:18.9\n",
      "Optimal value (global minimisation):  -2120.321911515636\n",
      "Starting local minimisation...\n",
      "Optimal value (local minimisation):  -2121.9712420708006\n",
      "[0.20969266 0.02000964 0.15080286 0.14039484]\n",
      "149.501535654068\n"
     ]
    }
   ],
   "source": [
    "# inference  \n",
    "eps = 1e-4   # step size for finite difference computation of Hessian\n",
    "ftol = 1e-6  # Stopping criterion for minimisation (realtive change in function value)\n",
    "\n",
    "guess = np.array([alpha_g, beta_g, gIa_g, gIs_g])  # Initial value (and expected value of priors)\n",
    "bounds = np.array([(eps, 0.8), (eps, 0.2), (eps, 0.6), (eps, 0.6)])  # give some bounds\n",
    "stds = np.array([alpha_std, beta_std , gIa_std, gIs_std])\n",
    "start_time = time.time() \n",
    "params = estimator.inference(guess, stds, x, Tf, Nf, contactMatrix, bounds=bounds, global_max_iter=40,\n",
    "                             local_max_iter=200, eps=eps, global_ftol_factor=1e3, ftol=ftol, verbose=True)\n",
    "end_time = time.time()\n",
    "\n",
    "print(params) # best guess \n",
    "print(end_time - start_time)"
   ]
  },
  {
   "cell_type": "code",
   "execution_count": 8,
   "metadata": {},
   "outputs": [
    {
     "name": "stdout",
     "output_type": "stream",
     "text": [
      "-2115.522411427709\n",
      "0.2668306827545166\n"
     ]
    }
   ],
   "source": [
    "# compute log_p for best estimate \n",
    "start_time = time.time() \n",
    "new_parameters = {'alpha': params[0], 'beta': params[1], 'gIa': params[2], 'gIs': params[3],'fsa':fsa}\n",
    "logp = estimator.obtain_minus_log_p(new_parameters, x, Tf, Nf, contactMatrix)\n",
    "end_time = time.time()\n",
    "print(logp) \n",
    "print(end_time - start_time)"
   ]
  },
  {
   "cell_type": "code",
   "execution_count": 9,
   "metadata": {},
   "outputs": [],
   "source": [
    "hess = estimator.hessian(params, guess, stds, x, Tf, Nf, contactMatrix)\n",
    "cov = np.linalg.inv(hess)"
   ]
  },
  {
   "cell_type": "code",
   "execution_count": 10,
   "metadata": {},
   "outputs": [
    {
     "data": {
      "text/plain": [
       "array([[ 6.61721592e-03,  0.00000000e+00,  0.00000000e+00,\n",
       "         0.00000000e+00],\n",
       "       [ 4.82071395e-07,  1.13724506e-04,  0.00000000e+00,\n",
       "         0.00000000e+00],\n",
       "       [ 4.83936240e-03,  2.30601242e-07,  2.49351855e-03,\n",
       "         0.00000000e+00],\n",
       "       [-1.21352996e-03,  3.33359251e-06, -2.77053561e-04,\n",
       "         9.51949851e-04]])"
      ]
     },
     "execution_count": 10,
     "metadata": {},
     "output_type": "execute_result"
    }
   ],
   "source": [
    "# if no error, this is positive definite\n",
    "np.linalg.cholesky(cov)"
   ]
  },
  {
   "cell_type": "code",
   "execution_count": 11,
   "metadata": {},
   "outputs": [
    {
     "name": "stdout",
     "output_type": "stream",
     "text": [
      "True parameters:\n",
      "{'alpha': 0.2, 'beta': 0.02, 'gIa': 0.14285714285714285, 'gIs': 0.14285714285714285, 'fsa': 0.8}\n",
      "\n",
      "Inferred parameters:\n",
      "{'alpha': 0.20969266336263118, 'beta': 0.020009641240917767, 'gIa': 0.15080286338749196, 'gIs': 0.14039484235302446, 'fsa': 0.8}\n"
     ]
    }
   ],
   "source": [
    "print(\"True parameters:\")\n",
    "print(true_parameters)\n",
    "\n",
    "print(\"\\nInferred parameters:\")\n",
    "print(new_parameters)"
   ]
  },
  {
   "cell_type": "code",
   "execution_count": null,
   "metadata": {},
   "outputs": [],
   "source": []
  }
 ],
 "metadata": {
  "kernelspec": {
   "display_name": "Python 3",
   "language": "python",
   "name": "python3"
  },
  "language_info": {
   "codemirror_mode": {
    "name": "ipython",
    "version": 3
   },
   "file_extension": ".py",
   "mimetype": "text/x-python",
   "name": "python",
   "nbconvert_exporter": "python",
   "pygments_lexer": "ipython3",
   "version": "3.7.6"
  }
 },
 "nbformat": 4,
 "nbformat_minor": 4
}
