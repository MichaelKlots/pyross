{
 "cells": [
  {
   "cell_type": "markdown",
   "metadata": {},
   "source": [
    "# Inference of parameters (SIR model)\n",
    "In this notebook, we consider the SIR model with symptomatically and asymptomatically infected. We are trying to infer the parameters of the model \n",
    "\n",
    "* $\\alpha$ (fraction of asymptomatic infectives), \n",
    "* $\\beta$ (probability of infection on contact), \n",
    "* $\\gamma_{I_a}$ (rate of recovery for asymptomatic infected individuals), and\n",
    "* $\\gamma_{I_s}$ (rate of recovery for symptomatic infected individuals) \n",
    "\n",
    "when given the full data (of classes S, Ia, Is) from a generated trajectory.\n"
   ]
  },
  {
   "cell_type": "code",
   "execution_count": 1,
   "metadata": {},
   "outputs": [],
   "source": [
    "%%capture\n",
    "## compile PyRoss for this notebook\n",
    "import os\n",
    "owd = os.getcwd()\n",
    "os.chdir('../../')\n",
    "%run setup.py install\n",
    "os.chdir(owd)"
   ]
  },
  {
   "cell_type": "code",
   "execution_count": 2,
   "metadata": {},
   "outputs": [],
   "source": [
    "%matplotlib inline\n",
    "import numpy as np\n",
    "from matplotlib import pyplot as plt\n",
    "import pyross\n",
    "import time "
   ]
  },
  {
   "cell_type": "markdown",
   "metadata": {},
   "source": [
    "## 1) Generate a trajectory\n",
    "We generate a test trajectory on a population with two ages groups."
   ]
  },
  {
   "cell_type": "code",
   "execution_count": 3,
   "metadata": {},
   "outputs": [],
   "source": [
    "M = 2                # the population has two age groups\n",
    "N = 5e4              # and this is the total population\n",
    "\n",
    "# correct params\n",
    "beta  = 0.02         # infection rate\n",
    "gIa   = 1./7         # recovery rate of asymptomatic infectives\n",
    "gIs   = 1./7         # recovery rate of asymptomatic infectives\n",
    "alpha = 0.2          # fraction of asymptomatic infectives\n",
    "fsa   = 0.8          # the self-isolation parameter\n",
    "\n",
    "# set the age structure\n",
    "fi = np.array([0.25, 0.75])  # fraction of population in age age group\n",
    "Ni = N*fi\n",
    "\n",
    "# set the contact structure\n",
    "C = np.array([[18., 9.], [3., 12.]])\n",
    "\n",
    "# set up initial condition\n",
    "Ia0 = np.array([10, 10])  # each age group has asymptomatic infectives\n",
    "Is0 = np.array([10, 10])  # and also symptomatic infectives\n",
    "R0  = np.array([0, 0])    # there are no recovered individuals initially\n",
    "S0  = Ni - (Ia0 + Is0 + R0)\n",
    "\n",
    "Tf = 100\n",
    "Nf = Tf+1\n",
    "\n",
    "def contactMatrix(t):\n",
    "    return C\n",
    "\n",
    "parameters = {'alpha':alpha, 'beta':beta, 'gIa':gIa, 'gIs':gIs,'fsa':fsa}\n",
    "true_parameters = {'alpha':alpha, 'beta':beta, 'gIa':gIa, 'gIs':gIs,'fsa':fsa}\n",
    "\n",
    "# use pyross stochastic to generate traj and save \n",
    "sto_model = pyross.stochastic.SIR(parameters, M, Ni)\n",
    "data = sto_model.simulate(S0, Ia0, Is0, contactMatrix, Tf, Nf)\n",
    "data_array = data['X']\n",
    "np.save('SIR_sto_traj.npy', data_array)"
   ]
  },
  {
   "cell_type": "code",
   "execution_count": 4,
   "metadata": {},
   "outputs": [
    {
     "data": {
      "image/png": "[encoded data removed]",
      "text/plain": [
       "<Figure size 432x288 with 1 Axes>"
      ]
     },
     "metadata": {
      "needs_background": "light"
     },
     "output_type": "display_data"
    }
   ],
   "source": [
    "plt.plot(data_array[:, 0], label='S')\n",
    "plt.plot(data_array[:, M], label='Ia')\n",
    "plt.plot(data_array[:, 2*M], label='Is')\n",
    "plt.legend()\n",
    "plt.show()"
   ]
  },
  {
   "cell_type": "markdown",
   "metadata": {},
   "source": [
    "## 2) Inference\n",
    "We take the first $50$ data points of the trajectories and use it to infer the parameters of the model."
   ]
  },
  {
   "cell_type": "code",
   "execution_count": 5,
   "metadata": {},
   "outputs": [
    {
     "name": "stdout",
     "output_type": "stream",
     "text": [
      "-2126.775473654352\n",
      "0.3196389675140381\n"
     ]
    }
   ],
   "source": [
    "# load the data and rescale to intensive variables \n",
    "Tf = 50 # truncate to only getting the first few datapoints \n",
    "Nf = Tf+1\n",
    "\n",
    "x = np.load('SIR_sto_traj.npy').astype('float')\n",
    "x = (x/N)[:Nf]\n",
    "steps = 101 # number internal integration steps taken, must be an odd number \n",
    "\n",
    "\n",
    "# initialise the estimator \n",
    "estimator = pyross.inference.SIR(parameters, M, fi, int(N), steps)\n",
    "\n",
    "# compute -log_p for the original (correct) parameters \n",
    "start_time = time.time() \n",
    "parameters = {'alpha':alpha, 'beta':beta, 'gIa':gIa, 'gIs':gIs,'fsa':fsa}\n",
    "logp = estimator.obtain_minus_log_p(parameters, x, Tf, Nf, contactMatrix)\n",
    "end_time = time.time()\n",
    "print(logp) \n",
    "print(end_time - start_time)"
   ]
  },
  {
   "cell_type": "code",
   "execution_count": 6,
   "metadata": {},
   "outputs": [
    {
     "name": "stdout",
     "output_type": "stream",
     "text": [
      "49792.70651576962\n"
     ]
    }
   ],
   "source": [
    "# Define the prior (Gamma prior around guess of parameter with defined std. deviation)\n",
    "beta_g = 0.1\n",
    "beta_std = 0.1\n",
    "\n",
    "gIa_g = 0.14\n",
    "gIa_std = 0.05\n",
    "\n",
    "gIs_g = 0.2\n",
    "gIs_std = 0.1\n",
    "\n",
    "alpha_g = 0.3\n",
    "alpha_std = 0.2\n",
    "\n",
    "fsa_g = 0.8\n",
    "fsa_std = 0.05\n",
    "\n",
    "# compute -log_p for the initial guess \n",
    "parameters = {'alpha':alpha_g, 'beta':beta_g, 'gIa':gIa_g, 'gIs':gIs_g, 'fsa':fsa_g}\n",
    "logp = estimator.obtain_minus_log_p(parameters, x, Tf, Nf, contactMatrix)\n",
    "print(logp) "
   ]
  },
  {
   "cell_type": "code",
   "execution_count": 24,
   "metadata": {
    "scrolled": true
   },
   "outputs": [
    {
     "name": "stdout",
     "output_type": "stream",
     "text": [
      "Starting global minimisation...\n",
      "(8_w,16)-aCMA-ES (mu_w=4.8,w_1=32%) in dimension 5 (seed=313959, Mon May 11 16:16:45 2020)\n",
      "Iterat #Fevals   function value  axis ratio  sigma  min&max std  t[m:s]\n",
      "    1     16 6.186422795900027e+03 1.0e+00 9.77e-01  5e-02  2e-01 0:04.5\n",
      "    2     32 -3.999812822803517e+02 1.4e+00 8.88e-01  4e-02  2e-01 0:08.2\n",
      "    3     48 8.129788520187211e+03 1.6e+00 8.23e-01  4e-02  2e-01 0:12.1\n",
      "    5     80 1.845094948138183e+03 2.0e+00 7.37e-01  3e-02  1e-01 0:18.4\n",
      "    7    112 3.366793503165458e+03 3.4e+00 8.08e-01  3e-02  1e-01 0:25.0\n",
      "    9    144 -3.148575911896441e+02 5.5e+00 8.87e-01  2e-02  2e-01 0:31.2\n",
      "   12    192 -1.206869441093010e+03 9.6e+00 7.61e-01  2e-02  1e-01 0:39.6\n",
      "   15    240 -1.799113127540840e+03 1.2e+01 5.49e-01  7e-03  8e-02 0:48.0\n",
      "   16    256 -1.942042221563193e+03 1.5e+01 5.22e-01  6e-03  7e-02 0:57.3\n",
      "   19    304 -1.947141141538491e+03 2.2e+01 4.69e-01  4e-03  6e-02 1:06.6\n",
      "   23    368 -2.025397771595996e+03 3.0e+01 4.75e-01  3e-03  5e-02 1:18.6\n",
      "   27    432 -2.104824130583509e+03 4.7e+01 3.26e-01  2e-03  3e-02 1:31.9\n",
      "   31    496 -2.127680779967934e+03 6.1e+01 2.96e-01  1e-03  3e-02 1:44.2\n",
      "   36    576 -2.131847257020194e+03 6.1e+01 1.65e-01  6e-04  1e-02 1:58.0\n",
      "   39    624 -2.134547986946356e+03 6.9e+01 1.13e-01  3e-04  8e-03 2:06.6\n",
      "Optimal value (global minimisation):  -2134.5479869463556\n",
      "Starting local minimisation...\n",
      "Optimal value (local minimisation):  -2134.97428496057\n",
      "[0.20686095 0.02135976 0.14926802 0.14159462 0.73425809]\n",
      "144.07195806503296\n"
     ]
    }
   ],
   "source": [
    "# inference  \n",
    "eps = 1e-4   # step size for finite difference computation of Hessian\n",
    "ftol = 1e-6  # Stopping criterion for minimisation (realtive change in function value)\n",
    "keys = ['alpha', 'beta', 'gIa', 'gIs', 'fsa']\n",
    "guess = np.array([alpha_g, beta_g, gIa_g, gIs_g, fsa_g])  # Initial value (and expected value of priors)\n",
    "bounds = np.array([(eps, 0.8), (eps, 0.2), (eps, 0.6), (eps, 0.6), (0.7, 0.9)])  # give some bounds\n",
    "stds = np.array([alpha_std, beta_std , gIa_std, gIs_std, fsa_std])\n",
    "start_time = time.time() \n",
    "params = estimator.infer_parameters(keys, guess, stds, bounds, x, Tf, Nf, contactMatrix, global_max_iter=50,\n",
    "                             local_max_iter=200, eps=eps, global_ftol_factor=1e2, ftol=ftol, verbose=True)\n",
    "end_time = time.time()\n",
    "\n",
    "print(params) # best guess \n",
    "print(end_time - start_time)"
   ]
  },
  {
   "cell_type": "code",
   "execution_count": 25,
   "metadata": {},
   "outputs": [
    {
     "name": "stdout",
     "output_type": "stream",
     "text": [
      "-2127.269862932254\n",
      "0.30911803245544434\n"
     ]
    }
   ],
   "source": [
    "# compute log_p for best estimate \n",
    "start_time = time.time() \n",
    "new_parameters = estimator.fill_params_dict(keys, params)\n",
    "logp = estimator.obtain_minus_log_p(new_parameters, x, Tf, Nf, contactMatrix)\n",
    "end_time = time.time()\n",
    "print(logp) \n",
    "print(end_time - start_time)"
   ]
  },
  {
   "cell_type": "code",
   "execution_count": 26,
   "metadata": {},
   "outputs": [
    {
     "name": "stdout",
     "output_type": "stream",
     "text": [
      "True parameters:\n",
      "{'alpha': 0.2, 'beta': 0.02, 'gIa': 0.14285714285714285, 'gIs': 0.14285714285714285, 'fsa': 0.8}\n",
      "\n",
      "Inferred parameters:\n",
      "{'alpha': 0.20686094878641748, 'beta': 0.021359764813968812, 'gIa': 0.1492680240774802, 'gIs': 0.1415946244435152, 'fsa': 0.7342580938414488}\n"
     ]
    }
   ],
   "source": [
    "print(\"True parameters:\")\n",
    "print(true_parameters)\n",
    "\n",
    "print(\"\\nInferred parameters:\")\n",
    "print(new_parameters)"
   ]
  },
  {
   "cell_type": "code",
   "execution_count": 32,
   "metadata": {},
   "outputs": [
    {
     "data": {
      "image/png": "[encoded data removed]",
      "text/plain": [
       "<Figure size 432x288 with 1 Axes>"
      ]
     },
     "metadata": {
      "needs_background": "light"
     },
     "output_type": "display_data"
    }
   ],
   "source": [
    "x = np.load('SIR_sto_traj.npy').astype('float')/N \n",
    "Nf = x.shape[0]\n",
    "Tf = Nf-1\n",
    "\n",
    "det_model = pyross.deterministic.SIR(new_parameters, int(M), fi)\n",
    "x_det = estimator.integrate(x[0], 0, Tf, Nf, det_model, contactMatrix)\n",
    "plt.plot(np.sum(x_det[:, :M], axis=1), label='Inferred S')\n",
    "plt.plot(np.sum(x[:, :M], axis=1), label='True S')\n",
    "plt.plot(np.sum(x_det[:, M:2*M], axis=1), label='Inferred Ia')\n",
    "plt.plot(np.sum(x[:, M:2*M], axis=1), label='True Ia')\n",
    "plt.plot(np.sum(x_det[:, 2*M:3*M], axis=1), label='Inferred Is')\n",
    "plt.plot(np.sum(x[:, 2*M:3*M], axis=1), label='True Is')\n",
    "plt.axvspan(0, 50, \n",
    "           label='Used for inference',\n",
    "           alpha=0.3, color='dodgerblue')\n",
    "plt.legend()\n",
    "plt.show() "
   ]
  },
  {
   "cell_type": "code",
   "execution_count": 28,
   "metadata": {},
   "outputs": [],
   "source": [
    "hess = estimator.compute_hessian(keys, params, guess, stds, x, Tf, Nf, contactMatrix)"
   ]
  },
  {
   "cell_type": "code",
   "execution_count": 29,
   "metadata": {},
   "outputs": [
    {
     "data": {
      "text/plain": [
       "array([[ 4.44447210e-05,  4.72514744e-09,  3.31398870e-05,\n",
       "        -8.34485871e-06, -2.64273910e-07],\n",
       "       [ 4.72514744e-09, -1.79813714e-07,  5.78631888e-09,\n",
       "         4.83454652e-10,  8.00067659e-06],\n",
       "       [ 3.31398870e-05,  5.78631888e-09,  3.10836651e-05,\n",
       "        -6.94419996e-06, -2.86625593e-07],\n",
       "       [-8.34485871e-06,  4.83454652e-10, -6.94419996e-06,\n",
       "         2.59053179e-06,  8.63106298e-09],\n",
       "       [-2.64273910e-07,  8.00067659e-06, -2.86625593e-07,\n",
       "         8.63106298e-09, -3.28860526e-04]])"
      ]
     },
     "execution_count": 29,
     "metadata": {},
     "output_type": "execute_result"
    }
   ],
   "source": [
    "np.linalg.inv(hess) # the covariance that can be inputed into the forecast module for forecasting "
   ]
  },
  {
   "cell_type": "code",
   "execution_count": null,
   "metadata": {},
   "outputs": [],
   "source": []
  }
 ],
 "metadata": {
  "kernelspec": {
   "display_name": "Python 3",
   "language": "python",
   "name": "python3"
  },
  "language_info": {
   "codemirror_mode": {
    "name": "ipython",
    "version": 3
   },
   "file_extension": ".py",
   "mimetype": "text/x-python",
   "name": "python",
   "nbconvert_exporter": "python",
   "pygments_lexer": "ipython3",
   "version": "3.7.6"
  }
 },
 "nbformat": 4,
 "nbformat_minor": 4
}
