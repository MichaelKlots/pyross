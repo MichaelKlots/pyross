{
 "cells": [
  {
   "cell_type": "markdown",
   "metadata": {},
   "source": [
    "# Calibration (SIR model)\n",
    "Using generated data, we test if we can infer that a lockdown has happened and how the contact parameters have changed.\n",
    "To do this, we generate a test trajectory with a lockdown at time $20$. \n",
    "The lockdown is implemented by scaling the contact matrices (for work, school, other).\n",
    "We use the data points up to the lockdown to infer the parameters of the SIR model.\n",
    "Using the data after lockdown and the inferred parameters, we infer the change of the contact structure.\n",
    "\n",
    "For the pre-intervention period, we infer the following parameters: \n",
    "* $\\alpha$ (fraction of asymptomatic infectives), \n",
    "* $\\beta$ (probability of infection on contact), \n",
    "* $\\gamma_{I_a}$ (rate of recovery for asymptomatic infected individuals),\n",
    "* $\\gamma_{I_s}$ (rate of recovery for symptomatic infected individuals) \n",
    "\n",
    "For the post-intervention period, we infer the following control parameters: \n",
    "* $a_\\mathrm{W}$ fraction of work contact, \n",
    "* $a_\\mathrm{S}$ fraction of social contact, \n",
    "* $a_\\mathrm{O}$ fraction of other contacts "
   ]
  },
  {
   "cell_type": "code",
   "execution_count": 1,
   "metadata": {},
   "outputs": [],
   "source": [
    "%%capture\n",
    "## compile PyRoss for this notebook\n",
    "import os\n",
    "owd = os.getcwd()\n",
    "os.chdir('../../')\n",
    "%run setup.py install\n",
    "os.chdir(owd)"
   ]
  },
  {
   "cell_type": "code",
   "execution_count": 1,
   "metadata": {},
   "outputs": [],
   "source": [
    "%matplotlib inline\n",
    "import numpy as np\n",
    "import pyross\n",
    "import pandas as pd\n",
    "import time\n",
    "import matplotlib.pyplot as plt\n",
    "from scipy.io import loadmat"
   ]
  },
  {
   "cell_type": "markdown",
   "metadata": {},
   "source": [
    "## 1) Generate a trajectory"
   ]
  },
  {
   "cell_type": "code",
   "execution_count": 2,
   "metadata": {},
   "outputs": [],
   "source": [
    "# population and age classes (4 age groups)\n",
    "M=4  # number of age classes\n",
    "\n",
    "my_data = np.genfromtxt('../data/age_structures/UK.csv', delimiter=',', skip_header=1)\n",
    "aM, aF = my_data[:, 1], my_data[:, 2]\n",
    "\n",
    "Ni0=aM+aF;   Ni=np.zeros((M))\n",
    "\n",
    "Ni[0] = (np.sum(Ni0[0:4])).astype('int')\n",
    "Ni[1] = (np.sum(Ni0[4:8])).astype('int')\n",
    "Ni[2] = (np.sum(Ni0[8:12])).astype('int')\n",
    "Ni[3] = (np.sum(Ni0[12:16])).astype('int')\n",
    "N=np.sum(Ni)\n",
    "fi = Ni/N \n",
    "\n",
    "# Get individual contact matrices\n",
    "CH0, CW0, CS0, CO0 = pyross.contactMatrix.UK()\n",
    "\n",
    "CH = np.zeros((M, M))\n",
    "CW = np.zeros((M, M))\n",
    "CS = np.zeros((M, M))\n",
    "CO = np.zeros((M, M))\n",
    "\n",
    "for i in range(16):\n",
    "    CH0[i,:] = Ni0[i]*CH0[i,:]\n",
    "    CS0[i,:] = Ni0[i]*CS0[i,:]\n",
    "    CW0[i,:] = Ni0[i]*CW0[i,:]\n",
    "    CO0[i,:] = Ni0[i]*CO0[i,:]\n",
    "\n",
    "    \n",
    "for i in range(M):\n",
    "    for j in range(M):\n",
    "        i1, j1 = i*4, j*4\n",
    "        CH[i,j] = np.sum( CH0[i1:i1+4,j1:j1+4]  )/Ni[i]\n",
    "        CW[i,j] = np.sum( CW0[i1:i1+4,j1:j1+4]  )/Ni[i]\n",
    "        CS[i,j] = np.sum( CS0[i1:i1+4,j1:j1+4]  )/Ni[i]\n",
    "        CO[i,j] = np.sum( CO0[i1:i1+4,j1:j1+4]  )/Ni[i]\n",
    "        \n",
    "# rescale the population      \n",
    "N /= 5e2 \n",
    "Ni = N*fi "
   ]
  },
  {
   "cell_type": "code",
   "execution_count": 3,
   "metadata": {},
   "outputs": [],
   "source": [
    "# Generate class with contact matrix for SIR model with UK contact structure\n",
    "generator = pyross.contactMatrix.ContactMatrixFunction(CH, CW, CS, CO)"
   ]
  },
  {
   "cell_type": "code",
   "execution_count": 4,
   "metadata": {},
   "outputs": [],
   "source": [
    "T_intervention = 20\n",
    "times= [T_intervention] # temporal boundaries between different contact-behaviour\n",
    "\n",
    "aW, aS, aO = 0.5, 0.6, 0.6\n",
    "\n",
    "# prefactors for CW, CS, CO:\n",
    "interventions = [[1.0,1.0,1.0],      # before first time\n",
    "                 [aW, aS, aO],       # after first time\n",
    "                ]         \n",
    "\n",
    "# generate corresponding contact matrix function\n",
    "C = generator.interventions_temporal(times=times,interventions=interventions)"
   ]
  },
  {
   "cell_type": "code",
   "execution_count": 5,
   "metadata": {},
   "outputs": [],
   "source": [
    "beta  = 0.04       # contact rate parameter\n",
    "gIa   = 1./7       # recovery rate of asymptomatic infectives \n",
    "gIs   = 1./7       # recovery rate of symptomatic infectives \n",
    "alpha = 0.2        # asymptomatic fraction\n",
    "fsa   = 0.8        # suppresion of contact by symptomatics\n",
    "\n",
    "\n",
    "# initial conditions    \n",
    "Is_0 = np.ones(M)*20\n",
    "Is_0[1] += 10  #make one group different \n",
    "Ia_0 = np.zeros((M))*2\n",
    "Ia_0[1] += 2 \n",
    "R_0  = np.zeros((M))\n",
    "S_0  = Ni - (Ia_0 + Is_0 + R_0)\n",
    "\n",
    "parameters = {'alpha':alpha,'beta':beta, 'gIa':gIa,'gIs':gIs,'fsa':fsa}\n",
    "true_parameters = parameters\n",
    "model = pyross.stochastic.SIR(parameters, M, Ni)\n",
    "\n",
    "# start simulation\n",
    "Tf=100;  Nf=Tf+1 \n",
    "data=model.simulate(S_0, Ia_0, Is_0, C, Tf, Nf)"
   ]
  },
  {
   "cell_type": "code",
   "execution_count": 6,
   "metadata": {
    "scrolled": true
   },
   "outputs": [
    {
     "data": {
      "image/png": "[encoded data removed]",
      "text/plain": [
       "<Figure size 432x288 with 1 Axes>"
      ]
     },
     "metadata": {
      "needs_background": "light"
     },
     "output_type": "display_data"
    }
   ],
   "source": [
    "IC  = np.zeros((Nf))\n",
    "for i in range(M):\n",
    "        IC += data['X'][:,2*M+i] \n",
    "t = data['t']\n",
    "plt.plot(t, IC)\n",
    "plt.axvspan(0, T_intervention, \n",
    "           label='Pre intervention',\n",
    "           alpha=0.3, color='dodgerblue')\n",
    "plt.show() "
   ]
  },
  {
   "cell_type": "markdown",
   "metadata": {},
   "source": [
    "## 2) Infer the parameters of the model"
   ]
  },
  {
   "cell_type": "code",
   "execution_count": 7,
   "metadata": {},
   "outputs": [
    {
     "name": "stdout",
     "output_type": "stream",
     "text": [
      "-2099.8193277391865\n",
      "0.10574626922607422\n"
     ]
    },
    {
     "data": {
      "image/png": "[encoded data removed]",
      "text/plain": [
       "<Figure size 432x288 with 1 Axes>"
      ]
     },
     "metadata": {
      "needs_background": "light"
     },
     "output_type": "display_data"
    }
   ],
   "source": [
    "Tf = 20 # truncate to only getting the first few datapoints (up to lockdown) \n",
    "Nf = Tf+1\n",
    "\n",
    "x = data['X']\n",
    "x = (x/N)[:Nf]\n",
    "steps = 8 # number internal integration steps taken, must be an odd number \n",
    "\n",
    "# initialise the estimator \n",
    "estimator = pyross.inference.SIR(parameters, M, fi, int(N), steps)\n",
    "\n",
    "# compute -log_p for the original (correct) parameters \n",
    "start_time = time.time() \n",
    "parameters = {'alpha':alpha, 'beta':beta, 'gIa':gIa, 'gIs':gIs,'fsa':fsa}\n",
    "logp = estimator.obtain_minus_log_p(parameters, x, Tf, Nf, C)\n",
    "end_time = time.time()\n",
    "print(logp) \n",
    "print(end_time - start_time)\n",
    "\n",
    "# Check the deterministic simulation against stochstic simulations with the same parameters and initial conditons \n",
    "# They are likely to be different due to the inherent stochasticity of the model \n",
    "Tf_initial = T_intervention # truncate to only getting the pre-intervention trajectory \n",
    "Nf_initial = Tf_initial+1\n",
    "contactMatrix = generator.constant_contactMatrix()\n",
    "det_model = estimator.make_det_model(parameters)\n",
    "estimator = pyross.inference.SIR(parameters, M, fi, int(N), steps)\n",
    "xm = estimator.integrate(x[0], 0, Tf_initial, Nf_initial, det_model, contactMatrix)\n",
    "t = np.linspace(0, Tf_initial, Nf_initial)\n",
    "plt.plot(t, np.sum(x[:,2*M:3*M], axis=1))\n",
    "plt.plot(t, np.sum(xm[:,2*M:3*M], axis=1))\n",
    "plt.show()"
   ]
  },
  {
   "cell_type": "code",
   "execution_count": 8,
   "metadata": {
    "scrolled": true
   },
   "outputs": [
    {
     "name": "stdout",
     "output_type": "stream",
     "text": [
      "Starting global minimisation...\n",
      "(8_w,16)-aCMA-ES (mu_w=4.8,w_1=32%) in dimension 4 (seed=1574057354, Thu May 28 17:40:06 2020)\n",
      "Iterat #Fevals   function value  axis ratio  sigma  min&max std  t[m:s]\n",
      "    1     16 -1.852374349791834e+03 1.0e+00 7.24e-01  3e-02  7e-02 0:00.3\n",
      "    2     32 -1.989608482238919e+03 1.3e+00 6.12e-01  2e-02  6e-02 0:00.5\n",
      "    3     48 -1.661387356345381e+03 1.6e+00 4.77e-01  1e-02  4e-02 0:00.7\n",
      "   18    288 -2.108129516195694e+03 1.0e+01 6.10e-02  2e-04  4e-03 0:03.8\n",
      "Optimal value (global minimisation):  -2108.402717649556\n",
      "Starting local minimisation...\n",
      "Optimal value (local minimisation):  -2108.509587033941\n",
      "[0.21258115 0.0403734  0.15142946 0.14292407]\n",
      "5.4845521450042725\n"
     ]
    }
   ],
   "source": [
    "# take a guess \n",
    "eps = 1e-4 # step used to calculate hessian in the optimisation algorithm \n",
    "alpha_g = 0.2\n",
    "alpha_std = 0.1 \n",
    "alpha_bounds = (eps, 1-2*eps)\n",
    "# the bound for alpha must be 1-2*eps to avoid alpha>1 in hessian calculation performed by optimizer \n",
    "\n",
    "beta_g = 0.05\n",
    "beta_std = 0.05 \n",
    "beta_bounds = (eps, 1)\n",
    "\n",
    "gIa_g = 0.145\n",
    "gIa_std = 0.1 \n",
    "gIa_bounds = (eps, 1)\n",
    "\n",
    "gIs_g = 0.145\n",
    "gIs_std = 0.1 \n",
    "gIs_bounds = (eps, 1) \n",
    "\n",
    "keys = ['alpha', 'beta', 'gIa', 'gIs']\n",
    "guess = np.array([alpha_g, beta_g, gIa_g, gIs_g])\n",
    "stds = np.array([alpha_std, beta_std, gIa_std, gIs_std])\n",
    "bounds = np.array([alpha_bounds, beta_bounds, gIa_bounds, gIs_bounds])\n",
    "\n",
    "estimator.set_det_method('RK2')\n",
    "estimator.set_lyapunov_method('euler')\n",
    "start_time = time.time() \n",
    "params = estimator.infer_parameters(keys, guess, stds, bounds, x, Tf, Nf, contactMatrix, \n",
    "                             tangent=False, \n",
    "                             global_max_iter=20, eps=eps, verbose=True)\n",
    "end_time = time.time()\n",
    "\n",
    "print(params) # best guess \n",
    "print(end_time - start_time)"
   ]
  },
  {
   "cell_type": "code",
   "execution_count": 9,
   "metadata": {},
   "outputs": [
    {
     "name": "stdout",
     "output_type": "stream",
     "text": [
      "True parameters:\n",
      "{'alpha': 0.2, 'beta': 0.04, 'gIa': 0.14285714285714285, 'gIs': 0.14285714285714285, 'fsa': 0.8}\n",
      "\n",
      "Inferred parameters:\n",
      "[0.21258115 0.0403734  0.15142946 0.14292407]\n"
     ]
    }
   ],
   "source": [
    "print(\"True parameters:\")\n",
    "print(true_parameters)\n",
    "\n",
    "print(\"\\nInferred parameters:\")\n",
    "print(params)"
   ]
  },
  {
   "cell_type": "markdown",
   "metadata": {},
   "source": [
    "## 3) Infer the change of contact structure"
   ]
  },
  {
   "cell_type": "code",
   "execution_count": 10,
   "metadata": {},
   "outputs": [
    {
     "name": "stdout",
     "output_type": "stream",
     "text": [
      "-7582.1803835484325\n"
     ]
    }
   ],
   "source": [
    "aW_g = 0.6 \n",
    "aW_bounds = [0.1, 0.8]\n",
    "aS_g = 0.5\n",
    "aS_bounds = [0.1, 0.8]\n",
    "aO_g = 0.5\n",
    "aO_bounds = [0.1, 0.8]\n",
    "guess = np.array([aW_g, aS_g, aO_g])\n",
    "bounds = np.array([aW_bounds, aS_bounds, aO_bounds])\n",
    "stds = np.array([0.1, 0.2, 0.15])\n",
    "\n",
    "x = data['X']/N\n",
    "x = x[22:]\n",
    "Nf = x.shape[0] \n",
    "Tf = Nf-1 \n",
    "\n",
    "times = [Tf+1]\n",
    "interventions = [[aW, aS, aO]]\n",
    "contactMatrix = generator.interventions_temporal(times=times,interventions=interventions)\n",
    "\n",
    "# compute -log_p for the initial guess (for the moment, use correct parameters)\n",
    "logp = estimator.obtain_minus_log_p(parameters, x, Tf, Nf, contactMatrix)\n",
    "print(logp) "
   ]
  },
  {
   "cell_type": "code",
   "execution_count": 11,
   "metadata": {
    "scrolled": true
   },
   "outputs": [
    {
     "name": "stdout",
     "output_type": "stream",
     "text": [
      "Starting global minimisation...\n",
      "(8_w,16)-aCMA-ES (mu_w=4.8,w_1=32%) in dimension 3 (seed=3307047321, Thu May 28 17:40:26 2020)\n",
      "Iterat #Fevals   function value  axis ratio  sigma  min&max std  t[m:s]\n",
      "    1     16 -7.580239516545373e+03 1.0e+00 1.06e+00  1e-01  2e-01 0:00.9\n",
      "    2     32 -7.475680578941176e+03 1.7e+00 8.35e-01  8e-02  1e-01 0:01.7\n",
      "    3     48 -7.568039643946647e+03 1.9e+00 6.61e-01  6e-02  1e-01 0:02.5\n",
      "    7    112 -7.581584980308076e+03 2.6e+00 3.53e-01  2e-02  3e-02 0:05.6\n",
      "   13    208 -7.582299675735756e+03 3.8e+00 2.68e-01  8e-03  2e-02 0:10.2\n",
      "   20    320 -7.582440917622958e+03 3.9e+00 6.44e-02  8e-04  1e-03 0:15.7\n",
      "Optimal value (global minimisation):  -7582.442074374937\n",
      "Starting local minimisation...\n",
      "Optimal value (local minimisation):  -7582.443229179772\n",
      "[0.52533704 0.60420373 0.57436842]\n",
      "17.245959043502808\n"
     ]
    }
   ],
   "source": [
    "eps = 1e-3 \n",
    "start_time = time.time() \n",
    "\n",
    "parameters = estimator.fill_params_dict(keys, params)\n",
    "estimator.set_params(parameters)\n",
    "\n",
    "keys = ['aW', 'aS', 'aO']\n",
    "estimator.set_det_method('LSODA') # slower but performs better for exponential decay (near the end of the pandemic)\n",
    "control_params = estimator.infer_control(keys, guess, stds, x, Tf, Nf, generator, bounds,\n",
    "                                 global_max_iter=20, verbose=True)\n",
    "end_time = time.time()\n",
    "\n",
    "print(control_params) # best guess \n",
    "print(end_time - start_time)"
   ]
  },
  {
   "cell_type": "code",
   "execution_count": 12,
   "metadata": {},
   "outputs": [
    {
     "name": "stdout",
     "output_type": "stream",
     "text": [
      "True lockdown factors:\n",
      "[0.5, 0.6, 0.6]\n",
      "\n",
      "Inferred lockdown factors:\n",
      "[0.52533704 0.60420373 0.57436842]\n"
     ]
    }
   ],
   "source": [
    "print(\"True lockdown factors:\")\n",
    "print([aW, aS, aO])\n",
    "\n",
    "print(\"\\nInferred lockdown factors:\")\n",
    "print(control_params)"
   ]
  },
  {
   "cell_type": "code",
   "execution_count": 13,
   "metadata": {
    "scrolled": true
   },
   "outputs": [
    {
     "data": {
      "image/png": "[encoded data removed]",
      "text/plain": [
       "<Figure size 432x288 with 1 Axes>"
      ]
     },
     "metadata": {
      "needs_background": "light"
     },
     "output_type": "display_data"
    }
   ],
   "source": [
    "times = [T_intervention]\n",
    "interventions = [[1.0,1.0,1.0],      # before first time\n",
    "                 control_params,       # after first time\n",
    "                ]         \n",
    "\n",
    "# compare the true trajectory with the \n",
    "contactMatrix = generator.interventions_temporal(times=times,interventions=interventions)\n",
    "det_model = estimator.make_det_model(parameters)\n",
    "x = data['X']/N\n",
    "estimator.set_det_method('LSODA') # setting deterministic integration to be LSODA \n",
    "x_det_control = estimator.integrate(x[T_intervention], T_intervention, Tf, Nf-T_intervention, det_model, contactMatrix)\n",
    "plt.plot(np.sum(x[:,M:2*M], axis=1), label='Ia')\n",
    "plt.plot(np.linspace(T_intervention, Tf, Nf-T_intervention), np.sum(x_det_control[:, M:2*M], axis=1), label='Inferred Ia')\n",
    "plt.plot(np.sum(x[:,2*M:3*M], axis=1), label='Is')\n",
    "plt.plot(np.linspace(T_intervention, Tf, Nf-T_intervention), np.sum(x_det_control[:, 2*M:3*M], axis=1), label='Inferred Is')\n",
    "plt.axvspan(0, T_intervention, \n",
    "           label='Pre intervention',\n",
    "           alpha=0.3, color='dodgerblue')\n",
    "plt.xlim([0, Tf])\n",
    "plt.legend()\n",
    "plt.show()"
   ]
  },
  {
   "cell_type": "markdown",
   "metadata": {},
   "source": [
    "## 4) Now, instead of assuming a step-function like change at T_intervention, allow for anticipation time and reaction time \n",
    "\n",
    "For this, we make use of the `intervention_custom_temporal` function in the contactMatrix module. First we need to define our intervention function. We use a tanh to represent anticipation and reaction, and parameterise it with four parameters: \n",
    "\n",
    "* width: the width of the tanh profile \n",
    "* loc: the location of the interface of the tanh \n",
    "* aW_f: the final aW_f of the lockdown \n",
    "* aS_f: the final aS_f of the lockdown \n",
    "* aO_f: the fianl aO_f of the lockdown "
   ]
  },
  {
   "cell_type": "code",
   "execution_count": 14,
   "metadata": {},
   "outputs": [
    {
     "data": {
      "image/png": "[encoded data removed]",
      "text/plain": [
       "<Figure size 432x288 with 1 Axes>"
      ]
     },
     "metadata": {
      "needs_background": "light"
     },
     "output_type": "display_data"
    }
   ],
   "source": [
    "def intervention_fun(t, width=1, loc=0, aW_f=0, aS_f=0, aO_f=0):\n",
    "    aW = (1-np.tanh((t-loc)/width))/2*(1-aW_f) + aW_f\n",
    "    aS = (1-np.tanh((t-loc)/width))/2*(1-aS_f) + aS_f\n",
    "    aO = (1-np.tanh((t-loc)/width))/2*(1-aO_f) + aO_f\n",
    "    return aW, aS, aO\n",
    "\n",
    "t = np.linspace(0, Tf, Nf) \n",
    "aW_f = 0.5 \n",
    "aS_f = 0.6 \n",
    "aO_f = 0.6 \n",
    "width = 3\n",
    "loc = T_intervention \n",
    "\n",
    "aW, aS, aO = intervention_fun(t, width, loc, aW_f, aS_f, aO_f)\n",
    "plt.plot(t, aW)\n",
    "plt.plot(t, aS)\n",
    "plt.plot(t, aO)\n",
    "plt.show()"
   ]
  },
  {
   "cell_type": "code",
   "execution_count": 15,
   "metadata": {},
   "outputs": [
    {
     "data": {
      "image/png": "[encoded data removed]",
      "text/plain": [
       "<Figure size 432x288 with 1 Axes>"
      ]
     },
     "metadata": {
      "needs_background": "light"
     },
     "output_type": "display_data"
    }
   ],
   "source": [
    "contactMatrix = generator.intervention_custom_temporal(intervention_fun, \n",
    "                                                       width=width, loc=loc, \n",
    "                                                       aW_f=aW_f, aS_f=aS_f, aO_f=aO_f)\n",
    "\n",
    "# start simulation\n",
    "Tf=100;  Nf=Tf+1 \n",
    "data=model.simulate(S_0, Ia_0, Is_0, contactMatrix, Tf, Nf)\n",
    "\n",
    "# plot simulation\n",
    "IC  = np.zeros((Nf))\n",
    "for i in range(M):\n",
    "        IC += data['X'][:,2*M+i] \n",
    "t = data['t']\n",
    "plt.plot(t, IC)\n",
    "plt.axvspan(0, T_intervention, \n",
    "           label='Pre intervention',\n",
    "           alpha=0.3, color='dodgerblue')\n",
    "plt.show() "
   ]
  },
  {
   "cell_type": "markdown",
   "metadata": {},
   "source": [
    "### For this part, we skip the step where we infer the epidemiological parameters of the model, and just use the correct ones. But if we wish, we can cut the trajectory as before and infer them. "
   ]
  },
  {
   "cell_type": "code",
   "execution_count": 16,
   "metadata": {},
   "outputs": [
    {
     "name": "stdout",
     "output_type": "stream",
     "text": [
      "-3821.899082527958\n"
     ]
    }
   ],
   "source": [
    "x = data['X']/N\n",
    "x = x[:40]\n",
    "Nf = x.shape[0] \n",
    "Tf = Nf-1 \n",
    "\n",
    "\n",
    "# compute -log_p \n",
    "logp = estimator.obtain_minus_log_p(parameters, x, Tf, Nf, contactMatrix)\n",
    "print(logp) "
   ]
  },
  {
   "cell_type": "code",
   "execution_count": 17,
   "metadata": {},
   "outputs": [
    {
     "name": "stdout",
     "output_type": "stream",
     "text": [
      "Starting global minimisation...\n",
      "(8_w,16)-aCMA-ES (mu_w=4.8,w_1=32%) in dimension 5 (seed=3309428188, Thu May 28 17:41:55 2020)\n",
      "Iterat #Fevals   function value  axis ratio  sigma  min&max std  t[m:s]\n",
      "    1     16 -3.815889302832930e+03 1.0e+00 1.01e+00  9e-02  2e+00 0:00.6\n",
      "    2     32 -3.790641064328547e+03 1.4e+00 8.85e-01  8e-02  2e+00 0:01.2\n",
      "    3     48 -3.817673682336343e+03 1.6e+00 8.36e-01  7e-02  2e+00 0:01.8\n",
      "    9    144 -3.828951117168096e+03 3.1e+00 4.12e-01  3e-02  9e-01 0:05.1\n",
      "   18    288 -3.830396317891392e+03 5.3e+00 1.78e-01  9e-03  2e-01 0:09.6\n",
      "Optimal value (global minimisation):  -3830.606506852788\n",
      "Starting local minimisation...\n",
      "Optimal value (local minimisation):  -3830.6549178228097\n",
      "[ 3.52967093 19.58252446  0.53492483  0.54522608  0.57313676]\n",
      "13.429718017578125\n"
     ]
    }
   ],
   "source": [
    "width_g = 3\n",
    "width_std = 2 \n",
    "width_bounds = [1, 5]\n",
    "\n",
    "loc_g = T_intervention-1 \n",
    "loc_std = 2 \n",
    "loc_bounds = [T_intervention-5, T_intervention+5]\n",
    "\n",
    "aW_g = 0.6 \n",
    "aW_std = 0.1 \n",
    "aW_bounds = [0.1, 0.8]\n",
    "\n",
    "aS_g = 0.5\n",
    "aS_std = 0.1 \n",
    "aS_bounds = [0.1, 0.8]\n",
    "\n",
    "aO_g = 0.5\n",
    "aO_std = 0.1 \n",
    "aO_bounds = [0.1, 0.8]\n",
    "\n",
    "keys = ['width', 'loc', 'aW_f', 'aS_f', 'aO_f']\n",
    "guess = np.array([width_g, loc_g, aW_g, aS_g, aO_g])\n",
    "stds = np.array([width_std, loc_std, aW_std, aS_std, aO_std])\n",
    "bounds = np.array([width_bounds, loc_bounds, aW_bounds, aS_bounds, aO_bounds])\n",
    "\n",
    "start_time = time.time() \n",
    "estimator.set_det_method('LSODA') # slower but performs better for exponential decay (near the end of the pandemic)\n",
    "estimator.set_lyapunov_method('euler') # fast integration method for lyapunov\n",
    "control_params = estimator.infer_control(keys, guess, stds, x, Tf, Nf, generator, bounds,\n",
    "                                         intervention_fun=intervention_fun, tangent=False,\n",
    "                                 global_max_iter=20, verbose=True)\n",
    "end_time = time.time()\n",
    "\n",
    "print(control_params) # best guess \n",
    "print(end_time - start_time)"
   ]
  },
  {
   "cell_type": "code",
   "execution_count": null,
   "metadata": {},
   "outputs": [],
   "source": []
  }
 ],
 "metadata": {
  "kernelspec": {
   "display_name": "Python 3",
   "language": "python",
   "name": "python3"
  },
  "language_info": {
   "codemirror_mode": {
    "name": "ipython",
    "version": 3
   },
   "file_extension": ".py",
   "mimetype": "text/x-python",
   "name": "python",
   "nbconvert_exporter": "python",
   "pygments_lexer": "ipython3",
   "version": "3.7.6"
  }
 },
 "nbformat": 4,
 "nbformat_minor": 4
}
