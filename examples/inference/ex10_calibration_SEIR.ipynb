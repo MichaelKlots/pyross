{
 "cells": [
  {
   "cell_type": "markdown",
   "metadata": {},
   "source": [
    "# Calibration (SEIR model)\n",
    "Using generated data, we test if we can infer that a lockdown has happened and how the contact parameters have changed.\n",
    "To do this, we generate a test trajectory with a lockdown at time $20$. \n",
    "The lockdown is implemented by scaling the contact matrices (for work, school, other).\n",
    "We use the data points up to the lockdown to infer the parameters of the SEIR model.\n",
    "Using the data after lockdown and the inferred parameters, we infer the change of the contact structure.\n",
    "\n",
    "For the pre-intervention period, we infer the following parameters: \n",
    "* $\\alpha$ (fraction of asymptomatic infectives), \n",
    "* $\\beta$ (probability of infection on contact), \n",
    "* $\\gamma_{I_a}$ (rate of recovery for asymptomatic infected individuals),\n",
    "* $\\gamma_{I_s}$ (rate of recovery for symptomatic infected individuals) \n",
    "* $\\gamma_{E}$ (rate from exposed to infected)\n",
    "\n",
    "For the post-intervention period, we infer the following control parameters: \n",
    "* $a_\\mathrm{W}$ fraction of work contact, \n",
    "* $a_\\mathrm{S}$ fraction of social contact, \n",
    "* $a_\\mathrm{O}$ fraction of other contacts "
   ]
  },
  {
   "cell_type": "code",
   "execution_count": 2,
   "metadata": {},
   "outputs": [],
   "source": [
    "%%capture\n",
    "## compile PyRoss for this notebook\n",
    "import os\n",
    "owd = os.getcwd()\n",
    "os.chdir('../../')\n",
    "%run setup.py install\n",
    "os.chdir(owd)"
   ]
  },
  {
   "cell_type": "code",
   "execution_count": 1,
   "metadata": {},
   "outputs": [],
   "source": [
    "%matplotlib inline\n",
    "import numpy as np\n",
    "import pyross\n",
    "import pandas as pd\n",
    "import time\n",
    "import matplotlib.pyplot as plt\n",
    "from scipy.io import loadmat"
   ]
  },
  {
   "cell_type": "markdown",
   "metadata": {},
   "source": [
    "## 1) Generate a trajectory"
   ]
  },
  {
   "cell_type": "code",
   "execution_count": 2,
   "metadata": {},
   "outputs": [],
   "source": [
    "# population and age classes (4 age groups)\n",
    "M=4  # number of age classes\n",
    "\n",
    "my_data = np.genfromtxt('../data/age_structures/UK.csv', delimiter=',', skip_header=1)\n",
    "aM, aF = my_data[:, 1], my_data[:, 2]\n",
    "\n",
    "Ni0=aM+aF;   Ni=np.zeros((M))\n",
    "\n",
    "Ni[0] = (np.sum(Ni0[0:4])).astype('int')\n",
    "Ni[1] = (np.sum(Ni0[4:8])).astype('int')\n",
    "Ni[2] = (np.sum(Ni0[8:12])).astype('int')\n",
    "Ni[3] = (np.sum(Ni0[12:16])).astype('int')\n",
    "N=np.sum(Ni)\n",
    "fi = Ni/N \n",
    "\n",
    "# Get individual contact matrices\n",
    "CH0, CW0, CS0, CO0 = pyross.contactMatrix.UK()\n",
    "\n",
    "CH = np.zeros((M, M))\n",
    "CW = np.zeros((M, M))\n",
    "CS = np.zeros((M, M))\n",
    "CO = np.zeros((M, M))\n",
    "\n",
    "for i in range(16):\n",
    "    CH0[i,:] = Ni0[i]*CH0[i,:]\n",
    "    CS0[i,:] = Ni0[i]*CS0[i,:]\n",
    "    CW0[i,:] = Ni0[i]*CW0[i,:]\n",
    "    CO0[i,:] = Ni0[i]*CO0[i,:]\n",
    "\n",
    "    \n",
    "for i in range(M):\n",
    "    for j in range(M):\n",
    "        i1, j1 = i*4, j*4\n",
    "        CH[i,j] = np.sum( CH0[i1:i1+4,j1:j1+4]  )/Ni[i]\n",
    "        CW[i,j] = np.sum( CW0[i1:i1+4,j1:j1+4]  )/Ni[i]\n",
    "        CS[i,j] = np.sum( CS0[i1:i1+4,j1:j1+4]  )/Ni[i]\n",
    "        CO[i,j] = np.sum( CO0[i1:i1+4,j1:j1+4]  )/Ni[i]\n",
    "        \n",
    "Ni = (Ni/5e2).astype('int') # Scale the numbers to avoid numerical problems\n",
    "N = np.sum(Ni)"
   ]
  },
  {
   "cell_type": "code",
   "execution_count": 3,
   "metadata": {},
   "outputs": [],
   "source": [
    "# Generate class with contact matrix for SEIR model with UK contact structure\n",
    "generator = pyross.contactMatrix.SIR(CH, CW, CS, CO)"
   ]
  },
  {
   "cell_type": "code",
   "execution_count": 4,
   "metadata": {},
   "outputs": [],
   "source": [
    "T_intervention = 20\n",
    "times= [T_intervention] # temporal boundaries between different contact-behaviour\n",
    "\n",
    "aW, aS, aO = 0.5, 0.6, 0.6\n",
    "\n",
    "# prefactors for CW, CS, CO:\n",
    "interventions = [[1.0,1.0,1.0],      # before first time\n",
    "                 [aW, aS, aO],       # after first time\n",
    "                ]         \n",
    "\n",
    "# generate corresponding contact matrix function\n",
    "C = generator.interventions_temporal(times=times,interventions=interventions)"
   ]
  },
  {
   "cell_type": "code",
   "execution_count": 5,
   "metadata": {},
   "outputs": [],
   "source": [
    "beta  = 0.04       # contact rate parameter\n",
    "gIa   = 1./7       # recovery rate of asymptomatic infectives \n",
    "gIs   = 1./7       # recovery rate of symptomatic infectives\n",
    "gE    = 0.1        # exposed to infected rate\n",
    "alpha = 0.2        # asymptomatic fraction\n",
    "fsa   = 0.8        # suppresion of contact by symptomatics\n",
    "\n",
    "# initial conditions\n",
    "E_0      = np.ones(M)*200\n",
    "E_0[1]  += 10  # make one group different \n",
    "Is_0     = np.ones(M)*100\n",
    "Is_0[1] += 2  \n",
    "Ia_0     = np.ones(M)*100\n",
    "Ia_0[1] += 2\n",
    "R_0      = np.zeros(M)\n",
    "S_0      = Ni - (E_0 + Ia_0 + Is_0 + R_0)\n",
    "\n",
    "parameters = {'alpha':alpha, 'beta':beta, 'gIa':gIa,'gIs':gIs, 'gE':gE, 'fsa':fsa}\n",
    "true_parameters = parameters\n",
    "model = pyross.stochastic.SEIR(parameters, M, Ni)\n",
    "\n",
    "# start simulation\n",
    "Tf=100;  Nf=Tf+1 \n",
    "data=model.simulate(S_0, E_0, Ia_0, Is_0, C, Tf, Nf)"
   ]
  },
  {
   "cell_type": "code",
   "execution_count": 6,
   "metadata": {},
   "outputs": [
    {
     "data": {
      "image/png": "[encoded data removed]",
      "text/plain": [
       "<Figure size 432x288 with 1 Axes>"
      ]
     },
     "metadata": {
      "needs_background": "light"
     },
     "output_type": "display_data"
    }
   ],
   "source": [
    "IC  = np.zeros((Nf))\n",
    "for i in range(M):\n",
    "        IC += data['X'][:, 3*M+i] \n",
    "t = data['t']\n",
    "plt.plot(t, IC)\n",
    "plt.axvspan(0, T_intervention, \n",
    "           label='Pre intervention',\n",
    "           alpha=0.3, color='dodgerblue')\n",
    "plt.show() "
   ]
  },
  {
   "cell_type": "markdown",
   "metadata": {},
   "source": [
    "## 2) Infer the parameters of the model"
   ]
  },
  {
   "cell_type": "code",
   "execution_count": 7,
   "metadata": {},
   "outputs": [
    {
     "name": "stdout",
     "output_type": "stream",
     "text": [
      "-2704.6070142428025\n",
      "0.6483266353607178\n"
     ]
    },
    {
     "data": {
      "image/png": "[encoded data removed]",
      "text/plain": [
       "<Figure size 432x288 with 1 Axes>"
      ]
     },
     "metadata": {
      "needs_background": "light"
     },
     "output_type": "display_data"
    }
   ],
   "source": [
    "Tf = 20 # truncate to only getting the first few datapoints (up to lockdown) \n",
    "Nf = Tf+1\n",
    "\n",
    "x = data['X']\n",
    "x = (x/N)[:Nf]\n",
    "steps = 101 # number internal integration steps taken, must be an odd number \n",
    "\n",
    "# initialise the estimator \n",
    "estimator = pyross.inference.SEIR(parameters, M, fi, int(N), steps)\n",
    "\n",
    "# compute -log_p for the original (correct) parameters \n",
    "start_time = time.time() \n",
    "parameters = {'alpha':alpha, 'beta':beta, 'gIa':gIa, 'gIs':gIs, 'gE':gE, 'fsa':fsa}\n",
    "logp = estimator.obtain_minus_log_p(parameters, x, Tf, Nf, generator.constant_CM)\n",
    "end_time = time.time()\n",
    "print(logp) \n",
    "print(end_time - start_time)\n",
    "\n",
    "# Check the deterministic simulation against stochstic simulations with the same parameters and initial conditons \n",
    "# They are likely to be different due to the inherent stochasticity of the model \n",
    "Tf_initial = T_intervention # truncate to only getting the pre-intervention trajectory \n",
    "Nf_initial = Tf_initial+1\n",
    "contactMatrix = generator.constant_contactMatrix()\n",
    "det_model = pyross.deterministic.SEIR(parameters, int(M), fi)\n",
    "estimator = pyross.inference.SEIR(parameters, M, fi, int(N), steps)\n",
    "xm = estimator.integrate(x[0], 0, Tf_initial, Nf_initial, det_model, contactMatrix)\n",
    "t = np.linspace(0, Tf_initial, Nf_initial)\n",
    "plt.plot(t, np.sum(x[:,3*M:4*M], axis=1))\n",
    "plt.plot(t, np.sum(xm[:,3*M:4*M], axis=1))\n",
    "plt.show()\n",
    "\n",
    "# plt.plot(x[:, 3*M])\n",
    "# plt.show()"
   ]
  },
  {
   "cell_type": "code",
   "execution_count": 8,
   "metadata": {},
   "outputs": [
    {
     "name": "stdout",
     "output_type": "stream",
     "text": [
      "Starting global minimisation...\n",
      "(8_w,16)-aCMA-ES (mu_w=4.8,w_1=32%) in dimension 5 (seed=995064, Thu May  7 17:40:35 2020)\n",
      "Iterat #Fevals   function value  axis ratio  sigma  min&max std  t[m:s]\n",
      "    1     16 -1.824687542596237e+03 1.0e+00 8.83e-01  4e-02  1e-01 0:10.9\n",
      "    2     32 -2.308467301870556e+03 1.5e+00 8.34e-01  3e-02  9e-02 0:21.0\n",
      "    3     48 -2.669963776654247e+03 1.7e+00 7.79e-01  2e-02  8e-02 0:29.4\n",
      "    4     64 -2.377960761552778e+03 2.1e+00 7.80e-01  2e-02  8e-02 0:38.4\n",
      "    5     80 -2.671926015433986e+03 2.6e+00 6.46e-01  2e-02  7e-02 0:47.7\n",
      "    6     96 -2.484460508091116e+03 3.1e+00 5.39e-01  1e-02  6e-02 0:56.7\n",
      "    7    112 -2.637629757575628e+03 3.7e+00 4.96e-01  8e-03  5e-02 1:07.8\n",
      "    8    128 -2.632567258440247e+03 4.3e+00 4.33e-01  6e-03  5e-02 1:17.9\n",
      "    9    144 -2.700660655555940e+03 4.6e+00 3.66e-01  5e-03  4e-02 1:26.2\n",
      "   11    176 -2.695270880038649e+03 5.7e+00 3.14e-01  4e-03  3e-02 1:42.1\n",
      "   13    208 -2.700869352268702e+03 6.6e+00 2.76e-01  2e-03  3e-02 1:57.5\n",
      "   15    240 -2.708268109491039e+03 7.7e+00 2.34e-01  2e-03  2e-02 2:15.3\n",
      "   17    272 -2.706141281361285e+03 8.8e+00 2.50e-01  2e-03  3e-02 2:31.7\n",
      "   19    304 -2.712440571912071e+03 1.3e+01 2.10e-01  1e-03  3e-02 2:48.1\n",
      "Optimal value (global minimisation):  -2714.004812729426\n",
      "Starting local minimisation...\n",
      "Optimal value (local minimisation):  -2715.262290420305\n",
      "[0.22409558 0.04030519 0.15006412 0.13582325 0.09893409]\n",
      "221.8709897994995\n"
     ]
    }
   ],
   "source": [
    "# take a guess \n",
    "eps = 1e-4 # step used to calculate hessian in the optimisation algorithm \n",
    "alpha_g = 0.2\n",
    "alpha_std = 0.1 \n",
    "alpha_bounds = (eps, 1-2*eps)\n",
    "# the bound for alpha must be 1-2*eps to avoid alpha>1 in hessian calculation performed by optimizer \n",
    "\n",
    "beta_g = 0.045\n",
    "beta_std = 0.05 \n",
    "beta_bounds = (eps, 1)\n",
    "\n",
    "gIa_g = 0.145\n",
    "gIa_std = 0.1 \n",
    "gIa_bounds = (eps, 1)\n",
    "\n",
    "gIs_g = 0.145\n",
    "gIs_std = 0.1 \n",
    "gIs_bounds = (eps, 1) \n",
    "\n",
    "gE_g = 0.15\n",
    "gE_std = 0.05\n",
    "gE_bounds = (eps, 1)\n",
    "\n",
    "guess = np.array([alpha_g, beta_g, gIa_g, gIs_g, gE_g])\n",
    "stds = np.array([alpha_std, beta_std, gIa_std, gIs_std, gE_std])\n",
    "bounds = np.array([alpha_bounds, beta_bounds, gIa_bounds, gIs_bounds, gE_bounds])\n",
    "\n",
    "start_time = time.time() \n",
    "params = estimator.inference(guess, stds, x, Tf, Nf, generator.constant_CM, bounds=bounds, \n",
    "                             global_max_iter=20, eps=eps, verbose=True)\n",
    "end_time = time.time()\n",
    "\n",
    "print(params) # best guess \n",
    "print(end_time - start_time)"
   ]
  },
  {
   "cell_type": "code",
   "execution_count": 9,
   "metadata": {},
   "outputs": [
    {
     "name": "stdout",
     "output_type": "stream",
     "text": [
      "True parameters:\n",
      "{'alpha': 0.2, 'beta': 0.04, 'gIa': 0.14285714285714285, 'gIs': 0.14285714285714285, 'gE': 0.1, 'fsa': 0.8}\n",
      "\n",
      "Inferred parameters:\n",
      "[0.22409558 0.04030519 0.15006412 0.13582325 0.09893409]\n"
     ]
    }
   ],
   "source": [
    "print(\"True parameters:\")\n",
    "print(true_parameters)\n",
    "\n",
    "print(\"\\nInferred parameters:\")\n",
    "print(params)"
   ]
  },
  {
   "cell_type": "markdown",
   "metadata": {},
   "source": [
    "## 3) Infer the change of contact structure"
   ]
  },
  {
   "cell_type": "code",
   "execution_count": 10,
   "metadata": {},
   "outputs": [
    {
     "name": "stdout",
     "output_type": "stream",
     "text": [
      "-9978.638033999872\n"
     ]
    }
   ],
   "source": [
    "aW_g = 0.6 \n",
    "aW_bounds = [0.1, 0.8]\n",
    "aS_g = 0.5\n",
    "aS_bounds = [0.1, 0.8]\n",
    "aO_g = 0.5\n",
    "aO_bounds = [0.1, 0.8]\n",
    "guess = np.array([aW_g, aS_g, aO_g])\n",
    "bounds = np.array([aW_bounds, aS_bounds, aO_bounds])\n",
    "stds = np.array([0.1, 0.2, 0.15])\n",
    "\n",
    "x = data['X']/N\n",
    "x = x[22:]\n",
    "Nf = x.shape[0] \n",
    "Tf = Nf-1 \n",
    "\n",
    "times = [Tf+1]\n",
    "interventions = [[aW, aS, aO]]\n",
    "contactMatrix = generator.interventions_temporal(times=times,interventions=interventions)\n",
    "\n",
    "# compute -log_p for the initial guess (for the moment, use correct parameters)\n",
    "logp = estimator.obtain_minus_log_p(parameters, x, Tf, Nf, contactMatrix)\n",
    "print(logp) "
   ]
  },
  {
   "cell_type": "code",
   "execution_count": 11,
   "metadata": {},
   "outputs": [
    {
     "name": "stdout",
     "output_type": "stream",
     "text": [
      "Starting global minimisation...\n",
      "(8_w,16)-aCMA-ES (mu_w=4.8,w_1=32%) in dimension 3 (seed=1047720, Thu May  7 17:44:19 2020)\n",
      "Iterat #Fevals   function value  axis ratio  sigma  min&max std  t[m:s]\n",
      "    1     16 -9.896601739099597e+03 1.0e+00 1.15e+00  1e-01  3e-01 0:42.0\n",
      "    2     32 -9.928522554588908e+03 1.8e+00 9.62e-01  9e-02  2e-01 1:27.0\n",
      "    3     48 -9.917888272640501e+03 1.8e+00 1.01e+00  8e-02  2e-01 2:05.4\n",
      "    4     64 -9.941632194116701e+03 2.2e+00 1.15e+00  8e-02  3e-01 2:46.7\n",
      "    5     80 -9.950450070414601e+03 3.1e+00 8.95e-01  6e-02  2e-01 3:28.9\n",
      "    6     96 -9.910922827424989e+03 2.9e+00 8.45e-01  5e-02  2e-01 4:06.2\n",
      "    7    112 -9.940902777416944e+03 3.3e+00 9.19e-01  4e-02  2e-01 4:44.3\n",
      "    8    128 -9.937084570206811e+03 5.1e+00 9.91e-01  4e-02  2e-01 5:22.7\n",
      "    9    144 -9.948721403321915e+03 4.9e+00 7.96e-01  3e-02  2e-01 5:58.5\n",
      "   10    160 -9.950572347292673e+03 5.6e+00 7.76e-01  3e-02  1e-01 6:34.6\n",
      "   11    176 -9.952130735002853e+03 4.5e+00 7.27e-01  3e-02  1e-01 7:10.0\n",
      "   12    192 -9.950929821857177e+03 3.9e+00 6.67e-01  2e-02  8e-02 7:44.7\n",
      "   13    208 -9.951382027315387e+03 4.1e+00 5.49e-01  2e-02  6e-02 8:20.7\n",
      "   14    224 -9.951114965519870e+03 4.2e+00 5.05e-01  2e-02  5e-02 8:55.4\n",
      "   15    240 -9.951278514447291e+03 4.3e+00 3.82e-01  1e-02  3e-02 9:31.0\n",
      "   16    256 -9.952162400663117e+03 3.7e+00 3.39e-01  9e-03  2e-02 10:07.3\n",
      "   17    272 -9.952053480059896e+03 4.2e+00 3.46e-01  8e-03  2e-02 10:44.1\n",
      "   18    288 -9.951984042419013e+03 3.8e+00 2.97e-01  6e-03  2e-02 11:28.3\n",
      "   19    304 -9.952235858114524e+03 3.6e+00 2.21e-01  4e-03  1e-02 12:13.5\n",
      "   20    320 -9.952256844749534e+03 4.0e+00 2.06e-01  4e-03  8e-03 13:16.8\n",
      "Optimal value (global minimisation):  -9952.256844749534\n",
      "Starting local minimisation...\n",
      "Optimal value (local minimisation):  -9952.259026734933\n",
      "[0.50601402 0.62694315 0.58052729]\n",
      "858.2318484783173\n"
     ]
    }
   ],
   "source": [
    "eps = 1e-3 \n",
    "start_time = time.time() \n",
    "\n",
    "parameters = estimator.make_params_dict(params)\n",
    "estimator.set_params(parameters) \n",
    "params = estimator.infer_control(guess, stds, x, Tf, Nf, generator, bounds,\n",
    "                                 global_max_iter=20, eps=eps, verbose=True)\n",
    "end_time = time.time()\n",
    "\n",
    "print(params) # best guess \n",
    "print(end_time - start_time)"
   ]
  },
  {
   "cell_type": "code",
   "execution_count": 12,
   "metadata": {},
   "outputs": [
    {
     "name": "stdout",
     "output_type": "stream",
     "text": [
      "True lockdown factors:\n",
      "[0.5, 0.6, 0.6]\n",
      "\n",
      "Inferred lockdown factors:\n",
      "[0.50601402 0.62694315 0.58052729]\n"
     ]
    }
   ],
   "source": [
    "print(\"True lockdown factors:\")\n",
    "print([aW, aS, aO])\n",
    "\n",
    "print(\"\\nInferred lockdown factors:\")\n",
    "print(params)"
   ]
  }
 ],
 "metadata": {
  "kernelspec": {
   "display_name": "Python 3",
   "language": "python",
   "name": "python3"
  },
  "language_info": {
   "codemirror_mode": {
    "name": "ipython",
    "version": 3
   },
   "file_extension": ".py",
   "mimetype": "text/x-python",
   "name": "python",
   "nbconvert_exporter": "python",
   "pygments_lexer": "ipython3",
   "version": "3.7.6"
  }
 },
 "nbformat": 4,
 "nbformat_minor": 4
}
