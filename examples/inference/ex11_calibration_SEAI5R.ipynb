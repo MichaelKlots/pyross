{
 "cells": [
  {
   "cell_type": "markdown",
   "metadata": {},
   "source": [
    "# Calibration (SEAI5R model)\n",
    "Using generated data, we test if we can infer that a lockdown has happened and how the contact parameters have changed.\n",
    "To do this, we generate a test trajectory with a lockdown at time $20$. \n",
    "The lockdown is implemented by scaling the contact matrices (for work, school, other).\n",
    "We use the data points up to the lockdown to infer the parameters of the SEAI5R model.\n",
    "Using the data after lockdown and the inferred parameters, we infer the change of the contact structure.\n",
    "\n",
    "For the pre-intervention period, we infer the following parameters: \n",
    "* $\\alpha$ (fraction of asymptomatic infectives), \n",
    "* $\\beta$ (probability of infection on contact), \n",
    "* $\\gamma_{I_a}$ (rate of recovery for asymptomatic infected individuals), \n",
    "* $\\gamma_{I_s}$ (rate of recovery for symptomatic infected individuals), \n",
    "* $\\gamma_\\mathrm{E}$ (rate of exposed -> activated), \n",
    "* $\\gamma_\\mathrm{A}$ (rate of activated -> infected, symptomatic or asymptomatic)\n",
    "\n",
    "For the post-intervention period, we infer the following control parameters: \n",
    "* $a_\\mathrm{W}$ fraction of work contact, \n",
    "* $a_\\mathrm{S}$ fraction of social contact, \n",
    "* $a_\\mathrm{O}$ fraction of other contacts "
   ]
  },
  {
   "cell_type": "code",
   "execution_count": 1,
   "metadata": {},
   "outputs": [],
   "source": [
    "%%capture\n",
    "## compile PyRoss for this notebook\n",
    "import os\n",
    "owd = os.getcwd()\n",
    "os.chdir('../../')\n",
    "%run setup.py install\n",
    "os.chdir(owd)"
   ]
  },
  {
   "cell_type": "code",
   "execution_count": 2,
   "metadata": {},
   "outputs": [],
   "source": [
    "%matplotlib inline\n",
    "import numpy as np\n",
    "import pyross\n",
    "import pandas as pd\n",
    "import time \n",
    "import matplotlib.pyplot as plt\n",
    "from scipy.io import loadmat"
   ]
  },
  {
   "cell_type": "markdown",
   "metadata": {},
   "source": [
    "## 1) Generate a trajectory"
   ]
  },
  {
   "cell_type": "code",
   "execution_count": 3,
   "metadata": {},
   "outputs": [],
   "source": [
    "# population and age classes (4 age groups, UK contact structure)\n",
    "M = 4  # number of age classes\n",
    "\n",
    "my_data = np.genfromtxt('../data/age_structures/UK.csv', delimiter=',', skip_header=1)\n",
    "aM, aF  = my_data[:, 1], my_data[:, 2]\n",
    "\n",
    "Ni0=aM+aF;   Ni=np.zeros((M))\n",
    "\n",
    "# scale the population down to a more manageble level \n",
    "Ni[0] = (np.sum(Ni0[0:4])).astype('int')\n",
    "Ni[1] = (np.sum(Ni0[4:8])).astype('int')\n",
    "Ni[2] = (np.sum(Ni0[8:12])).astype('int')\n",
    "Ni[3] = (np.sum(Ni0[12:16])).astype('int')\n",
    "N = np.sum(Ni)\n",
    "fi = Ni/N \n",
    "\n",
    "# Get individual contact matrices\n",
    "CH0, CW0, CS0, CO0 = pyross.contactMatrix.UK()\n",
    "\n",
    "CH = np.zeros((M, M))\n",
    "CW = np.zeros((M, M))\n",
    "CS = np.zeros((M, M))\n",
    "CO = np.zeros((M, M))\n",
    "\n",
    "for i in range(16):\n",
    "    CH0[i,:] = CH0[i,:]*Ni0[i]\n",
    "    CW0[i,:] = CW0[i,:]*Ni0[i]\n",
    "    CS0[i,:] = CS0[i,:]*Ni0[i]\n",
    "    CO0[i,:] = CO0[i,:]*Ni0[i]\n",
    "\n",
    "for i in range(M):\n",
    "    for j in range(M):\n",
    "        i1, j1 = i*4, j*4\n",
    "        CH[i,j] = np.sum( CH0[i1:i1+4, j1:j1+4] )/Ni[i]\n",
    "        CW[i,j] = np.sum( CW0[i1:i1+4, j1:j1+4] )/Ni[i]\n",
    "        CS[i,j] = np.sum( CS0[i1:i1+4, j1:j1+4] )/Ni[i]\n",
    "        CO[i,j] = np.sum( CO0[i1:i1+4, j1:j1+4] )/Ni[i]\n",
    "\n",
    "# Make the numbers a bit smaller to speed up the simluations\n",
    "Ni = np.array(Ni / 5e2, dtype=np.int)\n",
    "N = sum(Ni)"
   ]
  },
  {
   "cell_type": "code",
   "execution_count": 4,
   "metadata": {},
   "outputs": [],
   "source": [
    "# Generate class with contact matrix for SIR-type model with UK contact structure\n",
    "generator = pyross.contactMatrix.ContactMatrixFunction(CH, CW, CS, CO)\n",
    "\n",
    "T_intervention = 20\n",
    "times= [T_intervention] # temporal boundaries between different contact-behaviour\n",
    "\n",
    "aW, aS, aO = 0.4, 0.4, 0.4\n",
    "\n",
    "# prefactors for CW, CS, CO:\n",
    "interventions = [[1.0,1.0,1.0],      # before first time\n",
    "                 [aW, aS, aO],       # after first time\n",
    "                ]         \n",
    "\n",
    "# generate corresponding contact matrix function\n",
    "C = generator.interventions_temporal(times=times,interventions=interventions)"
   ]
  },
  {
   "cell_type": "code",
   "execution_count": 5,
   "metadata": {},
   "outputs": [
    {
     "name": "stdout",
     "output_type": "stream",
     "text": [
      "[31268 35668 35526 25759]\n"
     ]
    }
   ],
   "source": [
    "beta  = 0.04         # infection rate\n",
    "gIa   = 1./7         # recovery rate of asymptomatic infectives\n",
    "gIs   = 1./7         # recovery rate of symptomatic infectives    \n",
    "gIh   = 1/14         # recovery rate of hospitalised infectives\n",
    "gIc   = 1/14         # recovery rate of intensive care (IC) infectives\n",
    "alpha = 0.2          # fraction of asymptomatic infectives\n",
    "fsa   = 0.8          # the self-isolation parameter\n",
    "fh    = 0.1 \n",
    "gE    = 1/5          # rate of exposed to activated\n",
    "gA    = 1/3          # rate of activated to infected\n",
    "\n",
    "hh = 0.1*np.ones(M)      # fraction which goes from Is to hospital\n",
    "cc = 0.05*np.ones(M)     # fraction which goes from  hospital to ICU \n",
    "mm = 0.4*np.ones(M)      # mortality from IC\n",
    "sa = 0  # change in the population, not taken into account by inference at the moment \n",
    "\n",
    "\n",
    "# initial conditions\n",
    "E0   = np.array([10]*M)\n",
    "A0   = np.array([10]*M)\n",
    "Ia0  = np.array([10]*M)  # each age group has asymptomatic infectives\n",
    "Is0  = np.array([10]*M)  # and also symptomatic infectives\n",
    "Ih0  = np.array([10]*M)\n",
    "Ic0  = np.array([10]*M)\n",
    "Im0  = np.array([2]*M)\n",
    "R0   = np.zeros(M)\n",
    "S0   = Ni - (Ia0+Is0+R0+E0+A0+Ih0+Ic0+Im0)\n",
    "\n",
    "parameters = {'alpha':alpha,'beta':beta, 'gIa':gIa,'gIs':gIs, 'gIh':gIh,'gIc':gIc, \n",
    "              'gE':gE, 'gA':gA, 'fsa':fsa, 'fh':fh, 'sa':sa, 'hh':hh, 'cc':cc,\n",
    "              'mm':mm}\n",
    "true_parameters = parameters\n",
    "model = pyross.stochastic.SEAI5R(parameters, M, Ni)\n",
    "print(Ni)\n",
    "\n",
    "# start simulation\n",
    "Tf = 100\n",
    "Nf = Tf+1 \n",
    "data = model.simulate(S0, E0, A0, Ia0, Is0, Ih0, Ic0, Im0, C, Tf, Nf)"
   ]
  },
  {
   "cell_type": "code",
   "execution_count": 6,
   "metadata": {
    "scrolled": true
   },
   "outputs": [
    {
     "data": {
      "image/png": "[encoded data removed]",
      "text/plain": [
       "<Figure size 432x288 with 1 Axes>"
      ]
     },
     "metadata": {
      "needs_background": "light"
     },
     "output_type": "display_data"
    }
   ],
   "source": [
    "# plot the stochastic solution \n",
    "plt.plot(data['X'][:, M], label='E')\n",
    "plt.plot(data['X'][:, 2*M], label='A')\n",
    "plt.plot(data['X'][:, 3*M], label='Ia')\n",
    "plt.plot(data['X'][:, 4*M], label='Is')\n",
    "plt.plot(data['X'][:, 5*M], label='Ih')\n",
    "plt.plot(data['X'][:, 6*M], label='Ic')\n",
    "plt.plot(data['X'][:, 7*M], label='Im')\n",
    "plt.axvspan(0, T_intervention, \n",
    "           label='Pre intervention',\n",
    "           alpha=0.1, color='dodgerblue')\n",
    "plt.legend()\n",
    "plt.show()"
   ]
  },
  {
   "cell_type": "markdown",
   "metadata": {},
   "source": [
    "## 2) Infer the parameters of the model"
   ]
  },
  {
   "cell_type": "code",
   "execution_count": 7,
   "metadata": {},
   "outputs": [
    {
     "name": "stdout",
     "output_type": "stream",
     "text": [
      "-6319.377533633682\n",
      "12.735768795013428\n"
     ]
    },
    {
     "data": {
      "image/png": "[encoded data removed]",
      "text/plain": [
       "<Figure size 432x288 with 1 Axes>"
      ]
     },
     "metadata": {
      "needs_background": "light"
     },
     "output_type": "display_data"
    }
   ],
   "source": [
    "Tf = 20 # truncate to only getting the first few datapoints (up to lockdown)\n",
    "Nf = Tf+1\n",
    "\n",
    "x = data['X']\n",
    "x = (x/N)[:Nf,:8*M]\n",
    "steps = 101 # number internal integration steps taken, must be an odd number \n",
    "\n",
    "\n",
    "# initialise the estimator \n",
    "estimator = pyross.inference.SEAI5R(parameters, M, fi, int(N), steps)\n",
    "\n",
    "# compute -log_p for the original (correct) parameters \n",
    "start_time = time.time() \n",
    "logp = estimator.obtain_minus_log_p(parameters, x, Tf, Nf, generator.constant_CM)\n",
    "end_time = time.time()\n",
    "print(logp) \n",
    "print(end_time - start_time)\n",
    "\n",
    "# Check the deterministic simulation against stochstic simulations with the same parameters and initial conditons \n",
    "# They are likely to be different due to the inherent stochasticity of the model \n",
    "Tf_initial = T_intervention # truncate to only getting the pre-intervention trajectory \n",
    "Nf_initial = Tf_initial+1\n",
    "contactMatrix = generator.constant_contactMatrix()\n",
    "det_model = pyross.deterministic.SEAI5R(parameters, int(M), fi)\n",
    "estimator = pyross.inference.SEAI5R(parameters, M, fi, int(N), steps)\n",
    "xm = estimator.integrate(x[0], 0, Tf_initial, Nf_initial, det_model, contactMatrix)\n",
    "t = np.linspace(0, Tf_initial, Nf_initial)\n",
    "plt.plot(t, x[:, M])\n",
    "plt.plot(t, xm[:, M])\n",
    "plt.show()"
   ]
  },
  {
   "cell_type": "code",
   "execution_count": null,
   "metadata": {},
   "outputs": [
    {
     "name": "stdout",
     "output_type": "stream",
     "text": [
      "Starting global minimisation...\n",
      "(8_w,16)-aCMA-ES (mu_w=4.8,w_1=32%) in dimension 6 (seed=3494140995, Mon May 18 10:22:30 2020)\n"
     ]
    }
   ],
   "source": [
    "# take a guess\n",
    "alpha_g = 0.25\n",
    "alpha_std = 0.2 \n",
    "alpha_b = (0.1,0.5)\n",
    "\n",
    "beta_g = 0.03\n",
    "beta_std = 0.1 \n",
    "beta_b = (1e-3, 1)\n",
    "\n",
    "gIa_g = 0.15  \n",
    "gIa_std = 0.05 \n",
    "gIa_b = (0.01, 1)\n",
    "\n",
    "gIs_g = 0.13 \n",
    "gIs_std = 0.05 \n",
    "gIs_b = (0.01, 1)\n",
    "\n",
    "gE_g = 0.2\n",
    "gE_std = 0.05 \n",
    "gE_b = (0.01, 1)\n",
    "\n",
    "gA_g = 0.3 \n",
    "gA_std = 0.1 \n",
    "gA_b = (0.01, 1) \n",
    "\n",
    "# optimisation parameters \n",
    "eps = 1e-4 # step used to calculate hessian in the optimisation algorithm \n",
    "ftol = 1e-5 # the relative tol in (-logp)  \n",
    "\n",
    "# the bound for alpha must be 1-2*eps to avoid alpha>1 in hessian calculation performed by optimizer \n",
    "bounds = np.array([alpha_b, beta_b, gIa_b, gIs_b, gE_b, gA_b])\n",
    "# stds of the model parameters' priors\n",
    "stds = np.array([alpha_std, beta_std, gIa_std, gIs_std, gE_std, gA_std])\n",
    "\n",
    "# make an initial guess and do inference \n",
    "guess = np.array([alpha_g, beta_g, gIa_g, gIs_g, gE_g, gA_g])\n",
    "params = estimator.inference(guess, stds, x, Tf, Nf, generator.constant_CM, bounds=bounds, \n",
    "                             verbose=True, global_max_iter=5, global_ftol_factor=1e3, \n",
    "                             ftol=ftol, eps=eps)"
   ]
  },
  {
   "cell_type": "code",
   "execution_count": null,
   "metadata": {},
   "outputs": [],
   "source": [
    "print(\"True parameters:\")\n",
    "print(true_parameters)\n",
    "\n",
    "print(\"\\nInferred parameters:\")\n",
    "print(estimator.make_params_dict(params))"
   ]
  },
  {
   "cell_type": "code",
   "execution_count": null,
   "metadata": {},
   "outputs": [],
   "source": [
    "## calculate hessian\n",
    "hess = estimator.hessian(params, guess, stds, x, Tf, Nf, generator.constant_CM)"
   ]
  },
  {
   "cell_type": "code",
   "execution_count": null,
   "metadata": {},
   "outputs": [],
   "source": [
    "np.linalg.cholesky(hess) #if error is thrown, it is not positive definite "
   ]
  },
  {
   "cell_type": "markdown",
   "metadata": {},
   "source": [
    "## 3) Infer the change of contact structure "
   ]
  },
  {
   "cell_type": "code",
   "execution_count": null,
   "metadata": {},
   "outputs": [],
   "source": [
    "## guesses and bounds for control parameters\n",
    "aW_g = 0.5 \n",
    "aW_std = 0.2\n",
    "aW_bounds = [0.2, 0.8]\n",
    "\n",
    "aS_g = 0.5\n",
    "aS_std = 0.2 \n",
    "aS_bounds = [0.2, 0.8]\n",
    "\n",
    "aO_g = 0.4\n",
    "aO_std = 0.1\n",
    "aO_bounds = [0.2, 0.8]\n",
    "\n",
    "guess = np.array([aW_g, aS_g, aO_g])\n",
    "stds = np.array([aW_std, aS_std, aO_std])\n",
    "bounds = np.array([aW_bounds, aS_bounds, aO_bounds])\n",
    "\n",
    "x = data['X']/N\n",
    "x = x[21:61, :8*M]  # Only take the first 30 values after lockdown\n",
    "Nf = x.shape[0] \n",
    "Tf = Nf-1 \n",
    "\n",
    "times = [Tf+1]\n",
    "interventions = [[aW, aS, aO]]\n",
    "contactMatrix = generator.interventions_temporal(times=times,interventions=interventions)\n",
    "\n",
    "# compute -log_p for the initial guess (for the moment, use correct parameters)\n",
    "logp = estimator.obtain_minus_log_p(parameters, x, Tf, Nf, contactMatrix)\n",
    "print(logp)\n",
    "# x = (np.load('post_intervention_SEAI5R_traj.npy')[:, :8*M])/N \n",
    "# cut the trajectory \n",
    "# Tf_control = 30 \n",
    "# Nf_control = Tf_control+1 \n",
    "# x = x[:Nf_control]"
   ]
  },
  {
   "cell_type": "code",
   "execution_count": null,
   "metadata": {
    "scrolled": true
   },
   "outputs": [],
   "source": [
    "eps = 1e-3\n",
    "ftol = 1e-5 \n",
    "start_time = time.time() \n",
    "params_control  = estimator.infer_control(guess, stds, x, Tf, Nf, generator, bounds,\n",
    "                                          global_max_iter=5, global_ftol_factor=1e4, verbose=True, \n",
    "                                          ftol=ftol, eps=eps)\n",
    "\n",
    "# sometimes produce errors if input is bad, ignore and let basinhopping do its magic\n",
    "end_time = time.time()\n",
    "print(params_control) # best guess \n",
    "print(end_time - start_time)"
   ]
  },
  {
   "cell_type": "code",
   "execution_count": null,
   "metadata": {},
   "outputs": [],
   "source": [
    "print(\"True lockdown factors:\")\n",
    "print([aW, aS, aO])\n",
    "\n",
    "print(\"\\nInferred lockdown factors:\")\n",
    "print(params_control)"
   ]
  },
  {
   "cell_type": "code",
   "execution_count": null,
   "metadata": {},
   "outputs": [],
   "source": [
    "times = [T_intervention]\n",
    "\n",
    "x = data['X']/N\n",
    "x_pre = x[:T_intervention]\n",
    "x_post = x[T_intervention:]\n",
    "\n",
    "parameters = estimator.make_params_dict(params)\n",
    "estimator.set_params(parameters)\n",
    "\n",
    "inferred_interventions = [[1.0,1.0,1.0],      # before first time\n",
    "                 params_control,       # after first time\n",
    "                ]         \n",
    "\n",
    "print(params_control)\n",
    "no_interventions = [[1.0,1.0,1.0],[1.0,1.0,1.0],]\n",
    "\n",
    "# compare the true trajectory with the \n",
    "contactMatrix_inter = generator.interventions_temporal(times=times,interventions=inferred_interventions)\n",
    "contactMatrix_nointer = generator.interventions_temporal(times=times,interventions=no_interventions)\n",
    "\n",
    "Tf=100;  Nf=Tf+1 \n",
    "\n",
    "\n",
    "## create deterministic model\n",
    "det_model = pyross.deterministic.SEAI5R(parameters, M, fi)\n",
    "\n",
    "## integrate up with the inference on control and without\n",
    "x_det_control = estimator.integrate(x_pre[0], 0, Tf, Nf, det_model, contactMatrix_inter)\n",
    "x_det_control= np.asarray(x_det_control)\n",
    "\n",
    "x_det_nocontrol = estimator.integrate(x_pre[0], 0, Tf, Nf, det_model, contactMatrix_nointer)\n",
    "x_det_nocontrol= np.asarray(x_det_nocontrol)\n",
    "\n",
    "\n",
    "### Plotting in particular style all the infected/exposed classes A, E, and all I classes\n",
    "x = np.vstack((x_pre, x_post))\n",
    "## Summing all infected classes\n",
    "infected_tot = np.sum(x[:,1*M:7*M], axis=1)\n",
    "infected_tot_control = np.sum(x_det_control[:,1*M:7*M], axis=1)\n",
    "infected_tot_nocontrol = np.sum(x_det_nocontrol[:,1*M:7*M], axis=1)\n",
    "\n",
    "## Plotting image\n",
    "ylabel=r'Fraction of infectives'\n",
    "fontsize=25\n",
    "fig, ax = plt.subplots(1,1,figsize=(7,5))\n",
    "ax.axvspan(0, 20, \n",
    "           label='Before Intervention',\n",
    "           alpha=0.3, color='dodgerblue')\n",
    "\n",
    "ax.plot(infected_tot_control, label='with Control Inference')\n",
    "ax.plot(infected_tot_nocontrol, label='without Control Inference')\n",
    "ax.plot(infected_tot, '--r', label='Actual Model Infectives')\n",
    "\n",
    "ax.set_xlim(0,Tf)\n",
    "ax.set_ylabel(ylabel,fontsize=fontsize)\n",
    "ax.set_xlabel(r'$t$ [days]',fontsize=fontsize)\n",
    "ax.legend(loc='upper right',bbox_to_anchor=(1.6,1),\n",
    "          fontsize=15)\n",
    "plt.show()\n",
    "print(params_control)"
   ]
  },
  {
   "cell_type": "code",
   "execution_count": null,
   "metadata": {},
   "outputs": [],
   "source": []
  }
 ],
 "metadata": {
  "kernelspec": {
   "display_name": "Python 3",
   "language": "python",
   "name": "python3"
  },
  "language_info": {
   "codemirror_mode": {
    "name": "ipython",
    "version": 3
   },
   "file_extension": ".py",
   "mimetype": "text/x-python",
   "name": "python",
   "nbconvert_exporter": "python",
   "pygments_lexer": "ipython3",
   "version": "3.6.9"
  }
 },
 "nbformat": 4,
 "nbformat_minor": 4
}
