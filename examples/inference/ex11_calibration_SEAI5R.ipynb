{
 "cells": [
  {
   "cell_type": "markdown",
   "metadata": {},
   "source": [
    "# Calibration (SEAI5R model)\n",
    "Using generated data, we test if we can infer that a lockdown has happened and how the contact parameters have changed.\n",
    "To do this, we generate a test trajectory with a lockdown at time $20$. \n",
    "The lockdown is implemented by scaling the contact matrices (for work, school, other).\n",
    "We use the data points up to the lockdown to infer the parameters of the SEAI5R model.\n",
    "Using the data after lockdown and the inferred parameters, we infer the change of the contact structure.\n",
    "\n",
    "For the pre-intervention period, we infer the following parameters: \n",
    "* $\\alpha$ (fraction of asymptomatic infectives), \n",
    "* $\\beta$ (probability of infection on contact), \n",
    "* $\\gamma_{I_a}$ (rate of recovery for asymptomatic infected individuals), \n",
    "* $\\gamma_{I_s}$ (rate of recovery for symptomatic infected individuals), \n",
    "* $\\gamma_\\mathrm{E}$ (rate of exposed -> activated), \n",
    "* $\\gamma_\\mathrm{A}$ (rate of activated -> infected, symptomatic or asymptomatic)\n",
    "\n",
    "For the post-intervention period, we infer the following control parameters: \n",
    "* $a_\\mathrm{W}$ fraction of work contact, \n",
    "* $a_\\mathrm{S}$ fraction of social contact, \n",
    "* $a_\\mathrm{O}$ fraction of other contacts "
   ]
  },
  {
   "cell_type": "code",
   "execution_count": 1,
   "metadata": {},
   "outputs": [],
   "source": [
    "%%capture\n",
    "## compile PyRoss for this notebook\n",
    "import os\n",
    "owd = os.getcwd()\n",
    "os.chdir('../../')\n",
    "%run setup.py install\n",
    "os.chdir(owd)"
   ]
  },
  {
   "cell_type": "code",
   "execution_count": 1,
   "metadata": {},
   "outputs": [],
   "source": [
    "%matplotlib inline\n",
    "import numpy as np\n",
    "import pyross\n",
    "import pandas as pd\n",
    "import time \n",
    "import matplotlib.pyplot as plt\n",
    "from scipy.io import loadmat"
   ]
  },
  {
   "cell_type": "markdown",
   "metadata": {},
   "source": [
    "## 1) Generate a trajectory"
   ]
  },
  {
   "cell_type": "code",
   "execution_count": 2,
   "metadata": {},
   "outputs": [],
   "source": [
    "# population and age classes (4 age groups, UK contact structure)\n",
    "M = 4  # number of age classes\n",
    "\n",
    "my_data = np.genfromtxt('../data/age_structures/UK.csv', delimiter=',', skip_header=1)\n",
    "aM, aF  = my_data[:, 1], my_data[:, 2]\n",
    "\n",
    "Ni0=aM+aF;   Ni=np.zeros((M))\n",
    "\n",
    "# scale the population down to a more manageble level \n",
    "Ni[0] = (np.sum(Ni0[0:4])).astype('int')\n",
    "Ni[1] = (np.sum(Ni0[4:8])).astype('int')\n",
    "Ni[2] = (np.sum(Ni0[8:12])).astype('int')\n",
    "Ni[3] = (np.sum(Ni0[12:16])).astype('int')\n",
    "N = np.sum(Ni)\n",
    "fi = Ni/N \n",
    "\n",
    "# Get individual contact matrices\n",
    "CH0, CW0, CS0, CO0 = pyross.contactMatrix.UK()\n",
    "\n",
    "CH = np.zeros((M, M))\n",
    "CW = np.zeros((M, M))\n",
    "CS = np.zeros((M, M))\n",
    "CO = np.zeros((M, M))\n",
    "\n",
    "for i in range(16):\n",
    "    CH0[i,:] = CH0[i,:]*Ni0[i]\n",
    "    CW0[i,:] = CW0[i,:]*Ni0[i]\n",
    "    CS0[i,:] = CS0[i,:]*Ni0[i]\n",
    "    CO0[i,:] = CO0[i,:]*Ni0[i]\n",
    "\n",
    "for i in range(M):\n",
    "    for j in range(M):\n",
    "        i1, j1 = i*4, j*4\n",
    "        CH[i,j] = np.sum( CH0[i1:i1+4, j1:j1+4] )/Ni[i]\n",
    "        CW[i,j] = np.sum( CW0[i1:i1+4, j1:j1+4] )/Ni[i]\n",
    "        CS[i,j] = np.sum( CS0[i1:i1+4, j1:j1+4] )/Ni[i]\n",
    "        CO[i,j] = np.sum( CO0[i1:i1+4, j1:j1+4] )/Ni[i]\n",
    "\n",
    "# Make the numbers a bit smaller to speed up the simluations\n",
    "Ni = np.array(Ni / 5e2, dtype=np.int)\n",
    "N = sum(Ni)"
   ]
  },
  {
   "cell_type": "code",
   "execution_count": 3,
   "metadata": {},
   "outputs": [],
   "source": [
    "# Generate class with contact matrix for SIR-type model with UK contact structure\n",
    "generator = pyross.contactMatrix.ContactMatrixFunction(CH, CW, CS, CO)\n",
    "\n",
    "T_intervention = 20\n",
    "times= [T_intervention] # temporal boundaries between different contact-behaviour\n",
    "\n",
    "aW, aS, aO = 0.4, 0.4, 0.4\n",
    "\n",
    "# prefactors for CW, CS, CO:\n",
    "interventions = [[1.0,1.0,1.0],      # before first time\n",
    "                 [aW, aS, aO],       # after first time\n",
    "                ]         \n",
    "\n",
    "# generate corresponding contact matrix function\n",
    "C = generator.interventions_temporal(times=times,interventions=interventions)"
   ]
  },
  {
   "cell_type": "code",
   "execution_count": 4,
   "metadata": {},
   "outputs": [
    {
     "name": "stdout",
     "output_type": "stream",
     "text": [
      "[31268 35668 35526 25759]\n"
     ]
    }
   ],
   "source": [
    "beta  = 0.04         # infection rate\n",
    "gIa   = 1./7         # recovery rate of asymptomatic infectives\n",
    "gIs   = 1./7         # recovery rate of symptomatic infectives    \n",
    "gIh   = 1/14         # recovery rate of hospitalised infectives\n",
    "gIc   = 1/14         # recovery rate of intensive care (IC) infectives\n",
    "alpha = 0.2          # fraction of asymptomatic infectives\n",
    "fsa   = 0.8          # the self-isolation parameter\n",
    "fh    = 0.1 \n",
    "gE    = 1/5          # rate of exposed to activated\n",
    "gA    = 1/3          # rate of activated to infected\n",
    "\n",
    "hh = 0.1*np.ones(M)      # fraction which goes from Is to hospital\n",
    "cc = 0.05*np.ones(M)     # fraction which goes from  hospital to ICU \n",
    "mm = 0.4*np.ones(M)      # mortality from IC\n",
    "sa = 0  # change in the population, not taken into account by inference at the moment \n",
    "\n",
    "\n",
    "# initial conditions\n",
    "E0   = np.array([10]*M)\n",
    "A0   = np.array([10]*M)\n",
    "Ia0  = np.array([10]*M)  # each age group has asymptomatic infectives\n",
    "Is0  = np.array([10]*M)  # and also symptomatic infectives\n",
    "Ih0  = np.array([10]*M)\n",
    "Ic0  = np.array([10]*M)\n",
    "Im0  = np.array([2]*M)\n",
    "R0   = np.zeros(M)\n",
    "S0   = Ni - (Ia0+Is0+R0+E0+A0+Ih0+Ic0+Im0)\n",
    "\n",
    "parameters = {'alpha':alpha,'beta':beta, 'gIa':gIa,'gIs':gIs, 'gIh':gIh,'gIc':gIc, \n",
    "              'gE':gE, 'gA':gA, 'fsa':fsa, 'fh':fh, 'sa':sa, 'hh':hh, 'cc':cc,\n",
    "              'mm':mm}\n",
    "true_parameters = parameters\n",
    "model = pyross.stochastic.SEAI5R(parameters, M, Ni)\n",
    "print(Ni)\n",
    "\n",
    "# start simulation\n",
    "Tf = 100\n",
    "Nf = Tf+1 \n",
    "data = model.simulate(S0, E0, A0, Ia0, Is0, Ih0, Ic0, Im0, C, Tf, Nf)"
   ]
  },
  {
   "cell_type": "code",
   "execution_count": 5,
   "metadata": {
    "scrolled": true
   },
   "outputs": [
    {
     "data": {
      "image/png": "[encoded data removed]",
      "text/plain": [
       "<Figure size 432x288 with 1 Axes>"
      ]
     },
     "metadata": {
      "needs_background": "light"
     },
     "output_type": "display_data"
    }
   ],
   "source": [
    "# plot the stochastic solution \n",
    "plt.plot(data['X'][:, M], label='E')\n",
    "plt.plot(data['X'][:, 2*M], label='A')\n",
    "plt.plot(data['X'][:, 3*M], label='Ia')\n",
    "plt.plot(data['X'][:, 4*M], label='Is')\n",
    "plt.plot(data['X'][:, 5*M], label='Ih')\n",
    "plt.plot(data['X'][:, 6*M], label='Ic')\n",
    "plt.plot(data['X'][:, 7*M], label='Im')\n",
    "plt.axvspan(0, T_intervention, \n",
    "           label='Pre intervention',\n",
    "           alpha=0.1, color='dodgerblue')\n",
    "plt.legend()\n",
    "plt.show()"
   ]
  },
  {
   "cell_type": "markdown",
   "metadata": {},
   "source": [
    "## 2) Infer the parameters of the model"
   ]
  },
  {
   "cell_type": "code",
   "execution_count": 6,
   "metadata": {},
   "outputs": [
    {
     "name": "stdout",
     "output_type": "stream",
     "text": [
      "-6341.311500131204\n",
      "7.700271844863892\n"
     ]
    },
    {
     "data": {
      "image/png": "[encoded data removed]",
      "text/plain": [
       "<Figure size 432x288 with 1 Axes>"
      ]
     },
     "metadata": {
      "needs_background": "light"
     },
     "output_type": "display_data"
    }
   ],
   "source": [
    "Tf = 20 # truncate to only getting the first few datapoints (up to lockdown)\n",
    "Nf = Tf+1\n",
    "\n",
    "x = data['X']\n",
    "x = (x/N)[:Nf,:8*M]\n",
    "steps = 101 # number internal integration steps taken, must be an odd number \n",
    "\n",
    "\n",
    "# initialise the estimator \n",
    "estimator = pyross.inference.SEAI5R(parameters, M, fi, int(N), steps)\n",
    "\n",
    "# compute -log_p for the original (correct) parameters \n",
    "start_time = time.time() \n",
    "logp = estimator.obtain_minus_log_p(parameters, x, Tf, Nf, generator.constant_CM)\n",
    "end_time = time.time()\n",
    "print(logp) \n",
    "print(end_time - start_time)\n",
    "\n",
    "# Check the deterministic simulation against stochstic simulations with the same parameters and initial conditons \n",
    "# They are likely to be different due to the inherent stochasticity of the model \n",
    "Tf_initial = T_intervention # truncate to only getting the pre-intervention trajectory \n",
    "Nf_initial = Tf_initial+1\n",
    "contactMatrix = generator.constant_contactMatrix()\n",
    "det_model = pyross.deterministic.SEAI5R(parameters, int(M), fi)\n",
    "estimator = pyross.inference.SEAI5R(parameters, M, fi, int(N), steps)\n",
    "xm = estimator.integrate(x[0], 0, Tf_initial, Nf_initial, det_model, contactMatrix)\n",
    "t = np.linspace(0, Tf_initial, Nf_initial)\n",
    "plt.plot(t, x[:, M])\n",
    "plt.plot(t, xm[:, M])\n",
    "plt.show()"
   ]
  },
  {
   "cell_type": "code",
   "execution_count": 12,
   "metadata": {},
   "outputs": [
    {
     "name": "stdout",
     "output_type": "stream",
     "text": [
      "Starting global minimisation...\n",
      "(8_w,16)-aCMA-ES (mu_w=4.8,w_1=32%) in dimension 6 (seed=1046188, Fri May  8 16:52:44 2020)\n",
      "Iterat #Fevals   function value  axis ratio  sigma  min&max std  t[m:s]\n",
      "    1     16 -6.007157216852213e+03 1.0e+00 8.91e-01  4e-02  2e-01 1:60.0\n",
      "    2     32 -6.061043733446664e+03 1.3e+00 7.26e-01  3e-02  1e-01 3:51.0\n",
      "    3     48 -6.311152767170627e+03 1.3e+00 5.77e-01  3e-02  1e-01 5:38.3\n",
      "    4     64 -6.308607035554873e+03 1.5e+00 5.37e-01  2e-02  1e-01 7:29.0\n",
      "    5     80 -6.300708132356875e+03 1.9e+00 5.30e-01  2e-02  1e-01 9:15.7\n",
      "    6     96 -6.320165492768427e+03 2.2e+00 5.32e-01  2e-02  1e-01 11:04.0\n",
      "    7    112 -6.247670805694482e+03 2.7e+00 5.44e-01  2e-02  1e-01 12:58.0\n",
      "    8    128 -6.339251700976043e+03 3.6e+00 6.03e-01  2e-02  1e-01 14:49.9\n",
      "    9    144 -6.290027848995837e+03 4.2e+00 5.06e-01  2e-02  9e-02 16:39.7\n",
      "   10    160 -6.290713301800025e+03 4.8e+00 4.71e-01  1e-02  9e-02 18:24.0\n",
      "   11    176 -6.344057872855586e+03 5.3e+00 3.93e-01  9e-03  7e-02 20:07.3\n",
      "   12    192 -6.345093515278671e+03 5.7e+00 3.55e-01  7e-03  7e-02 21:56.0\n",
      "   13    208 -6.339539585690252e+03 6.8e+00 3.28e-01  6e-03  6e-02 23:45.2\n",
      "   14    224 -6.336253168728283e+03 6.9e+00 2.72e-01  5e-03  4e-02 25:29.7\n",
      "   15    240 -6.342652241278480e+03 6.7e+00 2.41e-01  4e-03  4e-02 27:18.3\n",
      "Optimal value (global minimisation):  -6345.0935152786715\n",
      "Starting local minimisation...\n",
      "Optimal value (local minimisation):  -6349.717432709909\n"
     ]
    }
   ],
   "source": [
    "# take a guess\n",
    "alpha_g = 0.25\n",
    "alpha_std = 0.2 \n",
    "alpha_b = (0.1,0.5)\n",
    "\n",
    "beta_g = 0.03\n",
    "beta_std = 0.1 \n",
    "beta_b = (1e-3, 1)\n",
    "\n",
    "gIa_g = 0.15  \n",
    "gIa_std = 0.05 \n",
    "gIa_b = (0.01, 1)\n",
    "\n",
    "gIs_g = 0.13 \n",
    "gIs_std = 0.05 \n",
    "gIs_b = (0.01, 1)\n",
    "\n",
    "gE_g = 0.2\n",
    "gE_std = 0.05 \n",
    "gE_b = (0.01, 1)\n",
    "\n",
    "gA_g = 0.3 \n",
    "gA_std = 0.1 \n",
    "gA_b = (0.01, 1) \n",
    "\n",
    "# optimisation parameters \n",
    "eps = 1e-4 # step used to calculate hessian in the optimisation algorithm \n",
    "ftol = 1e-5 # the relative tol in (-logp)  \n",
    "\n",
    "# the bound for alpha must be 1-2*eps to avoid alpha>1 in hessian calculation performed by optimizer \n",
    "bounds = np.array([alpha_b, beta_b, gIa_b, gIs_b, gE_b, gA_b])\n",
    "# stds of the model parameters' priors\n",
    "stds = np.array([alpha_std, beta_std, gIa_std, gIs_std, gE_std, gA_std])\n",
    "\n",
    "# make an initial guess and do inference \n",
    "guess = np.array([alpha_g, beta_g, gIa_g, gIs_g, gE_g, gA_g])\n",
    "params = estimator.inference(guess, stds, x, Tf, Nf, generator.constant_CM, bounds=bounds, \n",
    "                             verbose=True, global_max_iter=15, global_ftol_factor=1e3, \n",
    "                             ftol=ftol, eps=eps)"
   ]
  },
  {
   "cell_type": "code",
   "execution_count": 13,
   "metadata": {},
   "outputs": [
    {
     "name": "stdout",
     "output_type": "stream",
     "text": [
      "True parameters:\n",
      "{'alpha': 0.2, 'beta': 0.04, 'gIa': 0.14285714285714285, 'gIs': 0.14285714285714285, 'gIh': 0.07142857142857142, 'gIc': 0.07142857142857142, 'gE': 0.2, 'gA': 0.3333333333333333, 'fsa': 0.8, 'fh': 0.1, 'sa': 0, 'hh': array([0.1, 0.1, 0.1, 0.1]), 'cc': array([0.05, 0.05, 0.05, 0.05]), 'mm': array([0.4, 0.4, 0.4, 0.4])}\n",
      "\n",
      "Inferred parameters:\n",
      "{'alpha': 0.17241520444236783, 'beta': 0.03932474523701204, 'gIa': 0.11653651391465403, 'gIs': 0.15082171620076879, 'gE': 0.19338100858124743, 'gA': 0.3505207059360725, 'gIh': 0.07142857142857142, 'gIc': 0.07142857142857142, 'fsa': 0.8, 'fh': 0.1, 'sa': 0, 'hh': array([0.1, 0.1, 0.1, 0.1]), 'cc': array([0.05, 0.05, 0.05, 0.05]), 'mm': array([0.4, 0.4, 0.4, 0.4])}\n"
     ]
    }
   ],
   "source": [
    "print(\"True parameters:\")\n",
    "print(true_parameters)\n",
    "\n",
    "print(\"\\nInferred parameters:\")\n",
    "print(estimator.make_params_dict(params))"
   ]
  },
  {
   "cell_type": "code",
   "execution_count": 14,
   "metadata": {},
   "outputs": [],
   "source": [
    "## calculate hessian\n",
    "hess = estimator.hessian(params, guess, stds, x, Tf, Nf, generator.constant_CM)"
   ]
  },
  {
   "cell_type": "code",
   "execution_count": 15,
   "metadata": {},
   "outputs": [
    {
     "data": {
      "text/plain": [
       "array([[ 7.98241132e+01,  0.00000000e+00,  0.00000000e+00,\n",
       "         0.00000000e+00,  0.00000000e+00,  0.00000000e+00],\n",
       "       [ 6.75008182e-01,  1.43971897e+03,  0.00000000e+00,\n",
       "         0.00000000e+00,  0.00000000e+00,  0.00000000e+00],\n",
       "       [-4.87574566e+01, -9.02071702e-02,  6.55896388e+01,\n",
       "         0.00000000e+00,  0.00000000e+00,  0.00000000e+00],\n",
       "       [ 3.82424262e+01, -2.27226146e-01,  9.28969262e+01,\n",
       "         1.17543277e+02,  0.00000000e+00,  0.00000000e+00],\n",
       "       [ 6.26714621e-01,  2.01840677e+00,  1.43021064e+00,\n",
       "        -1.17973678e+00,  2.28399914e+02,  0.00000000e+00],\n",
       "       [ 1.75268325e+00, -1.34315766e+00,  3.95214240e+00,\n",
       "        -1.96294203e+00,  2.38738852e-01,  1.03549543e+02]])"
      ]
     },
     "execution_count": 15,
     "metadata": {},
     "output_type": "execute_result"
    }
   ],
   "source": [
    "np.linalg.cholesky(hess) #if error is thrown, it is not positive definite "
   ]
  },
  {
   "cell_type": "markdown",
   "metadata": {},
   "source": [
    "## 3) Infer the change of contact structure "
   ]
  },
  {
   "cell_type": "code",
   "execution_count": 16,
   "metadata": {},
   "outputs": [
    {
     "name": "stdout",
     "output_type": "stream",
     "text": [
      "-11145.280405100542\n"
     ]
    }
   ],
   "source": [
    "## guesses and bounds for control parameters\n",
    "aW_g = 0.5 \n",
    "aW_std = 0.2\n",
    "aW_bounds = [0.2, 0.8]\n",
    "\n",
    "aS_g = 0.5\n",
    "aS_std = 0.2 \n",
    "aS_bounds = [0.2, 0.8]\n",
    "\n",
    "aO_g = 0.4\n",
    "aO_std = 0.1\n",
    "aO_bounds = [0.2, 0.8]\n",
    "\n",
    "guess = np.array([aW_g, aS_g, aO_g])\n",
    "stds = np.array([aW_std, aS_std, aO_std])\n",
    "bounds = np.array([aW_bounds, aS_bounds, aO_bounds])\n",
    "\n",
    "x = data['X']/N\n",
    "x = x[21:61, :8*M]  # Only take the first 30 values after lockdown\n",
    "Nf = x.shape[0] \n",
    "Tf = Nf-1 \n",
    "\n",
    "times = [Tf+1]\n",
    "interventions = [[aW, aS, aO]]\n",
    "contactMatrix = generator.interventions_temporal(times=times,interventions=interventions)\n",
    "\n",
    "# compute -log_p for the initial guess (for the moment, use correct parameters)\n",
    "logp = estimator.obtain_minus_log_p(parameters, x, Tf, Nf, contactMatrix)\n",
    "print(logp)\n",
    "# x = (np.load('post_intervention_SEAI5R_traj.npy')[:, :8*M])/N \n",
    "# cut the trajectory \n",
    "# Tf_control = 30 \n",
    "# Nf_control = Tf_control+1 \n",
    "# x = x[:Nf_control]"
   ]
  },
  {
   "cell_type": "code",
   "execution_count": 17,
   "metadata": {
    "scrolled": true
   },
   "outputs": [
    {
     "name": "stdout",
     "output_type": "stream",
     "text": [
      "Starting global minimisation...\n",
      "(8_w,16)-aCMA-ES (mu_w=4.8,w_1=32%) in dimension 3 (seed=1079846, Fri May  8 17:31:56 2020)\n",
      "Iterat #Fevals   function value  axis ratio  sigma  min&max std  t[m:s]\n",
      "    1     16 -1.111262835493157e+04 1.0e+00 1.10e+00  1e-01  2e-01 4:49.8\n",
      "    2     32 -1.111702985636448e+04 1.5e+00 9.33e-01  8e-02  2e-01 9:34.1\n",
      "    3     48 -1.112955933293232e+04 1.7e+00 8.85e-01  8e-02  2e-01 14:15.3\n",
      "    4     64 -1.114311025195388e+04 1.8e+00 6.74e-01  5e-02  1e-01 19:10.1\n",
      "    5     80 -1.114212002206239e+04 2.0e+00 4.89e-01  4e-02  7e-02 23:52.1\n",
      "Optimal value (global minimisation):  -11143.110251953876\n",
      "Starting local minimisation...\n",
      "Optimal value (local minimisation):  -11148.425144309542\n",
      "[0.39139311 0.39118029 0.40805437]\n",
      "1878.6712155342102\n"
     ]
    }
   ],
   "source": [
    "eps = 1e-3\n",
    "ftol = 1e-5 \n",
    "start_time = time.time() \n",
    "params_control  = estimator.infer_control(guess, stds, x, Tf, Nf, generator, bounds,\n",
    "                                          global_max_iter=5, global_ftol_factor=1e4, verbose=True, \n",
    "                                          ftol=ftol, eps=eps)\n",
    "\n",
    "# sometimes produce errors if input is bad, ignore and let basinhopping do its magic\n",
    "end_time = time.time()\n",
    "print(params_control) # best guess \n",
    "print(end_time - start_time)"
   ]
  },
  {
   "cell_type": "code",
   "execution_count": 19,
   "metadata": {},
   "outputs": [
    {
     "name": "stdout",
     "output_type": "stream",
     "text": [
      "True lockdown factors:\n",
      "[0.4, 0.4, 0.4]\n",
      "\n",
      "Inferred lockdown factors:\n",
      "[0.39139311 0.39118029 0.40805437]\n"
     ]
    }
   ],
   "source": [
    "print(\"True lockdown factors:\")\n",
    "print([aW, aS, aO])\n",
    "\n",
    "print(\"\\nInferred lockdown factors:\")\n",
    "print(params_control)"
   ]
  },
  {
   "cell_type": "code",
   "execution_count": 18,
   "metadata": {},
   "outputs": [
    {
     "name": "stdout",
     "output_type": "stream",
     "text": [
      "[0.39139311 0.39118029 0.40805437]\n"
     ]
    },
    {
     "data": {
      "image/png": "[encoded data removed]",
      "text/plain": [
       "<Figure size 504x360 with 1 Axes>"
      ]
     },
     "metadata": {
      "needs_background": "light"
     },
     "output_type": "display_data"
    },
    {
     "name": "stdout",
     "output_type": "stream",
     "text": [
      "[0.39139311 0.39118029 0.40805437]\n"
     ]
    }
   ],
   "source": [
    "times = [T_intervention]\n",
    "\n",
    "x = data['X']/N\n",
    "x_pre = x[:T_intervention]\n",
    "x_post = x[T_intervention:]\n",
    "\n",
    "parameters = estimator.make_params_dict(params)\n",
    "estimator.set_params(parameters)\n",
    "\n",
    "inferred_interventions = [[1.0,1.0,1.0],      # before first time\n",
    "                 params_control,       # after first time\n",
    "                ]         \n",
    "\n",
    "print(params_control)\n",
    "no_interventions = [[1.0,1.0,1.0],[1.0,1.0,1.0],]\n",
    "\n",
    "# compare the true trajectory with the \n",
    "contactMatrix_inter = generator.interventions_temporal(times=times,interventions=inferred_interventions)\n",
    "contactMatrix_nointer = generator.interventions_temporal(times=times,interventions=no_interventions)\n",
    "\n",
    "Tf=100;  Nf=Tf+1 \n",
    "\n",
    "\n",
    "## create deterministic model\n",
    "det_model = pyross.deterministic.SEAI5R(parameters, M, fi)\n",
    "\n",
    "## integrate up with the inference on control and without\n",
    "x_det_control = estimator.integrate(x_pre[0], 0, Tf, Nf, det_model, contactMatrix_inter)\n",
    "x_det_control= np.asarray(x_det_control)\n",
    "\n",
    "x_det_nocontrol = estimator.integrate(x_pre[0], 0, Tf, Nf, det_model, contactMatrix_nointer)\n",
    "x_det_nocontrol= np.asarray(x_det_nocontrol)\n",
    "\n",
    "\n",
    "### Plotting in particular style all the infected/exposed classes A, E, and all I classes\n",
    "x = np.vstack((x_pre, x_post))\n",
    "## Summing all infected classes\n",
    "infected_tot = np.sum(x[:,1*M:7*M], axis=1)\n",
    "infected_tot_control = np.sum(x_det_control[:,1*M:7*M], axis=1)\n",
    "infected_tot_nocontrol = np.sum(x_det_nocontrol[:,1*M:7*M], axis=1)\n",
    "\n",
    "## Plotting image\n",
    "ylabel=r'Fraction of infectives'\n",
    "fontsize=25\n",
    "fig, ax = plt.subplots(1,1,figsize=(7,5))\n",
    "ax.axvspan(0, 20, \n",
    "           label='Before Intervention',\n",
    "           alpha=0.3, color='dodgerblue')\n",
    "\n",
    "ax.plot(infected_tot_control, label='with Control Inference')\n",
    "ax.plot(infected_tot_nocontrol, label='without Control Inference')\n",
    "ax.plot(infected_tot, '--r', label='Actual Model Infectives')\n",
    "\n",
    "ax.set_xlim(0,Tf)\n",
    "ax.set_ylabel(ylabel,fontsize=fontsize)\n",
    "ax.set_xlabel(r'$t$ [days]',fontsize=fontsize)\n",
    "ax.legend(loc='upper right',bbox_to_anchor=(1.6,1),\n",
    "          fontsize=15)\n",
    "plt.show(fig)\n",
    "print(params_control)"
   ]
  },
  {
   "cell_type": "code",
   "execution_count": null,
   "metadata": {},
   "outputs": [],
   "source": []
  }
 ],
 "metadata": {
  "kernelspec": {
   "display_name": "Python 3",
   "language": "python",
   "name": "python3"
  },
  "language_info": {
   "codemirror_mode": {
    "name": "ipython",
    "version": 3
   },
   "file_extension": ".py",
   "mimetype": "text/x-python",
   "name": "python",
   "nbconvert_exporter": "python",
   "pygments_lexer": "ipython3",
   "version": "3.7.4"
  }
 },
 "nbformat": 4,
 "nbformat_minor": 4
}
