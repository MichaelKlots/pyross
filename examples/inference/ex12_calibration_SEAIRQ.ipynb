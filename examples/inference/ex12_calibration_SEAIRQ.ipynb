{
 "cells": [
  {
   "cell_type": "markdown",
   "metadata": {},
   "source": [
    "# Calibration (SEIR model)\n",
    "Using generated data, we test if we can infer that a lockdown has happened and how the contact parameters have changed.\n",
    "To do this, we generate a test trajectory with a lockdown at time $20$. \n",
    "The lockdown is implemented by scaling the contact matrices (for work, school, other).\n",
    "We use the data points up to the lockdown to infer the parameters of the SEIR model.\n",
    "Using the data after lockdown and the inferred parameters, we infer the change of the contact structure.\n",
    "\n",
    "For the pre-intervention period, we infer the following parameters: \n",
    "* $\\alpha$ (fraction of asymptomatic infectives), \n",
    "* $\\beta$ (probability of infection on contact), \n",
    "* $\\gamma_{I_a}$ (rate of recovery for asymptomatic infected individuals),\n",
    "* $\\gamma_{I_s}$ (rate of recovery for symptomatic infected individuals) \n",
    "* $\\gamma_{E}$ (rate from exposed to activated)\n",
    "* $\\gamma_{A}$ (rate from activated to infected)\n",
    "\n",
    "For the post-intervention period, we infer the following control parameters: \n",
    "* $a_\\mathrm{W}$ fraction of work contact, \n",
    "* $a_\\mathrm{S}$ fraction of social contact, \n",
    "* $a_\\mathrm{O}$ fraction of other contacts "
   ]
  },
  {
   "cell_type": "code",
   "execution_count": 1,
   "metadata": {},
   "outputs": [],
   "source": [
    "%%capture\n",
    "## compile PyRoss for this notebook\n",
    "import os\n",
    "owd = os.getcwd()\n",
    "os.chdir('../../')\n",
    "%run setup.py install\n",
    "os.chdir(owd)"
   ]
  },
  {
   "cell_type": "code",
   "execution_count": 2,
   "metadata": {},
   "outputs": [],
   "source": [
    "%matplotlib inline\n",
    "import numpy as np\n",
    "import pyross\n",
    "import pandas as pd\n",
    "import time \n",
    "import matplotlib.pyplot as plt\n",
    "from scipy.io import loadmat"
   ]
  },
  {
   "cell_type": "markdown",
   "metadata": {},
   "source": [
    "## 1) Generate a trajectory"
   ]
  },
  {
   "cell_type": "code",
   "execution_count": 3,
   "metadata": {},
   "outputs": [],
   "source": [
    "# population and age classes (4 age groups)\n",
    "M=4  # number of age classes\n",
    "\n",
    "my_data = np.genfromtxt('../data/age_structures/UK.csv', delimiter=',', skip_header=1)\n",
    "aM, aF = my_data[:, 1], my_data[:, 2]\n",
    "\n",
    "Ni0=aM+aF;   Ni=np.zeros((M))\n",
    "\n",
    "Ni[0] = (np.sum(Ni0[0:4])).astype('int')\n",
    "Ni[1] = (np.sum(Ni0[4:8])).astype('int')\n",
    "Ni[2] = (np.sum(Ni0[8:12])).astype('int')\n",
    "Ni[3] = (np.sum(Ni0[12:16])).astype('int')\n",
    "N=np.sum(Ni)\n",
    "fi = Ni/N \n",
    "\n",
    "# Get individual contact matrices\n",
    "CH0, CW0, CS0, CO0 = pyross.contactMatrix.UK()\n",
    "\n",
    "CH = np.zeros((M, M))\n",
    "CW = np.zeros((M, M))\n",
    "CS = np.zeros((M, M))\n",
    "CO = np.zeros((M, M))\n",
    "\n",
    "for i in range(16):\n",
    "    CH0[i,:] = Ni0[i]*CH0[i,:]\n",
    "    CS0[i,:] = Ni0[i]*CS0[i,:]\n",
    "    CW0[i,:] = Ni0[i]*CW0[i,:]\n",
    "    CO0[i,:] = Ni0[i]*CO0[i,:]\n",
    "\n",
    "    \n",
    "for i in range(M):\n",
    "    for j in range(M):\n",
    "        i1, j1 = i*4, j*4\n",
    "        CH[i,j] = np.sum( CH0[i1:i1+4,j1:j1+4]  )/Ni[i]\n",
    "        CW[i,j] = np.sum( CW0[i1:i1+4,j1:j1+4]  )/Ni[i]\n",
    "        CS[i,j] = np.sum( CS0[i1:i1+4,j1:j1+4]  )/Ni[i]\n",
    "        CO[i,j] = np.sum( CO0[i1:i1+4,j1:j1+4]  )/Ni[i]\n",
    "        \n",
    "Ni = (Ni/5e2).astype('int') # Scale the numbers to avoid numerical problems\n",
    "N = np.sum(Ni)\n",
    "\n",
    "generator = pyross.contactMatrix.ContactMatrixFunction(CH, CW, CS, CO)"
   ]
  },
  {
   "cell_type": "code",
   "execution_count": 4,
   "metadata": {},
   "outputs": [],
   "source": [
    "# simulate epidemic with insufficient testing and quarantining\n",
    "\n",
    "beta  = 0.05      # contact rate parameter\n",
    "gIa   = 1./7            # recovery rate of asymptomatic infectives\n",
    "gIs   = 1/7\n",
    "alpha = 0.2          # fraction of asymptomatic infectives\n",
    "fsa   = 0.8          # the self-isolation parameter \n",
    "gE    = 1/5\n",
    "gA    = 1/3\n",
    "\n",
    "tS    = 0.0            # rate S  -> Q\n",
    "tE    = 0.0           # rate E  -> Q\n",
    "tA    = 0.0           # rate A  -> Q\n",
    "tIa   = 0.0           # rate Ia -> Q\n",
    "tIs   = 0.01           # rate Is -> Q\n",
    "\n",
    "# set up initial condition\n",
    "E0  = np.array([100]*M)\n",
    "A0  = np.array([10]*M)\n",
    "Ia0 = np.array([10]*M)     \n",
    "Is0 = np.array([10]*M)     \n",
    "Q0  = np.zeros(M)\n",
    "R0  = np.zeros(M)\n",
    "S0  = Ni-(E0+A0+Ia0+Is0+R0+Q0)    \n",
    "\n",
    "Ttotal=100\n",
    "Tf = Ttotal\n",
    "Nf = Tf+1\n",
    "\n",
    "\n",
    "parameters = {'alpha':alpha, 'beta':beta,\n",
    "              'gE':gE,'gA':gA,\n",
    "              'gIa':gIa, 'gIs':gIs, 'fsa':fsa,\n",
    "             'tS':tS,'tE':tE,'tA':tA,'tIa':tIa,'tIs':tIs} \n",
    "\n",
    "# use pyross stochastic to generate traj and save \n",
    "sto_model = pyross.stochastic.SEAIRQ(parameters, M, Ni)\n",
    "data = sto_model.simulate(S0, E0, A0, Ia0, Is0, Q0, generator.constant_CM, Tf, Nf)\n",
    "data_array = data['X']\n",
    "np.save('cal_seairq_traj.npy', data_array)"
   ]
  },
  {
   "cell_type": "code",
   "execution_count": 5,
   "metadata": {},
   "outputs": [
    {
     "data": {
      "image/png": "[encoded data removed]",
      "text/plain": [
       "<Figure size 432x288 with 1 Axes>"
      ]
     },
     "metadata": {
      "needs_background": "light"
     },
     "output_type": "display_data"
    }
   ],
   "source": [
    "# plot the stochastic solution \n",
    "plt.plot(np.sum(data_array[:, M:2*M], axis=1), label='E')\n",
    "plt.plot(np.sum(data_array[:, 2*M:3*M], axis=1), label='A')\n",
    "plt.plot(np.sum(data_array[:, 3*M:4*M], axis=1), label='Ia')\n",
    "plt.plot(np.sum(data_array[:, 4*M:5*M], axis=1), label='Is')\n",
    "plt.plot(np.sum(data_array[:, 5*M:6*M], axis=1), label='Q')\n",
    "plt.xlim([0, Tf])\n",
    "plt.legend()\n",
    "plt.show()"
   ]
  },
  {
   "cell_type": "code",
   "execution_count": 5,
   "metadata": {},
   "outputs": [],
   "source": [
    "# new testing rates, all other parameters stay the same\n",
    "\n",
    "tS    = 0.0            # rate S  -> Q\n",
    "tE    = 0.02           # rate E  -> Q\n",
    "tA    = 0.02           # rate A  -> Q\n",
    "tIa   = 0.1           # rate Ia -> Q\n",
    "tIs   = 0.5          # rate Is -> Q\n",
    "\n",
    "t_interv=20\n",
    "\n",
    "data_array = np.load('cal_seairq_traj.npy')\n",
    "\n",
    "# set up new initial condition\n",
    "S0  = data_array[t_interv,0:M]\n",
    "E0  = data_array[t_interv,M:(2*M)]\n",
    "A0  = data_array[t_interv,2*M:(3*M)]\n",
    "Ia0 = data_array[t_interv,3*M:(4*M)] \n",
    "Is0 = data_array[t_interv,4*M:(5*M)] \n",
    "Q0  = data_array[t_interv,5*M:(6*M)] \n",
    "R0  = data_array[t_interv,6*M:(7*M)] \n",
    "R0  = Ni-(S0+E0+A0+Ia0+Is0+Q0)    \n",
    "\n",
    "parameters2 = {'alpha':alpha, 'beta':beta,\n",
    "              'gE':gE,'gA':gA,\n",
    "              'gIa':gIa, 'gIs':gIs, 'fsa':fsa,\n",
    "             'tS':tS,'tE':tE,'tA':tA,'tIa':tIa,'tIs':tIs}\n",
    "\n",
    "# use pyross stochastic to generate traj\n",
    "sto_model = pyross.stochastic.SEAIRQ(parameters2, M, Ni)\n",
    "data = sto_model.simulate(S0, E0, A0, Ia0, Is0, Q0, generator.constant_CM, Tf-t_interv, Nf-t_interv)\n",
    "data_array2 = data['X']\n",
    "\n",
    "# join trajectories and save\n",
    "data_array_interv=data_array.copy()\n",
    "data_array_interv[t_interv:,:]=data_array2.copy()\n",
    "np.save('cal_seairq_traj_interv.npy', data_array_interv)"
   ]
  },
  {
   "cell_type": "code",
   "execution_count": 18,
   "metadata": {},
   "outputs": [
    {
     "data": {
      "image/png": "[encoded data removed]",
      "text/plain": [
       "<Figure size 432x288 with 1 Axes>"
      ]
     },
     "metadata": {
      "needs_background": "light"
     },
     "output_type": "display_data"
    }
   ],
   "source": [
    "# plot the full trajectory \n",
    "data_array_interv = np.load('cal_seairq_traj_interv.npy')\n",
    "\n",
    "plt.plot(np.sum(data_array_interv[:, M:2*M], axis=1), label='E')\n",
    "plt.plot(np.sum(data_array_interv[:, 2*M:3*M], axis=1), label='A')\n",
    "plt.plot(np.sum(data_array_interv[:, 3*M:4*M], axis=1), label='Ia')\n",
    "plt.plot(np.sum(data_array_interv[:, 4*M:5*M], axis=1), label='Is')\n",
    "plt.plot(np.sum(data_array_interv[:, 5*M:6*M], axis=1), label='Q')\n",
    "plt.xlim([0, Tf])\n",
    "plt.legend()\n",
    "plt.show()"
   ]
  },
  {
   "cell_type": "markdown",
   "metadata": {},
   "source": [
    "## 2) Infer the parameters of the model"
   ]
  },
  {
   "cell_type": "code",
   "execution_count": 7,
   "metadata": {},
   "outputs": [
    {
     "name": "stdout",
     "output_type": "stream",
     "text": [
      "The neg log-posterior at the correct parameter values is  -4106.861389715772\n"
     ]
    }
   ],
   "source": [
    "data_array_interv = np.load('cal_seairq_traj_interv.npy')\n",
    "\n",
    "Tf_inference=t_interv-1\n",
    "Nf_inference=Tf_inference+1\n",
    "x = data_array_interv[:Nf_inference]\n",
    "x = (x/N) ## rescale by population size\n",
    "steps = 101 ## number internal integration steps taken, must be an odd number \n",
    "\n",
    "\n",
    "## Initialise the estimator \n",
    "estimator = pyross.inference.SEAIRQ(parameters, M, fi, int(N), steps)\n",
    "\n",
    "## Compute -log_p for the original (correct) parameters \n",
    "tS    = 0.0            # rate S  -> Q\n",
    "tE    = 0.0           # rate E  -> Q\n",
    "tA    = 0.0           # rate A  -> Q\n",
    "tIa   = 0.0           # rate Ia -> Q\n",
    "tIs   = 0.01           # rate Is -> Q\n",
    "parameters = {'alpha':alpha, 'beta':beta,\n",
    "              'gE':gE,'gA':gA,\n",
    "              'gIa':gIa, 'gIs':gIs, 'fsa':fsa,\n",
    "             'tS':tS,'tE':tE,'tA':tA,'tIa':tIa,'tIs':tIs}\n",
    "\n",
    "logp = estimator.obtain_minus_log_p(parameters, x, Tf_inference, Nf_inference, generator.constant_CM)\n",
    "print('The neg log-posterior at the correct parameter values is ', logp) "
   ]
  },
  {
   "cell_type": "code",
   "execution_count": 13,
   "metadata": {},
   "outputs": [
    {
     "name": "stdout",
     "output_type": "stream",
     "text": [
      "Starting global minimisation...\n",
      "(8_w,16)-aCMA-ES (mu_w=4.8,w_1=32%) in dimension 6 (seed=956842, Thu May  7 21:35:51 2020)\n",
      "Iterat #Fevals   function value  axis ratio  sigma  min&max std  t[m:s]\n",
      "    1     16 -3.433357966540191e+03 1.0e+00 8.44e-01  4e-02  8e-02 0:18.6\n",
      "    2     32 -3.785651407536379e+03 1.3e+00 7.38e-01  4e-02  7e-02 0:34.9\n",
      "    3     48 -3.628971060718511e+03 1.5e+00 7.08e-01  3e-02  7e-02 0:51.9\n",
      "    4     64 -3.078476979095553e+03 1.6e+00 6.43e-01  3e-02  6e-02 1:08.1\n",
      "    5     80 -3.402316347841498e+03 1.9e+00 6.32e-01  3e-02  6e-02 1:24.8\n",
      "    6     96 -3.608493706242206e+03 2.1e+00 6.93e-01  3e-02  7e-02 1:41.4\n",
      "    7    112 -2.943658464946704e+03 2.4e+00 7.08e-01  3e-02  8e-02 1:57.3\n",
      "    8    128 -3.496720060733123e+03 3.2e+00 7.41e-01  2e-02  9e-02 2:12.8\n",
      "    9    144 -3.829646608374130e+03 4.4e+00 6.63e-01  2e-02  8e-02 2:31.5\n",
      "   10    160 -3.960408346177064e+03 5.0e+00 6.47e-01  2e-02  9e-02 2:49.7\n",
      "   11    176 -3.875222004100951e+03 5.9e+00 6.15e-01  1e-02  9e-02 3:07.3\n",
      "   12    192 -3.943983379899838e+03 7.9e+00 7.13e-01  1e-02  1e-01 3:24.9\n",
      "   13    208 -3.935738839002461e+03 1.1e+01 6.51e-01  1e-02  1e-01 3:46.3\n",
      "   14    224 -4.046178242582623e+03 1.1e+01 6.96e-01  1e-02  1e-01 4:05.8\n",
      "   15    240 -3.955480391104211e+03 1.3e+01 6.85e-01  9e-03  1e-01 4:22.7\n",
      "   16    256 -3.825023215105255e+03 1.4e+01 5.41e-01  7e-03  9e-02 4:41.6\n",
      "   17    272 -4.005131378974600e+03 1.5e+01 4.35e-01  5e-03  7e-02 4:58.2\n",
      "   18    288 -4.054945617941252e+03 1.6e+01 4.22e-01  4e-03  6e-02 5:16.4\n",
      "Optimal value (global minimisation):  -4054.945617941252\n",
      "Starting local minimisation...\n",
      "Optimal value (local minimisation):  -4107.767621102131\n",
      "404.38143587112427\n"
     ]
    }
   ],
   "source": [
    "eps = 1e-4 \n",
    "\n",
    "alpha_g = 0.3         \n",
    "alpha_std = 0.1\n",
    "alpha_b = (eps, 0.5)\n",
    "\n",
    "beta_g  = 0.05        \n",
    "beta_std = 0.1\n",
    "beta_b = (eps, 1)\n",
    "\n",
    "gIa_g   = 0.13\n",
    "gIa_std = 0.05 \n",
    "gIa_b = (eps, 0.5)\n",
    "\n",
    "gIs_g   = 0.13\n",
    "gIs_std = 0.05 \n",
    "gIs_b = (eps, 0.5) \n",
    "\n",
    "gE_g    = 0.25\n",
    "gE_std = 0.1\n",
    "gE_b = (eps, 0.5)\n",
    "\n",
    "gA_g    = 0.3 \n",
    "gA_std = 0.1\n",
    "gA_b = (eps, 0.5) \n",
    "   \n",
    "\n",
    "# optimisation parameters \n",
    "ftol = 1e-4 # the relative tol in (-logp)   \n",
    "bounds = np.array([alpha_b, beta_b, gIa_b, gIs_b, gE_b, gA_b])\n",
    "                   \n",
    "guess = np.array([alpha_g, beta_g, gIa_g, gIs_g, gE_g, gA_g]) \n",
    "                   \n",
    "stds = np.array([alpha_std, beta_std, gIa_std, gIs_std, gE_std, gA_std]) \n",
    "            \n",
    "start_time = time.time()\n",
    "params = estimator.inference(guess, stds, x, Tf_inference, Nf_inference, \n",
    "                                    generator.constant_CM, bounds=bounds, \n",
    "                                    global_max_iter=20, global_ftol_factor=1e3, \n",
    "                                    verbose=True, ftol=ftol) \n",
    "end_time = time.time()\n",
    "print(end_time - start_time)"
   ]
  },
  {
   "cell_type": "code",
   "execution_count": 14,
   "metadata": {},
   "outputs": [],
   "source": [
    "# save the parameters \n",
    "np.save('SEAIRQ_cali_param.npy', params)"
   ]
  },
  {
   "cell_type": "code",
   "execution_count": 15,
   "metadata": {},
   "outputs": [
    {
     "name": "stdout",
     "output_type": "stream",
     "text": [
      "True parameters\n",
      "{'alpha': 0.2, 'beta': 0.05, 'gE': 0.2, 'gA': 0.3333333333333333, 'gIa': 0.14285714285714285, 'gIs': 0.14285714285714285, 'fsa': 0.8, 'tS': 0.0, 'tE': 0.02, 'tA': 0.02, 'tIa': 0.1, 'tIs': 0.5}\n",
      "\n",
      " Best estimates\n",
      "{'alpha': 0.2700469917985581, 'beta': 0.050068510654820854, 'gIa': 0.22629020265563232, 'gIs': 0.11220618783840912, 'gE': 0.19514770868761225, 'gA': 0.33720787890443416, 'fsa': 0.8, 'tS': 0, 'tE': 0.0, 'tA': 0.0, 'tIa': 0.0, 'tIs': 0.01}\n"
     ]
    }
   ],
   "source": [
    "print('True parameters')\n",
    "print(parameters)\n",
    "\n",
    "params = np.load('SEAIRQ_cali_param.npy')\n",
    "best_estimates = estimator.make_params_dict(params)\n",
    "print('\\n Best estimates')\n",
    "print(best_estimates)"
   ]
  },
  {
   "cell_type": "markdown",
   "metadata": {},
   "source": [
    "## 3) Infer the new testing rates after intervention"
   ]
  },
  {
   "cell_type": "code",
   "execution_count": 20,
   "metadata": {},
   "outputs": [
    {
     "name": "stdout",
     "output_type": "stream",
     "text": [
      "The neg log-posterior at the correct parameter values is  -15820.19721555136\n"
     ]
    }
   ],
   "source": [
    "data_array_interv = np.load('cal_seairq_traj_interv.npy')\n",
    "\n",
    "x = data_array_interv[t_interv:]\n",
    "x = (x/N) ## rescale by population size\n",
    "Nf_control = x.shape[0]\n",
    "Tf_control = Nf_control - 1\n",
    "\n",
    "\n",
    "## Compute -log_p for the original (correct) testing rates \n",
    "best_estimates['tE'] = tE \n",
    "best_estimates['tA'] = tA \n",
    "best_estimates['tIa'] = tIa\n",
    "best_estimates['tIs'] = tIs\n",
    "logp = estimator.obtain_minus_log_p(best_estimates, x, Tf_control, Nf_control, generator.constant_CM)\n",
    "print('The neg log-posterior at the correct parameter values is ', logp) "
   ]
  },
  {
   "cell_type": "code",
   "execution_count": 10,
   "metadata": {},
   "outputs": [
    {
     "name": "stdout",
     "output_type": "stream",
     "text": [
      "Starting global minimisation...\n",
      "(8_w,16)-aCMA-ES (mu_w=4.8,w_1=32%) in dimension 4 (seed=1027637, Thu May  7 22:02:14 2020)\n",
      "Iterat #Fevals   function value  axis ratio  sigma  min&max std  t[m:s]\n",
      "    1     16 -2.230485389034070e+02 1.0e+00 1.14e+00  2e-02  2e-01 1:28.9\n",
      "    2     32 -6.163086990344839e+02 1.8e+00 1.33e+00  2e-02  2e-01 3:02.0\n",
      "    3     48 2.188786082290170e+02 2.7e+00 1.63e+00  3e-02  2e-01 4:36.7\n",
      "    4     64 4.581243251139056e+03 3.7e+00 1.53e+00  3e-02  2e-01 6:09.1\n",
      "    5     80 -1.302739512927467e+03 4.3e+00 1.36e+00  2e-02  2e-01 7:40.9\n",
      "    6     96 -5.145303350072449e+03 5.0e+00 1.17e+00  2e-02  2e-01 9:13.3\n",
      "    7    112 2.109063619830542e+03 5.3e+00 1.22e+00  2e-02  2e-01 10:41.3\n",
      "    8    128 -5.959848200015843e+03 5.7e+00 1.18e+00  2e-02  1e-01 12:07.1\n",
      "    9    144 -6.883378422861974e+03 5.9e+00 1.29e+00  2e-02  2e-01 13:27.0\n",
      "   10    160 -7.922433680998814e+03 7.3e+00 1.33e+00  2e-02  2e-01 14:49.3\n",
      "   11    176 -7.183596150099605e+03 6.3e+00 1.55e+00  2e-02  2e-01 16:08.2\n",
      "   12    192 -8.402576506618463e+03 7.8e+00 1.59e+00  2e-02  2e-01 17:27.5\n",
      "   13    208 -5.676822657424354e+03 8.6e+00 1.62e+00  2e-02  2e-01 18:46.4\n",
      "   14    224 -8.273791497335707e+03 9.9e+00 1.48e+00  2e-02  1e-01 20:05.6\n",
      "   15    240 -7.079183736598640e+03 1.1e+01 1.30e+00  2e-02  1e-01 21:24.8\n",
      "   16    256 -8.386147238530699e+03 1.2e+01 1.08e+00  1e-02  1e-01 22:42.0\n",
      "   17    272 -4.490450107486263e+03 1.4e+01 1.09e+00  1e-02  1e-01 23:57.1\n",
      "   18    288 -6.832119369241242e+03 1.7e+01 1.08e+00  1e-02  1e-01 25:12.2\n",
      "   19    304 -8.282711947753474e+03 1.9e+01 1.30e+00  1e-02  1e-01 26:27.3\n",
      "   20    320 -7.321404299866230e+03 2.5e+01 1.15e+00  1e-02  1e-01 27:43.3\n",
      "Optimal value (global minimisation):  -8402.576506618463\n",
      "Starting local minimisation...\n",
      "Optimal value (local minimisation):  -8689.970889038232\n"
     ]
    }
   ],
   "source": [
    "eps = 1e-4 \n",
    "\n",
    "tE_g=0.03\n",
    "tE_std=0.02\n",
    "tE_bounds=(eps,0.1)\n",
    "\n",
    "tA_g=0.01\n",
    "tA_std = 0.02\n",
    "tA_bounds=(eps,0.1)\n",
    "\n",
    "tIa_g=0.08\n",
    "tIa_std = 0.1\n",
    "tIa_bounds=(eps,1)\n",
    "\n",
    "tIs_g=0.4\n",
    "tIs_std = 0.2 \n",
    "tIs_bounds=(eps,1)\n",
    "\n",
    "# fit only testing rates and take everything else as given\n",
    "\n",
    "\n",
    "guess = np.array([tE_g, tA_g, tIa_g, tIs_g])\n",
    "std = np.array([tE_std, tA_std, tIa_std, tIs_std])\n",
    "bounds = np.array([tE_bounds, tA_bounds, tIa_bounds, tIs_bounds])\n",
    "\n",
    "start_time = time.time() \n",
    "\n",
    "estimator.set_params(best_estimates) \n",
    "params = estimator.infer_control(guess, std, x, Tf_control, Nf_control, generator, bounds,\n",
    "                                 global_max_iter=20, verbose=True)\n",
    "end_time = time.time()"
   ]
  },
  {
   "cell_type": "code",
   "execution_count": 13,
   "metadata": {},
   "outputs": [
    {
     "name": "stdout",
     "output_type": "stream",
     "text": [
      "True testing ratess:\n",
      "[0.02, 0.02, 0.1, 0.5]\n",
      "\n",
      "Inferred testing rates:\n",
      "[0.02164069 0.02053813 0.10724961 0.48994621]\n"
     ]
    }
   ],
   "source": [
    "print(\"True testing ratess:\")\n",
    "print([tE, tA, tIa, tIs])\n",
    "\n",
    "print(\"\\nInferred testing rates:\")\n",
    "print(params)"
   ]
  }
 ],
 "metadata": {
  "kernelspec": {
   "display_name": "Python 3",
   "language": "python",
   "name": "python3"
  },
  "language_info": {
   "codemirror_mode": {
    "name": "ipython",
    "version": 3
   },
   "file_extension": ".py",
   "mimetype": "text/x-python",
   "name": "python",
   "nbconvert_exporter": "python",
   "pygments_lexer": "ipython3",
   "version": "3.7.6"
  }
 },
 "nbformat": 4,
 "nbformat_minor": 4
}
