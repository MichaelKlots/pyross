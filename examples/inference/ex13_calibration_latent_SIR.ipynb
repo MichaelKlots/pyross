{
 "cells": [
  {
   "cell_type": "markdown",
   "metadata": {},
   "source": [
    "# Inference of parameters with latent variables (SIR model)\n",
    "In this notebook, we consider the SIR model with symptomatically and asymptomatically infected. We are trying to infer the epidemiological parameters as well as control parameters from the $I_\\mathrm{s}$ trajectory. \n",
    "\n",
    "For the pre-intervention period, we infer the following parameters as well as initial conditions: \n",
    "* $\\alpha$ (fraction of asymptomatic infectives), \n",
    "* $\\beta$ (probability of infection on contact), \n",
    "* $\\gamma_{I_a}$ (rate of recovery for asymptomatic infected individuals), and\n",
    "* $\\gamma_{I_s}$ (rate of recovery for symptomatic infected individuals) \n",
    "\n",
    "For the post-intervention period, we infer the following control parameters: \n",
    "* $a_\\mathrm{W}$ fraction of work contact, \n",
    "* $a_\\mathrm{S}$ fraction of social contact, \n",
    "* $a_\\mathrm{O}$ fraction of other contacts "
   ]
  },
  {
   "cell_type": "code",
   "execution_count": 1,
   "metadata": {},
   "outputs": [],
   "source": [
    "%%capture\n",
    "## compile PyRoss for this notebook\n",
    "import os\n",
    "owd = os.getcwd()\n",
    "os.chdir('../../')\n",
    "%run setup.py install\n",
    "os.chdir(owd)"
   ]
  },
  {
   "cell_type": "code",
   "execution_count": 2,
   "metadata": {},
   "outputs": [],
   "source": [
    "%matplotlib inline\n",
    "import numpy as np\n",
    "import pyross\n",
    "import pandas as pd\n",
    "import time \n",
    "import matplotlib.pyplot as plt\n",
    "from scipy.io import loadmat"
   ]
  },
  {
   "cell_type": "markdown",
   "metadata": {},
   "source": [
    "## 1) Generate a trajectory\n",
    "We generate a test trajectory on a population with four ages groups using UK contact matrix"
   ]
  },
  {
   "cell_type": "code",
   "execution_count": 3,
   "metadata": {},
   "outputs": [],
   "source": [
    "## population and age classes\n",
    "M=4  ## number of age classes\n",
    "\n",
    "my_data = np.genfromtxt('../data/age_structures/UK.csv', delimiter=',', skip_header=1)\n",
    "aM, aF = my_data[:, 1], my_data[:, 2]\n",
    "\n",
    "Ni0=aM+aF;   Ni=np.zeros((M))\n",
    "\n",
    "# scale the population down to a more manageble level \n",
    "Ni[0] = (np.sum(Ni0[0:4])).astype('int')\n",
    "Ni[1] = (np.sum(Ni0[4:8])).astype('int')\n",
    "Ni[2] = (np.sum(Ni0[8:12])).astype('int')\n",
    "Ni[3] = (np.sum(Ni0[12:16])).astype('int')\n",
    "N=np.sum(Ni)\n",
    "fi = Ni/N \n",
    "\n",
    "# Get individual contact matrices\n",
    "CH0, CW0, CS0, CO0 = pyross.contactMatrix.UK()\n",
    "\n",
    "\n",
    "CH = np.zeros((M, M))\n",
    "CW = np.zeros((M, M))\n",
    "CS = np.zeros((M, M))\n",
    "CO = np.zeros((M, M))\n",
    "\n",
    "for i in range(16):\n",
    "    CH0[i,:] = CH0[i,:]*Ni0[i]\n",
    "    CW0[i,:] = CW0[i,:]*Ni0[i]\n",
    "    CS0[i,:] = CS0[i,:]*Ni0[i]\n",
    "    CO0[i,:] = CO0[i,:]*Ni0[i]\n",
    "\n",
    "\n",
    "for i in range(M):\n",
    "    for j in range(M):\n",
    "        i1, j1 = i*4, j*4\n",
    "        CH[i,j] = np.sum( CH0[i1:i1+4, j1:j1+4] )/Ni[i]\n",
    "        CW[i,j] = np.sum( CW0[i1:i1+4, j1:j1+4] )/Ni[i]\n",
    "        CS[i,j] = np.sum( CS0[i1:i1+4, j1:j1+4] )/Ni[i]\n",
    "        CO[i,j] = np.sum( CO0[i1:i1+4, j1:j1+4] )/Ni[i]\n",
    "\n",
    "Ni = (Ni/5e2).astype('int') # Scale the numbers to avoid numerical problems\n",
    "N = np.sum(Ni)"
   ]
  },
  {
   "cell_type": "code",
   "execution_count": 4,
   "metadata": {},
   "outputs": [],
   "source": [
    "# Generate class with contact matrix for SIR model with UK contact structure\n",
    "generator = pyross.contactMatrix.SIR(CH, CW, CS, CO)\n",
    "\n",
    "T_intervention = 20 \n",
    "times= [T_intervention] # temporal boundaries between different contact-behaviour\n",
    "\n",
    "aW, aS, aO = 0.5, 0.5, 0.4\n",
    "\n",
    "# prefactors for CW, CS, CO:\n",
    "interventions = [[1.0,1.0,1.0],      # before first time\n",
    "                 [aW, aS, aO],       # after first time\n",
    "                ]         \n",
    "\n",
    "# generate corresponding contact matrix function\n",
    "C = generator.interventions_temporal(times=times,interventions=interventions)"
   ]
  },
  {
   "cell_type": "code",
   "execution_count": 5,
   "metadata": {},
   "outputs": [],
   "source": [
    "beta  = 0.04      # contact rate parameter\n",
    "gIa   = 1./7            # recovery rate of asymptomatic infectives \n",
    "gIs   = 1./7            # recovery rate of symptomatic infectives \n",
    "alpha = 0.2              # asymptomatic fraction\n",
    "fsa   = 0.8               # suppresion of contact by symptomatics\n",
    "\n",
    "\n",
    "# initial conditions    \n",
    "Is0 = np.ones(M)*10\n",
    "Ia0 = np.ones((M))*10\n",
    "R0  = np.zeros((M))\n",
    "S0  = Ni - (Ia0 + Is0 + R0)\n",
    "\n",
    "\n",
    "parameters = {'alpha':alpha,'beta':beta, 'gIa':gIa,'gIs':gIs,'fsa':fsa}\n",
    "model = pyross.stochastic.SIR(parameters, M, Ni)\n",
    "\n",
    "# start simulation\n",
    "Tf=100;  Nf=Tf+1 \n",
    "data=model.simulate(S0, Ia0, Is0, C, Tf, Nf)\n",
    "np.save('cal_lat_SIR_traj.npy', data['X'])"
   ]
  },
  {
   "cell_type": "code",
   "execution_count": 6,
   "metadata": {},
   "outputs": [
    {
     "data": {
      "image/png": "[encoded data removed]",
      "text/plain": [
       "<Figure size 432x288 with 1 Axes>"
      ]
     },
     "metadata": {
      "needs_background": "light"
     },
     "output_type": "display_data"
    }
   ],
   "source": [
    "# plot the number of infected people \n",
    "IC  = np.zeros((Nf))\n",
    "for i in range(M):\n",
    "        IC += data['X'][:,2*M+i] \n",
    "t = data['t']\n",
    "plt.plot(t, IC)\n",
    "plt.axvspan(0, T_intervention, \n",
    "           label='Pre intervention',\n",
    "           alpha=0.3, color='dodgerblue')\n",
    "plt.xlim([0, Tf])\n",
    "plt.show() "
   ]
  },
  {
   "cell_type": "markdown",
   "metadata": {},
   "source": [
    "## 2) Infer the parameters and initial conditions for the pre-intervention trajectory"
   ]
  },
  {
   "cell_type": "code",
   "execution_count": 7,
   "metadata": {},
   "outputs": [
    {
     "data": {
      "image/png": "[encoded data removed]",
      "text/plain": [
       "<Figure size 432x288 with 1 Axes>"
      ]
     },
     "metadata": {
      "needs_background": "light"
     },
     "output_type": "display_data"
    }
   ],
   "source": [
    "Tf_initial = T_intervention # truncate to only getting the pre-intervention trajectory \n",
    "Nf_initial = Tf_initial+1\n",
    "\n",
    "x = (np.load('cal_lat_SIR_traj.npy')).astype('float')\n",
    "x = (x/N)[:Nf_initial]\n",
    "steps = 101 # number internal integration steps taken\n",
    "\n",
    "fltr=np.repeat(np.array([False, False, True]), M)\n",
    "obs=x[:, fltr] \n",
    "\n",
    "\n",
    "# First, check the deterministic simulation against stochstic simulations with the same parameters and initial conditons \n",
    "# They are likely to be different due to the inherent stochasticity of the model \n",
    "contactMatrix = generator.constant_contactMatrix()\n",
    "det_model = pyross.deterministic.SIR(parameters, int(M), fi)\n",
    "estimator = pyross.inference.SIR(parameters, M, fi, int(N), steps)\n",
    "xm = estimator.integrate(x[0], 0, Tf_initial, Nf_initial, det_model, contactMatrix)\n",
    "t = np.linspace(0, Tf_initial, Nf_initial)\n",
    "plt.plot(t, np.sum(x[:,2*M:3*M], axis=1))\n",
    "plt.plot(t, np.sum(xm[:,2*M:3*M], axis=1))\n",
    "plt.show()"
   ]
  },
  {
   "cell_type": "code",
   "execution_count": 8,
   "metadata": {},
   "outputs": [
    {
     "name": "stdout",
     "output_type": "stream",
     "text": [
      "-661.4015773449049\n",
      "0.2729480266571045\n"
     ]
    }
   ],
   "source": [
    "# Initialise the estimator \n",
    "estimator = pyross.inference.SIR(parameters, M, fi, int(N), steps)\n",
    "\n",
    "# Compute -log_p for the original (correct) parameters \n",
    "# This gives an estimate of the final -logp we expect from the optimisation scheme \n",
    "start_time = time.time() \n",
    "parameters = {'alpha':alpha, 'beta':beta, 'gIa':gIa, 'gIs':gIs,'fsa':fsa}\n",
    "logp = estimator.minus_logp_red(parameters, x[0], obs[1:], fltr, Tf_initial, Nf_initial, contactMatrix)\n",
    "end_time = time.time()\n",
    "print(logp) \n",
    "print(end_time - start_time)"
   ]
  },
  {
   "cell_type": "code",
   "execution_count": 9,
   "metadata": {
    "scrolled": true
   },
   "outputs": [
    {
     "name": "stdout",
     "output_type": "stream",
     "text": [
      "Starting global minimisation...\n",
      "(8_w,16)-aCMA-ES (mu_w=4.8,w_1=32%) in dimension 16 (seed=942042, Thu May  7 15:30:06 2020)\n",
      "Iterat #Fevals   function value  axis ratio  sigma  min&max std  t[m:s]\n",
      "    1     16 1.164807578301178e+02 1.0e+00 9.49e-01  7e-04  9e-02 0:02.7\n",
      "    2     32 -3.683132754424199e+02 1.1e+00 8.88e-01  6e-04  9e-02 0:05.0\n",
      "    3     48 -6.674946091664970e+02 1.2e+00 8.71e-01  6e-04  9e-02 0:07.1\n",
      "    5     80 -6.802621633081314e+02 1.3e+00 8.21e-01  6e-04  8e-02 0:11.5\n",
      "    7    112 -6.726851630844437e+02 1.3e+00 8.53e-01  6e-04  9e-02 0:16.5\n",
      "   10    160 -4.936248321482650e+02 1.5e+00 8.34e-01  6e-04  8e-02 0:22.4\n",
      "   14    224 -6.392131363128939e+02 1.6e+00 7.98e-01  5e-04  8e-02 0:28.8\n",
      "Optimal value (global minimisation):  -704.6360123032844\n",
      "Starting local minimisation...\n",
      "Optimal value (local minimisation):  -721.6212982913344\n",
      "50.46560597419739\n"
     ]
    }
   ],
   "source": [
    "# make parameter guesses and set up bounds for each parameter \n",
    "eps = 1e-3 \n",
    "\n",
    "alpha_g = 0.15\n",
    "alpha_std = 0.1\n",
    "alpha_bounds = (eps, 1-2*eps)\n",
    "# the bound for alpha must be 1-2*eps to avoid alpha>1 in hessian calculation performed by optimizer \n",
    "\n",
    "beta_g = 0.1\n",
    "beta_std = 0.1 \n",
    "beta_bounds = (eps, 1)\n",
    "\n",
    "gIa_g = 0.13\n",
    "gIa_std = 0.05 # small stds for rate of recovery (can obtain from clinical data)\n",
    "gIa_bounds = (0.1, 0.3)\n",
    "\n",
    "gIs_g = 0.13\n",
    "gIs_std = 0.05 # small stds for rate of recovery (can obtain from clinical data)\n",
    "gIs_bounds = (0.1, 0.3) \n",
    "\n",
    "# not inferred \n",
    "fsa_g = 0.8\n",
    "\n",
    "Ia0_g = (Ia0-3)/N\n",
    "Ia_std = Ia0_g*2\n",
    "bounds_for_Ia = np.tile([0.1/N, 100/N], M).reshape(M, 2)\n",
    "\n",
    "\n",
    "Is0_g = (Is0-3)/N \n",
    "Is_std = Is0_g*0.5 \n",
    "bounds_for_Is = np.tile([0.1/N, 100/N], M).reshape(M, 2)\n",
    "\n",
    "S0_g = (S0+10)/N\n",
    "S_std = Ia_std*2\n",
    "bounds_for_S = np.tile([0.1/N, 1], M).reshape(M, 2)\n",
    "\n",
    "# Optimisation parameters \n",
    "ftol = 1e-5 # the relative tol in (-logp)  \n",
    "\n",
    "# Set up bounds, guess and stds for the rest of the params \n",
    "bounds = np.array([alpha_bounds, beta_bounds, gIa_bounds, gIs_bounds, \n",
    "                   *bounds_for_S, *bounds_for_Ia, *bounds_for_Is])\n",
    "guess = np.array([alpha_g, beta_g, gIa_g, gIs_g, *S0_g, *Ia0_g, *Is0_g])\n",
    "stds = np.array([alpha_std, beta_std, gIa_std, gIs_std, *S_std, *Ia_std, *Is_std])\n",
    "\n",
    "# Run the optimiser \n",
    "start_time = time.time()\n",
    "params = estimator.latent_inference(guess, stds, obs, fltr, Tf_initial, Nf_initial, \n",
    "                                    generator.constant_CM, bounds, \n",
    "                                    global_max_iter=15, global_ftol_factor=1e3, \n",
    "                                    verbose=True, ftol=ftol) \n",
    "end_time = time.time()\n",
    "print(end_time - start_time)"
   ]
  },
  {
   "cell_type": "code",
   "execution_count": 10,
   "metadata": {},
   "outputs": [],
   "source": [
    "# save the parameters \n",
    "np.save('SIR_cal_lat_param.npy', params)"
   ]
  },
  {
   "cell_type": "code",
   "execution_count": 11,
   "metadata": {},
   "outputs": [
    {
     "name": "stdout",
     "output_type": "stream",
     "text": [
      "True parameters\n",
      "{'alpha': 0.2, 'beta': 0.04, 'gIa': 0.14285714285714285, 'gIs': 0.14285714285714285, 'fsa': 0.8}\n",
      "\n",
      " Best estimates\n",
      "{'alpha': 0.33808790397911714, 'beta': 0.03705298503973277, 'gIa': 0.1436147968126738, 'gIs': 0.11979717550096089, 'fsa': 0.8}\n",
      "\n",
      " True initial conditions: \n",
      "[31248.886 35648.366 35506.088 25739.864] [10. 10. 10. 10.] [10. 10. 10. 10.]\n",
      "\n",
      " Inferred initial conditons: \n",
      "[31271 35690 35472 25720    10    19    11    11     7    10    13    10]\n"
     ]
    }
   ],
   "source": [
    "# print the correct params and best estimates \n",
    "print('True parameters')\n",
    "parameters = {'alpha':alpha, 'beta':beta, 'gIa':gIa, 'gIs':gIs,'fsa':fsa}\n",
    "print(parameters)\n",
    "\n",
    "params = np.load('SIR_cal_lat_param.npy')\n",
    "best_estimates = estimator.make_params_dict(params)\n",
    "print('\\n Best estimates')\n",
    "print(best_estimates)\n",
    "\n",
    "print('\\n True initial conditions: ') \n",
    "print(S0, Ia0, Is0)\n",
    "print('\\n Inferred initial conditons: ') \n",
    "print((params[4:]*N).astype('int'))"
   ]
  },
  {
   "cell_type": "markdown",
   "metadata": {},
   "source": [
    "### Check the inferred trajectory against the true trajectory for pre-intervention"
   ]
  },
  {
   "cell_type": "code",
   "execution_count": 18,
   "metadata": {
    "scrolled": false
   },
   "outputs": [
    {
     "data": {
      "image/png": "[encoded data removed]",
      "text/plain": [
       "<Figure size 432x288 with 1 Axes>"
      ]
     },
     "metadata": {
      "needs_background": "light"
     },
     "output_type": "display_data"
    }
   ],
   "source": [
    "x = np.load('cal_lat_SIR_traj.npy')/N\n",
    "x0 = params[4:]\n",
    "\n",
    "# set params for estimate\n",
    "estimator.set_params(best_estimates)\n",
    "\n",
    "# make det_model and contactMatrix \n",
    "det_model = pyross.deterministic.SIR(best_estimates, M, fi)\n",
    "contactMatrix = generator.constant_contactMatrix()\n",
    "\n",
    "# generate the deterministic trajectory \n",
    "x_det = estimator.integrate(x0, 0, Tf_initial, Nf_initial, det_model, contactMatrix)\n",
    "plt.plot(np.sum(x[:Nf_initial,M:2*M], axis=1), label='True Ia')\n",
    "plt.plot(np.sum(x_det[:, M:2*M], axis=1), label='Inferred Ia')\n",
    "plt.plot(np.sum(x[:Nf_initial,2*M:3*M], axis=1), label='True Is')\n",
    "plt.plot(np.sum(x_det[:, 2*M:3*M], axis=1), label='Inferred Is')\n",
    "plt.legend()\n",
    "plt.show()"
   ]
  },
  {
   "cell_type": "markdown",
   "metadata": {},
   "source": [
    "Quite good at inferring Is (which it can see), not so good at inferring Ia (which it cannot see)"
   ]
  },
  {
   "cell_type": "markdown",
   "metadata": {},
   "source": [
    "## 3) Infer the control parameters \n",
    "We infer the control parameters, assuming that the previously inferred initial conditions and epidemiological parameters "
   ]
  },
  {
   "cell_type": "code",
   "execution_count": 21,
   "metadata": {},
   "outputs": [
    {
     "name": "stdout",
     "output_type": "stream",
     "text": [
      "-2371.289635765629\n"
     ]
    }
   ],
   "source": [
    "# Test the -logp for the correct control parameters \n",
    "\n",
    "# get the trajectory \n",
    "x = np.load('cal_lat_SIR_traj.npy')/N\n",
    "x = x[Nf_initial:]\n",
    "obs = x[:, fltr]\n",
    "Nf_control = x.shape[0] \n",
    "Tf_control = Nf_control-1\n",
    "\n",
    "\n",
    "# Set the initial condition for post-intervention \n",
    "x0_control = np.array(x_det[-1])\n",
    "\n",
    "# get the contact matrix for post-intervention \n",
    "times = [Tf+1]\n",
    "interventions = [[aW, aS, aO]]\n",
    "contactMatrix = generator.interventions_temporal(times=times,interventions=interventions)\n",
    "\n",
    "# calculate minus_log_p for the correct control parameters  \n",
    "logp = estimator.minus_logp_red(best_estimates, x0, obs[1:], fltr, Tf_control, Nf_control, contactMatrix)\n",
    "print(logp) "
   ]
  },
  {
   "cell_type": "code",
   "execution_count": 22,
   "metadata": {},
   "outputs": [
    {
     "name": "stdout",
     "output_type": "stream",
     "text": [
      "Starting global minimisation...\n",
      "(8_w,16)-aCMA-ES (mu_w=4.8,w_1=32%) in dimension 3 (seed=1002634, Thu May  7 15:43:55 2020)\n",
      "Iterat #Fevals   function value  axis ratio  sigma  min&max std  t[m:s]\n",
      "    1     16 -2.383704833363999e+03 1.0e+00 1.16e+00  1e-01  1e-01 0:11.1\n",
      "    2     32 -2.383405342412235e+03 1.4e+00 1.09e+00  9e-02  1e-01 0:21.0\n",
      "    3     48 -2.394608226755422e+03 1.3e+00 1.06e+00  8e-02  1e-01 0:30.4\n",
      "    4     64 -2.391854607221021e+03 1.7e+00 8.77e-01  6e-02  9e-02 0:39.7\n",
      "    5     80 -2.393270715130616e+03 1.9e+00 7.19e-01  4e-02  6e-02 0:49.0\n",
      "Optimal value (global minimisation):  -2394.6082267554216\n",
      "Starting local minimisation...\n",
      "Optimal value (local minimisation):  -2396.56262688975\n",
      "[0.45384665 0.4419038  0.37490707]\n",
      "67.52050399780273\n"
     ]
    }
   ],
   "source": [
    "# set up initial guess and bounds \n",
    "aW_g = 0.5 \n",
    "aW_std = 0.1\n",
    "aW_bounds = [0.2, 0.8]\n",
    "\n",
    "aS_g = 0.55\n",
    "aS_std = 0.1\n",
    "aS_bounds = [0.2, 0.8]\n",
    "\n",
    "aO_g = 0.45\n",
    "aO_std = 0.1 \n",
    "aO_bounds = [0.2, 0.8]\n",
    "guess = np.array([aW_g, aS_g, aO_g])\n",
    "stds = np.array([aW_std, aS_std, aO_std])\n",
    "bounds = np.array([aW_bounds, aS_bounds, aO_bounds])\n",
    "\n",
    "ftol = 1e-4\n",
    "\n",
    "start_time = time.time() \n",
    "estimator.set_params(best_estimates) \n",
    "control_params = estimator.latent_infer_control(guess, stds, x0_control, obs, fltr, Tf_control, Nf_control, \n",
    "                                              generator, bounds,\n",
    "                                              global_max_iter=5, global_ftol_factor=1e4, \n",
    "                                                verbose=True, \n",
    "                                                ftol=ftol)\n",
    "end_time = time.time()\n",
    "print(control_params) # best guess \n",
    "print(end_time - start_time)"
   ]
  },
  {
   "cell_type": "code",
   "execution_count": 24,
   "metadata": {},
   "outputs": [
    {
     "data": {
      "image/png": "[encoded data removed]",
      "text/plain": [
       "<Figure size 432x288 with 1 Axes>"
      ]
     },
     "metadata": {
      "needs_background": "light"
     },
     "output_type": "display_data"
    }
   ],
   "source": [
    "times = [T_intervention]\n",
    "interventions = [[1.0,1.0,1.0],      # before first time\n",
    "                 control_params,       # after first time\n",
    "                ]         \n",
    "\n",
    "# compare the true trajectory with the \n",
    "contactMatrix = generator.interventions_temporal(times=times,interventions=interventions)\n",
    "det_model = pyross.deterministic.SIR(parameters, M, fi)\n",
    "x0 = params[len(parameters)-1:]\n",
    "x_det_control = estimator.integrate(x0, 0, Tf, Nf, det_model, contactMatrix)\n",
    "x = np.load('cal_lat_SIR_traj.npy')/N\n",
    "plt.plot(np.sum(x[:,M:2*M], axis=1), label='Ia')\n",
    "plt.plot(np.sum(x_det_control[:, M:2*M], axis=1), label='Inferred Ia')\n",
    "plt.plot(np.sum(x[:,2*M:3*M], axis=1), label='Is')\n",
    "plt.plot(np.sum(x_det_control[:, 2*M:3*M], axis=1), label='Inferred Is')\n",
    "plt.axvspan(0, T_intervention, \n",
    "           label='Pre intervention',\n",
    "           alpha=0.3, color='dodgerblue')\n",
    "plt.xlim([0, Tf])\n",
    "plt.legend()\n",
    "plt.show()"
   ]
  }
 ],
 "metadata": {
  "kernelspec": {
   "display_name": "Python 3",
   "language": "python",
   "name": "python3"
  },
  "language_info": {
   "codemirror_mode": {
    "name": "ipython",
    "version": 3
   },
   "file_extension": ".py",
   "mimetype": "text/x-python",
   "name": "python",
   "nbconvert_exporter": "python",
   "pygments_lexer": "ipython3",
   "version": "3.7.6"
  }
 },
 "nbformat": 4,
 "nbformat_minor": 4
}
