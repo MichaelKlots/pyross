{
 "cells": [
  {
   "cell_type": "markdown",
   "metadata": {},
   "source": [
    "# Inference of parameters with latent variables (SIR model)\n",
    "In this notebook, we consider the SIR model with symptomatically and asymptomatically infected. We are trying to infer the epidemiological parameters as well as control parameters from the $I_\\mathrm{s}$ trajectory. \n",
    "\n",
    "For the pre-intervention period, we infer the following parameters as well as initial conditions: \n",
    "* $\\alpha$ (fraction of asymptomatic infectives), \n",
    "* $\\beta$ (probability of infection on contact), \n",
    "* $\\gamma_{I_a}$ (rate of recovery for asymptomatic infected individuals), and\n",
    "* $\\gamma_{I_s}$ (rate of recovery for symptomatic infected individuals) \n",
    "\n",
    "For the post-intervention period, we infer the following control parameters: \n",
    "* $a_\\mathrm{W}$ fraction of work contact, \n",
    "* $a_\\mathrm{S}$ fraction of social contact, \n",
    "* $a_\\mathrm{O}$ fraction of other contacts "
   ]
  },
  {
   "cell_type": "code",
   "execution_count": 1,
   "metadata": {},
   "outputs": [],
   "source": [
    "%matplotlib inline\n",
    "import numpy as np\n",
    "import pyross\n",
    "import pandas as pd\n",
    "import time \n",
    "import matplotlib.pyplot as plt\n",
    "from scipy.io import loadmat"
   ]
  },
  {
   "cell_type": "markdown",
   "metadata": {},
   "source": [
    "## 1) Generate a trajectory\n",
    "We generate a test trajectory on a population with four ages groups using UK contact matrix"
   ]
  },
  {
   "cell_type": "code",
   "execution_count": 2,
   "metadata": {},
   "outputs": [
    {
     "name": "stdout",
     "output_type": "stream",
     "text": [
      "64111602.0\n"
     ]
    }
   ],
   "source": [
    "## population and age classes\n",
    "M=4  ## number of age classes\n",
    "\n",
    "my_data = np.genfromtxt('../data/age_structures/UK.csv', delimiter=',', skip_header=1)\n",
    "aM, aF = my_data[:, 1], my_data[:, 2]\n",
    "\n",
    "Ni0=aM+aF;   Ni=np.zeros((M))\n",
    "\n",
    "# scale the population down to a more manageble level \n",
    "Ni[0] = (np.sum(Ni0[0:4])).astype('int')\n",
    "Ni[1] = (np.sum(Ni0[4:8])).astype('int')\n",
    "Ni[2] = (np.sum(Ni0[8:12])).astype('int')\n",
    "Ni[3] = (np.sum(Ni0[12:16])).astype('int')\n",
    "N=np.sum(Ni)\n",
    "fi = Ni/N \n",
    "\n",
    "# Get individual contact matrices\n",
    "CH0, CW0, CS0, CO0 = pyross.contactMatrix.UK()\n",
    "\n",
    "\n",
    "CH = np.zeros((M, M))\n",
    "CW = np.zeros((M, M))\n",
    "CS = np.zeros((M, M))\n",
    "CO = np.zeros((M, M))\n",
    "\n",
    "for i in range(16):\n",
    "    CH0[i,:] = CH0[i,:]*Ni0[i]\n",
    "    CW0[i,:] = CW0[i,:]*Ni0[i]\n",
    "    CS0[i,:] = CS0[i,:]*Ni0[i]\n",
    "    CO0[i,:] = CO0[i,:]*Ni0[i]\n",
    "\n",
    "\n",
    "for i in range(M):\n",
    "    for j in range(M):\n",
    "        i1, j1 = i*4, j*4\n",
    "        CH[i,j] = np.sum( CH0[i1:i1+4, j1:j1+4] )/Ni[i]\n",
    "        CW[i,j] = np.sum( CW0[i1:i1+4, j1:j1+4] )/Ni[i]\n",
    "        CS[i,j] = np.sum( CS0[i1:i1+4, j1:j1+4] )/Ni[i]\n",
    "        CO[i,j] = np.sum( CO0[i1:i1+4, j1:j1+4] )/Ni[i]\n",
    "        \n",
    "print(N)"
   ]
  },
  {
   "cell_type": "code",
   "execution_count": 3,
   "metadata": {},
   "outputs": [],
   "source": [
    "# Generate class with contact matrix for SIR model with UK contact structure\n",
    "generator = pyross.contactMatrix.SIR(CH, CW, CS, CO)\n",
    "\n",
    "# Set intervention time, and the total length for the trajectory \n",
    "T_intervention = 100 # intervention time \n",
    "Tf = 600\n",
    "Nf = Tf+1\n",
    "\n",
    "# a tanh function for intervention \n",
    "def approx_tanh(t, width, loc):\n",
    "    cond1 = (t < loc-width/2)\n",
    "    cond2 = (t >= loc+width/2)\n",
    "    cond3 = np.logical_and((t < loc+width/2), (t >= loc-width/2))\n",
    "    cond_list = [cond1, cond2, cond3]\n",
    "    fun_list = [-1, 1, lambda t: 2*(t-loc)/width]\n",
    "    return np.piecewise(t, cond_list, fun_list)\n",
    "    \n",
    "def intervention_fun(t, M, width=1, loc=0, aW_f=0, aS_f=0, aO_f=0):\n",
    "    aW = (1-approx_tanh(t, width, loc))/2*(1-aW_f) + aW_f\n",
    "    aS = (1-approx_tanh(t, width, loc))/2*(1-aS_f) + aS_f\n",
    "    aO = (1-approx_tanh(t, width, loc))/2*(1-aO_f) + aO_f\n",
    "    aW_full = np.full((2, M), aW) # must return the full (2, M) array \n",
    "    aS_full = np.full((2, M), aS)\n",
    "    aO_full = np.full((2, M), aO)\n",
    "    return aW_full, aS_full, aO_full"
   ]
  },
  {
   "cell_type": "code",
   "execution_count": 4,
   "metadata": {},
   "outputs": [],
   "source": [
    "beta  = 0.02      # contact rate parameter\n",
    "gIa   = 1./7            # recovery rate of asymptomatic infectives \n",
    "gIs   = 1./7            # recovery rate of symptomatic infectives \n",
    "alpha = 0.2              # asymptomatic fraction\n",
    "fsa   = 1               # suppresion of contact by symptomatics\n",
    "\n",
    "\n",
    "# initial conditions    \n",
    "Is0 = np.zeros(M)\n",
    "Is0[1] = 10 \n",
    "Ia0 = np.zeros((M))\n",
    "R0  = np.zeros((M))\n",
    "S0  = Ni - (Ia0 + Is0 + R0)\n",
    "\n",
    "# contact matrix \n",
    "width = 10 \n",
    "loc = T_intervention \n",
    "aW_f = 0.9\n",
    "aS_f = 0.8 \n",
    "aO_f = 0.8 \n",
    "contactMatrix = generator.intervention_custom_temporal(intervention_fun, \n",
    "                                                       width=width, loc=loc, \n",
    "                                                       aW_f=aW_f, aS_f=aS_f, aO_f=aO_f)\n",
    "\n",
    "parameters = {'alpha':alpha,'beta':beta, 'gIa':gIa,'gIs':gIs,'fsa':fsa}\n",
    "model = pyross.stochastic.SIR(parameters, M, Ni)\n",
    "\n",
    "# start simulation\n",
    "Tf=600;  Nf=Tf+1 \n",
    "data=model.simulate(S0, Ia0, Is0, contactMatrix, Tf, Nf, method='tau-leaping')\n",
    "np.save('cal_lat_SIR_traj.npy', data['X'])"
   ]
  },
  {
   "cell_type": "code",
   "execution_count": 5,
   "metadata": {},
   "outputs": [
    {
     "data": {
      "image/png": "[encoded data removed]",
      "text/plain": [
       "<Figure size 432x288 with 1 Axes>"
      ]
     },
     "metadata": {
      "needs_background": "light"
     },
     "output_type": "display_data"
    }
   ],
   "source": [
    "# plot the number of infected people \n",
    "IC  = np.zeros((Nf))\n",
    "for i in range(M):\n",
    "        IC += data['X'][:,2*M+i] \n",
    "t = data['t']\n",
    "plt.semilogy(t, IC)\n",
    "plt.axvspan(0, T_intervention, \n",
    "           label='Pre intervention',\n",
    "           alpha=0.3, color='dodgerblue')\n",
    "plt.xlim([0, Tf])\n",
    "plt.show() "
   ]
  },
  {
   "cell_type": "markdown",
   "metadata": {},
   "source": [
    "## 2) Infer the parameters and initial conditions for the pre-intervention trajectory"
   ]
  },
  {
   "cell_type": "code",
   "execution_count": 6,
   "metadata": {},
   "outputs": [
    {
     "data": {
      "image/png": "[encoded data removed]",
      "text/plain": [
       "<Figure size 432x288 with 1 Axes>"
      ]
     },
     "metadata": {
      "needs_background": "light"
     },
     "output_type": "display_data"
    }
   ],
   "source": [
    "N_start = 50 \n",
    "Tf_initial = 40 # truncate to only getting the pre-intervention trajectory \n",
    "Nf_initial = Tf_initial+1\n",
    "\n",
    "x = (np.load('cal_lat_SIR_traj.npy')).astype('float')\n",
    "x = x[N_start:N_start+Nf_initial]\n",
    "\n",
    "# a filter that yields the Is only \n",
    "fltr = np.kron([0, 0, 1],np.identity(M))\n",
    "obs=np.einsum('ij,kj->ki', fltr, x)\n",
    "x0 = x[0] \n",
    "\n",
    "steps = 4 # number of steps \n",
    "estimator = pyross.inference.SIR(parameters, M, Ni, 1, steps)\n",
    "\n",
    "# Check the deterministic simulation against stochstic simulations with the same parameters and initial conditons \n",
    "# They are likely to be different due to the inherent stochasticity of the model \n",
    "\n",
    "estimator.set_det_model(parameters)\n",
    "estimator.set_contact_matrix(contactMatrix)\n",
    "xm = estimator.integrate(x0, 0, Tf_initial, Nf_initial)\n",
    "t = np.linspace(0, Tf_initial, Nf_initial)\n",
    "plt.plot(t, np.sum(x[:,2*M:3*M], axis=1))\n",
    "plt.plot(t, np.sum(xm[:,2*M:3*M], axis=1))\n",
    "plt.show()"
   ]
  },
  {
   "cell_type": "code",
   "execution_count": 7,
   "metadata": {},
   "outputs": [
    {
     "name": "stdout",
     "output_type": "stream",
     "text": [
      "622.3399364376057\n",
      "0.04822206497192383\n"
     ]
    }
   ],
   "source": [
    "# Compute -log_p for the original (correct) parameters \n",
    "# This gives an estimate of the final -logp we expect from the optimisation scheme \n",
    "start_time = time.time() \n",
    "parameters = {'alpha': alpha, 'beta':beta, 'gIa':gIa, 'gIs':gIs,'fsa':fsa}\n",
    "logp = estimator.minus_logp_red(parameters, x0, obs, fltr, Tf_initial, contactMatrix, tangent=True)\n",
    "end_time = time.time()\n",
    "print(logp) \n",
    "print(end_time - start_time)"
   ]
  },
  {
   "cell_type": "code",
   "execution_count": 8,
   "metadata": {
    "scrolled": true
   },
   "outputs": [
    {
     "name": "stdout",
     "output_type": "stream",
     "text": [
      "Starting global minimisation...\n",
      "(8_w,16)-aCMA-ES (mu_w=4.8,w_1=32%) in dimension 12 (seed=3419665837, Mon Jul  6 13:26:29 2020)\n",
      "Iterat #Fevals   function value  axis ratio  sigma  min&max std  t[m:s]\n",
      "    1     16 3.050029988214789e+03 1.0e+00 9.46e-01  5e-02  1e+02 0:00.5\n",
      "    2     32 9.176117922602954e+02 1.2e+00 8.86e-01  4e-02  1e+02 0:01.0\n",
      "    3     48 1.296605607933399e+04 1.3e+00 8.54e-01  4e-02  1e+02 0:01.4\n",
      "   11    176 6.953947728329681e+02 1.9e+00 7.58e-01  4e-02  1e+02 0:04.7\n",
      "   21    336 9.998820057842044e+02 2.7e+00 9.29e-01  4e-02  1e+02 0:08.9\n",
      "   30    480 9.237519640838110e+02 3.1e+00 1.08e+00  5e-02  1e+02 0:14.0\n",
      "Optimal value (global minimisation):  656.6071964341588\n",
      "Starting local minimisation...\n",
      "Optimal value (local minimisation):  649.603510019008\n",
      "20.20119309425354\n"
     ]
    }
   ],
   "source": [
    "# make parameter guesses and set up bounds for each parameter \n",
    "eps = 1e-3 \n",
    "\n",
    "eps=1e-4\n",
    "param_priors = {\n",
    "    'alpha':{\n",
    "        'mean': 0.2, \n",
    "        'std': 0.05, \n",
    "        'bounds': [eps, 0.5]\n",
    "    },\n",
    "    'beta':{\n",
    "        'mean': 0.04, \n",
    "        'std': 0.1,\n",
    "        'bounds': [eps, 0.4]\n",
    "    }, \n",
    "    'gIa':{\n",
    "        'mean': 0.13, \n",
    "        'std': 0.05, \n",
    "        'bounds': [eps, 0.3]\n",
    "    }, \n",
    "    'gIs':{\n",
    "        'mean': 0.14, \n",
    "        'std': 0.05, \n",
    "        'bounds': [eps, 0.3]\n",
    "    }\n",
    "}\n",
    "\n",
    "Ia0_g = x0[M:2*M]\n",
    "Ia_std = Ia0_g*2\n",
    "bounds_for_Ia = np.tile([0.1, N], M).reshape(M, 2)\n",
    "\n",
    "S0_g = x0[:M]\n",
    "S_std = Ia_std*2\n",
    "bounds_for_S = np.tile([0.1, N], M).reshape(M, 2)\n",
    "\n",
    "init_fltr = np.repeat([True, True, False], M)\n",
    "\n",
    "init_priors = {\n",
    "    'independent':{\n",
    "        'fltr': init_fltr, \n",
    "        'mean': [*S0_g, *Ia0_g], \n",
    "        'std': [*S_std, *Ia_std], \n",
    "        'bounds': [*bounds_for_S, *bounds_for_Ia]\n",
    "    }\n",
    "}\n",
    "\n",
    "\n",
    "# Optimisation parameters \n",
    "ftol = 1e-5 # the relative tol in (-logp)  \n",
    "\n",
    "start_time = time.time()\n",
    "res = estimator.latent_infer_parameters(obs, fltr, Tf_initial, contactMatrix, param_priors, init_priors, \n",
    "                                        tangent=True, global_max_iter=30, global_atol=1, verbose=True, ftol=ftol) \n",
    "end_time = time.time()\n",
    "print(end_time - start_time)"
   ]
  },
  {
   "cell_type": "code",
   "execution_count": 9,
   "metadata": {},
   "outputs": [
    {
     "name": "stdout",
     "output_type": "stream",
     "text": [
      "True parameters\n",
      "{'alpha': 0.2, 'beta': 0.02, 'gIa': 0.14285714285714285, 'gIs': 0.14285714285714285, 'fsa': 1}\n",
      "\n",
      " Best estimates\n",
      "{'alpha': 0.16961875588464387, 'beta': 0.016729553400864898, 'gIa': 0.11559766734854754, 'gIs': 0.10634561036933893, 'fsa': array([1., 1., 1., 1.])}\n",
      "\n",
      " True initial conditions: \n",
      "[15634137 17833760 17762697 12879802       18       33       24       10\n",
      "       85      124       87       34]\n",
      "\n",
      " Inferred initial conditons: \n",
      "[15634132 17833743 17762676 12879802       97        0       17        2\n",
      "       85      124       87       34]\n"
     ]
    }
   ],
   "source": [
    "# print the correct params and best estimates \n",
    "print('True parameters')\n",
    "parameters = {'alpha':alpha, 'beta':beta, 'gIa':gIa, 'gIs':gIs,'fsa':fsa}\n",
    "print(parameters)\n",
    "\n",
    "best_estimates = res['map_params_dict']\n",
    "print('\\n Best estimates')\n",
    "print(best_estimates)\n",
    "\n",
    "print('\\n True initial conditions: ') \n",
    "print(x0.astype('int'))\n",
    "\n",
    "\n",
    "map_x0 = res['map_x0']\n",
    "print('\\n Inferred initial conditons: ') \n",
    "print(map_x0.astype('int'))"
   ]
  },
  {
   "cell_type": "code",
   "execution_count": 10,
   "metadata": {},
   "outputs": [
    {
     "name": "stdout",
     "output_type": "stream",
     "text": [
      "620.1103269813384\n"
     ]
    }
   ],
   "source": [
    "logp = estimator.minus_logp_red(best_estimates, map_x0, obs, fltr, Tf_initial, contactMatrix, tangent=True)\n",
    "print(logp)"
   ]
  },
  {
   "cell_type": "markdown",
   "metadata": {},
   "source": [
    "### Check the inferred trajectory against the true trajectory for pre-intervention"
   ]
  },
  {
   "cell_type": "code",
   "execution_count": 11,
   "metadata": {
    "scrolled": false
   },
   "outputs": [
    {
     "data": {
      "image/png": "[encoded data removed]",
      "text/plain": [
       "<Figure size 432x288 with 1 Axes>"
      ]
     },
     "metadata": {
      "needs_background": "light"
     },
     "output_type": "display_data"
    }
   ],
   "source": [
    "x = np.load('cal_lat_SIR_traj.npy')[N_start:N_start+Nf_initial]\n",
    "\n",
    "# set params for estimate\n",
    "estimator.set_params(best_estimates)\n",
    "\n",
    "# make det_model and contactMatrix \n",
    "estimator.set_det_model(best_estimates)\n",
    "\n",
    "# generate the deterministic trajectory \n",
    "estimator.set_det_method('LSODA')\n",
    "x_det = estimator.integrate(map_x0, 0, Tf_initial, Nf_initial)\n",
    "plt.plot(np.sum(x[:Nf_initial,M:2*M], axis=1), label='True Ia')\n",
    "plt.plot(np.sum(x_det[:, M:2*M], axis=1), label='Inferred Ia')\n",
    "plt.plot(np.sum(x[:Nf_initial,2*M:3*M], axis=1), label='True Is')\n",
    "plt.plot(np.sum(x_det[:, 2*M:3*M], axis=1), label='Inferred Is')\n",
    "plt.legend()\n",
    "plt.show()"
   ]
  },
  {
   "cell_type": "markdown",
   "metadata": {},
   "source": [
    "Quite good at inferring Is (which it can see), not so good at inferring Ia (which it cannot see)"
   ]
  },
  {
   "cell_type": "markdown",
   "metadata": {},
   "source": [
    "## 3) Infer the control parameters \n",
    "We infer the control parameters, including the location of change, width and the final aW, aS, aO "
   ]
  },
  {
   "cell_type": "code",
   "execution_count": 12,
   "metadata": {},
   "outputs": [
    {
     "name": "stdout",
     "output_type": "stream",
     "text": [
      "1252.894779570896\n"
     ]
    }
   ],
   "source": [
    "# Test the -logp for the correct control parameters \n",
    "\n",
    "# get the trajectory \n",
    "x = np.load('cal_lat_SIR_traj.npy').astype('float')\n",
    "x = x[N_start:T_intervention+20]\n",
    "obs = np.einsum('ij,kj->ki', fltr, x)\n",
    "Nf_inference = x.shape[0] \n",
    "Tf_inference = Nf_inference-1 \n",
    "\n",
    "\n",
    "contactMatrix = generator.intervention_custom_temporal(intervention_fun, \n",
    "                                                       width=width, loc=loc-N_start, \n",
    "                                                       aW_f=aW_f, aS_f=aS_f, aO_f=aO_f)\n",
    "# compute -log_p \n",
    "estimator.set_params(best_estimates)\n",
    "logp = estimator.minus_logp_red(best_estimates, x[0], obs, fltr, Tf_inference, contactMatrix, tangent=True)\n",
    "print(logp) "
   ]
  },
  {
   "cell_type": "code",
   "execution_count": 13,
   "metadata": {},
   "outputs": [
    {
     "name": "stdout",
     "output_type": "stream",
     "text": [
      "Starting global minimisation...\n",
      "(8_w,16)-aCMA-ES (mu_w=4.8,w_1=32%) in dimension 13 (seed=1288948666, Mon Jul  6 13:26:49 2020)\n",
      "Iterat #Fevals   function value  axis ratio  sigma  min&max std  t[m:s]\n",
      "    1     16 1.391319596156616e+03 1.0e+00 9.33e-01  9e-02  2e+02 0:00.8\n",
      "    2     32 1.305937147670395e+03 1.2e+00 9.12e-01  9e-02  2e+02 0:01.5\n",
      "    3     48 1.302718376772252e+03 1.2e+00 8.92e-01  9e-02  2e+02 0:02.6\n",
      "    6     96 1.335164575025875e+03 1.5e+00 7.68e-01  7e-02  1e+02 0:05.8\n",
      "    9    144 1.271320435259297e+03 1.6e+00 7.01e-01  6e-02  1e+02 0:09.8\n",
      "   17    272 1.257236794455322e+03 2.2e+00 5.72e-01  4e-02  1e+02 0:14.9\n",
      "   27    432 1.254240502737656e+03 3.0e+00 3.39e-01  2e-02  6e+01 0:21.3\n",
      "Optimal value (global minimisation):  1247.3851290820796\n",
      "Starting local minimisation...\n",
      "Optimal value (local minimisation):  1243.8814229498753\n",
      "29.587646007537842\n"
     ]
    }
   ],
   "source": [
    "param_priors = {\n",
    "    'width':{\n",
    "        'mean': 10,\n",
    "        'std': 5, \n",
    "        'bounds': [1e-3, 40]\n",
    "    }, \n",
    "    'loc':{\n",
    "        'mean': T_intervention-N_start, \n",
    "        'std': 10, \n",
    "        'bounds': [T_intervention-100, T_intervention+100]\n",
    "    }, \n",
    "    'aW_f':{\n",
    "        'mean': 0.8, \n",
    "        'std': 0.2, \n",
    "        'bounds': [0.1, 1.0]\n",
    "    }, \n",
    "    'aS_f':{\n",
    "        'mean': 0.8, \n",
    "        'std': 0.1, \n",
    "        'bounds': [0.1, 1.0]\n",
    "    }, \n",
    "    'aO_f':{\n",
    "        'mean': 0.8, \n",
    "        'std': 0.1, \n",
    "        'bounds': [0.1, 1.0]\n",
    "    }\n",
    "}\n",
    "\n",
    "Ia0_g = map_x0[M:2*M]\n",
    "Ia_std = Ia0_g\n",
    "bounds_for_Ia = np.tile([0.1, N], M).reshape(M, 2)\n",
    "\n",
    "S0_g = map_x0[:M]\n",
    "S_std = Ia_std*2\n",
    "bounds_for_S = np.tile([0.1, N], M).reshape(M, 2)\n",
    "\n",
    "init_fltr = np.repeat([True, True, False], M)\n",
    "\n",
    "init_priors = {\n",
    "    'independent':{\n",
    "        'fltr': init_fltr, \n",
    "        'mean': [*S0_g, *Ia0_g], \n",
    "        'std': [*S_std, *Ia_std], \n",
    "        'bounds': [*bounds_for_S, *bounds_for_Ia]\n",
    "    }\n",
    "}\n",
    "\n",
    "\n",
    "\n",
    "start_time = time.time() \n",
    "res = estimator.latent_infer_control(obs, fltr, Tf_inference, generator, param_priors, init_priors,  \n",
    "                                                 intervention_fun=intervention_fun, tangent=True,\n",
    "                                                 global_max_iter=30, verbose=True)\n",
    "end_time = time.time()\n",
    "print(end_time - start_time)"
   ]
  },
  {
   "cell_type": "code",
   "execution_count": 14,
   "metadata": {},
   "outputs": [
    {
     "name": "stdout",
     "output_type": "stream",
     "text": [
      "True control params:\n",
      "{'width': 10, 'loc': 50, 'aW_f': 0.9, 'aS_f': 0.8, 'aO_f': 0.8}\n",
      "\n",
      " Inferred control params:\n",
      "{'width': 9.33827097010135, 'loc': 50.37040878761407, 'aW_f': 0.8743870517486457, 'aS_f': 0.786768950712863, 'aO_f': 0.7703267962094683}\n"
     ]
    }
   ],
   "source": [
    "true_control_params = {'width': width, 'loc': T_intervention-N_start, 'aW_f': aW_f, 'aS_f': aS_f, 'aO_f': aO_f}\n",
    "inferred_control_params = res['map_params_dict']\n",
    "\n",
    "print('True control params:')\n",
    "print(true_control_params)\n",
    "\n",
    "print('\\n Inferred control params:')\n",
    "print(inferred_control_params)"
   ]
  },
  {
   "cell_type": "code",
   "execution_count": 15,
   "metadata": {},
   "outputs": [
    {
     "data": {
      "image/png": "[encoded data removed]",
      "text/plain": [
       "<Figure size 800x640 with 1 Axes>"
      ]
     },
     "metadata": {},
     "output_type": "display_data"
    }
   ],
   "source": [
    "# compare the true trajectory with the original one \n",
    "Tf = 300 - N_start\n",
    "Nf = Tf + 1 \n",
    "\n",
    "inferred_contactMatrix = generator.intervention_custom_temporal(intervention_fun, **inferred_control_params)\n",
    "loc = inferred_control_params['loc']\n",
    "                                                 \n",
    "estimator.set_det_model(best_estimates)\n",
    "estimator.set_contact_matrix(inferred_contactMatrix)\n",
    "x_det_control = estimator.integrate(x0, 0, Tf, Nf)\n",
    "x = np.load('cal_lat_SIR_traj.npy')[N_start:]\n",
    "fig = plt.figure(num=None, figsize=(10, 8), dpi=80, facecolor='w', edgecolor='k')\n",
    "plt.rcParams.update({'font.size': 12})\n",
    "plt.plot(np.sum(x[:,M:2*M], axis=1), label='Ia')\n",
    "plt.plot(np.sum(x_det_control[:, M:2*M], axis=1), label='Inferred Ia')\n",
    "plt.plot(np.sum(x[:,2*M:3*M], axis=1), label='Is')\n",
    "plt.plot(np.sum(x_det_control[:, 2*M:3*M], axis=1), label='Inferred Is')\n",
    "plt.axvline(x=T_intervention-N_start, label='lockdown time', color='black')\n",
    "plt.axvline(x=loc, label='inferred lockdown time', color='red')\n",
    "plt.axvspan(0, Tf_inference, \n",
    "           label='used for infer control',\n",
    "           alpha=0.3, color='orange')\n",
    "plt.xlim([0, Tf])\n",
    "plt.legend()\n",
    "plt.show()"
   ]
  },
  {
   "cell_type": "code",
   "execution_count": null,
   "metadata": {},
   "outputs": [],
   "source": []
  }
 ],
 "metadata": {
  "kernelspec": {
   "display_name": "Python 3",
   "language": "python",
   "name": "python3"
  },
  "language_info": {
   "codemirror_mode": {
    "name": "ipython",
    "version": 3
   },
   "file_extension": ".py",
   "mimetype": "text/x-python",
   "name": "python",
   "nbconvert_exporter": "python",
   "pygments_lexer": "ipython3",
   "version": "3.7.7"
  }
 },
 "nbformat": 4,
 "nbformat_minor": 4
}
