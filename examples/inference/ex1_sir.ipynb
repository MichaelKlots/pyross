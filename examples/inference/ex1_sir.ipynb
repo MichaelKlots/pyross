{
 "cells": [
  {
   "cell_type": "code",
   "execution_count": 1,
   "metadata": {},
   "outputs": [],
   "source": [
    "%%capture\n",
    "## compile PyRoss for this notebook\n",
    "import os\n",
    "owd = os.getcwd()\n",
    "os.chdir('../../')\n",
    "%run setup.py install\n",
    "os.chdir(owd)"
   ]
  },
  {
   "cell_type": "code",
   "execution_count": 2,
   "metadata": {},
   "outputs": [],
   "source": [
    "%matplotlib inline\n",
    "import numpy as np\n",
    "from matplotlib import pyplot as plt\n",
    "import pyross\n",
    "import time "
   ]
  },
  {
   "cell_type": "code",
   "execution_count": 3,
   "metadata": {},
   "outputs": [],
   "source": [
    "M  = 2                  # the population has two age groups\n",
    "N  =  5e4           # and this is the total population\n",
    "\n",
    "# correct params\n",
    "\n",
    "beta  = 0.02         # infection rate\n",
    "gIa   = 1./7            # recovery rate of asymptomatic infectives\n",
    "gIs   = 1./7            # recovery rate of asymptomatic infectives\n",
    "alpha = 0.2          # fraction of asymptomatic infectives\n",
    "fsa   = 0.8          # the self-isolation parameter\n",
    "\n",
    "# set the age structure\n",
    "fi = np.array([0.25, 0.75])  # fraction of population in age age group\n",
    "Ni = N*fi\n",
    "\n",
    "# set the contact structure\n",
    "C = np.array([[18., 9.], [3., 12.]])\n",
    "\n",
    "# set up initial condition\n",
    "Ia0 = np.array([10, 10])  # each age group has asymptomatic infectives\n",
    "Is0 = np.array([10, 10])   # and also symptomatic infectives\n",
    "R0  = np.array([0, 0])  # there are no recovered individuals initially\n",
    "S0  = Ni - (Ia0 + Is0 + R0)\n",
    "\n",
    "Tf = 100\n",
    "Nf = Tf+1\n",
    "\n",
    "def contactMatrix(t):\n",
    "    return C\n",
    "\n",
    "parameters = {'alpha':alpha, 'beta':beta, 'gIa':gIa, 'gIs':gIs,'fsa':fsa}\n",
    "\n",
    "# use pyross stochastic to generate traj and save \n",
    "sto_model = pyross.stochastic.SIR(parameters, M, Ni)\n",
    "data = sto_model.simulate(S0, Ia0, Is0, contactMatrix, Tf, Nf)\n",
    "data_array = data['X']\n",
    "np.save('SIR_sto_traj.npy', data_array)"
   ]
  },
  {
   "cell_type": "code",
   "execution_count": 4,
   "metadata": {},
   "outputs": [
    {
     "data": {
      "image/png": "[encoded data removed]",
      "text/plain": [
       "<Figure size 432x288 with 1 Axes>"
      ]
     },
     "metadata": {
      "needs_background": "light"
     },
     "output_type": "display_data"
    }
   ],
   "source": [
    "plt.plot(data_array[:, 0], label='S')\n",
    "plt.plot(data_array[:, M], label='Ia')\n",
    "plt.plot(data_array[:, 2*M], label='Is')\n",
    "plt.legend()\n",
    "plt.show()"
   ]
  },
  {
   "cell_type": "code",
   "execution_count": 4,
   "metadata": {},
   "outputs": [
    {
     "name": "stdout",
     "output_type": "stream",
     "text": [
      "-2116.698339191044\n",
      "0.3163578510284424\n"
     ]
    }
   ],
   "source": [
    "# load the data and rescale to intensive variables \n",
    "Tf = 50 # truncate to only getting the first few datapoints \n",
    "Nf = Tf+1\n",
    "\n",
    "x = np.load('SIR_sto_traj.npy').astype('float')\n",
    "x = (x/N)[:Nf]\n",
    "steps = 101 # number internal integration steps taken, must be an odd number \n",
    "\n",
    "\n",
    "# initialise the estimator \n",
    "estimator = pyross.inference.SIR(parameters, M, fi, int(N), steps)\n",
    "\n",
    "# compute -log_p for the original (correct) parameters \n",
    "start_time = time.time() \n",
    "parameters = {'alpha':alpha, 'beta':beta, 'gIa':gIa, 'gIs':gIs,'fsa':fsa}\n",
    "logp = estimator.obtain_minus_log_p(parameters, x, Tf, Nf, contactMatrix)\n",
    "end_time = time.time()\n",
    "print(logp) \n",
    "print(end_time - start_time)"
   ]
  },
  {
   "cell_type": "code",
   "execution_count": 5,
   "metadata": {},
   "outputs": [
    {
     "name": "stdout",
     "output_type": "stream",
     "text": [
      "343592.96495149675\n"
     ]
    }
   ],
   "source": [
    "# take a guess \n",
    "beta_g = 0.2\n",
    "gIa_g = 0.01\n",
    "gIs_g = 0.01\n",
    "alpha_g = 0.1\n",
    "guess = [alpha_g, beta_g, gIa_g, gIs_g]\n",
    "\n",
    "# compute -log_p for the initial guess \n",
    "parameters = {'alpha':alpha_g, 'beta':beta_g, 'gIa':gIa_g, 'gIs':gIs_g,'fsa':fsa}\n",
    "logp = estimator.obtain_minus_log_p(parameters, x, Tf, Nf, contactMatrix)\n",
    "print(logp) "
   ]
  },
  {
   "cell_type": "code",
   "execution_count": 6,
   "metadata": {
    "scrolled": true
   },
   "outputs": [
    {
     "name": "stdout",
     "output_type": "stream",
     "text": [
      "parameters: [0.05103555 0.10202209 0.29917944 0.29917944]\n",
      "parameters: [0.05215855 0.05112847 0.30372064 0.2943633 ]\n",
      "parameters: [0.05770506 0.034083   0.30056014 0.29213267]\n",
      "parameters: [0.0633452  0.02278356 0.29603088 0.28987053]\n",
      "parameters: [0.0668711  0.01972475 0.29207425 0.28792616]\n",
      "parameters: [0.09218003 0.01863645 0.25661039 0.26956844]\n",
      "parameters: [0.15322034 0.01899132 0.16927422 0.2239679 ]\n",
      "parameters: [0.18426547 0.01912822 0.12169577 0.1974473 ]\n",
      "parameters: [0.20733104 0.01956097 0.08554697 0.16032874]\n",
      "parameters: [0.19768086 0.02012966 0.10376877 0.16052293]\n",
      "parameters: [0.18878011 0.02047932 0.12167766 0.15058168]\n",
      "parameters: [0.18412946 0.02018951 0.1306729  0.14627255]\n",
      "parameters: [0.18372733 0.02003383 0.13146445 0.14599316]\n",
      "parameters: [0.18376541 0.02002746 0.13139939 0.14597958]\n",
      "basinhopping step 0: f -2115.56\n",
      "parameters: [0.11508458 0.07281007 0.2339714  0.25518674]\n",
      "parameters: [0.13153864 0.02424307 0.18639204 0.20509564]\n",
      "parameters: [0.13855306 0.0162467  0.16579627 0.18492756]\n",
      "parameters: [0.15191794 0.02077494 0.1242656  0.14576972]\n",
      "parameters: [0.15215327 0.0201905  0.12376306 0.14534572]\n",
      "parameters: [0.15186225 0.01999685 0.12486889 0.14650377]\n",
      "parameters: [0.15211676 0.01998298 0.12430156 0.14609874]\n",
      "parameters: [0.15404876 0.01997894 0.12166453 0.14567978]\n",
      "parameters: [0.16391501 0.01999776 0.11423951 0.15049703]\n",
      "parameters: [0.16463309 0.02000644 0.11506904 0.14998248]\n",
      "parameters: [0.17303171 0.02003053 0.12264211 0.14662237]\n",
      "parameters: [0.18149879 0.02003143 0.12960019 0.14483831]\n",
      "parameters: [0.19190502 0.01997404 0.13831093 0.14408309]\n",
      "parameters: [0.19427544 0.02001782 0.13937148 0.14398937]\n",
      "parameters: [0.19427544 0.02001782 0.13937148 0.14398937]\n",
      "basinhopping step 1: f -2117.19 trial_f -2117.19 accepted 1  lowest_f -2117.19\n",
      "found new global minimum on step 1 with function value -2117.19\n",
      "[0.19427544 0.02001782 0.13937148 0.14398937]\n",
      "1\n",
      "118.08758306503296\n"
     ]
    }
   ],
   "source": [
    "# inference \n",
    "\n",
    "eps = 1e-4 \n",
    "bounds = [(eps, 0.8), (eps, 0.2), (eps, 0.6), (eps, 0.6)] # give some bounds\n",
    "start_time = time.time() \n",
    "params, nit = estimator.inference(guess, x, Tf, Nf, contactMatrix, \n",
    "                                  niter=1, bounds=bounds, \n",
    "                                  eps=eps, verbose=True)\n",
    "# sometimes produce errors if input is bad, ignore and let basinhopping do its magic\n",
    "end_time = time.time()\n",
    "print(params) # best guess \n",
    "print(nit) # number of iterations of the optimization run \n",
    "print(end_time - start_time)"
   ]
  },
  {
   "cell_type": "code",
   "execution_count": 7,
   "metadata": {},
   "outputs": [
    {
     "name": "stdout",
     "output_type": "stream",
     "text": [
      "-2117.1882596430796\n",
      "0.34780216217041016\n"
     ]
    }
   ],
   "source": [
    "# compute log_p for best estimate \n",
    "start_time = time.time() \n",
    "parameters = {'alpha': params[0], 'beta': params[1], 'gIa': params[2], 'gIs': params[3],'fsa':fsa}\n",
    "logp = estimator.obtain_minus_log_p(parameters, x, Tf, Nf, contactMatrix)\n",
    "end_time = time.time()\n",
    "print(logp) \n",
    "print(end_time - start_time)"
   ]
  },
  {
   "cell_type": "code",
   "execution_count": 9,
   "metadata": {},
   "outputs": [],
   "source": [
    "hess = estimator.hessian(params, x, Tf, Nf, contactMatrix)\n",
    "cov = np.linalg.inv(hess)"
   ]
  },
  {
   "cell_type": "code",
   "execution_count": 10,
   "metadata": {},
   "outputs": [
    {
     "name": "stdout",
     "output_type": "stream",
     "text": [
      "[[ 3.86709069e-05 -2.04854291e-09  2.84240393e-05 -7.06030807e-06]\n",
      " [-2.04854291e-09  1.28901748e-08 -1.29241516e-09  6.58946162e-10]\n",
      " [ 2.84240393e-05 -1.29241516e-09  2.67131215e-05 -5.84014409e-06]\n",
      " [-7.06030807e-06  6.58946162e-10 -5.84014409e-06  2.27361845e-06]]\n"
     ]
    }
   ],
   "source": [
    "print(cov)"
   ]
  },
  {
   "cell_type": "code",
   "execution_count": null,
   "metadata": {},
   "outputs": [],
   "source": []
  }
 ],
 "metadata": {
  "kernelspec": {
   "display_name": "Python 3",
   "language": "python",
   "name": "python3"
  },
  "language_info": {
   "codemirror_mode": {
    "name": "ipython",
    "version": 3
   },
   "file_extension": ".py",
   "mimetype": "text/x-python",
   "name": "python",
   "nbconvert_exporter": "python",
   "pygments_lexer": "ipython3",
   "version": "3.7.6"
  }
 },
 "nbformat": 4,
 "nbformat_minor": 4
}
