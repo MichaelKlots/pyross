{
 "cells": [
  {
   "cell_type": "code",
   "execution_count": 1,
   "metadata": {},
   "outputs": [],
   "source": [
    "%%capture\n",
    "## compile PyRoss for this notebook\n",
    "import os\n",
    "owd = os.getcwd()\n",
    "os.chdir('../../')\n",
    "%run setup.py install\n",
    "os.chdir(owd)"
   ]
  },
  {
   "cell_type": "code",
   "execution_count": 2,
   "metadata": {},
   "outputs": [],
   "source": [
    "%matplotlib inline\n",
    "import numpy as np\n",
    "import pyross\n",
    "import pandas as pd\n",
    "import time \n",
    "import matplotlib.pyplot as plt\n",
    "from scipy.io import loadmat"
   ]
  },
  {
   "cell_type": "code",
   "execution_count": 3,
   "metadata": {},
   "outputs": [
    {
     "name": "stdout",
     "output_type": "stream",
     "text": [
      "135333.0\n"
     ]
    }
   ],
   "source": [
    "## population and age classes\n",
    "M=4  ## number of age classes\n",
    "\n",
    "my_data = np.genfromtxt('../data/age_structures/India-2019.csv', delimiter=',', skip_header=1)\n",
    "aM, aF = my_data[:, 1], my_data[:, 2]\n",
    "\n",
    "Ni0=aM+aF;   Ni=np.zeros((M))\n",
    "\n",
    "# scale the population down to a more manageble level \n",
    "Ni[0] = (np.sum(Ni0[0:4])/1e4).astype('int')\n",
    "Ni[1] = (np.sum(Ni0[4:8])/1e4).astype('int')\n",
    "Ni[2] = (np.sum(Ni0[8:12])/1e4).astype('int')\n",
    "Ni[3] = (np.sum(Ni0[12:16])/1e4).astype('int')\n",
    "N=np.sum(Ni)\n",
    "print(N)\n",
    "fi = Ni/N "
   ]
  },
  {
   "cell_type": "code",
   "execution_count": 4,
   "metadata": {},
   "outputs": [],
   "source": [
    "# Get individual contact matrices\n",
    "CH0, CW0, CS0, CO0 = pyross.contactMatrix.India()\n",
    "\n",
    "\n",
    "CH = np.zeros((M, M))\n",
    "CW = np.zeros((M, M))\n",
    "CS = np.zeros((M, M))\n",
    "CO = np.zeros((M, M))\n",
    "\n",
    "\n",
    "for i in range(M):\n",
    "    for j in range(M):\n",
    "        i1, j1 = i*4, j*4\n",
    "        CH[i,j] = np.sum( CH0[i1:i1+4, j1:j1+4] )\n",
    "        CW[i,j] = np.sum( CW0[i1:i1+4, j1:j1+4] )\n",
    "        CS[i,j] = np.sum( CS0[i1:i1+4, j1:j1+4] )\n",
    "        CO[i,j] = np.sum( CO0[i1:i1+4, j1:j1+4] )"
   ]
  },
  {
   "cell_type": "code",
   "execution_count": 5,
   "metadata": {},
   "outputs": [],
   "source": [
    "# Generate class with contact matrix for SIR model with UK contact structure\n",
    "generator = pyross.contactMatrix.SIR(CH, CW, CS, CO)"
   ]
  },
  {
   "cell_type": "code",
   "execution_count": 47,
   "metadata": {},
   "outputs": [],
   "source": [
    "times= [20] # temporal boundaries between different contact-behaviour\n",
    "\n",
    "aW, aS, aO = 0.5, 0.6, 0.6\n",
    "\n",
    "# prefactors for CW, CS, CO:\n",
    "interventions = [[1.0,1.0,1.0],      # before first time\n",
    "                 [aW, aS, aO],       # after first time\n",
    "                ]         \n",
    "\n",
    "# generate corresponding contact matrix function\n",
    "C = generator.interventions_temporal(times=times,interventions=interventions)"
   ]
  },
  {
   "cell_type": "code",
   "execution_count": 48,
   "metadata": {},
   "outputs": [],
   "source": [
    "beta  = 0.00454      # contact rate parameter\n",
    "gIa   = 1./7            # recovery rate of asymptomatic infectives \n",
    "gIs   = 1./7            # recovery rate of symptomatic infectives \n",
    "alpha = 0.2              # asymptomatic fraction\n",
    "fsa   = 0.8               # suppresion of contact by symptomatics\n",
    "\n",
    "\n",
    "# initial conditions    \n",
    "Is_0 = np.ones(M)*20\n",
    "Is_0[1] += 10 #make one group different \n",
    "Ia_0 = np.zeros((M))*2\n",
    "Ia_0[1] += 2 \n",
    "R_0  = np.zeros((M))\n",
    "S_0  = Ni - (Ia_0 + Is_0 + R_0)\n",
    "\n",
    "\n",
    "parameters = {'alpha':alpha,'beta':beta, 'gIa':gIa,'gIs':gIs,'fsa':fsa}\n",
    "model = pyross.stochastic.SIR(parameters, M, Ni)\n",
    "\n",
    "contactMatrix=C\n",
    "\n",
    "# start simulation\n",
    "Tf=100;  Nf=Tf+1 \n",
    "data=model.simulate(S_0, Ia_0, Is_0, contactMatrix, Tf, Nf)"
   ]
  },
  {
   "cell_type": "code",
   "execution_count": 49,
   "metadata": {
    "scrolled": true
   },
   "outputs": [
    {
     "data": {
      "image/png": "[encoded data removed]",
      "text/plain": [
       "<Figure size 432x288 with 1 Axes>"
      ]
     },
     "metadata": {
      "needs_background": "light"
     },
     "output_type": "display_data"
    }
   ],
   "source": [
    "IC  = np.zeros((Nf))\n",
    "for i in range(M):\n",
    "        IC += data['X'][:,2*M+i] \n",
    "t = data['t']\n",
    "plt.plot(t, IC)\n",
    "plt.show() "
   ]
  },
  {
   "cell_type": "code",
   "execution_count": 50,
   "metadata": {
    "scrolled": false
   },
   "outputs": [
    {
     "name": "stdout",
     "output_type": "stream",
     "text": [
      "-990.3951725892858\n",
      "0.19268512725830078\n"
     ]
    },
    {
     "data": {
      "image/png": "[encoded data removed]",
      "text/plain": [
       "<Figure size 432x288 with 1 Axes>"
      ]
     },
     "metadata": {
      "needs_background": "light"
     },
     "output_type": "display_data"
    }
   ],
   "source": [
    "Tf = 19 # truncate to only getting the first few datapoints \n",
    "Nf = Tf+1\n",
    "\n",
    "x = data['X']\n",
    "x = (x/N)[:Nf]\n",
    "steps = 101 # number internal integration steps taken, must be an odd number \n",
    "\n",
    "\n",
    "# initialise the estimator \n",
    "estimator = pyross.inference.SIR(parameters, M, fi, int(N), steps)\n",
    "\n",
    "# compute -log_p for the original (correct) parameters \n",
    "start_time = time.time() \n",
    "parameters = {'alpha':alpha, 'beta':beta, 'gIa':gIa, 'gIs':gIs,'fsa':fsa}\n",
    "logp = estimator.obtain_minus_log_p(parameters, x, Tf, Nf, contactMatrix)\n",
    "end_time = time.time()\n",
    "print(logp) \n",
    "print(end_time - start_time)\n",
    "\n",
    "plt.plot(x[:, M])\n",
    "plt.show()"
   ]
  },
  {
   "cell_type": "code",
   "execution_count": 32,
   "metadata": {
    "scrolled": true
   },
   "outputs": [
    {
     "name": "stdout",
     "output_type": "stream",
     "text": [
      "-960.0991798111395\n",
      "[[1.e-04 4.e-01]\n",
      " [5.e-03 1.e-01]\n",
      " [1.e-04 3.e-01]\n",
      " [1.e-04 3.e-01]]\n",
      "parameters: [0.22375084 0.02289923 0.1657558  0.13425471]\n",
      "parameters: [0.22574118 0.02204733 0.16458928 0.13559042]\n",
      "parameters: [0.22434537 0.02233485 0.16542274 0.13473102]\n",
      "parameters: [0.22436232 0.02232252 0.16541943 0.13477614]\n",
      "basinhopping step 0: f -973.28\n",
      "parameters: [0.19619869 0.0422336  0.15962238 0.144826  ]\n",
      "parameters: [0.18796127 0.0285561  0.16482843 0.14908757]\n",
      "parameters: [0.18745264 0.02242371 0.1649423  0.14866399]\n",
      "parameters: [0.1939295  0.02239767 0.16029158 0.14349585]\n",
      "parameters: [0.20881063 0.02233631 0.1517252  0.14018773]\n",
      "parameters: [0.21008296 0.02236469 0.15255269 0.14059737]\n",
      "parameters: [0.21111448 0.02235452 0.15333852 0.14076831]\n",
      "parameters: [0.21215941 0.02236287 0.154552   0.14070117]\n",
      "parameters: [0.21647537 0.02236147 0.16034768 0.13989182]\n",
      "parameters: [0.21987233 0.0223635  0.16587303 0.13849603]\n",
      "parameters: [0.2220996  0.02233839 0.17070344 0.13694965]\n",
      "parameters: [0.22172425 0.02233438 0.17076075 0.13675802]\n",
      "basinhopping step 1: f -973.44 trial_f -973.44 accepted 1  lowest_f -973.44\n",
      "found new global minimum on step 1 with function value -973.44\n",
      "parameters: [0.26938778 0.02496372 0.18178518 0.10266367]\n",
      "parameters: [0.26712937 0.02376925 0.18288906 0.1048517 ]\n",
      "parameters: [0.25288051 0.02150138 0.1895217  0.11709549]\n",
      "parameters: [0.24426737 0.0219387  0.19341323 0.12396765]\n",
      "parameters: [0.2363146  0.02227785 0.19698803 0.13036781]\n",
      "parameters: [0.23547455 0.02230723 0.19733957 0.13111879]\n",
      "parameters: [0.23544636 0.02231163 0.19730187 0.13127539]\n",
      "parameters: [0.23595744 0.02232701 0.19658577 0.13209479]\n",
      "parameters: [0.23679261 0.02232216 0.19574536 0.13233664]\n",
      "parameters: [0.23713337 0.02231127 0.19448774 0.13240511]\n",
      "parameters: [0.2370147  0.02229166 0.19169021 0.13250656]\n",
      "parameters: [0.23587391 0.02227702 0.18834336 0.13278855]\n",
      "parameters: [0.23199473 0.02226553 0.18122926 0.13376001]\n",
      "parameters: [0.22567486 0.02238851 0.17175873 0.13522651]\n",
      "parameters: [0.21925094 0.02225297 0.1654758  0.13731064]\n",
      "parameters: [0.22164358 0.02231355 0.1699657  0.13665591]\n",
      "parameters: [0.2215179  0.0223321  0.17050508 0.13674392]\n",
      "parameters: [0.22144601 0.02233229 0.17046764 0.13678644]\n",
      "basinhopping step 2: f -973.44 trial_f -973.44 accepted 1  lowest_f -973.44\n",
      "parameters: [0.27962881 0.01884106 0.23950565 0.14584216]\n",
      "parameters: [0.27772861 0.02543095 0.23856651 0.14391446]\n",
      "parameters: [0.26960968 0.02313182 0.23448436 0.13330893]\n",
      "parameters: [0.26224909 0.02193573 0.23078404 0.12379161]\n",
      "parameters: [0.26271222 0.02228088 0.23101424 0.12444057]\n",
      "parameters: [0.26273105 0.02228219 0.23102216 0.12448415]\n",
      "basinhopping step 3: f -973.44 trial_f -972.434 accepted 0  lowest_f -973.44\n",
      "parameters: [0.29552423 0.0489295  0.27232215 0.16747788]\n",
      "parameters: [0.31027651 0.03222832 0.27590379 0.18386559]\n",
      "parameters: [0.3094851  0.0234089  0.27556729 0.18149355]\n",
      "parameters: [0.2869865  0.02119412 0.26941075 0.15110405]\n",
      "parameters: [0.26919972 0.02200831 0.26454987 0.12741631]\n",
      "parameters: [0.26397621 0.02226137 0.2629123  0.12025101]\n",
      "parameters: [0.26530849 0.02231089 0.26303156 0.12182973]\n",
      "parameters: [0.26798127 0.02224371 0.26147015 0.1233359 ]\n",
      "parameters: [0.26975692 0.02225652 0.25908761 0.12317635]\n",
      "parameters: [0.27490429 0.02226539 0.24915452 0.12096472]\n",
      "parameters: [0.26841003 0.02236049 0.23797478 0.12198523]\n",
      "parameters: [0.23339078 0.0224858  0.18582514 0.13018243]\n",
      "parameters: [0.22011131 0.02243686 0.16901923 0.13530982]\n",
      "parameters: [0.22096873 0.02231666 0.17016586 0.13659589]\n",
      "parameters: [0.22143111 0.02234026 0.17051086 0.13684229]\n",
      "parameters: [0.22143121 0.02234025 0.1705108  0.1368422 ]\n",
      "basinhopping step 4: f -973.441 trial_f -973.441 accepted 1  lowest_f -973.441\n",
      "found new global minimum on step 4 with function value -973.441\n",
      "[0.22143121 0.00446805 0.1705108  0.1368422 ]\n",
      "4\n",
      "67.06601810455322\n"
     ]
    }
   ],
   "source": [
    "# take a guess \n",
    "beta_g = 0.005\n",
    "gIa_g = 0.15\n",
    "gIs_g = 0.15\n",
    "alpha_g = 0.25\n",
    "guess = np.array([alpha_g, beta_g, gIa_g, gIs_g])\n",
    "\n",
    "# compute -log_p for the initial guess \n",
    "parameters = {'alpha':alpha_g, 'beta':beta_g, 'gIa':gIa_g, 'gIs':gIs_g,'fsa':fsa}\n",
    "logp = estimator.obtain_minus_log_p(parameters, x, Tf, Nf, contactMatrix)\n",
    "print(logp) \n",
    "\n",
    "eps = 1e-4 \n",
    "bounds = np.array([(eps, 0.4), (1e-3, 0.02), (eps, 0.3), (eps, 0.3)]) # give some bounds\n",
    "start_time = time.time() \n",
    "params, nit = estimator.inference(guess, x, Tf, Nf, contactMatrix, beta_rescale=5,\n",
    "                                  niter=4, bounds=bounds, \n",
    "                                  eps=eps, verbose=True)\n",
    "# sometimes produce errors if input is bad, ignore and let basinhopping do its magic\n",
    "end_time = time.time()\n",
    "print(params) # best guess \n",
    "print(nit) # number of iterations of the optimization run \n",
    "print(end_time - start_time)"
   ]
  },
  {
   "cell_type": "code",
   "execution_count": 51,
   "metadata": {},
   "outputs": [
    {
     "name": "stdout",
     "output_type": "stream",
     "text": [
      "-3041.727528691351\n"
     ]
    }
   ],
   "source": [
    "aW_g = 0.5 \n",
    "aW_bounds = [0.1, 0.8]\n",
    "aS_g = 0.5\n",
    "aS_bounds = [0.1, 0.8]\n",
    "aO_g = 0.5\n",
    "aO_bounds = [0.1, 0.8]\n",
    "guess = np.array([aW_g, aS_g, aO_g])\n",
    "bounds = np.array([aW_bounds, aS_bounds, aO_bounds])\n",
    "\n",
    "x = data['X']/N\n",
    "x = x[22:]\n",
    "Nf = x.shape[0] \n",
    "Tf = Nf-1 \n",
    "\n",
    "times = [Tf+1]\n",
    "interventions = [[aW, aS, aO]]\n",
    "contactMatrix = generator.interventions_temporal(times=times,interventions=interventions)\n",
    "\n",
    "# compute -log_p for the initial guess (for the moment, use correct parameters)\n",
    "logp = estimator.obtain_minus_log_p(parameters, x, Tf, Nf, contactMatrix)\n",
    "print(logp) "
   ]
  },
  {
   "cell_type": "code",
   "execution_count": 52,
   "metadata": {},
   "outputs": [
    {
     "name": "stdout",
     "output_type": "stream",
     "text": [
      "parameters: [0.57685583 0.57685583 0.57685583]\n",
      "parameters: [0.5686592  0.576323   0.57495062]\n",
      "parameters: [0.53779135 0.58074987 0.57326777]\n",
      "parameters: [0.51172485 0.58944286 0.5768395 ]\n",
      "parameters: [0.50100206 0.59349122 0.58267747]\n",
      "parameters: [0.50053585 0.59324775 0.58365781]\n",
      "parameters: [0.50015123 0.59244072 0.58456766]\n",
      "parameters: [0.49878858 0.58946443 0.58699879]\n",
      "parameters: [0.49592756 0.58345229 0.59106302]\n",
      "parameters: [0.49216157 0.575988   0.59524537]\n",
      "parameters: [0.49090476 0.57337212 0.5961746 ]\n",
      "parameters: [0.49090476 0.57337212 0.5961746 ]\n",
      "basinhopping step 0: f -3043.83\n",
      "parameters: [0.42099897 0.55571909 0.57224579]\n",
      "parameters: [0.44878172 0.58728312 0.60676924]\n",
      "parameters: [0.4493345  0.58221838 0.60284187]\n",
      "parameters: [0.45451923 0.57769064 0.60081069]\n",
      "parameters: [0.47093965 0.56909569 0.5989269 ]\n",
      "parameters: [0.48493835 0.56578929 0.59982247]\n",
      "parameters: [0.48739772 0.56638685 0.60024463]\n",
      "parameters: [0.48749314 0.56674156 0.60022806]\n",
      "basinhopping step 1: f -3043.84 trial_f -3043.84 accepted 1  lowest_f -3043.84\n",
      "found new global minimum on step 1 with function value -3043.84\n",
      "parameters: [0.44234624 0.53154195 0.5816612 ]\n",
      "parameters: [0.46780363 0.56139031 0.61501724]\n",
      "parameters: [0.46610078 0.55748203 0.61069502]\n",
      "parameters: [0.46736066 0.5568419  0.60998272]\n",
      "parameters: [0.47537187 0.55499434 0.60763293]\n",
      "parameters: [0.48132329 0.55546468 0.60660446]\n",
      "parameters: [0.4843966  0.55767405 0.60546691]\n",
      "parameters: [0.4870344  0.56113955 0.60370817]\n",
      "parameters: [0.48946248 0.56591849 0.60101571]\n",
      "parameters: [0.49177229 0.57236925 0.59689498]\n",
      "parameters: [0.49175243 0.57275182 0.59660628]\n",
      "basinhopping step 2: f -3043.83 trial_f -3043.83 accepted 1  lowest_f -3043.84\n",
      "[0.48749314 0.56674156 0.60022806]\n",
      "2\n",
      "128.60381507873535\n"
     ]
    }
   ],
   "source": [
    "eps = 1e-3 \n",
    "start_time = time.time() \n",
    "\n",
    "params, nit = estimator.infer_control(guess, x, Tf, Nf, generator, bounds,\n",
    "                                  niter=2, eps=eps, verbose=True)\n",
    "# sometimes produce errors if input is bad, ignore and let basinhopping do its magic\n",
    "end_time = time.time()\n",
    "print(params) # best guess \n",
    "print(nit) # number of iterations of the optimization run \n",
    "print(end_time - start_time)"
   ]
  },
  {
   "cell_type": "code",
   "execution_count": null,
   "metadata": {},
   "outputs": [],
   "source": []
  }
 ],
 "metadata": {
  "kernelspec": {
   "display_name": "Python 3",
   "language": "python",
   "name": "python3"
  },
  "language_info": {
   "codemirror_mode": {
    "name": "ipython",
    "version": 3
   },
   "file_extension": ".py",
   "mimetype": "text/x-python",
   "name": "python",
   "nbconvert_exporter": "python",
   "pygments_lexer": "ipython3",
   "version": "3.7.6"
  }
 },
 "nbformat": 4,
 "nbformat_minor": 4
}
