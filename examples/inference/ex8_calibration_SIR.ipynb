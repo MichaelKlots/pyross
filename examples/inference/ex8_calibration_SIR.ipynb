{
 "cells": [
  {
   "cell_type": "code",
   "execution_count": 1,
   "metadata": {},
   "outputs": [],
   "source": [
    "%%capture\n",
    "## compile PyRoss for this notebook\n",
    "import os\n",
    "owd = os.getcwd()\n",
    "os.chdir('../../')\n",
    "%run setup.py install\n",
    "os.chdir(owd)"
   ]
  },
  {
   "cell_type": "code",
   "execution_count": 2,
   "metadata": {},
   "outputs": [],
   "source": [
    "%matplotlib inline\n",
    "import numpy as np\n",
    "import pyross\n",
    "import pandas as pd\n",
    "import time \n",
    "import matplotlib.pyplot as plt\n",
    "from scipy.io import loadmat"
   ]
  },
  {
   "cell_type": "code",
   "execution_count": 3,
   "metadata": {},
   "outputs": [
    {
     "name": "stdout",
     "output_type": "stream",
     "text": [
      "135333.0\n"
     ]
    }
   ],
   "source": [
    "## population and age classes\n",
    "M=4  ## number of age classes\n",
    "\n",
    "my_data = np.genfromtxt('../data/age_structures/India-2019.csv', delimiter=',', skip_header=1)\n",
    "aM, aF = my_data[:, 1], my_data[:, 2]\n",
    "\n",
    "Ni0=aM+aF;   Ni=np.zeros((M))\n",
    "\n",
    "# scale the population down to a more manageble level \n",
    "Ni[0] = (np.sum(Ni0[0:4])/1e4).astype('int')\n",
    "Ni[1] = (np.sum(Ni0[4:8])/1e4).astype('int')\n",
    "Ni[2] = (np.sum(Ni0[8:12])/1e4).astype('int')\n",
    "Ni[3] = (np.sum(Ni0[12:16])/1e4).astype('int')\n",
    "N=np.sum(Ni)\n",
    "print(N)\n",
    "fi = Ni/N "
   ]
  },
  {
   "cell_type": "code",
   "execution_count": 4,
   "metadata": {},
   "outputs": [],
   "source": [
    "# Get individual contact matrices\n",
    "CH0, CW0, CS0, CO0 = pyross.contactMatrix.India()\n",
    "\n",
    "\n",
    "CH = np.zeros((M, M))\n",
    "CW = np.zeros((M, M))\n",
    "CS = np.zeros((M, M))\n",
    "CO = np.zeros((M, M))\n",
    "\n",
    "\n",
    "for i in range(M):\n",
    "    for j in range(M):\n",
    "        i1, j1 = i*4, j*4\n",
    "        CH[i,j] = np.sum( CH0[i1:i1+4, j1:j1+4] )\n",
    "        CW[i,j] = np.sum( CW0[i1:i1+4, j1:j1+4] )\n",
    "        CS[i,j] = np.sum( CS0[i1:i1+4, j1:j1+4] )\n",
    "        CO[i,j] = np.sum( CO0[i1:i1+4, j1:j1+4] )"
   ]
  },
  {
   "cell_type": "code",
   "execution_count": 5,
   "metadata": {},
   "outputs": [],
   "source": [
    "# Generate class with contact matrix for SIR model with UK contact structure\n",
    "generator = pyross.contactMatrix.SIR(CH, CW, CS, CO)"
   ]
  },
  {
   "cell_type": "code",
   "execution_count": 6,
   "metadata": {},
   "outputs": [],
   "source": [
    "times= [20] # temporal boundaries between different contact-behaviour\n",
    "\n",
    "aW, aS, aO = 0.5, 0.6, 0.6\n",
    "\n",
    "# prefactors for CW, CS, CO:\n",
    "interventions = [[1.0,1.0,1.0],      # before first time\n",
    "                 [aW, aS, aO],       # after first time\n",
    "                ]         \n",
    "\n",
    "# generate corresponding contact matrix function\n",
    "C = generator.interventions_temporal(times=times,interventions=interventions)"
   ]
  },
  {
   "cell_type": "code",
   "execution_count": 7,
   "metadata": {},
   "outputs": [],
   "source": [
    "beta  = 0.00454      # contact rate parameter\n",
    "gIa   = 1./7            # recovery rate of asymptomatic infectives \n",
    "gIs   = 1./7            # recovery rate of symptomatic infectives \n",
    "alpha = 0.2              # asymptomatic fraction\n",
    "fsa   = 0.8               # suppresion of contact by symptomatics\n",
    "\n",
    "\n",
    "# initial conditions    \n",
    "Is_0 = np.ones(M)*20\n",
    "Is_0[1] += 10 #make one group different \n",
    "Ia_0 = np.zeros((M))*2\n",
    "Ia_0[1] += 2 \n",
    "R_0  = np.zeros((M))\n",
    "S_0  = Ni - (Ia_0 + Is_0 + R_0)\n",
    "\n",
    "\n",
    "parameters = {'alpha':alpha,'beta':beta, 'gIa':gIa,'gIs':gIs,'fsa':fsa}\n",
    "model = pyross.stochastic.SIR(parameters, M, Ni)\n",
    "\n",
    "contactMatrix=C\n",
    "\n",
    "# start simulation\n",
    "Tf=100;  Nf=Tf+1 \n",
    "data=model.simulate(S_0, Ia_0, Is_0, contactMatrix, Tf, Nf)"
   ]
  },
  {
   "cell_type": "code",
   "execution_count": 8,
   "metadata": {
    "scrolled": true
   },
   "outputs": [
    {
     "data": {
      "image/png": "[encoded data removed]",
      "text/plain": [
       "<Figure size 432x288 with 1 Axes>"
      ]
     },
     "metadata": {
      "needs_background": "light"
     },
     "output_type": "display_data"
    }
   ],
   "source": [
    "IC  = np.zeros((Nf))\n",
    "for i in range(M):\n",
    "        IC += data['X'][:,2*M+i] \n",
    "t = data['t']\n",
    "plt.plot(t, IC)\n",
    "plt.show() "
   ]
  },
  {
   "cell_type": "code",
   "execution_count": 9,
   "metadata": {
    "scrolled": false
   },
   "outputs": [
    {
     "name": "stdout",
     "output_type": "stream",
     "text": [
      "-969.8759973267121\n",
      "0.19132614135742188\n"
     ]
    },
    {
     "data": {
      "image/png": "[encoded data removed]",
      "text/plain": [
       "<Figure size 432x288 with 1 Axes>"
      ]
     },
     "metadata": {
      "needs_background": "light"
     },
     "output_type": "display_data"
    }
   ],
   "source": [
    "Tf = 19 # truncate to only getting the first few datapoints \n",
    "Nf = Tf+1\n",
    "\n",
    "x = data['X']\n",
    "x = (x/N)[:Nf]\n",
    "steps = 101 # number internal integration steps taken, must be an odd number \n",
    "\n",
    "\n",
    "# initialise the estimator \n",
    "estimator = pyross.inference.SIR(parameters, M, fi, int(N), steps)\n",
    "\n",
    "# compute -log_p for the original (correct) parameters \n",
    "start_time = time.time() \n",
    "parameters = {'alpha':alpha, 'beta':beta, 'gIa':gIa, 'gIs':gIs,'fsa':fsa}\n",
    "logp = estimator.obtain_minus_log_p(parameters, x, Tf, Nf, contactMatrix)\n",
    "end_time = time.time()\n",
    "print(logp) \n",
    "print(end_time - start_time)\n",
    "\n",
    "plt.plot(x[:, M])\n",
    "plt.show()"
   ]
  },
  {
   "cell_type": "code",
   "execution_count": 10,
   "metadata": {
    "scrolled": true
   },
   "outputs": [
    {
     "name": "stdout",
     "output_type": "stream",
     "text": [
      "-954.0332245250319\n",
      "[[1.e-04 4.e-01]\n",
      " [5.e-03 1.e-01]\n",
      " [1.e-04 3.e-01]\n",
      " [1.e-04 3.e-01]]\n",
      "parameters: [0.22339392 0.02287066 0.16597004 0.13404061]\n",
      "parameters: [0.2225318  0.02232379 0.16652747 0.13368236]\n",
      "parameters: [0.22227155 0.02247038 0.16668469 0.13352845]\n",
      "parameters: [0.22160304 0.02252046 0.16715494 0.13338966]\n",
      "parameters: [0.21998267 0.0225953  0.16842285 0.13354103]\n",
      "parameters: [0.2172706  0.02266889 0.17082095 0.13482478]\n",
      "parameters: [0.21525977 0.0225891  0.17272919 0.13614946]\n",
      "parameters: [0.21593492 0.02253913 0.17260689 0.13745034]\n",
      "parameters: [0.21586999 0.02252538 0.17265105 0.13739982]\n",
      "basinhopping step 0: f -970.588\n",
      "parameters: [0.20762393 0.04512341 0.18142121 0.1039907 ]\n",
      "parameters: [0.19030007 0.03016446 0.19210747 0.10074219]\n",
      "parameters: [0.22663346 0.02216446 0.17237099 0.1257951 ]\n",
      "parameters: [0.23160212 0.02256212 0.1695919  0.12864541]\n",
      "parameters: [0.23262366 0.02240367 0.16907792 0.12953921]\n",
      "parameters: [0.23188719 0.02225371 0.16981981 0.13073049]\n",
      "parameters: [0.22779967 0.02213287 0.17314504 0.13340766]\n",
      "parameters: [0.22201213 0.02226909 0.17760466 0.13588237]\n",
      "parameters: [0.22003401 0.02242757 0.1790451  0.13617946]\n",
      "parameters: [0.21987974 0.02247703 0.17912515 0.13599837]\n",
      "parameters: [0.21992856 0.02248213 0.17907904 0.1359148 ]\n",
      "basinhopping step 1: f -970.65 trial_f -970.65 accepted 1  lowest_f -970.65\n",
      "found new global minimum on step 1 with function value -970.65\n",
      "parameters: [0.26671504 0.0441465  0.20386415 0.18010224]\n",
      "parameters: [0.27328939 0.02967329 0.20906308 0.18414837]\n",
      "parameters: [0.26078476 0.02196529 0.20070921 0.17154136]\n",
      "parameters: [0.22028872 0.02236224 0.17214818 0.13370811]\n",
      "parameters: [0.22303887 0.02257168 0.17476199 0.13684269]\n",
      "parameters: [0.22239259 0.02247421 0.17422686 0.13615493]\n",
      "parameters: [0.22217062 0.02248199 0.17411531 0.13598007]\n",
      "parameters: [0.22185952 0.0224859  0.17421025 0.13591217]\n",
      "parameters: [0.21928139 0.02249136 0.17571013 0.13579223]\n",
      "parameters: [0.21928274 0.02248182 0.17781221 0.13609845]\n",
      "parameters: [0.21978708 0.02247557 0.17946076 0.13622917]\n",
      "parameters: [0.220661   0.02247445 0.18120098 0.13623841]\n",
      "parameters: [0.22193219 0.02247034 0.18352496 0.13588017]\n",
      "parameters: [0.2235462  0.02256807 0.18630787 0.13522141]\n",
      "parameters: [0.22649517 0.0224937  0.1907468  0.13413248]\n",
      "parameters: [0.22683079 0.02248638 0.19116327 0.13398133]\n",
      "basinhopping step 2: f -970.698 trial_f -970.698 accepted 1  lowest_f -970.698\n",
      "found new global minimum on step 2 with function value -970.698\n",
      "parameters: [0.17217105 0.04115097 0.12043945 0.1017911 ]\n",
      "parameters: [0.18086507 0.02787073 0.12730092 0.11174029]\n",
      "parameters: [0.21117982 0.02276119 0.14905623 0.13322376]\n",
      "parameters: [0.22353852 0.02299144 0.15790211 0.14132031]\n",
      "parameters: [0.22174181 0.02247507 0.15699402 0.14049781]\n",
      "parameters: [0.2172508  0.02248974 0.1539995  0.1376587 ]\n",
      "parameters: [0.21551878 0.02248401 0.15616733 0.13866511]\n",
      "parameters: [0.21027821 0.02249554 0.16173186 0.13976702]\n",
      "parameters: [0.21189081 0.02249656 0.16539724 0.13917784]\n",
      "parameters: [0.22242215 0.02247863 0.18399209 0.13546016]\n",
      "parameters: [0.22683907 0.02246913 0.19084858 0.1335636 ]\n",
      "parameters: [0.22735151 0.02246737 0.19144657 0.13358557]\n",
      "basinhopping step 3: f -970.698 trial_f -970.698 accepted 1  lowest_f -970.698\n",
      "parameters: [0.27665493 0.02376263 0.2410781  0.10855281]\n",
      "parameters: [0.27710768 0.02303204 0.24101588 0.10843558]\n",
      "parameters: [0.27449556 0.02238724 0.24164819 0.11068367]\n",
      "parameters: [0.26837387 0.02208263 0.24305935 0.11555941]\n",
      "parameters: [0.25971099 0.02226902 0.24500178 0.12225134]\n",
      "parameters: [0.25780509 0.0224437  0.24531591 0.12369295]\n",
      "parameters: [0.25764882 0.02243781 0.24533637 0.12381826]\n",
      "basinhopping step 4: f -970.015 trial_f -970.015 accepted 1  lowest_f -970.698\n",
      "[0.22683079 0.00449728 0.19116327 0.13398133]\n",
      "4\n",
      "72.01154518127441\n"
     ]
    }
   ],
   "source": [
    "# take a guess \n",
    "beta_g = 0.005\n",
    "gIa_g = 0.15\n",
    "gIs_g = 0.15\n",
    "alpha_g = 0.25\n",
    "guess = np.array([alpha_g, beta_g, gIa_g, gIs_g])\n",
    "\n",
    "# compute -log_p for the initial guess \n",
    "parameters = {'alpha':alpha_g, 'beta':beta_g, 'gIa':gIa_g, 'gIs':gIs_g,'fsa':fsa}\n",
    "logp = estimator.obtain_minus_log_p(parameters, x, Tf, Nf, contactMatrix)\n",
    "print(logp) \n",
    "\n",
    "eps = 1e-4 \n",
    "bounds = np.array([(eps, 0.4), (1e-3, 0.02), (eps, 0.3), (eps, 0.3)]) # give some bounds\n",
    "start_time = time.time() \n",
    "params, nit = estimator.inference(guess, x, Tf, Nf, contactMatrix, beta_rescale=5,\n",
    "                                  niter=4, bounds=bounds, \n",
    "                                  eps=eps, verbose=True)\n",
    "# sometimes produce errors if input is bad, ignore and let basinhopping do its magic\n",
    "end_time = time.time()\n",
    "print(params) # best guess \n",
    "print(nit) # number of iterations of the optimization run \n",
    "print(end_time - start_time)"
   ]
  },
  {
   "cell_type": "code",
   "execution_count": 11,
   "metadata": {},
   "outputs": [
    {
     "name": "stdout",
     "output_type": "stream",
     "text": [
      "-2726.660439266943\n"
     ]
    }
   ],
   "source": [
    "aW_g = 0.5 \n",
    "aW_bounds = [0.1, 0.8]\n",
    "aS_g = 0.5\n",
    "aS_bounds = [0.1, 0.8]\n",
    "aO_g = 0.5\n",
    "aO_bounds = [0.1, 0.8]\n",
    "guess = np.array([aW_g, aS_g, aO_g])\n",
    "bounds = np.array([aW_bounds, aS_bounds, aO_bounds])\n",
    "\n",
    "x = data['X']/N\n",
    "x = x[22:]\n",
    "Nf = x.shape[0] \n",
    "Tf = Nf-1 \n",
    "\n",
    "times = [Tf+1]\n",
    "interventions = [[aW, aS, aO]]\n",
    "contactMatrix = generator.interventions_temporal(times=times,interventions=interventions)\n",
    "\n",
    "# compute -log_p for the initial guess (for the moment, use correct parameters)\n",
    "logp = estimator.obtain_minus_log_p(parameters, x, Tf, Nf, contactMatrix)\n",
    "print(logp) "
   ]
  },
  {
   "cell_type": "code",
   "execution_count": 12,
   "metadata": {
    "scrolled": true
   },
   "outputs": [
    {
     "name": "stdout",
     "output_type": "stream",
     "text": [
      "parameters: [0.60145273 0.60145273 0.60145273]\n",
      "parameters: [0.59483025 0.60059908 0.6002705 ]\n",
      "parameters: [0.56821742 0.60181734 0.60034549]\n",
      "parameters: [0.54590317 0.60584039 0.60506766]\n",
      "parameters: [0.53365497 0.60480325 0.61311517]\n",
      "parameters: [0.53123922 0.60274578 0.61617752]\n",
      "parameters: [0.52893712 0.59875756 0.61974058]\n",
      "parameters: [0.52390531 0.58802349 0.62730637]\n",
      "parameters: [0.51783579 0.57346979 0.63564774]\n",
      "parameters: [0.5152576  0.56587399 0.63846203]\n",
      "warning: basinhopping: local minimization failure\n",
      "basinhopping step 0: f -2935.41\n",
      "parameters: [0.42870566 0.52742992 0.61399739]\n",
      "parameters: [0.46284837 0.56415368 0.65986096]\n",
      "parameters: [0.46383371 0.55945257 0.65549303]\n",
      "parameters: [0.47004467 0.55492619 0.6526796 ]\n",
      "parameters: [0.48778195 0.54745789 0.64973355]\n",
      "parameters: [0.50373589 0.54544405 0.64964117]\n",
      "parameters: [0.50704554 0.54693246 0.64955576]\n",
      "parameters: [0.50785925 0.54809183 0.64924027]\n",
      "parameters: [0.50923929 0.55070596 0.64811382]\n",
      "parameters: [0.51186721 0.55614    0.64516519]\n",
      "parameters: [0.51521867 0.56335346 0.64046794]\n",
      "parameters: [0.51561592 0.56430365 0.63965053]\n",
      "basinhopping step 1: f -2935.41 trial_f -2935.41 accepted 1  lowest_f -2935.41\n",
      "found new global minimum on step 1 with function value -2935.41\n",
      "parameters: [0.44655525 0.57039144 0.65506895]\n",
      "parameters: [0.45183418 0.56727635 0.65382354]\n",
      "parameters: [0.50190852 0.54642096 0.64919806]\n",
      "parameters: [0.50710547 0.54887035 0.64858731]\n",
      "parameters: [0.5089982  0.55050015 0.64783649]\n",
      "parameters: [0.51131141 0.55350456 0.64613803]\n",
      "parameters: [0.51503483 0.56009128 0.64204206]\n",
      "parameters: [0.51662172 0.5658921  0.63786634]\n",
      "basinhopping step 2: f -2935.4 trial_f -2935.4 accepted 1  lowest_f -2935.41\n",
      "[0.51561592 0.56430365 0.63965053]\n",
      "2\n",
      "209.94502806663513\n"
     ]
    }
   ],
   "source": [
    "eps = 1e-3 \n",
    "start_time = time.time() \n",
    "\n",
    "parameters = estimator.make_params_dict(params)\n",
    "estimator.set_params(parameters) \n",
    "params, nit = estimator.infer_control(guess, x, Tf, Nf, generator, bounds,\n",
    "                                  niter=2, eps=eps, verbose=True)\n",
    "# sometimes produce errors if input is bad, ignore and let basinhopping do its magic\n",
    "end_time = time.time()\n",
    "print(params) # best guess \n",
    "print(nit) # number of iterations of the optimization run \n",
    "print(end_time - start_time)"
   ]
  },
  {
   "cell_type": "code",
   "execution_count": null,
   "metadata": {},
   "outputs": [],
   "source": []
  }
 ],
 "metadata": {
  "kernelspec": {
   "display_name": "Python 3",
   "language": "python",
   "name": "python3"
  },
  "language_info": {
   "codemirror_mode": {
    "name": "ipython",
    "version": 3
   },
   "file_extension": ".py",
   "mimetype": "text/x-python",
   "name": "python",
   "nbconvert_exporter": "python",
   "pygments_lexer": "ipython3",
   "version": "3.7.6"
  }
 },
 "nbformat": 4,
 "nbformat_minor": 4
}
