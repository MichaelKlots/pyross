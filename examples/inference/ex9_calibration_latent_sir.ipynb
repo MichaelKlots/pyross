{
 "cells": [
  {
   "cell_type": "code",
   "execution_count": 1,
   "metadata": {},
   "outputs": [],
   "source": [
    "%%capture\n",
    "## compile PyRoss for this notebook\n",
    "import os\n",
    "owd = os.getcwd()\n",
    "os.chdir('../../')\n",
    "%run setup.py install\n",
    "os.chdir(owd)"
   ]
  },
  {
   "cell_type": "code",
   "execution_count": 2,
   "metadata": {},
   "outputs": [],
   "source": [
    "%matplotlib inline\n",
    "import numpy as np\n",
    "import pyross\n",
    "import pandas as pd\n",
    "import time \n",
    "import matplotlib.pyplot as plt\n",
    "from scipy.io import loadmat"
   ]
  },
  {
   "cell_type": "code",
   "execution_count": 3,
   "metadata": {},
   "outputs": [],
   "source": [
    "## population and age classes\n",
    "M=4  ## number of age classes\n",
    "\n",
    "my_data = np.genfromtxt('../data/age_structures/India-2019.csv', delimiter=',', skip_header=1)\n",
    "aM, aF = my_data[:, 1], my_data[:, 2]\n",
    "\n",
    "Ni0=aM+aF;   Ni=np.zeros((M))\n",
    "\n",
    "# scale the population down to a more manageble level \n",
    "Ni[0] = (np.sum(Ni0[0:4])/1e4).astype('int')\n",
    "Ni[1] = (np.sum(Ni0[4:8])/1e4).astype('int')\n",
    "Ni[2] = (np.sum(Ni0[8:12])/1e4).astype('int')\n",
    "Ni[3] = (np.sum(Ni0[12:16])/1e4).astype('int')\n",
    "N=np.sum(Ni)\n",
    "fi = Ni/N \n",
    "\n",
    "# Get individual contact matrices\n",
    "CH0, CW0, CS0, CO0 = pyross.contactMatrix.India()\n",
    "\n",
    "\n",
    "CH = np.zeros((M, M))\n",
    "CW = np.zeros((M, M))\n",
    "CS = np.zeros((M, M))\n",
    "CO = np.zeros((M, M))\n",
    "\n",
    "\n",
    "for i in range(M):\n",
    "    for j in range(M):\n",
    "        i1, j1 = i*4, j*4\n",
    "        CH[i,j] = np.sum( CH0[i1:i1+4, j1:j1+4] )\n",
    "        CW[i,j] = np.sum( CW0[i1:i1+4, j1:j1+4] )\n",
    "        CS[i,j] = np.sum( CS0[i1:i1+4, j1:j1+4] )\n",
    "        CO[i,j] = np.sum( CO0[i1:i1+4, j1:j1+4] )"
   ]
  },
  {
   "cell_type": "code",
   "execution_count": 5,
   "metadata": {},
   "outputs": [],
   "source": [
    "# Generate class with contact matrix for SIR model with UK contact structure\n",
    "generator = pyross.contactMatrix.SIR(CH, CW, CS, CO)\n",
    "\n",
    "times= [20] # temporal boundaries between different contact-behaviour\n",
    "\n",
    "aW, aS, aO = 0.7, 0.6, 0.5\n",
    "\n",
    "# prefactors for CW, CS, CO:\n",
    "interventions = [[1.0,1.0,1.0],      # before first time\n",
    "                 [aW, aS, aO],       # after first time\n",
    "                ]         \n",
    "\n",
    "# generate corresponding contact matrix function\n",
    "C = generator.interventions_temporal(times=times,interventions=interventions)"
   ]
  },
  {
   "cell_type": "code",
   "execution_count": 8,
   "metadata": {},
   "outputs": [],
   "source": [
    "beta  = 0.00454      # contact rate parameter\n",
    "gIa   = 1./7            # recovery rate of asymptomatic infectives \n",
    "gIs   = 1./7            # recovery rate of symptomatic infectives \n",
    "alpha = 0.2              # asymptomatic fraction\n",
    "fsa   = 0.8               # suppresion of contact by symptomatics\n",
    "\n",
    "\n",
    "# initial conditions    \n",
    "Is_0 = np.ones(M)*100\n",
    "Is_0[1] += 100 #make one group different \n",
    "Ia_0 = np.zeros((M))*20\n",
    "Ia_0[1] += 20\n",
    "R_0  = np.zeros((M))\n",
    "S_0  = Ni - (Ia_0 + Is_0 + R_0)\n",
    "\n",
    "\n",
    "parameters = {'alpha':alpha,'beta':beta, 'gIa':gIa,'gIs':gIs,'fsa':fsa}\n",
    "model = pyross.stochastic.SIR(parameters, M, Ni)\n",
    "\n",
    "contactMatrix=C\n",
    "\n",
    "# start simulation\n",
    "Tf=80;  Nf=Tf+1 \n",
    "data=model.simulate(S_0, Ia_0, Is_0, contactMatrix, Tf, Nf)\n",
    "np.save('cal_lat_SIR_traj.npy', data['X'])"
   ]
  },
  {
   "cell_type": "code",
   "execution_count": 9,
   "metadata": {},
   "outputs": [
    {
     "data": {
      "image/png": "[encoded data removed]",
      "text/plain": [
       "<Figure size 432x288 with 1 Axes>"
      ]
     },
     "metadata": {
      "needs_background": "light"
     },
     "output_type": "display_data"
    }
   ],
   "source": [
    "IC  = np.zeros((Nf))\n",
    "for i in range(M):\n",
    "        IC += data['X'][:,2*M+i] \n",
    "t = data['t']\n",
    "plt.plot(t, IC)\n",
    "plt.show() "
   ]
  },
  {
   "cell_type": "markdown",
   "metadata": {},
   "source": [
    "### Compare the deterministic trajectory and the stochastic one before intervention"
   ]
  },
  {
   "cell_type": "code",
   "execution_count": 10,
   "metadata": {},
   "outputs": [
    {
     "data": {
      "image/png": "[encoded data removed]",
      "text/plain": [
       "<Figure size 432x288 with 1 Axes>"
      ]
     },
     "metadata": {
      "needs_background": "light"
     },
     "output_type": "display_data"
    }
   ],
   "source": [
    "Tf_initial = 20 # truncate to only getting the first few datapoints \n",
    "Nf_initial = Tf_initial+1\n",
    "\n",
    "x = np.load('cal_lat_SIR_traj.npy')\n",
    "x = (x/N)[:Nf_initial]\n",
    "steps = 101 # number internal integration steps taken\n",
    "\n",
    "fltr=np.repeat(np.array([False, False, True]), M)\n",
    "obs=x[:, fltr] \n",
    "\n",
    "contactMatrix = generator.constant_contactMatrix()\n",
    "det_model = pyross.deterministic.SIR(parameters, int(M), fi)\n",
    "estimator = pyross.inference.SIR(parameters, M, fi, int(N), steps)\n",
    "xm,full_cov = estimator.obtain_full_mean_cov(x[0], Tf_initial, Nf_initial, det_model, contactMatrix)\n",
    "t = np.linspace(1, Tf_initial, Nf_initial-1)\n",
    "plt.plot(t, x[1:,2*M])\n",
    "plt.plot(t, xm[:,2*M])\n",
    "plt.show()"
   ]
  },
  {
   "cell_type": "code",
   "execution_count": 11,
   "metadata": {},
   "outputs": [
    {
     "name": "stdout",
     "output_type": "stream",
     "text": [
      "-658.037110483999\n",
      "0.28002405166625977\n"
     ]
    }
   ],
   "source": [
    "# initialise the estimator \n",
    "estimator = pyross.inference.SIR(parameters, M, fi, int(N), steps)\n",
    "\n",
    "# compute -log_p for the original (correct) parameters \n",
    "start_time = time.time() \n",
    "parameters = {'alpha':alpha, 'beta':beta, 'gIa':gIa, 'gIs':gIs,'fsa':fsa}\n",
    "logp = estimator.minus_logp_red(parameters, x[0], obs[1:], fltr, Tf_initial, Nf_initial, contactMatrix)\n",
    "end_time = time.time()\n",
    "print(logp) \n",
    "print(end_time - start_time)"
   ]
  },
  {
   "cell_type": "code",
   "execution_count": 12,
   "metadata": {
    "scrolled": true
   },
   "outputs": [
    {
     "name": "stdout",
     "output_type": "stream",
     "text": [
      "parameters: [0.23134572 0.1801021  0.12994895 0.14124362]\n",
      "parameters: [0.22757483 0.17615257 0.13195087 0.14155841]\n",
      "parameters: [0.22832474 0.17713545 0.13158562 0.14147623]\n",
      "parameters: [0.22835656 0.17753412 0.13162458 0.14144034]\n",
      "parameters: [0.22725878 0.17829904 0.13248217 0.141376  ]\n",
      "parameters: [0.22498146 0.17815409 0.13393762 0.14149543]\n",
      "parameters: [0.22048498 0.1782638  0.13592441 0.14318727]\n",
      "parameters: [0.21739995 0.17825325 0.13689894 0.14455987]\n",
      "parameters: [0.21552443 0.17834234 0.13720264 0.14550776]\n",
      "parameters: [0.2126679  0.17864013 0.13722466 0.14698837]\n",
      "parameters: [0.20815001 0.17918215 0.1365106  0.14905967]\n",
      "parameters: [0.20089382 0.17876917 0.13355036 0.15      ]\n",
      "parameters: [0.19505428 0.17446067 0.11778456 0.14716617]\n",
      "parameters: [0.20058074 0.17235746 0.11321538 0.1445518 ]\n",
      "parameters: [0.20382834 0.17077938 0.11050171 0.14261756]\n",
      "basinhopping step 0: f -662.139\n",
      "parameters: [0.10782967 0.15129695 0.17181999 0.13506444]\n",
      "parameters: [0.10779079 0.15468976 0.17078279 0.13475246]\n",
      "parameters: [0.10783302 0.16347794 0.16805934 0.13361422]\n",
      "parameters: [0.10801377 0.16682144 0.16702468 0.13290789]\n",
      "parameters: [0.10831554 0.16830035 0.16659671 0.13229136]\n",
      "parameters: [0.10884838 0.16907294 0.16642859 0.13146648]\n",
      "parameters: [0.11059039 0.16972886 0.16647266 0.13      ]\n",
      "parameters: [0.11562428 0.1692491  0.16728366 0.13      ]\n",
      "parameters: [0.11860318 0.16851844 0.16749516 0.13      ]\n",
      "parameters: [0.12182919 0.16858389 0.16720575 0.13      ]\n",
      "parameters: [0.12643806 0.16988683 0.16593183 0.13      ]\n",
      "parameters: [0.12772979 0.17046894 0.16502833 0.13      ]\n",
      "parameters: [0.12917407 0.17096419 0.16400547 0.13026281]\n",
      "parameters: [0.1313143  0.17150752 0.16250877 0.13101389]\n",
      "parameters: [0.13644195 0.17255982 0.15908753 0.13314243]\n",
      "parameters: [0.15260438 0.17576998 0.14812643 0.13913292]\n",
      "parameters: [0.19538784 0.17961993 0.117216   0.15      ]\n",
      "parameters: [0.18955297 0.17833661 0.12154744 0.15      ]\n",
      "parameters: [0.1868818  0.17801034 0.12319749 0.14927593]\n",
      "parameters: [0.18893524 0.17742001 0.12016301 0.14814581]\n",
      "parameters: [0.19027255 0.17690944 0.11854611 0.14772577]\n",
      "basinhopping step 1: f -661.79 trial_f -661.79 accepted 1  lowest_f -662.139\n",
      "parameters: [0.107272   0.14168223 0.12259595 0.13190592]\n",
      "parameters: [0.10718741 0.14887658 0.12184908 0.13      ]\n",
      "parameters: [0.10720581 0.15656011 0.12097476 0.13      ]\n",
      "parameters: [0.1073841  0.16140606 0.12032793 0.13      ]\n",
      "parameters: [0.10766462 0.16345387 0.11996065 0.13      ]\n",
      "parameters: [0.10802884 0.16421942 0.11971089 0.13      ]\n",
      "parameters: [0.10935921 0.1655042  0.1189786  0.13      ]\n",
      "parameters: [0.11320937 0.16743904 0.11706889 0.13      ]\n",
      "parameters: [0.11928853 0.1685289  0.11427543 0.13      ]\n",
      "parameters: [0.12592164 0.16750103 0.11115935 0.13043824]\n",
      "parameters: [0.12932506 0.16603722 0.1094158  0.13117607]\n",
      "parameters: [0.12991517 0.16583598 0.10897612 0.13159996]\n",
      "parameters: [0.13275157 0.16621528 0.10691905 0.13325335]\n",
      "parameters: [0.1396973  0.16818477 0.10181128 0.13705313]\n",
      "parameters: [0.1601735  0.17361266 0.1        0.14881965]\n",
      "parameters: [0.16071867 0.17514374 0.1        0.14913619]\n",
      "parameters: [0.16149508 0.17689837 0.1        0.1492951 ]\n",
      "parameters: [0.16165765 0.17702044 0.1        0.14928322]\n",
      "basinhopping step 2: f -661.283 trial_f -661.283 accepted 1  lowest_f -662.139\n"
     ]
    }
   ],
   "source": [
    "# take a guess \n",
    "beta_g = 0.005\n",
    "gIa_g = 0.15\n",
    "gIs_g = 0.15\n",
    "alpha_g = 0.25\n",
    "guess = np.array([alpha_g, beta_g, gIa_g, gIs_g])\n",
    "\n",
    "\n",
    "eps = 1e-3 # step used to calculate hessian in the optimisation algorithm \n",
    "\n",
    "alpha_g = 0.25\n",
    "alpha_bounds = (0.1, 0.4)\n",
    "# the bound for alpha must be 1-2*eps to avoid alpha>1 in hessian calculation performed by optimizer \n",
    "\n",
    "beta_g = 0.005\n",
    "beta_bounds = (1e-3, 0.01)\n",
    "\n",
    "gIa_g = 0.12\n",
    "gIa_bounds = (0.1, 0.2)\n",
    "\n",
    "gIs_g = 0.14\n",
    "gIs_bounds = (0.13, 0.15) \n",
    "\n",
    "fsa_g = 0.8\n",
    "\n",
    "Is0_g = Is_0/N \n",
    "bounds_for_Is = [(80/N, 120/N)]*M \n",
    "bounds_for_Is[1] = (180/N, 220/N)\n",
    "\n",
    "Ia0_g = Ia_0/N\n",
    "bounds_for_Ia = [(1/N, 100/N)]*M\n",
    "\n",
    "\n",
    "S0_g = S_0/N\n",
    "bounds_for_S = [(fi[i]-400/N, fi[i]-bounds_for_Is[i][0]/N) for i in range(M)]\n",
    "\n",
    "\n",
    "# optimisation parameters \n",
    "ftol = 1e-4 # the relative tol in (-logp)  \n",
    "bounds = np.array([alpha_bounds, beta_bounds, gIa_bounds, gIs_bounds, \n",
    "                   *bounds_for_S, *bounds_for_Ia, *bounds_for_Is])\n",
    "guess = np.array([alpha_g, beta_g, gIa_g, gIs_g, *S0_g, *Ia0_g, *Is0_g])\n",
    "params = estimator.latent_inference(guess, obs, fltr, Tf_initial, Nf_initial, contactMatrix,\n",
    "                                    bounds, beta_rescale=40, verbose=True, niter=2, ftol=ftol, eps=eps)\n",
    "# the L-BFGS-B method prints to the terminal rather than here "
   ]
  },
  {
   "cell_type": "code",
   "execution_count": 13,
   "metadata": {},
   "outputs": [],
   "source": [
    "# save the parameters \n",
    "np.save('SIR_cal_lat_param.npy', params)"
   ]
  },
  {
   "cell_type": "code",
   "execution_count": 14,
   "metadata": {
    "scrolled": true
   },
   "outputs": [
    {
     "data": {
      "image/png": "[encoded data removed]",
      "text/plain": [
       "<Figure size 432x288 with 1 Axes>"
      ]
     },
     "metadata": {
      "needs_background": "light"
     },
     "output_type": "display_data"
    }
   ],
   "source": [
    "# check the predictions \n",
    "params = np.load('SIR_cal_lat_param.npy')\n",
    "x = np.load('cal_lat_SIR_traj.npy')/N\n",
    "parameters = {'alpha':params[0], 'beta':params[1], 'gIa':params[2], 'gIs':params[3],'fsa':0.8}\n",
    "estimator.set_params(parameters)\n",
    "x0 = params[4:]\n",
    "det_model = pyross.deterministic.SIR(parameters, M, fi)\n",
    "contactMatrix = generator.constant_contactMatrix()\n",
    "x_det = estimator.integrate(x0, 0, Tf_initial, Nf_initial, det_model, contactMatrix)\n",
    "plt.plot(x[:Nf_initial,1*M], label='Ia')\n",
    "plt.plot(x_det[:, 1*M])\n",
    "plt.plot(x[:Nf_initial,2*M], label='Is')\n",
    "plt.plot(x_det[:, 2*M])\n",
    "plt.legend()\n",
    "plt.show()"
   ]
  },
  {
   "cell_type": "code",
   "execution_count": 15,
   "metadata": {},
   "outputs": [
    {
     "name": "stdout",
     "output_type": "stream",
     "text": [
      "-1876.4443269869616\n"
     ]
    }
   ],
   "source": [
    "aW_g = 0.6 \n",
    "aW_bounds = [0.2, 0.8]\n",
    "aS_g = 0.6\n",
    "aS_bounds = [0.2, 0.8]\n",
    "aO_g = 0.6\n",
    "aO_bounds = [0.2, 0.8]\n",
    "guess = np.array([aW_g, aS_g, aO_g])\n",
    "bounds = np.array([aW_bounds, aS_bounds, aO_bounds])\n",
    "\n",
    "x = np.load('cal_lat_SIR_traj.npy')/N\n",
    "x = x[Nf_initial:]\n",
    "obs = x[:, fltr]\n",
    "Nf_control = x.shape[0] \n",
    "Tf_control = Nf_control-1 \n",
    "\n",
    "det_model = pyross.deterministic.SIR(parameters, M, fi)\n",
    "contactMatrix = generator.constant_contactMatrix()\n",
    "x0 = estimator.integrate(params[-3*M:], 0, Tf_initial, 2, det_model, contactMatrix)[-1]\n",
    "x0 = np.array(x0)\n",
    "times = [Tf+1]\n",
    "interventions = [[aW, aS, aO]]\n",
    "contactMatrix = generator.interventions_temporal(times=times,interventions=interventions)\n",
    "\n",
    "# compute -log_p for the initial guess (for the moment, use correct parameters)\n",
    "parameters = estimator.make_params_dict(params)\n",
    "logp = estimator.minus_logp_red(parameters, x0, obs[1:], fltr, Tf_control, Nf_control, contactMatrix)\n",
    "print(logp) "
   ]
  },
  {
   "cell_type": "code",
   "execution_count": 16,
   "metadata": {},
   "outputs": [
    {
     "name": "stdout",
     "output_type": "stream",
     "text": [
      "parameters: [0.50459014 0.50459014 0.50459014]\n",
      "parameters: [0.5595957  0.5459276  0.54606261]\n",
      "parameters: [0.60256061 0.53345913 0.53157963]\n",
      "parameters: [0.67049053 0.52715318 0.51395629]\n",
      "parameters: [0.68126667 0.54568209 0.50462684]\n",
      "parameters: [0.71486217 0.61387981 0.46643279]\n",
      "parameters: [0.72264812 0.63523205 0.45221863]\n",
      "parameters: [0.72314689 0.64025203 0.448098  ]\n",
      "basinhopping step 0: f -1878.5\n",
      "parameters: [0.72220326 0.66034048 0.44494882]\n",
      "parameters: [0.72182577 0.65805916 0.44057427]\n",
      "parameters: [0.72240484 0.65712123 0.43993357]\n",
      "basinhopping step 1: f -1878.45 trial_f -1878.45 accepted 1  lowest_f -1878.5\n",
      "parameters: [0.5852466  0.60142786 0.43383551]\n",
      "parameters: [0.64934839 0.65728356 0.46645919]\n",
      "parameters: [0.65376055 0.65304815 0.46409587]\n",
      "parameters: [0.68676613 0.63909707 0.45585933]\n",
      "parameters: [0.7161391  0.63218153 0.45173209]\n",
      "parameters: [0.71984819 0.63409659 0.45179637]\n",
      "basinhopping step 2: f -1878.5 trial_f -1878.5 accepted 1  lowest_f -1878.5\n",
      "found new global minimum on step 2 with function value -1878.5\n",
      "[0.71984819 0.63409659 0.45179637]\n",
      "79.80984687805176\n"
     ]
    }
   ],
   "source": [
    "eps = 1e-3 \n",
    "start_time = time.time() \n",
    "\n",
    "parameters = estimator.make_params_dict(params)\n",
    "estimator.set_params(parameters) \n",
    "control_params = estimator.latent_infer_control(guess, x0, obs, fltr, Tf_control, Nf_control, generator, bounds,\n",
    "                                  niter=2, eps=eps, verbose=True)\n",
    "end_time = time.time()\n",
    "print(control_params) # best guess \n",
    "print(end_time - start_time)"
   ]
  },
  {
   "cell_type": "code",
   "execution_count": 17,
   "metadata": {},
   "outputs": [
    {
     "data": {
      "image/png": "[encoded data removed]",
      "text/plain": [
       "<Figure size 432x288 with 1 Axes>"
      ]
     },
     "metadata": {
      "needs_background": "light"
     },
     "output_type": "display_data"
    }
   ],
   "source": [
    "times = [20]\n",
    "interventions = [[1.0,1.0,1.0],      # before first time\n",
    "                 control_params,       # after first time\n",
    "                ]         \n",
    "\n",
    "# compare the true trajectory with the \n",
    "contactMatrix = generator.interventions_temporal(times=times,interventions=interventions)\n",
    "det_model = pyross.deterministic.SIR(parameters, M, fi)\n",
    "x0 = params[4:]\n",
    "x_det = estimator.integrate(x0, 0, Tf, Nf, det_model, contactMatrix)\n",
    "x = np.load('cal_lat_SIR_traj.npy')/N\n",
    "plt.plot(x[:,1*M], label='Ia')\n",
    "plt.plot(x_det[:, 1*M])\n",
    "plt.plot(x[:,2*M], label='Is')\n",
    "plt.plot(x_det[:, 2*M])\n",
    "plt.legend()\n",
    "plt.show()"
   ]
  },
  {
   "cell_type": "code",
   "execution_count": null,
   "metadata": {},
   "outputs": [],
   "source": []
  }
 ],
 "metadata": {
  "kernelspec": {
   "display_name": "Python 3",
   "language": "python",
   "name": "python3"
  },
  "language_info": {
   "codemirror_mode": {
    "name": "ipython",
    "version": 3
   },
   "file_extension": ".py",
   "mimetype": "text/x-python",
   "name": "python",
   "nbconvert_exporter": "python",
   "pygments_lexer": "ipython3",
   "version": "3.7.6"
  }
 },
 "nbformat": 4,
 "nbformat_minor": 4
}
