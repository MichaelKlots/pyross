{
 "cells": [
  {
   "cell_type": "code",
   "execution_count": 1,
   "metadata": {},
   "outputs": [],
   "source": [
    "%%capture\n",
    "## compile PyRoss for this notebook\n",
    "import os\n",
    "owd = os.getcwd()\n",
    "os.chdir('../../')\n",
    "%run setup.py install\n",
    "os.chdir(owd)"
   ]
  },
  {
   "cell_type": "code",
   "execution_count": 1,
   "metadata": {},
   "outputs": [],
   "source": [
    "%matplotlib inline\n",
    "import numpy as np\n",
    "import pyross\n",
    "import matplotlib.pyplot as plt\n",
    "#from matplotlib import rc; rc('text', usetex=True)"
   ]
  },
  {
   "cell_type": "code",
   "execution_count": 2,
   "metadata": {},
   "outputs": [],
   "source": [
    "M = 2                # the population has two age groups\n",
    "N = 5e4              # and this is the total population\n",
    "\n",
    "# set the age structure\n",
    "fi = np.array([0.25, 0.75])  # fraction of population in age age group\n",
    "Ni = N*fi\n",
    "\n",
    "# set the contact structure\n",
    "C = np.array([[18., 9.], [3., 12.]])\n",
    "\n",
    "\n",
    "def contactMatrix(t):   \n",
    "    return C\n",
    "\n",
    "# duration of simulation and data file\n",
    "Tf = 100;  \n",
    "Nt=Tf+1; \n",
    "\n",
    "I0 = np.array([10, 10])  # each age group has asymptomatic infectives\n",
    "R0  = np.array([10, 10])    # there are no recovered individuals initially\n",
    "S0  = Ni - (I0 + R0)\n",
    "\n",
    "x0 = np.concatenate((S0, I0))/N\n",
    "\n",
    "beta = 0.02\n",
    "alpha = 0.2\n",
    "gIa = 1/7 \n",
    "gIs = 1/7 \n",
    "fsa = 1\n",
    "\n",
    "\n",
    "# set up initial condition\n",
    "Ia0 = np.array([10, 10])  # each age group has asymptomatic infectives\n",
    "Is0 = np.array([10, 10])  # and also symptomatic infectives\n",
    "R0  = np.array([0, 0])    # there are no recovered individuals initially\n",
    "S0  = Ni - (Ia0 + Is0 + R0)\n",
    "\n",
    "Tf = 100\n",
    "Nf = Tf+1\n",
    "\n",
    "def contactMatrix(t):\n",
    "    return C\n",
    "\n",
    "parameters = {'alpha':alpha, 'beta':beta, 'gIa':gIa, 'gIs':gIs,'fsa':fsa}\n",
    "true_parameters = {'alpha':alpha, 'beta':beta, 'gIa':gIa, 'gIs':gIs,'fsa':fsa}\n",
    "\n",
    "# use pyross stochastic to generate traj and save \n",
    "sto_model = pyross.stochastic.SIR(parameters, M, Ni)\n",
    "data = sto_model.simulate(S0, Ia0, Is0, contactMatrix, Tf, Nf)\n",
    "data_array = data['X']"
   ]
  },
  {
   "cell_type": "code",
   "execution_count": 3,
   "metadata": {},
   "outputs": [
    {
     "data": {
      "image/png": "[encoded data removed]",
      "text/plain": [
       "<Figure size 432x288 with 1 Axes>"
      ]
     },
     "metadata": {
      "needs_background": "light"
     },
     "output_type": "display_data"
    }
   ],
   "source": [
    "# plot the data and obtain the epidemic curve\n",
    "plt.plot(data_array[:, 0], label='S')\n",
    "plt.plot(data_array[:, M], label='Ia')\n",
    "plt.plot(data_array[:, 2*M], label='Is')\n",
    "plt.legend()\n",
    "plt.show()"
   ]
  },
  {
   "cell_type": "code",
   "execution_count": 14,
   "metadata": {},
   "outputs": [],
   "source": [
    "# load the data and rescale to intensive variables \n",
    "Tf_inference = 20 # truncate to only getting the first few datapoints \n",
    "Nf_inference = Tf_inference+1\n",
    "steps = 101 # number internal integration steps taken, must be an odd number \n",
    "\n",
    "x = (data_array[:Nf_inference]).astype('float')/N "
   ]
  },
  {
   "cell_type": "code",
   "execution_count": 15,
   "metadata": {},
   "outputs": [
    {
     "name": "stdout",
     "output_type": "stream",
     "text": [
      "-893.8804608247231\n"
     ]
    }
   ],
   "source": [
    "inference_parameters = {\n",
    "    'betaIa' : beta*alpha, \n",
    "    'betaIs' : beta*(1-alpha), \n",
    "    'gIa' : gIa, \n",
    "    'gIs' : gIs\n",
    "}\n",
    "\n",
    "model_spec = {\n",
    "    \"classes\" : [\"S\", \"Ia\", \"Is\"],\n",
    "\n",
    "    \"S\" : {\n",
    "        \"linear\"    : [],\n",
    "        \"infection\" : [ [\"Ia\", \"-betaIa\"], [\"Is\", \"-betaIa\"], [\"Ia\", \"-betaIs\"], [\"Is\", \"-betaIs\"]]\n",
    "    },\n",
    "    \"Ia\" : {\n",
    "        \"linear\"    : [ [\"Ia\", \"-gIa\"] ],\n",
    "        \"infection\" : [ [\"Ia\", \"betaIa\"], [\"Is\", \"betaIa\"] ]\n",
    "    }, \n",
    "    \"Is\" :{\n",
    "        \"linear\"    : [ [\"Is\", \"-gIs\"] ],\n",
    "        \"infection\" : [ [\"Is\", \"betaIs\"], [\"Ia\", \"betaIs\"]]\n",
    "    }\n",
    "}\n",
    "\n",
    "# initialise the estimator \n",
    "estimator = pyross.inference.Spp(model_spec, inference_parameters, M, fi, int(N), steps)\n",
    "\n",
    "# check integrate \n",
    "logp = estimator.obtain_minus_log_p(inference_parameters, x, Tf_inference, Nf_inference, contactMatrix)\n",
    "print(logp)"
   ]
  },
  {
   "cell_type": "code",
   "execution_count": 16,
   "metadata": {},
   "outputs": [
    {
     "name": "stdout",
     "output_type": "stream",
     "text": [
      "2362.151765661384\n"
     ]
    }
   ],
   "source": [
    "# Define the prior (Gamma prior around guess of parameter with defined std. deviation)\n",
    "betaIs_g = 0.04\n",
    "betaIs_std = 0.04\n",
    "\n",
    "betaIa_g = 0.005\n",
    "betaIa_std = 0.01 \n",
    "\n",
    "gIa_g = 0.1\n",
    "gIa_std = 0.1\n",
    "\n",
    "gIs_g = 0.1\n",
    "gIs_std = 0.1\n",
    "\n",
    "# compute -log_p for the initial guess \n",
    "guessed_parameters = {\n",
    "    'betaIa' : betaIa_g, \n",
    "    'betaIs' : betaIs_g, \n",
    "    'gIa' : gIa_g, \n",
    "    'gIs' : gIs_g\n",
    "}\n",
    "\n",
    "logp = estimator.obtain_minus_log_p(guessed_parameters, x, Tf_inference, Nf_inference, contactMatrix)\n",
    "print(logp) "
   ]
  },
  {
   "cell_type": "code",
   "execution_count": 17,
   "metadata": {},
   "outputs": [
    {
     "name": "stdout",
     "output_type": "stream",
     "text": [
      "Starting global minimisation...\n",
      "(8_w,16)-aCMA-ES (mu_w=4.8,w_1=32%) in dimension 4 (seed=3839882179, Thu May 14 20:48:40 2020)\n",
      "Warning: Running parallel optimization failed. Will switch to single-processed mode.\n",
      "Iterat #Fevals   function value  axis ratio  sigma  min&max std  t[m:s]\n",
      "    1     16 -6.521410401497692e+02 1.0e+00 1.02e+00  1e-02  1e-01 0:03.0\n",
      "    2     32 -8.356990354885938e+02 1.3e+00 8.34e-01  8e-03  9e-02 0:05.3\n",
      "    3     48 -6.477193501494181e+02 1.7e+00 7.49e-01  7e-03  9e-02 0:07.6\n",
      "    5     80 -5.878363639581971e+02 3.9e+00 7.19e-01  8e-03  9e-02 0:12.5\n",
      "    7    112 -8.400157990071325e+02 5.9e+00 5.62e-01  5e-03  7e-02 0:17.0\n",
      "   10    160 -8.478344971434688e+02 1.4e+01 6.73e-01  5e-03  1e-01 0:23.3\n",
      "   13    208 -8.874318933514908e+02 2.0e+01 6.04e-01  4e-03  1e-01 0:30.0\n",
      "Optimal value (global minimisation):  -898.2577826994087\n",
      "Starting local minimisation...\n",
      "Optimal value (local minimisation):  -903.1152364500376\n",
      "[0.00468651 0.01507609 0.21709136 0.12713143]\n"
     ]
    }
   ],
   "source": [
    "## inference \n",
    "ftol = 1e-4  # Stopping criterion for minimisation (realtive change in function value)\n",
    "keys = ['betaIa', 'betaIs', 'gIa', 'gIs']\n",
    "guess = np.array([betaIa_g, betaIs_g, gIa_g, gIs_g])  # Initial value (and expected value of priors)\n",
    "stds = np.array([betaIa_std, betaIs_std , gIa_std, gIs_std])\n",
    "\n",
    "eps = 1e-4 \n",
    "bounds = np.array([(eps, 0.5), (eps, 0.5), (eps, 0.6), (eps, 0.6)])  # give some bounds \n",
    "params = estimator.infer_parameters(keys, guess, stds, bounds, x, Tf_inference, Nf_inference, contactMatrix, \n",
    "                                    global_max_iter=20, local_max_iter=200, \n",
    "                                    global_ftol_factor=1e3, ftol=ftol, verbose=True)\n",
    "\n",
    "print(params) # best guess "
   ]
  },
  {
   "cell_type": "code",
   "execution_count": 18,
   "metadata": {},
   "outputs": [
    {
     "name": "stdout",
     "output_type": "stream",
     "text": [
      "True parameters:\n",
      "{'betaIa': 0.004, 'betaIs': 0.016, 'gIa': 0.14285714285714285, 'gIs': 0.14285714285714285}\n",
      "\n",
      "Inferred parameters:\n",
      "{'betaIa': 0.004686507041426538, 'betaIs': 0.015076090571049139, 'gIa': 0.21709135592552578, 'gIs': 0.1271314305305477}\n"
     ]
    }
   ],
   "source": [
    "print(\"True parameters:\")\n",
    "print(inference_parameters)\n",
    "\n",
    "print(\"\\nInferred parameters:\")\n",
    "best_estimates = estimator.fill_params_dict(keys, params)\n",
    "print(best_estimates)"
   ]
  },
  {
   "cell_type": "code",
   "execution_count": 21,
   "metadata": {},
   "outputs": [
    {
     "data": {
      "image/png": "[encoded data removed]",
      "text/plain": [
       "<Figure size 432x288 with 1 Axes>"
      ]
     },
     "metadata": {
      "needs_background": "light"
     },
     "output_type": "display_data"
    }
   ],
   "source": [
    "Nf = 101\n",
    "Tf = Nf-1\n",
    "\n",
    "model = pyross.deterministic.Spp(model_spec, best_estimates, int(M), fi)\n",
    "det_data = model.simulate(x[0], contactMatrix, Tf, Nf)\n",
    "x_det = det_data['X']\n",
    "x = data['X']/N\n",
    "plt.rcParams.update({'font.size': 12})\n",
    "plt.plot(np.sum(x_det[:, :M], axis=1), label='Inferred S')\n",
    "plt.plot(np.sum(x[:, :M], axis=1), label='True S')\n",
    "plt.plot(np.sum(x_det[:, M:2*M], axis=1), label='Inferred Ia')\n",
    "plt.plot(np.sum(x[:, M:2*M], axis=1), label='True Ia')\n",
    "plt.plot(np.sum(x_det[:, 2*M:3*M], axis=1), label='Inferred Ia')\n",
    "plt.plot(np.sum(x[:, 2*M:3*M], axis=1), label='True Ia')\n",
    "plt.axvspan(0, Nf_inference, \n",
    "           label='Used for inference',\n",
    "           alpha=0.3, color='dodgerblue')\n",
    "plt.legend()\n",
    "plt.show() "
   ]
  },
  {
   "cell_type": "code",
   "execution_count": null,
   "metadata": {},
   "outputs": [],
   "source": []
  }
 ],
 "metadata": {
  "kernelspec": {
   "display_name": "Python 3",
   "language": "python",
   "name": "python3"
  },
  "language_info": {
   "codemirror_mode": {
    "name": "ipython",
    "version": 3
   },
   "file_extension": ".py",
   "mimetype": "text/x-python",
   "name": "python",
   "nbconvert_exporter": "python",
   "pygments_lexer": "ipython3",
   "version": "3.7.6"
  }
 },
 "nbformat": 4,
 "nbformat_minor": 4
}
