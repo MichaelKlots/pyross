{
 "cells": [
  {
   "cell_type": "markdown",
   "metadata": {},
   "source": [
    "# Calibration with latent variables (SEAI5R model)\n",
    "Using generated data, we test if we can infer that a lockdown has happened and how the contact parameters have changed.\n",
    "To do this, we generate a test trajectory with a lockdown at time $20$. \n",
    "The lockdown is implemented by scaling the contact matrices (for work, school, other).\n",
    "We use the data points up to the lockdown to infer the parameters of the SEAI5R model.\n",
    "Using the data after lockdown and the inferred parameters, we infer the change of the contact structure.\n",
    "\n",
    "For the pre-intervention period, we infer the following parameters as well as initial conditions: \n",
    "* $\\alpha$ (fraction of asymptomatic infectives), \n",
    "* $\\beta$ (probability of infection on contact), \n",
    "* $\\gamma_{I_a}$ (rate of recovery for asymptomatic infected individuals),\n",
    "* $\\gamma_{I_s}$ (rate of recovery for symptomatic infected individuals) \n",
    "* $\\gamma_{E}$ (rate from exposed to activated)\n",
    "* $\\gamma_{A}$ (rate from activated to infected)\n",
    "\n",
    "For the post-intervention period, we infer the following control parameters: \n",
    "* $a_\\mathrm{W}$ fraction of work contact, \n",
    "* $a_\\mathrm{S}$ fraction of social contact, \n",
    "* $a_\\mathrm{O}$ fraction of other contacts "
   ]
  },
  {
   "cell_type": "code",
   "execution_count": 1,
   "metadata": {},
   "outputs": [],
   "source": [
    "%%capture\n",
    "## compile PyRoss for this notebook\n",
    "import os\n",
    "owd = os.getcwd()\n",
    "os.chdir('../../')\n",
    "%run setup.py install\n",
    "os.chdir(owd)"
   ]
  },
  {
   "cell_type": "code",
   "execution_count": 3,
   "metadata": {},
   "outputs": [],
   "source": [
    "%matplotlib inline\n",
    "import numpy as np\n",
    "from matplotlib import pyplot as plt\n",
    "import pyross\n",
    "import time "
   ]
  },
  {
   "cell_type": "markdown",
   "metadata": {},
   "source": [
    "## 1) Generate a trajectory\n",
    "We generate a test trajectory on a population with four ages groups using UK contact matrix"
   ]
  },
  {
   "cell_type": "code",
   "execution_count": 4,
   "metadata": {},
   "outputs": [],
   "source": [
    "## population and age classes\n",
    "M=4  ## number of age classes\n",
    "\n",
    "my_data = np.genfromtxt('../data/age_structures/UK.csv', delimiter=',', skip_header=1)\n",
    "aM, aF = my_data[:, 1], my_data[:, 2]\n",
    "\n",
    "Ni0=aM+aF;   Ni=np.zeros((M))\n",
    "\n",
    "# scale the population down to a more manageble level \n",
    "Ni[0] = (np.sum(Ni0[0:4])).astype('int')\n",
    "Ni[1] = (np.sum(Ni0[4:8])).astype('int')\n",
    "Ni[2] = (np.sum(Ni0[8:12])).astype('int')\n",
    "Ni[3] = (np.sum(Ni0[12:16])).astype('int')\n",
    "N=np.sum(Ni)\n",
    "fi = Ni/N \n",
    "\n",
    "# Get individual contact matrices\n",
    "CH0, CW0, CS0, CO0 = pyross.contactMatrix.UK()\n",
    "\n",
    "\n",
    "CH = np.zeros((M, M))\n",
    "CW = np.zeros((M, M))\n",
    "CS = np.zeros((M, M))\n",
    "CO = np.zeros((M, M))\n",
    "\n",
    "for i in range(16):\n",
    "    CH0[i,:] = CH0[i,:]*Ni0[i]\n",
    "    CW0[i,:] = CW0[i,:]*Ni0[i]\n",
    "    CS0[i,:] = CS0[i,:]*Ni0[i]\n",
    "    CO0[i,:] = CO0[i,:]*Ni0[i]\n",
    "\n",
    "\n",
    "for i in range(M):\n",
    "    for j in range(M):\n",
    "        i1, j1 = i*4, j*4\n",
    "        CH[i,j] = np.sum( CH0[i1:i1+4, j1:j1+4] )/Ni[i]\n",
    "        CW[i,j] = np.sum( CW0[i1:i1+4, j1:j1+4] )/Ni[i]\n",
    "        CS[i,j] = np.sum( CS0[i1:i1+4, j1:j1+4] )/Ni[i]\n",
    "        CO[i,j] = np.sum( CO0[i1:i1+4, j1:j1+4] )/Ni[i]\n",
    "\n",
    "Ni = (Ni/5e2).astype('int') # Scale the numbers to avoid numerical problems\n",
    "N = np.sum(Ni)"
   ]
  },
  {
   "cell_type": "code",
   "execution_count": 10,
   "metadata": {},
   "outputs": [],
   "source": [
    "# Generate class with contact matrix for SIR model with UK contact structure\n",
    "generator = pyross.contactMatrix.SIR(CH, CW, CS, CO)\n",
    "\n",
    "T_intervention = 20 \n",
    "times= [T_intervention] # temporal boundaries between different contact-behaviour\n",
    "\n",
    "aW, aS, aO = 0.5, 0.5, 0.4\n",
    "\n",
    "# prefactors for CW, CS, CO:\n",
    "interventions = [[1.0,1.0,1.0],      # before first time\n",
    "                 [aW, aS, aO],       # after first time\n",
    "                ]         \n",
    "\n",
    "# generate corresponding contact matrix function\n",
    "C = generator.interventions_temporal(times=times,interventions=interventions)"
   ]
  },
  {
   "cell_type": "code",
   "execution_count": 11,
   "metadata": {},
   "outputs": [],
   "source": [
    "beta  = 0.04         # infection rate\n",
    "gIa   = 1./7            # recovery rate of asymptomatic infectives\n",
    "gIs   = 1./7            \n",
    "gIh   = 1/14\n",
    "gIc   = 1/14\n",
    "alpha = 0.2          # fraction of asymptomatic infectives\n",
    "fsa   = 0.8          # the self-isolation parameter\n",
    "fh = 0.1 \n",
    "gE    = 1/5\n",
    "gA    = 1/3\n",
    "\n",
    "hh   = 0.1*np.ones(M)       # fraction which goes from Is to hospital\n",
    "cc   = 0.05*np.ones(M)      # fraction which goes from  hospital to ICU \n",
    "mm   = 0.4*np.ones(M)       # mortality from IC\n",
    "sa = 0  # change in the population, not taken into account by inference at the moment \n",
    "\n",
    "# set up initial condition\n",
    "Ia0 = np.array([10]*M)  # each age group has asymptomatic infectives\n",
    "Is0 = np.array([10]*M)   # and also symptomatic infectives\n",
    "R0  = np.zeros((M))\n",
    "E0  = np.array([100]*M)\n",
    "A0  = np.array([100]*M)\n",
    "Ih0  = np.array([10]*M) \n",
    "Ic0  = np.array([10]*M) \n",
    "Im0  = np.array([10]*M) \n",
    "S0  = Ni - (Ia0+Is0+R0+E0+A0+Ih0+Ic0+Im0)\n",
    "\n",
    "Tf = 100\n",
    "Nf = Tf+1\n",
    "\n",
    "parameters = {'alpha':alpha,'beta':beta, 'gIa':gIa,'gIs':gIs,\n",
    "              'gIh':gIh,'gIc':gIc,  'gE':gE, 'gA':gA,\n",
    "              'fsa':fsa, 'fh':fh, \n",
    "              'sa':sa, 'hh':hh, 'cc':cc, 'mm':mm}\n",
    "\n",
    "# use pyross stochastic to generate traj and save \n",
    "sto_model = pyross.stochastic.SEAI5R(parameters, M, Ni)\n",
    "data = sto_model.simulate(S0, E0, A0, Ia0, Is0, Ih0, Ic0, Im0, C, Tf, Nf)\n",
    "data_array = data['X']\n",
    "np.save('SEAI5R_latent_cal_traj.npy', data_array)"
   ]
  },
  {
   "cell_type": "code",
   "execution_count": 12,
   "metadata": {},
   "outputs": [
    {
     "data": {
      "image/png": "[encoded data removed]",
      "text/plain": [
       "<Figure size 432x288 with 1 Axes>"
      ]
     },
     "metadata": {
      "needs_background": "light"
     },
     "output_type": "display_data"
    }
   ],
   "source": [
    "# plot the number of infected people \n",
    "plt.plot(np.sum(data_array[:, 2*M:-M], axis=1))\n",
    "plt.axvspan(0, T_intervention, \n",
    "           label='Pre intervention',\n",
    "           alpha=0.3, color='dodgerblue')\n",
    "plt.xlim([0, Tf])\n",
    "plt.show() "
   ]
  },
  {
   "cell_type": "markdown",
   "metadata": {},
   "source": [
    "## 2) Inference\n",
    "We take the first pre-intervention data points of the $I_\\mathrm{s}, I_\\mathrm{h}, I_\\mathrm{c}, I_\\mathrm{m}$ trajectory and use it to infer the parameters of the model as well as initial conditions. "
   ]
  },
  {
   "cell_type": "code",
   "execution_count": 13,
   "metadata": {},
   "outputs": [
    {
     "name": "stdout",
     "output_type": "stream",
     "text": [
      "-3204.3379135928476\n",
      "12.850716829299927\n"
     ]
    }
   ],
   "source": [
    "# load the data and rescale to intensive variables \n",
    "Tf_inference = T_intervention\n",
    "Nf_inference = Tf_inference + 1 \n",
    "\n",
    "x = np.load('SEAI5R_latent_cal_traj.npy').astype('float')\n",
    "x = x[:Nf_inference,:8*M]/N\n",
    "steps = 101 # number internal integration steps taken\n",
    "\n",
    "\n",
    "# initialise the estimator \n",
    "estimator = pyross.inference.SEAI5R(parameters, M, fi, int(N), steps)\n",
    "\n",
    "## create filter to distinguish between observable classes\n",
    "fltr=np.repeat(np.array([False, False, False, False, True, True, True, True]), M)\n",
    "obs=x[:,fltr]\n",
    "x0 = x[0]\n",
    "\n",
    "# compute -log_p for the original (correct) parameters \n",
    "start_time = time.time() \n",
    "logp = estimator.minus_logp_red(parameters, x0, obs[1:], fltr, Tf_inference, Nf_inference, generator.constant_CM)\n",
    "end_time = time.time()\n",
    "print(logp) \n",
    "print(end_time - start_time)"
   ]
  },
  {
   "cell_type": "code",
   "execution_count": 19,
   "metadata": {},
   "outputs": [
    {
     "name": "stdout",
     "output_type": "stream",
     "text": [
      "Starting global minimisation...\n",
      "(8_w,16)-aCMA-ES (mu_w=4.8,w_1=32%) in dimension 38 (seed=1023645, Fri May  8 18:22:41 2020)\n",
      "Iterat #Fevals   function value  axis ratio  sigma  min&max std  t[m:s]\n",
      "    1     16 -2.949727698911195e+03 1.0e+00 9.46e-01  9e-04  9e-02 2:03.7\n",
      "    2     32 -3.203004348032479e+03 1.1e+00 9.08e-01  9e-04  9e-02 4:07.9\n",
      "    3     48 -3.192612686230521e+03 1.1e+00 8.71e-01  9e-04  9e-02 5:50.5\n",
      "    4     64 -3.271333427289303e+03 1.1e+00 8.55e-01  8e-04  9e-02 7:39.4\n",
      "    5     80 -3.176750426325370e+03 1.1e+00 8.38e-01  8e-04  8e-02 9:28.2\n",
      "    6     96 -3.222527845508748e+03 1.1e+00 8.29e-01  8e-04  8e-02 11:25.0\n",
      "    7    112 -2.974662798985262e+03 1.1e+00 8.13e-01  8e-04  8e-02 13:18.9\n",
      "    8    128 -3.030610471573743e+03 1.1e+00 7.99e-01  8e-04  8e-02 15:07.7\n",
      "    9    144 -2.961547562606264e+03 1.1e+00 7.91e-01  8e-04  8e-02 16:39.2\n",
      "   10    160 -3.027703119650895e+03 1.2e+00 7.85e-01  8e-04  8e-02 18:18.3\n",
      "   11    176 -3.101982461918275e+03 1.2e+00 7.81e-01  8e-04  8e-02 19:52.4\n",
      "   12    192 -2.894664972692110e+03 1.2e+00 7.86e-01  8e-04  8e-02 21:23.4\n",
      "   13    208 -2.754908354255868e+03 1.2e+00 8.01e-01  8e-04  8e-02 23:15.1\n",
      "   14    224 -2.542249596164922e+03 1.2e+00 8.09e-01  8e-04  8e-02 25:04.3\n",
      "   15    240 -2.719597628858014e+03 1.2e+00 8.20e-01  8e-04  8e-02 26:52.9\n",
      "   16    256 -2.379216582545277e+03 1.3e+00 8.32e-01  8e-04  8e-02 28:47.2\n",
      "   17    272 -2.631086020889518e+03 1.3e+00 8.39e-01  8e-04  8e-02 30:33.7\n",
      "   18    288 -2.736269783625073e+03 1.3e+00 8.42e-01  8e-04  8e-02 32:27.2\n",
      "   19    304 -2.498743049262525e+03 1.3e+00 8.51e-01  8e-04  9e-02 34:16.1\n",
      "   20    320 -2.754667243319231e+03 1.3e+00 8.52e-01  8e-04  9e-02 36:03.8\n",
      "Optimal value (global minimisation):  -3271.333427289303\n",
      "Starting local minimisation...\n",
      "Optimal value (local minimisation):  -3331.3615862142015\n",
      "3316.102760076523\n"
     ]
    }
   ],
   "source": [
    "eps = 1e-4 \n",
    "\n",
    "alpha_g = 0.25          \n",
    "alpha_std = 0.1\n",
    "alpha_b = (0.05, 0.5)\n",
    "\n",
    "beta_g  = 0.06         \n",
    "beta_std = 0.1\n",
    "beta_b = (eps, 1)\n",
    "\n",
    "gIa_g   = 0.13\n",
    "gIa_std = 0.05 \n",
    "gIa_b = (0.1, 0.3)\n",
    "\n",
    "gIs_g   = 0.13\n",
    "gIs_std = 0.05 \n",
    "gIs_b = (0.1, 0.3) \n",
    "\n",
    "gE_g    = 0.21 \n",
    "gE_std = 0.05\n",
    "gE_b = (0.1, 0.3)\n",
    "\n",
    "gA_g    = 0.35 \n",
    "gA_std = 0.05 \n",
    "gA_b = (0.2, 0.5) \n",
    "   \n",
    "\n",
    "E0_g = (E0+10)/N\n",
    "E0_std = E0_g*0.5\n",
    "E0_b = [[0.1/N, 200/N]]*M \n",
    "\n",
    "A0_g  = (A0-10)/N\n",
    "A0_std = A0_g*0.5\n",
    "A0_b = [[0.1/N, 200/N]]*M\n",
    "\n",
    "Ia0_g = (Ia0+2)/N \n",
    "Ia0_std = [5/N]*M\n",
    "Ia0_b = [(0.1/N, 100/N)]*M\n",
    "\n",
    "Is0_g = (Is0-3)/N \n",
    "Is0_std = [5/N]*M  \n",
    "Is0_b = [(0.1/N, 100/N)]*M\n",
    "\n",
    "Ih0_g = (Ih0+0.1)/N \n",
    "Ih0_std = [5/N]*M \n",
    "Ih0_b = [(0.1/N, 100/N)]*M\n",
    "\n",
    "Ic0_g = (Ic0+0.1)/N \n",
    "Ic0_std = [5/N]*M \n",
    "Ic0_b = [(0.1/N, 100/N)]*M\n",
    "\n",
    "Im0_g = (Im0+0.1)/N \n",
    "Im0_std = [5/N]*M \n",
    "Im0_b = [(0.1/N, 100/N)]*M\n",
    "\n",
    "S0_g = (S0-20)/N \n",
    "S0_std = E0_std*4 \n",
    "S0_b = [(1/N, f) for f in fi]\n",
    "\n",
    "\n",
    "\n",
    "# optimisation parameters \n",
    "ftol = 1e-4 # the relative tol in (-logp)   \n",
    "bounds = np.array([alpha_b, beta_b, gIa_b, gIs_b, gE_b, gA_b, \n",
    "                   *S0_b, *E0_b, *A0_b, *Ia0_b, *Is0_b, *Ih0_b, *Ic0_b, *Im0_b])\n",
    "guess = np.array([alpha_g, beta_g, gIa_g, gIs_g, gE_g, gA_g, \n",
    "                   *S0_g, *E0_g, *A0_g, *Ia0_g, *Is0_g, *Ih0_g, *Ic0_g, *Im0_g])\n",
    "stds = np.array([alpha_std, beta_std, gIa_std, gIs_std, gE_std, gA_std, \n",
    "                 *S0_std, *E0_std, *A0_std, *Ia0_std, *Is0_std, *Ih0_std, *Ic0_std, *Im0_std])\n",
    "start_time = time.time()\n",
    "params = estimator.latent_inference(guess, stds, obs, fltr, Tf_inference, Nf_inference, \n",
    "                                    generator.constant_CM, bounds, \n",
    "                                    global_max_iter=20, global_ftol_factor=1e3, \n",
    "                                    verbose=True, ftol=ftol) \n",
    "end_time = time.time()\n",
    "print(end_time - start_time)"
   ]
  },
  {
   "cell_type": "code",
   "execution_count": 20,
   "metadata": {},
   "outputs": [],
   "source": [
    "# save the parameters \n",
    "np.save('SEAI5R_latent_cal_param.npy', params)"
   ]
  },
  {
   "cell_type": "code",
   "execution_count": 21,
   "metadata": {},
   "outputs": [
    {
     "name": "stdout",
     "output_type": "stream",
     "text": [
      "True parameters\n",
      "{'alpha': 0.2, 'beta': 0.04, 'gIa': 0.14285714285714285, 'gIs': 0.14285714285714285, 'gIh': 0.07142857142857142, 'gIc': 0.07142857142857142, 'gE': 0.2, 'gA': 0.3333333333333333, 'fsa': 0.8, 'fh': 0.1, 'sa': 0, 'hh': array([0.1, 0.1, 0.1, 0.1]), 'cc': array([0.05, 0.05, 0.05, 0.05]), 'mm': array([0.4, 0.4, 0.4, 0.4])}\n",
      "\n",
      " Best estimates\n",
      "{'alpha': 0.25345253619169983, 'beta': 0.03275836762559821, 'gIa': 0.14844128131506262, 'gIs': 0.1681377946766597, 'gE': 0.262222704148346, 'gA': 0.23891432682194777, 'gIh': 0.07142857142857142, 'gIc': 0.07142857142857142, 'fsa': 0.8, 'fh': 0.1, 'sa': 0, 'hh': array([0.1, 0.1, 0.1, 0.1]), 'cc': array([0.05, 0.05, 0.05, 0.05]), 'mm': array([0.4, 0.4, 0.4, 0.4])}\n",
      "\n",
      " True initial conditions: \n",
      "[31018. 35418. 35276. 25509.] [100 100 100 100] [100 100 100 100] [10 10 10 10] [10 10 10 10] [10 10 10 10] [10 10 10 10] [10 10 10 10]\n",
      "\n",
      " Inferred initial conditons: \n",
      "[31044 35403 35365 25501   171    53   136   167    91   184    80    46\n",
      "    10    10    12     9     6     7     8     7    11    11     6    10\n",
      "     9     9    11    10     9     9     9    10]\n"
     ]
    }
   ],
   "source": [
    "print('True parameters')\n",
    "print(parameters)\n",
    "\n",
    "params = np.load('SEAI5R_latent_cal_param.npy')\n",
    "best_estimates = estimator.make_params_dict(params)\n",
    "print('\\n Best estimates')\n",
    "print(best_estimates)\n",
    "\n",
    "print('\\n True initial conditions: ') \n",
    "print(S0, E0, A0, Ia0, Is0, Ih0, Ic0, Im0)\n",
    "print('\\n Inferred initial conditons: ') \n",
    "print((params[6:]*N).astype('int'))"
   ]
  },
  {
   "cell_type": "markdown",
   "metadata": {},
   "source": [
    "### Check the inferred trajectory against the true trajectory for pre-intervention"
   ]
  },
  {
   "cell_type": "code",
   "execution_count": 23,
   "metadata": {},
   "outputs": [
    {
     "data": {
      "image/png": "[encoded data removed]",
      "text/plain": [
       "<Figure size 432x288 with 1 Axes>"
      ]
     },
     "metadata": {
      "needs_background": "light"
     },
     "output_type": "display_data"
    }
   ],
   "source": [
    "x = np.load('SEAI5R_latent_cal_traj.npy')/N\n",
    "x0 = params[6:]\n",
    "\n",
    "# set params for estimate\n",
    "estimator.set_params(best_estimates)\n",
    "\n",
    "# make det_model and contactMatrix \n",
    "det_model = pyross.deterministic.SEAI5R(best_estimates, M, fi)\n",
    "\n",
    "# generate the deterministic trajectory \n",
    "x_det = estimator.integrate(x0, 0, Tf_inference, Nf_inference, det_model, generator.constant_CM)\n",
    "plt.plot(np.sum(x[:Nf_inference,5*M:8*M], axis=1), label='True known variables')\n",
    "plt.plot(np.sum(x_det[:, 5*M:8*M], axis=1), label='Inferred known variables')\n",
    "plt.legend()\n",
    "plt.show()"
   ]
  },
  {
   "cell_type": "markdown",
   "metadata": {},
   "source": [
    "## 3) Infer the control parameters \n",
    "We infer the control parameters, assuming that the previously inferred initial conditions and epidemiological parameters "
   ]
  },
  {
   "cell_type": "code",
   "execution_count": 24,
   "metadata": {},
   "outputs": [
    {
     "name": "stdout",
     "output_type": "stream",
     "text": [
      "-1837.9037179331228\n",
      "15.530404090881348\n"
     ]
    }
   ],
   "source": [
    "# Test the -logp for the correct control parameters \n",
    "\n",
    "# get the trajectory \n",
    "x = np.load('SEAI5R_latent_cal_traj.npy')/N\n",
    "x = x[Nf_inference:, :8*M]\n",
    "obs = x[:20, fltr] # cut the trajectory for speed \n",
    "Nf_control = obs.shape[0] \n",
    "Tf_control = Nf_control-1\n",
    "\n",
    "\n",
    "# Set the initial condition for post-intervention \n",
    "x0_control = np.array(x_det[-1])\n",
    "\n",
    "# get the contact matrix for post-intervention \n",
    "times = [Tf+1]\n",
    "interventions = [[aW, aS, aO]]\n",
    "contactMatrix = generator.interventions_temporal(times=times,interventions=interventions)\n",
    "\n",
    "# calculate minus_log_p for the correct control parameters  \n",
    "start_time = time.time()\n",
    "logp = estimator.minus_logp_red(best_estimates, x0_control, obs[1:], fltr, Tf_control, Nf_control, contactMatrix)\n",
    "end_time = time.time()\n",
    "print(logp) \n",
    "print(end_time - start_time)"
   ]
  },
  {
   "cell_type": "code",
   "execution_count": null,
   "metadata": {},
   "outputs": [
    {
     "name": "stdout",
     "output_type": "stream",
     "text": [
      "Starting global minimisation...\n",
      "(8_w,16)-aCMA-ES (mu_w=4.8,w_1=32%) in dimension 3 (seed=1066835, Fri May  8 15:48:48 2020)\n"
     ]
    }
   ],
   "source": [
    "# set up initial guess and bounds \n",
    "aW_g = 0.5 \n",
    "aW_std = 0.1\n",
    "aW_bounds = [0.2, 0.8]\n",
    "\n",
    "aS_g = 0.55\n",
    "aS_std = 0.1\n",
    "aS_bounds = [0.2, 0.8]\n",
    "\n",
    "aO_g = 0.45\n",
    "aO_std = 0.1 \n",
    "aO_bounds = [0.2, 0.8]\n",
    "guess = np.array([aW_g, aS_g, aO_g])\n",
    "stds = np.array([aW_std, aS_std, aO_std])\n",
    "bounds = np.array([aW_bounds, aS_bounds, aO_bounds])\n",
    "\n",
    "ftol = 1e-4\n",
    "\n",
    "start_time = time.time() \n",
    "estimator.set_params(best_estimates) \n",
    "control_params = estimator.latent_infer_control(guess, stds, x0_control, obs, fltr, Tf_control, Nf_control, \n",
    "                                              generator, bounds,\n",
    "                                              global_max_iter=5, global_ftol_factor=1e4, \n",
    "                                                verbose=True, \n",
    "                                                ftol=ftol)\n",
    "end_time = time.time()\n",
    "print(control_params) # best guess \n",
    "print(end_time - start_time)"
   ]
  },
  {
   "cell_type": "code",
   "execution_count": 25,
   "metadata": {},
   "outputs": [
    {
     "name": "stdout",
     "output_type": "stream",
     "text": [
      "True control params:\n",
      "[0.5, 0.5, 0.4]\n",
      "\n",
      " Best estimates\n"
     ]
    },
    {
     "ename": "NameError",
     "evalue": "name 'control_params' is not defined",
     "output_type": "error",
     "traceback": [
      "\u001b[0;31m---------------------------------------------------------------------------\u001b[0m",
      "\u001b[0;31mNameError\u001b[0m                                 Traceback (most recent call last)",
      "\u001b[0;32m<ipython-input-25-710c091c9ca4>\u001b[0m in \u001b[0;36m<module>\u001b[0;34m\u001b[0m\n\u001b[1;32m      3\u001b[0m \u001b[0;34m\u001b[0m\u001b[0m\n\u001b[1;32m      4\u001b[0m \u001b[0mprint\u001b[0m\u001b[0;34m(\u001b[0m\u001b[0;34m'\\n Best estimates'\u001b[0m\u001b[0;34m)\u001b[0m\u001b[0;34m\u001b[0m\u001b[0;34m\u001b[0m\u001b[0m\n\u001b[0;32m----> 5\u001b[0;31m \u001b[0mprint\u001b[0m\u001b[0;34m(\u001b[0m\u001b[0mcontrol_params\u001b[0m\u001b[0;34m)\u001b[0m\u001b[0;34m\u001b[0m\u001b[0;34m\u001b[0m\u001b[0m\n\u001b[0m",
      "\u001b[0;31mNameError\u001b[0m: name 'control_params' is not defined"
     ]
    }
   ],
   "source": [
    "print('True control params:')\n",
    "print([aW, aS, aO])\n",
    "\n",
    "print('\\n Best estimates')\n",
    "print(control_params)"
   ]
  },
  {
   "cell_type": "code",
   "execution_count": 39,
   "metadata": {},
   "outputs": [
    {
     "data": {
      "image/png": "[encoded data removed]",
      "text/plain": [
       "<Figure size 432x288 with 1 Axes>"
      ]
     },
     "metadata": {
      "needs_background": "light"
     },
     "output_type": "display_data"
    }
   ],
   "source": [
    "times = [T_intervention]\n",
    "interventions = [[1.0,1.0,1.0],      # before first time\n",
    "                 control_params,       # after first time\n",
    "                ]         \n",
    "\n",
    "# compare the true trajectory with the \n",
    "contactMatrix = generator.interventions_temporal(times=times,interventions=interventions)\n",
    "det_model = pyross.deterministic.SEAI5R(parameters, M, fi)\n",
    "x0 = params[6:]\n",
    "x_det_control = estimator.integrate(x0, 0, Tf, Nf, det_model, contactMatrix)\n",
    "x = np.load('cal_lat_SIR_traj.npy')/N\n",
    "plt.plot(np.sum(x[:,M:2*M], axis=1), label='Ia')\n",
    "plt.plot(np.sum(x_det_control[:, M:2*M], axis=1), label='Inferred Ia')\n",
    "plt.plot(np.sum(x[:,2*M:3*M], axis=1), label='Is')\n",
    "plt.plot(np.sum(x_det_control[:, 2*M:3*M], axis=1), label='Inferred Is')\n",
    "plt.axvspan(0, T_intervention, \n",
    "           label='Pre intervention',\n",
    "           alpha=0.3, color='dodgerblue')\n",
    "plt.xlim([0, Tf])\n",
    "plt.legend()\n",
    "plt.show()"
   ]
  },
  {
   "cell_type": "code",
   "execution_count": null,
   "metadata": {},
   "outputs": [],
   "source": []
  }
 ],
 "metadata": {
  "kernelspec": {
   "display_name": "Python 3",
   "language": "python",
   "name": "python3"
  },
  "language_info": {
   "codemirror_mode": {
    "name": "ipython",
    "version": 3
   },
   "file_extension": ".py",
   "mimetype": "text/x-python",
   "name": "python",
   "nbconvert_exporter": "python",
   "pygments_lexer": "ipython3",
   "version": "3.7.6"
  }
 },
 "nbformat": 4,
 "nbformat_minor": 4
}
