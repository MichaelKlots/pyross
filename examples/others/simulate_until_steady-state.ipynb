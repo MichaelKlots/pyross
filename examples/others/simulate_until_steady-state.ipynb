{
 "cells": [
  {
   "cell_type": "code",
   "execution_count": 1,
   "id": "ca1f5ffe",
   "metadata": {},
   "outputs": [],
   "source": [
    "%matplotlib inline\n",
    "import numpy as np\n",
    "import pyross\n",
    "import matplotlib.pyplot as plt\n",
    "import copy\n",
    "from scipy.integrate import solve_ivp"
   ]
  },
  {
   "cell_type": "code",
   "execution_count": 2,
   "id": "b228b19d",
   "metadata": {},
   "outputs": [],
   "source": [
    "model_spec = { \"classes\" : [\"S\", \"I\"],\n",
    "             \"S\" : {\"infection\" : [ [\"I\",\"S\", \"-beta\"] ]},  ## the I class passes infection to S class\n",
    "             \"I\" : { \"linear\"    : [ [\"I\", \"-gamma\"] ],     ## this is recovery process for I class\n",
    "                    \"infection\" : [ [\"I\", \"S\", \"beta\"]]}    \n",
    "             \n",
    "              ## the recovered class R is internally determined by number conservation\n",
    "             }\n",
    "\n",
    "\n",
    "parameters = {'beta'  : 0.5, 'gamma' : 0.25}"
   ]
  },
  {
   "cell_type": "code",
   "execution_count": 3,
   "id": "1a05e5ab",
   "metadata": {},
   "outputs": [],
   "source": [
    "M=1;  Ni=100*np.ones(M);  N=np.sum(Ni) \n",
    "\n",
    "# Initial conditions as an array\n",
    "x0 = np.array([\n",
    "    99,     # S\n",
    "    1 ,    # I\n",
    "])\n",
    "\n",
    " \n",
    "def contactMatrix(t):\n",
    "    return np.identity(M) \n",
    "\n",
    "\n",
    "# duration of simulation and data file\n",
    "Tf = 160;  Nf=Tf+1; \n",
    "model = pyross.deterministic.Model(model_spec, parameters, M, Ni)"
   ]
  },
  {
   "cell_type": "code",
   "execution_count": 4,
   "id": "86fac4e0",
   "metadata": {},
   "outputs": [],
   "source": [
    "# Stop integration at steady state\n",
    "def steady_state(tol):\n",
    "    global flag\n",
    "    du = model.dxdt\n",
    "    condition = np.max(np.abs(du))<tol\n",
    "    if flag == 1:\n",
    "        if condition:\n",
    "            test = [0]\n",
    "        else:\n",
    "            test = [1]\n",
    "        flag = 0\n",
    "    else:\n",
    "        if condition:\n",
    "            test = np.array([0])\n",
    "        else:\n",
    "            test = np.array([1])\n",
    "    return test"
   ]
  },
  {
   "cell_type": "code",
   "execution_count": 5,
   "id": "bb82303a",
   "metadata": {},
   "outputs": [],
   "source": [
    "def simulate(x0, limits):\n",
    "    def dxdtEval(xt, t):\n",
    "        model.set_contactMatrix(t, contactMatrix)        \n",
    "        model.rhs(xt, t)\n",
    "        return model.dxdt\n",
    "\n",
    "    time_points=np.linspace(0, Tf, Nf)     \n",
    "    sol = solve_ivp(lambda t, xt: dxdtEval(xt,t), [0,Tf], x0, t_eval=time_points, events=limits)\n",
    "    return sol"
   ]
  },
  {
   "cell_type": "code",
   "execution_count": 6,
   "id": "2b29db89",
   "metadata": {},
   "outputs": [
    {
     "data": {
      "text/plain": [
       "[<matplotlib.lines.Line2D at 0x7f8564dca040>]"
      ]
     },
     "execution_count": 6,
     "metadata": {},
     "output_type": "execute_result"
    },
    {
     "data": {
      "image/png": "[encoded data removed]",
      "text/plain": [
       "<Figure size 432x288 with 1 Axes>"
      ]
     },
     "metadata": {
      "needs_background": "light"
     },
     "output_type": "display_data"
    }
   ],
   "source": [
    "# Define terminal condition and type-change flag\n",
    "tol = 1e-3\n",
    "limit = lambda t, u: steady_state(tol)\n",
    "limit.terminal = True                                                                                                                                                                                   \n",
    "global flag\n",
    "flag = 1\n",
    "\n",
    "\n",
    "data =simulate(x0,  limit)  \n",
    "plt.plot(data.y[0])\n",
    "plt.plot(data.y[1])"
   ]
  },
  {
   "cell_type": "code",
   "execution_count": 7,
   "id": "de38a80a",
   "metadata": {},
   "outputs": [
    {
     "data": {
      "text/plain": [
       "[<matplotlib.lines.Line2D at 0x7f8564fda370>]"
      ]
     },
     "execution_count": 7,
     "metadata": {},
     "output_type": "execute_result"
    },
    {
     "data": {
      "image/png": "[encoded data removed]",
      "text/plain": [
       "<Figure size 432x288 with 1 Axes>"
      ]
     },
     "metadata": {
      "needs_background": "light"
     },
     "output_type": "display_data"
    }
   ],
   "source": [
    "# Define terminal condition and type-change flag\n",
    "tol = 1e-1\n",
    "limit = lambda t, u: steady_state(tol)\n",
    "limit.terminal = True                                                                                                                                                                                   \n",
    "global flag\n",
    "flag = 1\n",
    "\n",
    "\n",
    "data =simulate(x0,  limit)  \n",
    "plt.plot(data.y[0])\n",
    "plt.plot(data.y[1])"
   ]
  },
  {
   "cell_type": "code",
   "execution_count": 8,
   "id": "83141993",
   "metadata": {},
   "outputs": [
    {
     "data": {
      "text/plain": [
       "  message: 'A termination event occurred.'\n",
       "     nfev: 68\n",
       "     njev: 0\n",
       "      nlu: 0\n",
       "      sol: None\n",
       "   status: 1\n",
       "  success: True\n",
       "        t: array([ 0.,  1.,  2.,  3.,  4.,  5.,  6.,  7.,  8.,  9., 10., 11., 12.,\n",
       "       13., 14., 15., 16., 17., 18., 19., 20., 21., 22., 23., 24., 25.,\n",
       "       26., 27., 28., 29., 30., 31., 32., 33., 34., 35., 36., 37., 38.,\n",
       "       39., 40.])\n",
       " t_events: [array([40.49863456])]\n",
       "        y: array([[99.        , 98.44093613, 97.73354602, 96.84345842, 95.72891883,\n",
       "        94.34591343, 92.64886068, 90.59580672, 88.14650269, 85.26294186,\n",
       "        81.9389878 , 78.2013879 , 74.1097734 , 69.75552566, 65.24623075,\n",
       "        60.70932666, 56.26262201, 52.00695211, 48.0261789 , 44.38703635,\n",
       "        41.11899027, 38.21688221, 35.6689081 , 33.45410839, 31.54236802,\n",
       "        29.89441646, 28.47511607, 27.26034341, 26.21933412, 25.32544175,\n",
       "        24.55618666, 23.89325601, 23.32250382, 22.83395088, 22.420775  ,\n",
       "        22.06779778, 21.76540841, 21.50704195, 21.28652004, 21.09805099,\n",
       "        20.93622974],\n",
       "       [ 1.        ,  1.27590813,  1.62262546,  2.05502464,  2.59100155,\n",
       "         3.24680208,  4.03642227,  4.96879705,  6.04683415,  7.26686571,\n",
       "         8.60433932, 10.01331425, 11.42646152, 12.75617759, 13.92111879,\n",
       "        14.8534431 , 15.50251714, 15.8387427 , 15.85355669, 15.55957206,\n",
       "        15.00365793, 14.24697083, 13.34354736, 12.34474528, 11.29924347,\n",
       "        10.25304201,  9.24061084,  8.27505556,  7.3679277 ,  6.52753382,\n",
       "         5.75891151,  5.06382945,  4.44078735,  3.88501597,  3.38897694,\n",
       "         2.94938158,  2.56232328,  2.22291461,  1.92636791,  1.66799533,\n",
       "         1.44320883]])\n",
       " y_events: [array([[20.86391985,  1.34227085]])]"
      ]
     },
     "execution_count": 8,
     "metadata": {},
     "output_type": "execute_result"
    }
   ],
   "source": [
    "data"
   ]
  }
 ],
 "metadata": {
  "kernelspec": {
   "display_name": "Python 3 (ipykernel)",
   "language": "python",
   "name": "python3"
  },
  "language_info": {
   "codemirror_mode": {
    "name": "ipython",
    "version": 3
   },
   "file_extension": ".py",
   "mimetype": "text/x-python",
   "name": "python",
   "nbconvert_exporter": "python",
   "pygments_lexer": "ipython3",
   "version": "3.9.7"
  }
 },
 "nbformat": 4,
 "nbformat_minor": 5
}
