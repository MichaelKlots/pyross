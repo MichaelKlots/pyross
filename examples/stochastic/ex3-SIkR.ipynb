{
 "cells": [
  {
   "cell_type": "markdown",
   "metadata": {},
   "source": [
    "## The stochastic SIkR model"
   ]
  },
  {
   "cell_type": "code",
   "execution_count": null,
   "metadata": {},
   "outputs": [],
   "source": [
    "%%capture\n",
    "## compile PyRoss for this notebook\n",
    "import os\n",
    "owd = os.getcwd()\n",
    "os.chdir('../../')\n",
    "%run setup.py install\n",
    "os.chdir(owd)"
   ]
  },
  {
   "cell_type": "code",
   "execution_count": null,
   "metadata": {},
   "outputs": [],
   "source": [
    "%matplotlib inline\n",
    "import numpy as np\n",
    "import pyross\n",
    "import matplotlib.pyplot as plt\n",
    "#from matplotlib import rc; rc('text', usetex=True)"
   ]
  },
  {
   "cell_type": "markdown",
   "metadata": {},
   "source": [
    "### Simulation of a single stochastic trajectory"
   ]
  },
  {
   "cell_type": "code",
   "execution_count": null,
   "metadata": {},
   "outputs": [],
   "source": [
    "M = 1                  # the SIR model has no age structure\n",
    "Ni = 1000*np.ones(M)   # so there is only one age group \n",
    "N = np.sum(Ni)         # and the total population is the size of this age group\n",
    "\n",
    "beta  = 0.2            # infection rate \n",
    "gI   = 0.05            # recovery rate of asymptomatic infectives \n",
    "kI   = 5           # recovery rate of symptomatic infectives \n",
    "fsa   = 1              # the self-isolation parameter \n",
    "\n",
    "\n",
    "I0 = np.zeros(kI,dtype=int)\n",
    "I0[0] = 5                     # initially, we have 5 infected in \"stage 0\"\n",
    "R0  = np.array([0])     # and assume there are no recovered individuals initially \n",
    "S0  = N-(np.sum(I0)+R0)    # so that the initial susceptibles are obtained from S + Ia + Is + R = N\n",
    "\n",
    "# there is no contact structure\n",
    "def contactMatrix(t):   \n",
    "    return np.identity(M) \n",
    "\n",
    "# duration of simulation and data file\n",
    "Tf = 100;  Nt=Tf+1; \n",
    "\n",
    "# instantiate model\n",
    "parameters = {'alpha':0., 'beta':beta, 'gI':gI, 'kI':kI,'fsa':fsa}\n",
    "model = pyross.stochastic.SIkR(parameters, M, Ni)\n",
    "\n",
    "# simulate model \n",
    "data = model.simulate(S0, I0, contactMatrix, Tf, Nt)"
   ]
  },
  {
   "cell_type": "code",
   "execution_count": null,
   "metadata": {},
   "outputs": [],
   "source": [
    "# Plot of the k stages\n",
    "fig, ax = plt.subplots(1,1,figsize=(10,7))\n",
    "\n",
    "X = data['X'].T\n",
    "t_arr = data['t']\n",
    "for i,e in enumerate(X):\n",
    "    if i == 0:\n",
    "        continue\n",
    "    ax.plot(t_arr,e,label='Stage {0}'.format(i),lw=2)\n",
    "ax.legend()\n",
    "ax.set_xlim(np.min(t_arr),np.max(t_arr))\n",
    "ax.set_xlabel('Time',fontsize=25)\n",
    "ax.set_ylabel(r'Number of infectives',fontsize=25)\n",
    "plt.show(fig)\n",
    "plt.close(fig)"
   ]
  },
  {
   "cell_type": "code",
   "execution_count": null,
   "metadata": {},
   "outputs": [],
   "source": [
    "# Plot of the sum of all stages, i.e. the total number of infectives\n",
    "\n",
    "X = data['X'].T\n",
    "\n",
    "I = np.sum( X[1:,:], axis = 0)\n",
    "S  = X[0].flatten()\n",
    "t = data['t']\n",
    "\n",
    "\n",
    "fig = plt.figure(num=None, figsize=(10, 8), dpi=80, facecolor='w', edgecolor='k')\n",
    "plt.rcParams.update({'font.size': 22})\n",
    "\n",
    "\n",
    "plt.fill_between(t, 0, S/N, color=\"#348ABD\", alpha=0.3)\n",
    "plt.plot(t, S/N, '-', color=\"#348ABD\", label='$S$', lw=4)\n",
    "\n",
    "plt.fill_between(t, 0, I/N, color='#A60628', alpha=0.3)\n",
    "plt.plot(t, I/N, '-', color='#A60628', label='$I$', lw=4)\n",
    "\n",
    "R=N-S-I; plt.fill_between(t, 0, R/N, color=\"dimgrey\", alpha=0.3)\n",
    "plt.plot(t, R/N, '-', color=\"dimgrey\", label='$R$', lw=4)\n",
    "\n",
    "plt.legend(fontsize=26); plt.grid()\n",
    "plt.xlabel('Time')\n",
    "plt.ylabel('Population fractions')\n",
    "plt.autoscale(enable=True, axis='x', tight=True)"
   ]
  },
  {
   "cell_type": "markdown",
   "metadata": {},
   "source": [
    "Note that, since here sample trajectories for the stochastic model are generated, a slightly different plot will result every time the two cells above are run. \n",
    "\n",
    "\n",
    "### Averaging over several simulations\n",
    "\n",
    "If the simulation is run many times, mean and standard deviation of the resulting trajectories can be calculated."
   ]
  },
  {
   "cell_type": "code",
   "execution_count": null,
   "metadata": {},
   "outputs": [],
   "source": [
    "# run 100 simulations, calculate mean and standard deviation\n",
    "\n",
    "N_runs = 100\n",
    "trajectories_s = np.zeros([N_runs,Nt,k+1],dtype=float)\n",
    "for i in range(N_runs):\n",
    "    print('Running simulation {0} of {1}'.format(i+1,N_runs),end='\\r')\n",
    "    cur_result = model.simulate(S0, I0, contactMatrix, Tf, Nt) \n",
    "    trajectories_s[i] = cur_result['X']\n",
    "t_s = cur_result['t']"
   ]
  },
  {
   "cell_type": "code",
   "execution_count": null,
   "metadata": {},
   "outputs": [],
   "source": [
    "# plot means and standard deviations\n",
    "\n",
    "I = np.sum( trajectories_s[:,:,1:], axis = -1)\n",
    "mean_s = np.mean(trajectories_s,axis=0)\n",
    "std_s = np.std(trajectories_s,axis=0)\n",
    "S_s  = mean_s[:,0].flatten()\n",
    "I_s = np.mean(I,axis=0).flatten()\n",
    "dS_s = std_s[:,0].flatten()\n",
    "dI_s =  np.std(I,axis=0).flatten()\n",
    "# for the recovered, we still need to calculate mean and variance\n",
    "R_s_trajectories = N - np.sum( trajectories_s, axis =-1) \n",
    "R_s = np.mean(R_s_trajectories,axis=0)\n",
    "dR_s = np.std(R_s_trajectories,axis=0)\n",
    "\n",
    "\n",
    "fig = plt.figure(num=None, figsize=(10, 8), dpi=80, facecolor='w', edgecolor='k')\n",
    "plt.rcParams.update({'font.size': 22})\n",
    "\n",
    "# stochastic\n",
    "plt.fill_between(t_s,(S_s - dS_s)/N,(S_s + dS_s)/N,color=\"#348ABD\", alpha=0.2)\n",
    "plt.plot(t_s, S_s/N, '-', color=\"#348ABD\", label=r'$\\langle S\\rangle$', lw=4)\n",
    "plt.fill_between(t_s,(I_s - dI_s)/N,(I_s + dI_s)/N,color=\"#A60628\", alpha=0.2)\n",
    "plt.plot(t_s, I_s/N, '-', color=\"#A60628\", label=r'$\\langle I\\rangle$', lw=4)\n",
    "plt.fill_between(t_s,(R_s - dR_s)/N,(R_s + dR_s)/N,color=\"dimgrey\", alpha=0.2)\n",
    "plt.plot(t_s, R_s/N, '-', color=\"dimgrey\", label=r'$\\langle R\\rangle $', lw=4)\n",
    "\n",
    "\n",
    "plt.legend(fontsize=26,loc='upper right',bbox_to_anchor=(1.3,1)); plt.grid() \n",
    "plt.autoscale(enable=True, axis='x', tight=True)"
   ]
  },
  {
   "cell_type": "markdown",
   "metadata": {},
   "source": [
    "While the solid lines denote the instantaneous means, the colored shaded regions denote the standard deviation of the samples from the instantaneous mean."
   ]
  },
  {
   "cell_type": "markdown",
   "metadata": {},
   "source": [
    "## Distributions for time-of-infection"
   ]
  },
  {
   "cell_type": "markdown",
   "metadata": {},
   "source": [
    "By repeatedly simulating a single infective person, we can sample the time it takes until an infective recovers.\n",
    "\n",
    "The total time until recovery $\\tau$ is the sum of the times to get through all stages $i$, i.e.\n",
    "\n",
    "\\begin{equation}\n",
    "    \\tau = \\sum_{i=1}^{k} \\tau_i,\n",
    "\\end{equation}\n",
    "\n",
    "where $\\tau_i$ is the time spent in stage $i$.\n",
    "\n",
    "Since the $\\tau_i$ are all exponentially distributed, with rate parameter $\\lambda = k \\gamma_I$, the sum is a Gamma distribution with shape parameter $k$ and scale parameter $1/(k\\gamma_I)$.\n",
    "\n",
    "### $k=1$:\n",
    "\n",
    "For $k=1$, i.e. a single infective stage, we expect an exponential waiting time until recovery."
   ]
  },
  {
   "cell_type": "code",
   "execution_count": null,
   "metadata": {},
   "outputs": [],
   "source": [
    "beta  = 0.2            # infection rate \n",
    "gI   = 0.05            # recovery rate of asymptomatic infectives \n",
    "k   = 1           # number of stages\n",
    "\n",
    "I0 = np.zeros(k,dtype=int)\n",
    "I0[0] = 1                     # initially, we have 5 infected in \"stage 0\"\n",
    "S0  = np.array([0])\n",
    "Ni = np.array([1],dtype=float)\n",
    "\n",
    "# instantiate model\n",
    "parameters = {'alpha':0., 'beta':beta, 'gI':gI, 'k':k,'fsa':fsa}\n",
    "model = pyross.stochastic.SIkR(parameters, M, Ni)\n",
    "\n",
    "N_runs = 10000\n",
    "waiting_times = np.zeros(N_runs,dtype=float)\n",
    "for i in range(N_runs):\n",
    "    data = model.simulate(S0, I0, contactMatrix, Tf, -1)\n",
    "    waiting_times[i] = data['t'][-1]"
   ]
  },
  {
   "cell_type": "code",
   "execution_count": null,
   "metadata": {},
   "outputs": [],
   "source": [
    "bin_edges = np.arange(np.max(waiting_times)+1)-0.5\n",
    "\n",
    "hist, bin_edges = np.histogram(waiting_times, bins= bin_edges,density=True)\n",
    "bin_centers = bin_edges[1:] + bin_edges[:-1]\n",
    "bin_centers /= 2\n",
    "\n",
    "\n",
    "fig,ax = plt.subplots(1,1,figsize=(10,6))\n",
    "ax.bar(bin_centers,hist,width=1,\n",
    "       color='dodgerblue',label='Simulations',\n",
    "      alpha=0.7)\n",
    "ax.plot(bin_centers,np.exp(-bin_centers*gI)*gI,\n",
    "        lw=3,label='Exponential distribution',\n",
    "       ls='--',color='crimson')\n",
    "ax.set_ylim(1e-4,1e-1)\n",
    "ax.set_xlim(-0.5,150)\n",
    "ax.set_yscale('log')\n",
    "ax.set_xlabel(r'Waiting time $\\tau$')\n",
    "ax.set_ylabel(r'$P(\\tau)$')\n",
    "ax.legend(loc='best')\n",
    "plt.show(fig)\n",
    "plt.close(fig)"
   ]
  },
  {
   "cell_type": "markdown",
   "metadata": {},
   "source": [
    "### $k=100$:"
   ]
  },
  {
   "cell_type": "code",
   "execution_count": null,
   "metadata": {},
   "outputs": [],
   "source": [
    "k   = 100           # number of stages\n",
    "gI   = 0.05            # recovery rate of asymptomatic infectives \n",
    "\n",
    "I0 = np.zeros(k,dtype=int)\n",
    "I0[0] = 1                   \n",
    "S0  = np.array([0])\n",
    "Ni = np.array([1],dtype=float)\n",
    "\n",
    "# instantiate model\n",
    "parameters = {'alpha':0., 'beta':beta, 'gI':gI, 'k':k,'fsa':fsa}\n",
    "model = pyross.stochastic.SIkR(parameters, M, Ni)\n",
    "\n",
    "N_runs = 10000\n",
    "waiting_times = np.zeros(N_runs,dtype=float)\n",
    "for i in range(N_runs):\n",
    "    data = model.simulate(S0, I0, contactMatrix, Tf, -1)\n",
    "    waiting_times[i] = data['t'][-1]"
   ]
  },
  {
   "cell_type": "code",
   "execution_count": null,
   "metadata": {},
   "outputs": [],
   "source": [
    "bin_edges = np.arange(np.floor(np.min(waiting_times)),np.ceil(np.max(waiting_times))+1)-0.5\n",
    "\n",
    "hist, bin_edges = np.histogram(waiting_times, bins= bin_edges,density=True)\n",
    "bin_centers = bin_edges[1:] + bin_edges[:-1]\n",
    "bin_centers /= 2\n",
    "\n",
    "import scipy.special\n",
    "shape = k\n",
    "scale = 1/(k*gI)\n",
    "gamma_dist = bin_centers**(shape-1)*np.exp(-bin_centers/scale)/scale**shape/scipy.special.factorial(shape-1)\n",
    "\n",
    "fig,ax = plt.subplots(1,1,figsize=(10,6))\n",
    "ax.bar(bin_centers,hist,width=1,\n",
    "       color='dodgerblue',label='Simulations',\n",
    "      alpha=0.7)\n",
    "ax.plot(bin_centers,gamma_dist,\n",
    "        label=r'$\\Gamma$ distribution',\n",
    "        marker='o',color='crimson')\n",
    "#ax.set_yscale('log')\n",
    "ax.legend() #loc=8)\n",
    "ax.set_xlabel(r'Waiting time $\\tau$')\n",
    "ax.set_ylabel(r'$P(\\tau)$')\n",
    "plt.show(fig)\n",
    "plt.close(fig)"
   ]
  },
  {
   "cell_type": "code",
   "execution_count": null,
   "metadata": {},
   "outputs": [],
   "source": []
  }
 ],
 "metadata": {
  "kernelspec": {
   "display_name": "Python 3",
   "language": "python",
   "name": "python3"
  },
  "language_info": {
   "codemirror_mode": {
    "name": "ipython",
    "version": 3
   },
   "file_extension": ".py",
   "mimetype": "text/x-python",
   "name": "python",
   "nbconvert_exporter": "python",
   "pygments_lexer": "ipython3",
   "version": "3.6.9"
  }
 },
 "nbformat": 4,
 "nbformat_minor": 4
}
